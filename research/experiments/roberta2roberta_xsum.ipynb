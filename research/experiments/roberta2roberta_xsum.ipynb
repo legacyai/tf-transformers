{
 "cells": [
  {
   "cell_type": "code",
   "execution_count": null,
   "id": "ddfda9cf",
   "metadata": {},
   "outputs": [],
   "source": []
  },
  {
   "cell_type": "code",
   "execution_count": null,
   "id": "c05cb8b6",
   "metadata": {},
   "outputs": [],
   "source": []
  },
  {
   "cell_type": "code",
   "execution_count": 3,
   "id": "dda116cc",
   "metadata": {},
   "outputs": [],
   "source": [
    "import sys\n",
    "sys.path.append(\"/home/jovyan/TF_NEW/tf-transformers/src/\")\n"
   ]
  },
  {
   "cell_type": "code",
   "execution_count": 4,
   "id": "4ab8ede5",
   "metadata": {},
   "outputs": [],
   "source": [
    "import os\n",
    "import tempfile\n",
    "import json\n",
    "import glob\n",
    "import datasets\n",
    "import shutil\n",
    "import tensorflow as tf\n",
    "\n",
    "from tf_transformers.data import TFReader, TFWriter\n",
    "from tf_transformers.models import RobertaModel, EncoderDecoder\n",
    "from tf_transformers.losses import cross_entropy_loss, cross_entropy_loss_label_smoothing\n",
    "\n",
    "from transformers import RobertaTokenizer"
   ]
  },
  {
   "cell_type": "code",
   "execution_count": null,
   "id": "ed256f3a",
   "metadata": {},
   "outputs": [],
   "source": []
  },
  {
   "cell_type": "code",
   "execution_count": 5,
   "id": "8a810fdf",
   "metadata": {},
   "outputs": [],
   "source": [
    "# Convert data to features using specific length\n",
    "# into a temp dir (and log it as well for monitoring)\n",
    "\n",
    "def write_tfrecord(data, \n",
    "                    batch_size, \n",
    "                    tokenizer, \n",
    "                    encoder_max_length, \n",
    "                    decoder_max_length, \n",
    "                    mode, \n",
    "                    tfrecord_dir, \n",
    "                    take_sample=False, \n",
    "                    verbose=10000):\n",
    "    \n",
    "    if mode not in [\"train\", \"eval\"]:\n",
    "        raise ValueError(\"Inavlid mode `{}` specified. Available mode is ['train', 'eval']\".format(mode))\n",
    "    \n",
    "    def get_tfrecord_example(data):\n",
    "        for f in data:            \n",
    "            inputs_hf = tokenizer(f['document'], \n",
    "                                  truncation=True, \n",
    "                                  max_length=encoder_max_length)\n",
    "\n",
    "            input_ids  = inputs_hf['input_ids']\n",
    "            input_mask = inputs_hf['attention_mask']\n",
    "            input_type_ids = [0] * len(input_ids)\n",
    "\n",
    "            decoder_input_ids = tokenizer(f['summary'], \n",
    "                                  truncation=True, \n",
    "                                  max_length=decoder_max_seq_length)['input_ids']\n",
    "\n",
    "            decoder_input_type_ids = [0] * len(decoder_input_ids)\n",
    "\n",
    "            result = {}\n",
    "            result['encoder_input_ids'] = input_ids\n",
    "            result['encoder_input_mask'] = input_mask\n",
    "            result['encoder_input_type_ids'] = input_type_ids\n",
    "            result['decoder_input_ids'] = decoder_input_ids[:-1] # except last word\n",
    "            result['decoder_input_type_ids'] = decoder_input_type_ids[:-1] # except last word\n",
    "\n",
    "            result['labels'] = decoder_input_ids[1:] # not including first word\n",
    "            result['labels_mask'] = [1] * len(result['labels'])\n",
    "\n",
    "                # Decoder doesnt need input_mask because by default decoder has causal mask mode\n",
    "\n",
    "            yield result\n",
    "\n",
    "    schema = {\n",
    "        \"encoder_input_ids\": (\"var_len\", \"int\"),\n",
    "        \"encoder_input_mask\": (\"var_len\", \"int\"),\n",
    "        \"encoder_input_type_ids\": (\"var_len\", \"int\"),\n",
    "        \"decoder_input_ids\": (\"var_len\", \"int\"),\n",
    "        \"decoder_input_type_ids\": (\"var_len\", \"int\"),\n",
    "        \"labels\": (\"var_len\", \"int\"),\n",
    "        \"labels_mask\": (\"var_len\", \"int\"),\n",
    "    }\n",
    "    \n",
    "    # Create a temp dir\n",
    "    if mode == \"train\":\n",
    "        # Write tf records\n",
    "        train_data_dir = os.path.join(tfrecord_dir,\"train\")        \n",
    "        tfrecord_filename = 'pubmed'\n",
    "        tfwriter = TFWriter(schema=schema, \n",
    "                            file_name=tfrecord_filename, \n",
    "                            model_dir=train_data_dir,\n",
    "                            tag='train',\n",
    "                            overwrite=True,\n",
    "                            verbose_counter=verbose\n",
    "                     )\n",
    "        data_train = data\n",
    "        # Take sample\n",
    "        if take_sample:\n",
    "            data_train = data_train.select(range(500))\n",
    "            \n",
    "        tfwriter.process(parse_fn=get_tfrecord_example(data_train))\n",
    "    if mode == \"eval\":\n",
    "        # Write tfrecords\n",
    "        eval_data_dir = os.path.join(tfrecord_dir,\"eval\")\n",
    "        tfrecord_filename = 'pubmed'\n",
    "        tfwriter = TFWriter(schema=schema, \n",
    "                            file_name=tfrecord_filename, \n",
    "                            model_dir=eval_data_dir,\n",
    "                            tag='eval',\n",
    "                            overwrite=True,\n",
    "                            verbose_counter=verbose\n",
    "                            )\n",
    "        data_eval = data\n",
    "        # Take sample\n",
    "        if take_sample:\n",
    "            data_eval = data_eval.select(range(500))\n",
    "        tfwriter.process(parse_fn=get_tfrecord_example(data_eval))\n",
    "        \n",
    "def read_tfrecord(tfrecord_dir, batch_size, shuffle=False, drop_remainder=False):\n",
    "        # Read tfrecord to dataset\n",
    "        schema = json.load(open(\"{}/schema.json\".format(tfrecord_dir)))\n",
    "        stats  = json.load(open('{}/stats.json'.format(tfrecord_dir)))\n",
    "        all_files = glob.glob(\"{}/*.tfrecord\".format(tfrecord_dir))\n",
    "        tf_reader = TFReader(schema=schema, \n",
    "                            tfrecord_files=all_files)\n",
    "\n",
    "        x_keys = ['encoder_input_ids', 'encoder_input_type_ids', 'encoder_input_mask', 'decoder_input_ids', 'decoder_input_type_ids']\n",
    "        y_keys = ['labels', 'labels_mask']\n",
    "        dataset = tf_reader.read_record(auto_batch=True, \n",
    "                                           keys=x_keys,\n",
    "                                           batch_size=batch_size, \n",
    "                                           x_keys = x_keys, \n",
    "                                           y_keys = y_keys,\n",
    "                                           shuffle=shuffle, \n",
    "                                           drop_remainder=drop_remainder\n",
    "                                          )\n",
    "        return dataset, stats['total_records']"
   ]
  },
  {
   "cell_type": "code",
   "execution_count": null,
   "id": "e8229894",
   "metadata": {},
   "outputs": [],
   "source": []
  },
  {
   "cell_type": "code",
   "execution_count": 6,
   "id": "0109c0fc",
   "metadata": {},
   "outputs": [],
   "source": [
    "# Load model\n",
    "\n",
    "def get_model(is_training, use_dropout):\n",
    "    \n",
    "    def model_fn():\n",
    "        encoder = RobertaModel.from_pretrained(\"roberta-base\", return_layer=True, is_training=is_training,\n",
    "                                              use_dropout=use_dropout)\n",
    "        decoder = RobertaModel.from_pretrained(\"roberta-base\",use_decoder=True,\n",
    "                                               return_layer=True, mask_mode='causal', \n",
    "                                              is_training=is_training,\n",
    "                                              use_dropout=use_dropout)\n",
    "\n",
    "        # Assign all possible encoder variables to decoder\n",
    "        encoder_dict = {var.name: var for var in encoder.variables}\n",
    "        assigned_counter = 0\n",
    "        for var in decoder.variables:\n",
    "            if var.name in encoder_dict:\n",
    "                var.assign(encoder_dict[var.name])\n",
    "                assigned_counter += 1\n",
    "        print(\"Assigned {} variables from encoder to decoder .\".format(assigned_counter))\n",
    "        del encoder_dict\n",
    "        print(\"ENncoder variables {} and Decoder variables {}\".format(len(encoder.variables), len(decoder.variables)))\n",
    "        model = EncoderDecoder(encoder=encoder, decoder=decoder, share_embeddings=True) \n",
    "        model = model.get_model()\n",
    "        print(\"Model variables {}\".format(len(model.variables)))\n",
    "\n",
    "        del encoder\n",
    "        del decoder\n",
    "\n",
    "        return model\n",
    "    return model_fn\n",
    "\n",
    "# Load Tokenizer\n",
    "tokenizer = RobertaTokenizer.from_pretrained(\"roberta-base\")"
   ]
  },
  {
   "cell_type": "code",
   "execution_count": null,
   "id": "2e646cf6",
   "metadata": {},
   "outputs": [],
   "source": []
  },
  {
   "cell_type": "code",
   "execution_count": 7,
   "id": "03f7cc56",
   "metadata": {},
   "outputs": [],
   "source": [
    "\n",
    "# Data specific configuration\n",
    "encoder_max_seq_length = 512\n",
    "decoder_max_seq_length = 64\n",
    "\n",
    "take_sample = False\n",
    "train_batch_size = 32\n",
    "eval_batch_size  = 32\n",
    "\n",
    "# Trainer specifics\n",
    "device = \"gpu\"\n",
    "num_gpus = 2\n",
    "tpu_address = None\n",
    "dtype = \"fp32\"\n",
    "epochs = 3\n",
    "strategy = \"mirrored\"\n",
    "\n",
    "# Optimizer\n",
    "learning_rate = 3e-5\n",
    "loss_type = None\n",
    "return_all_layer_outputs = False\n",
    "if loss_type and loss_type == 'joint':\n",
    "    return_all_layer_outputs = True\n",
    "\n",
    "# Core data specifics\n",
    "data_name = \"scientific_papers\"\n",
    "#num_classes = cfg.glue.data.num_classes\n",
    "\n",
    "# Model specific\n",
    "is_training = True\n",
    "use_dropout = True"
   ]
  },
  {
   "cell_type": "code",
   "execution_count": null,
   "id": "250d8386",
   "metadata": {},
   "outputs": [],
   "source": []
  },
  {
   "cell_type": "code",
   "execution_count": 8,
   "id": "18dc6534",
   "metadata": {},
   "outputs": [
    {
     "name": "stderr",
     "output_type": "stream",
     "text": [
      "You are using a model of type roberta to instantiate a model of type . This is not supported for all configurations of models and can yield errors.\n"
     ]
    },
    {
     "name": "stdout",
     "output_type": "stream",
     "text": [
      "Robertaaaa\n"
     ]
    },
    {
     "name": "stderr",
     "output_type": "stream",
     "text": [
      "INFO:absl:Successful: Model checkpoints matched and loaded from /tmp/tf_transformers_cache/roberta-base/ckpt-1\n",
      "You are using a model of type roberta to instantiate a model of type . This is not supported for all configurations of models and can yield errors.\n"
     ]
    },
    {
     "name": "stdout",
     "output_type": "stream",
     "text": [
      "Robertaaaa\n"
     ]
    },
    {
     "name": "stderr",
     "output_type": "stream",
     "text": [
      "INFO:absl:Successful: Model checkpoints matched and loaded from /tmp/tf_transformers_cache/roberta-base/ckpt-1\n"
     ]
    },
    {
     "name": "stdout",
     "output_type": "stream",
     "text": [
      "Assigned 132 variables from encoder to decoder .\n",
      "ENncoder variables 204 and Decoder variables 324\n",
      "Model variables 525\n"
     ]
    }
   ],
   "source": [
    "# Autoregressive model\n",
    "\n",
    "encoder = RobertaModel.from_pretrained(\"roberta-base\", return_layer=True)\n",
    "decoder = RobertaModel.from_pretrained(\"roberta-base\", mask_mode='causal', use_decoder=True, use_auto_regressive=True, return_layer=True)\n",
    "# Assign all possible encoder variables to decoder\n",
    "encoder_dict = {var.name: var for var in encoder.variables}\n",
    "assigned_counter = 0\n",
    "for var in decoder.variables:\n",
    "    if var.name in encoder_dict:\n",
    "        var.assign(encoder_dict[var.name])\n",
    "        assigned_counter += 1\n",
    "print(\"Assigned {} variables from encoder to decoder .\".format(assigned_counter))\n",
    "del encoder_dict\n",
    "print(\"ENncoder variables {} and Decoder variables {}\".format(len(encoder.variables), len(decoder.variables)))\n",
    "model_ar = EncoderDecoder(encoder=encoder, decoder=decoder, share_embeddings=True) \n",
    "print(\"Model variables {}\".format(len(model_ar.variables)))\n",
    "\n",
    "del encoder\n",
    "del decoder\n",
    "\n",
    "# Important\n",
    "model_ar = model_ar.get_model()"
   ]
  },
  {
   "cell_type": "code",
   "execution_count": null,
   "id": "11f61361",
   "metadata": {},
   "outputs": [],
   "source": []
  },
  {
   "cell_type": "code",
   "execution_count": null,
   "id": "8db8e46e",
   "metadata": {},
   "outputs": [],
   "source": []
  },
  {
   "cell_type": "code",
   "execution_count": 8,
   "id": "f66f41b6",
   "metadata": {},
   "outputs": [],
   "source": [
    "import datasets\n",
    "import tqdm\n",
    "from tf_transformers.text import TextDecoder\n",
    "\n",
    "class RougeCallback():\n",
    "    \n",
    "    def __init__(self, model, eval_dataset, original_summaries, tokenizer, eos_id, decoder_start_id, max_iterations):\n",
    "        \n",
    "        with tf.device('/device:GPU:0'):\n",
    "            self.model = model\n",
    "        self.eval_dataset = eval_dataset\n",
    "        self.original_summaries = original_summaries\n",
    "        self.tokenizer = tokenizer\n",
    "        self.eos_id = eos_id\n",
    "        self.decoder_start_id = decoder_start_id\n",
    "        self.max_iterations = max_iterations\n",
    "        \n",
    "    def __call__(self, train_kwargs):\n",
    "        \n",
    "        self.model.set_weights(train_kwargs['model'].get_weights())\n",
    "        decoder = TextDecoder(self.model, decoder_start_token_id=self.decoder_start_id, input_type_ids=0)\n",
    "        \n",
    "        # Predictions\n",
    "        predicted_summaries = []\n",
    "        for (batch_inputs, batch_labels) in tqdm.tqdm(eval_dataset):\n",
    "            del batch_inputs['decoder_input_ids']\n",
    "            decoder_outputs = decoder.decode(batch_inputs, mode='greedy', max_iterations=self.max_iterations, eos_id=self.eos_id)\n",
    "            predicted_ids = [item[0] for item in decoder_outputs['predicted_ids'].numpy().tolist()]\n",
    "\n",
    "            predicted_ids_sliced = []\n",
    "            for p_id in predicted_ids:\n",
    "                if self.eos_id in p_id:\n",
    "                    index = p_id.index(self.eos_id)\n",
    "                    p_id = p_id[:index]\n",
    "                predicted_ids_sliced.append(p_id)\n",
    "                predicted_summaries.append(self.tokenizer.decode(p_id))\n",
    "                \n",
    "        rouge = datasets.load_metric(\"rouge\")\n",
    "        rouge_output2 = rouge.compute(predictions=predicted_summaries, references=self.original_summaries, rouge_types=[\"rouge2\"])[\"rouge2\"].mid\n",
    "        rouge_output1 = rouge.compute(predictions=predicted_summaries, references=self.original_summaries, rouge_types=[\"rouge1\"])[\"rouge1\"].mid\n",
    "        rouge_outputL = rouge.compute(predictions=predicted_summaries, references=self.original_summaries, rouge_types=[\"rougeL\"])[\"rougeL\"].mid\n",
    "\n",
    "        rouge2 = {'rouge2_precision': rouge_output2.precision,\n",
    "                  'rouge2_recall': rouge_output2.recall,\n",
    "                  'rouge2_f1': rouge_output2.fmeasure}\n",
    "        rouge2['rouge1_precision'] = rouge_output1.precision\n",
    "        rouge2['rouge1_recall'] = rouge_output1.recall\n",
    "        rouge2['rouge1_f1'] = rouge_output1.fmeasure\n",
    "\n",
    "        rouge2['rougeL_precision'] = rouge_outputL.precision\n",
    "        rouge2['rougeL_recall'] = rouge_outputL.recall\n",
    "        rouge2['rougeL_f1'] = rouge_outputL.fmeasure\n",
    "        return rouge2\n"
   ]
  },
  {
   "cell_type": "code",
   "execution_count": null,
   "id": "064a1eff",
   "metadata": {},
   "outputs": [],
   "source": []
  },
  {
   "cell_type": "code",
   "execution_count": 10,
   "id": "f7f37752",
   "metadata": {},
   "outputs": [
    {
     "name": "stderr",
     "output_type": "stream",
     "text": [
      "WARNING:datasets.builder:Using custom data configuration default\n",
      "WARNING:datasets.builder:Reusing dataset xsum (/home/jovyan/.cache/huggingface/datasets/xsum/default/1.2.0/4957825a982999fbf80bca0b342793b01b2611e021ef589fb7c6250b3577b499)\n"
     ]
    }
   ],
   "source": [
    "# Load dataset\n",
    "from datasets import load_dataset\n",
    "dataset = load_dataset(\"xsum\")"
   ]
  },
  {
   "cell_type": "code",
   "execution_count": 11,
   "id": "a9584162",
   "metadata": {},
   "outputs": [
    {
     "data": {
      "text/plain": [
       "DatasetDict({\n",
       "    train: Dataset({\n",
       "        features: ['document', 'summary', 'id'],\n",
       "        num_rows: 204045\n",
       "    })\n",
       "    validation: Dataset({\n",
       "        features: ['document', 'summary', 'id'],\n",
       "        num_rows: 11332\n",
       "    })\n",
       "    test: Dataset({\n",
       "        features: ['document', 'summary', 'id'],\n",
       "        num_rows: 11334\n",
       "    })\n",
       "})"
      ]
     },
     "execution_count": 11,
     "metadata": {},
     "output_type": "execute_result"
    }
   ],
   "source": [
    "dataset"
   ]
  },
  {
   "cell_type": "code",
   "execution_count": null,
   "id": "8a392c92",
   "metadata": {},
   "outputs": [],
   "source": []
  },
  {
   "cell_type": "code",
   "execution_count": 12,
   "id": "bb5d84c5",
   "metadata": {},
   "outputs": [
    {
     "ename": "NameError",
     "evalue": "name 'RougeCallback' is not defined",
     "output_type": "error",
     "traceback": [
      "\u001b[0;31m---------------------------------------------------------------------------\u001b[0m",
      "\u001b[0;31mNameError\u001b[0m                                 Traceback (most recent call last)",
      "\u001b[0;32m<ipython-input-12-5766ae5d8f92>\u001b[0m in \u001b[0;36m<module>\u001b[0;34m\u001b[0m\n\u001b[1;32m     27\u001b[0m \u001b[0;34m\u001b[0m\u001b[0m\n\u001b[1;32m     28\u001b[0m \u001b[0moriginal_summaries\u001b[0m \u001b[0;34m=\u001b[0m \u001b[0;34m[\u001b[0m\u001b[0mitem\u001b[0m\u001b[0;34m[\u001b[0m\u001b[0;34m'summary'\u001b[0m\u001b[0;34m]\u001b[0m \u001b[0;32mfor\u001b[0m \u001b[0mitem\u001b[0m \u001b[0;32min\u001b[0m \u001b[0mdataset\u001b[0m\u001b[0;34m[\u001b[0m\u001b[0;34m'validation'\u001b[0m\u001b[0;34m]\u001b[0m\u001b[0;34m]\u001b[0m\u001b[0;34m\u001b[0m\u001b[0;34m\u001b[0m\u001b[0m\n\u001b[0;32m---> 29\u001b[0;31m callback = RougeCallback( model_ar, eval_dataset, original_summaries,\n\u001b[0m\u001b[1;32m     30\u001b[0m                          tokenizer, tokenizer.sep_token_id, tokenizer.cls_token_id, decoder_max_seq_length)\n",
      "\u001b[0;31mNameError\u001b[0m: name 'RougeCallback' is not defined"
     ]
    }
   ],
   "source": [
    "# Load TFrecords\n",
    "# tfrecord_dir = tempfile.mkdtemp()\n",
    "tfrecord_dir = '/tmp/roberta2robera_tfrecordsxsum/'\n",
    "\n",
    "# # Train Tfrecords\n",
    "# write_tfrecord(dataset['train'], \n",
    "#                train_batch_size,\n",
    "#                tokenizer, \n",
    "#                encoder_max_seq_length, \n",
    "#                decoder_max_seq_length, \n",
    "#                \"train\", \n",
    "#                tfrecord_dir, \n",
    "#                take_sample)\n",
    "\n",
    "# # # Eval Tfrecords\n",
    "# write_tfrecord(dataset['validation'], \n",
    "#                eval_batch_size,\n",
    "#                tokenizer, \n",
    "#                encoder_max_seq_length, \n",
    "#                decoder_max_seq_length, \n",
    "#                \"eval\", \n",
    "#                tfrecord_dir, \n",
    "#                take_sample)\n",
    "\n",
    "train_dataset, total_train_examples = read_tfrecord(tfrecord_dir + 'train', train_batch_size, shuffle=False, drop_remainder=False)\n",
    "eval_dataset, total_eval_examples   = read_tfrecord(tfrecord_dir + 'eval', eval_batch_size,  shuffle=False, drop_remainder=False)\n",
    "\n",
    "original_summaries = [item['summary'] for item in dataset['validation']]\n",
    "callback = RougeCallback( model_ar, eval_dataset, original_summaries,\n",
    "                         tokenizer, tokenizer.sep_token_id, tokenizer.cls_token_id, decoder_max_seq_length)"
   ]
  },
  {
   "cell_type": "code",
   "execution_count": null,
   "id": "cf8bb5dd",
   "metadata": {},
   "outputs": [],
   "source": []
  },
  {
   "cell_type": "code",
   "execution_count": 12,
   "id": "fdf47961",
   "metadata": {},
   "outputs": [],
   "source": [
    "# Load optimizer fn\n",
    "\n",
    "from tf_transformers.optimization import create_optimizer\n",
    "def get_optimizer(learning_rate, examples, batch_size, epochs, learning_rate_type=\"polynomial\"):\n",
    "    steps_per_epoch = int(examples / batch_size)\n",
    "    num_train_steps = steps_per_epoch * epochs\n",
    "    warmup_steps = int(0.1 * num_train_steps)\n",
    "    \n",
    "    def optimizer_fn():\n",
    "        optimizer, learning_rate_fn = create_optimizer(learning_rate,\n",
    "                                                   num_train_steps,\n",
    "                                                   num_train_steps, \n",
    "                                                      learning_rate_type=learning_rate_type)\n",
    "        return optimizer\n",
    "    return optimizer_fn\n",
    "\n",
    "optimizer_fn = get_optimizer(learning_rate, total_train_examples, train_batch_size, epochs, learning_rate_type=\"linear\")"
   ]
  },
  {
   "cell_type": "code",
   "execution_count": 13,
   "id": "89c13c70",
   "metadata": {},
   "outputs": [],
   "source": [
    "# Loss fn\n",
    "\n",
    "def get_loss(y_true_dict, y_pred_dict):\n",
    "    \n",
    "    loss = cross_entropy_loss(labels=y_true_dict['labels'], \n",
    "                                   logits=y_pred_dict['token_logits'], \n",
    "                                      label_weights=y_true_dict['labels_mask'])\n",
    "    return {'loss': loss}"
   ]
  },
  {
   "cell_type": "code",
   "execution_count": null,
   "id": "b915ec83",
   "metadata": {},
   "outputs": [],
   "source": []
  },
  {
   "cell_type": "code",
   "execution_count": 14,
   "id": "4761ed6d",
   "metadata": {},
   "outputs": [
    {
     "name": "stdout",
     "output_type": "stream",
     "text": [
      "INFO:tensorflow:Using MirroredStrategy with devices ('/job:localhost/replica:0/task:0/device:GPU:0', '/job:localhost/replica:0/task:0/device:GPU:1')\n"
     ]
    },
    {
     "name": "stderr",
     "output_type": "stream",
     "text": [
      "INFO:tensorflow:Using MirroredStrategy with devices ('/job:localhost/replica:0/task:0/device:GPU:0', '/job:localhost/replica:0/task:0/device:GPU:1')\n"
     ]
    }
   ],
   "source": [
    "# Load trainer\n",
    "from tf_transformers.core import GPUTrainer\n",
    "trainer = GPUTrainer(distribution_strategy=strategy, \n",
    "                    num_gpus=num_gpus, \n",
    "                    dtype=dtype)"
   ]
  },
  {
   "cell_type": "code",
   "execution_count": null,
   "id": "a164db72",
   "metadata": {},
   "outputs": [],
   "source": []
  },
  {
   "cell_type": "code",
   "execution_count": 15,
   "id": "1cff6037",
   "metadata": {},
   "outputs": [],
   "source": [
    "model_fn = get_model(is_training=True, use_dropout=True)\n",
    "train_loss_fn = get_loss\n"
   ]
  },
  {
   "cell_type": "code",
   "execution_count": null,
   "id": "335868b5",
   "metadata": {},
   "outputs": [],
   "source": []
  },
  {
   "cell_type": "code",
   "execution_count": null,
   "id": "31c0e552",
   "metadata": {},
   "outputs": [],
   "source": [
    "model_checkpoint_dir = \"/tmp/roberta2robera_xsum2/\"\n",
    "history = trainer.run(\n",
    "    model_fn = model_fn,\n",
    "    optimizer_fn = optimizer_fn,\n",
    "    train_dataset = train_dataset,\n",
    "    train_loss_fn = train_loss_fn,\n",
    "    epochs = epochs,\n",
    "    steps_per_epoch = 6000,\n",
    "    model_checkpoint_dir=model_checkpoint_dir,\n",
    "    batch_size=train_batch_size,\n",
    "    training_loss_names=None,\n",
    "    validation_loss_names=None,\n",
    "    validation_dataset=None,\n",
    "    validation_loss_fn=None,\n",
    "    validation_interval_steps=None,\n",
    "    steps_per_call=100,\n",
    "    enable_xla=False,\n",
    "    callbacks=[callback],\n",
    "    callbacks_interval_steps=None,\n",
    "    overwrite_checkpoint_dir=True,\n",
    "    max_number_of_models=10,\n",
    "    model_save_interval_steps=None,\n",
    "    repeat_dataset=False,\n",
    "    latest_checkpoint=None,\n",
    ")"
   ]
  },
  {
   "cell_type": "code",
   "execution_count": 19,
   "id": "500b2513",
   "metadata": {},
   "outputs": [
    {
     "name": "stdout",
     "output_type": "stream",
     "text": [
      "checkpoint\t\t    ckpt-2.data-00000-of-00001\tckpt-3.index\r\n",
      "ckpt-1.data-00000-of-00001  ckpt-2.index\t\tlogs\r\n",
      "ckpt-1.index\t\t    ckpt-3.data-00000-of-00001\r\n"
     ]
    }
   ],
   "source": [
    "!ls /tmp/roberta2robera_xsum2/"
   ]
  },
  {
   "cell_type": "code",
   "execution_count": 59,
   "id": "a57bd872",
   "metadata": {},
   "outputs": [
    {
     "name": "stderr",
     "output_type": "stream",
     "text": [
      "You are using a model of type roberta to instantiate a model of type . This is not supported for all configurations of models and can yield errors.\n"
     ]
    },
    {
     "name": "stdout",
     "output_type": "stream",
     "text": [
      "Robertaaaa\n",
      "WARNING:tensorflow:Unresolved object in checkpoint: (root).model.layer-4\n"
     ]
    },
    {
     "name": "stderr",
     "output_type": "stream",
     "text": [
      "WARNING:tensorflow:Unresolved object in checkpoint: (root).model.layer-4\n"
     ]
    },
    {
     "name": "stdout",
     "output_type": "stream",
     "text": [
      "WARNING:tensorflow:Unresolved object in checkpoint: (root).model.layer-5\n"
     ]
    },
    {
     "name": "stderr",
     "output_type": "stream",
     "text": [
      "WARNING:tensorflow:Unresolved object in checkpoint: (root).model.layer-5\n"
     ]
    },
    {
     "name": "stdout",
     "output_type": "stream",
     "text": [
      "WARNING:tensorflow:Unresolved object in checkpoint: (root).model.layer_with_weights-0._transformer_layers.0._cross_attention_layer\n"
     ]
    },
    {
     "name": "stderr",
     "output_type": "stream",
     "text": [
      "WARNING:tensorflow:Unresolved object in checkpoint: (root).model.layer_with_weights-0._transformer_layers.0._cross_attention_layer\n"
     ]
    },
    {
     "name": "stdout",
     "output_type": "stream",
     "text": [
      "WARNING:tensorflow:Unresolved object in checkpoint: (root).model.layer_with_weights-0._transformer_layers.0._cross_attention_output_dense\n"
     ]
    },
    {
     "name": "stderr",
     "output_type": "stream",
     "text": [
      "WARNING:tensorflow:Unresolved object in checkpoint: (root).model.layer_with_weights-0._transformer_layers.0._cross_attention_output_dense\n"
     ]
    },
    {
     "name": "stdout",
     "output_type": "stream",
     "text": [
      "WARNING:tensorflow:Unresolved object in checkpoint: (root).model.layer_with_weights-0._transformer_layers.0._cross_attention_layer_norm\n"
     ]
    },
    {
     "name": "stderr",
     "output_type": "stream",
     "text": [
      "WARNING:tensorflow:Unresolved object in checkpoint: (root).model.layer_with_weights-0._transformer_layers.0._cross_attention_layer_norm\n"
     ]
    },
    {
     "name": "stdout",
     "output_type": "stream",
     "text": [
      "WARNING:tensorflow:Unresolved object in checkpoint: (root).model.layer_with_weights-0._transformer_layers.1._cross_attention_layer\n"
     ]
    },
    {
     "name": "stderr",
     "output_type": "stream",
     "text": [
      "WARNING:tensorflow:Unresolved object in checkpoint: (root).model.layer_with_weights-0._transformer_layers.1._cross_attention_layer\n"
     ]
    },
    {
     "name": "stdout",
     "output_type": "stream",
     "text": [
      "WARNING:tensorflow:Unresolved object in checkpoint: (root).model.layer_with_weights-0._transformer_layers.1._cross_attention_output_dense\n"
     ]
    },
    {
     "name": "stderr",
     "output_type": "stream",
     "text": [
      "WARNING:tensorflow:Unresolved object in checkpoint: (root).model.layer_with_weights-0._transformer_layers.1._cross_attention_output_dense\n"
     ]
    },
    {
     "name": "stdout",
     "output_type": "stream",
     "text": [
      "WARNING:tensorflow:Unresolved object in checkpoint: (root).model.layer_with_weights-0._transformer_layers.1._cross_attention_layer_norm\n"
     ]
    },
    {
     "name": "stderr",
     "output_type": "stream",
     "text": [
      "WARNING:tensorflow:Unresolved object in checkpoint: (root).model.layer_with_weights-0._transformer_layers.1._cross_attention_layer_norm\n"
     ]
    },
    {
     "name": "stdout",
     "output_type": "stream",
     "text": [
      "WARNING:tensorflow:Unresolved object in checkpoint: (root).model.layer_with_weights-0._transformer_layers.2._cross_attention_layer\n"
     ]
    },
    {
     "name": "stderr",
     "output_type": "stream",
     "text": [
      "WARNING:tensorflow:Unresolved object in checkpoint: (root).model.layer_with_weights-0._transformer_layers.2._cross_attention_layer\n"
     ]
    },
    {
     "name": "stdout",
     "output_type": "stream",
     "text": [
      "WARNING:tensorflow:Unresolved object in checkpoint: (root).model.layer_with_weights-0._transformer_layers.2._cross_attention_output_dense\n"
     ]
    },
    {
     "name": "stderr",
     "output_type": "stream",
     "text": [
      "WARNING:tensorflow:Unresolved object in checkpoint: (root).model.layer_with_weights-0._transformer_layers.2._cross_attention_output_dense\n"
     ]
    },
    {
     "name": "stdout",
     "output_type": "stream",
     "text": [
      "WARNING:tensorflow:Unresolved object in checkpoint: (root).model.layer_with_weights-0._transformer_layers.2._cross_attention_layer_norm\n"
     ]
    },
    {
     "name": "stderr",
     "output_type": "stream",
     "text": [
      "WARNING:tensorflow:Unresolved object in checkpoint: (root).model.layer_with_weights-0._transformer_layers.2._cross_attention_layer_norm\n"
     ]
    },
    {
     "name": "stdout",
     "output_type": "stream",
     "text": [
      "WARNING:tensorflow:Unresolved object in checkpoint: (root).model.layer_with_weights-0._transformer_layers.3._cross_attention_layer\n"
     ]
    },
    {
     "name": "stderr",
     "output_type": "stream",
     "text": [
      "WARNING:tensorflow:Unresolved object in checkpoint: (root).model.layer_with_weights-0._transformer_layers.3._cross_attention_layer\n"
     ]
    },
    {
     "name": "stdout",
     "output_type": "stream",
     "text": [
      "WARNING:tensorflow:Unresolved object in checkpoint: (root).model.layer_with_weights-0._transformer_layers.3._cross_attention_output_dense\n"
     ]
    },
    {
     "name": "stderr",
     "output_type": "stream",
     "text": [
      "WARNING:tensorflow:Unresolved object in checkpoint: (root).model.layer_with_weights-0._transformer_layers.3._cross_attention_output_dense\n"
     ]
    },
    {
     "name": "stdout",
     "output_type": "stream",
     "text": [
      "WARNING:tensorflow:Unresolved object in checkpoint: (root).model.layer_with_weights-0._transformer_layers.3._cross_attention_layer_norm\n"
     ]
    },
    {
     "name": "stderr",
     "output_type": "stream",
     "text": [
      "WARNING:tensorflow:Unresolved object in checkpoint: (root).model.layer_with_weights-0._transformer_layers.3._cross_attention_layer_norm\n"
     ]
    },
    {
     "name": "stdout",
     "output_type": "stream",
     "text": [
      "WARNING:tensorflow:Unresolved object in checkpoint: (root).model.layer_with_weights-0._transformer_layers.4._cross_attention_layer\n"
     ]
    },
    {
     "name": "stderr",
     "output_type": "stream",
     "text": [
      "WARNING:tensorflow:Unresolved object in checkpoint: (root).model.layer_with_weights-0._transformer_layers.4._cross_attention_layer\n"
     ]
    },
    {
     "name": "stdout",
     "output_type": "stream",
     "text": [
      "WARNING:tensorflow:Unresolved object in checkpoint: (root).model.layer_with_weights-0._transformer_layers.4._cross_attention_output_dense\n"
     ]
    },
    {
     "name": "stderr",
     "output_type": "stream",
     "text": [
      "WARNING:tensorflow:Unresolved object in checkpoint: (root).model.layer_with_weights-0._transformer_layers.4._cross_attention_output_dense\n"
     ]
    },
    {
     "name": "stdout",
     "output_type": "stream",
     "text": [
      "WARNING:tensorflow:Unresolved object in checkpoint: (root).model.layer_with_weights-0._transformer_layers.4._cross_attention_layer_norm\n"
     ]
    },
    {
     "name": "stderr",
     "output_type": "stream",
     "text": [
      "WARNING:tensorflow:Unresolved object in checkpoint: (root).model.layer_with_weights-0._transformer_layers.4._cross_attention_layer_norm\n"
     ]
    },
    {
     "name": "stdout",
     "output_type": "stream",
     "text": [
      "WARNING:tensorflow:Unresolved object in checkpoint: (root).model.layer_with_weights-0._transformer_layers.5._cross_attention_layer\n"
     ]
    },
    {
     "name": "stderr",
     "output_type": "stream",
     "text": [
      "WARNING:tensorflow:Unresolved object in checkpoint: (root).model.layer_with_weights-0._transformer_layers.5._cross_attention_layer\n"
     ]
    },
    {
     "name": "stdout",
     "output_type": "stream",
     "text": [
      "WARNING:tensorflow:Unresolved object in checkpoint: (root).model.layer_with_weights-0._transformer_layers.5._cross_attention_output_dense\n"
     ]
    },
    {
     "name": "stderr",
     "output_type": "stream",
     "text": [
      "WARNING:tensorflow:Unresolved object in checkpoint: (root).model.layer_with_weights-0._transformer_layers.5._cross_attention_output_dense\n"
     ]
    },
    {
     "name": "stdout",
     "output_type": "stream",
     "text": [
      "WARNING:tensorflow:Unresolved object in checkpoint: (root).model.layer_with_weights-0._transformer_layers.5._cross_attention_layer_norm\n"
     ]
    },
    {
     "name": "stderr",
     "output_type": "stream",
     "text": [
      "WARNING:tensorflow:Unresolved object in checkpoint: (root).model.layer_with_weights-0._transformer_layers.5._cross_attention_layer_norm\n"
     ]
    },
    {
     "name": "stdout",
     "output_type": "stream",
     "text": [
      "WARNING:tensorflow:Unresolved object in checkpoint: (root).model.layer_with_weights-0._transformer_layers.6._cross_attention_layer\n"
     ]
    },
    {
     "name": "stderr",
     "output_type": "stream",
     "text": [
      "WARNING:tensorflow:Unresolved object in checkpoint: (root).model.layer_with_weights-0._transformer_layers.6._cross_attention_layer\n"
     ]
    },
    {
     "name": "stdout",
     "output_type": "stream",
     "text": [
      "WARNING:tensorflow:Unresolved object in checkpoint: (root).model.layer_with_weights-0._transformer_layers.6._cross_attention_output_dense\n"
     ]
    },
    {
     "name": "stderr",
     "output_type": "stream",
     "text": [
      "WARNING:tensorflow:Unresolved object in checkpoint: (root).model.layer_with_weights-0._transformer_layers.6._cross_attention_output_dense\n"
     ]
    },
    {
     "name": "stdout",
     "output_type": "stream",
     "text": [
      "WARNING:tensorflow:Unresolved object in checkpoint: (root).model.layer_with_weights-0._transformer_layers.6._cross_attention_layer_norm\n"
     ]
    },
    {
     "name": "stderr",
     "output_type": "stream",
     "text": [
      "WARNING:tensorflow:Unresolved object in checkpoint: (root).model.layer_with_weights-0._transformer_layers.6._cross_attention_layer_norm\n"
     ]
    },
    {
     "name": "stdout",
     "output_type": "stream",
     "text": [
      "WARNING:tensorflow:Unresolved object in checkpoint: (root).model.layer_with_weights-0._transformer_layers.7._cross_attention_layer\n"
     ]
    },
    {
     "name": "stderr",
     "output_type": "stream",
     "text": [
      "WARNING:tensorflow:Unresolved object in checkpoint: (root).model.layer_with_weights-0._transformer_layers.7._cross_attention_layer\n"
     ]
    },
    {
     "name": "stdout",
     "output_type": "stream",
     "text": [
      "WARNING:tensorflow:Unresolved object in checkpoint: (root).model.layer_with_weights-0._transformer_layers.7._cross_attention_output_dense\n"
     ]
    },
    {
     "name": "stderr",
     "output_type": "stream",
     "text": [
      "WARNING:tensorflow:Unresolved object in checkpoint: (root).model.layer_with_weights-0._transformer_layers.7._cross_attention_output_dense\n"
     ]
    },
    {
     "name": "stdout",
     "output_type": "stream",
     "text": [
      "WARNING:tensorflow:Unresolved object in checkpoint: (root).model.layer_with_weights-0._transformer_layers.7._cross_attention_layer_norm\n"
     ]
    },
    {
     "name": "stderr",
     "output_type": "stream",
     "text": [
      "WARNING:tensorflow:Unresolved object in checkpoint: (root).model.layer_with_weights-0._transformer_layers.7._cross_attention_layer_norm\n"
     ]
    },
    {
     "name": "stdout",
     "output_type": "stream",
     "text": [
      "WARNING:tensorflow:Unresolved object in checkpoint: (root).model.layer_with_weights-0._transformer_layers.8._cross_attention_layer\n"
     ]
    },
    {
     "name": "stderr",
     "output_type": "stream",
     "text": [
      "WARNING:tensorflow:Unresolved object in checkpoint: (root).model.layer_with_weights-0._transformer_layers.8._cross_attention_layer\n"
     ]
    },
    {
     "name": "stdout",
     "output_type": "stream",
     "text": [
      "WARNING:tensorflow:Unresolved object in checkpoint: (root).model.layer_with_weights-0._transformer_layers.8._cross_attention_output_dense\n"
     ]
    },
    {
     "name": "stderr",
     "output_type": "stream",
     "text": [
      "WARNING:tensorflow:Unresolved object in checkpoint: (root).model.layer_with_weights-0._transformer_layers.8._cross_attention_output_dense\n"
     ]
    },
    {
     "name": "stdout",
     "output_type": "stream",
     "text": [
      "WARNING:tensorflow:Unresolved object in checkpoint: (root).model.layer_with_weights-0._transformer_layers.8._cross_attention_layer_norm\n"
     ]
    },
    {
     "name": "stderr",
     "output_type": "stream",
     "text": [
      "WARNING:tensorflow:Unresolved object in checkpoint: (root).model.layer_with_weights-0._transformer_layers.8._cross_attention_layer_norm\n"
     ]
    },
    {
     "name": "stdout",
     "output_type": "stream",
     "text": [
      "WARNING:tensorflow:Unresolved object in checkpoint: (root).model.layer_with_weights-0._transformer_layers.9._cross_attention_layer\n"
     ]
    },
    {
     "name": "stderr",
     "output_type": "stream",
     "text": [
      "WARNING:tensorflow:Unresolved object in checkpoint: (root).model.layer_with_weights-0._transformer_layers.9._cross_attention_layer\n"
     ]
    },
    {
     "name": "stdout",
     "output_type": "stream",
     "text": [
      "WARNING:tensorflow:Unresolved object in checkpoint: (root).model.layer_with_weights-0._transformer_layers.9._cross_attention_output_dense\n"
     ]
    },
    {
     "name": "stderr",
     "output_type": "stream",
     "text": [
      "WARNING:tensorflow:Unresolved object in checkpoint: (root).model.layer_with_weights-0._transformer_layers.9._cross_attention_output_dense\n"
     ]
    },
    {
     "name": "stdout",
     "output_type": "stream",
     "text": [
      "WARNING:tensorflow:Unresolved object in checkpoint: (root).model.layer_with_weights-0._transformer_layers.9._cross_attention_layer_norm\n"
     ]
    },
    {
     "name": "stderr",
     "output_type": "stream",
     "text": [
      "WARNING:tensorflow:Unresolved object in checkpoint: (root).model.layer_with_weights-0._transformer_layers.9._cross_attention_layer_norm\n"
     ]
    },
    {
     "name": "stdout",
     "output_type": "stream",
     "text": [
      "WARNING:tensorflow:Unresolved object in checkpoint: (root).model.layer_with_weights-0._transformer_layers.10._cross_attention_layer\n"
     ]
    },
    {
     "name": "stderr",
     "output_type": "stream",
     "text": [
      "WARNING:tensorflow:Unresolved object in checkpoint: (root).model.layer_with_weights-0._transformer_layers.10._cross_attention_layer\n"
     ]
    },
    {
     "name": "stdout",
     "output_type": "stream",
     "text": [
      "WARNING:tensorflow:Unresolved object in checkpoint: (root).model.layer_with_weights-0._transformer_layers.10._cross_attention_output_dense\n"
     ]
    },
    {
     "name": "stderr",
     "output_type": "stream",
     "text": [
      "WARNING:tensorflow:Unresolved object in checkpoint: (root).model.layer_with_weights-0._transformer_layers.10._cross_attention_output_dense\n"
     ]
    },
    {
     "name": "stdout",
     "output_type": "stream",
     "text": [
      "WARNING:tensorflow:Unresolved object in checkpoint: (root).model.layer_with_weights-0._transformer_layers.10._cross_attention_layer_norm\n"
     ]
    },
    {
     "name": "stderr",
     "output_type": "stream",
     "text": [
      "WARNING:tensorflow:Unresolved object in checkpoint: (root).model.layer_with_weights-0._transformer_layers.10._cross_attention_layer_norm\n"
     ]
    },
    {
     "name": "stdout",
     "output_type": "stream",
     "text": [
      "WARNING:tensorflow:Unresolved object in checkpoint: (root).model.layer_with_weights-0._transformer_layers.11._cross_attention_layer\n"
     ]
    },
    {
     "name": "stderr",
     "output_type": "stream",
     "text": [
      "WARNING:tensorflow:Unresolved object in checkpoint: (root).model.layer_with_weights-0._transformer_layers.11._cross_attention_layer\n"
     ]
    },
    {
     "name": "stdout",
     "output_type": "stream",
     "text": [
      "WARNING:tensorflow:Unresolved object in checkpoint: (root).model.layer_with_weights-0._transformer_layers.11._cross_attention_output_dense\n"
     ]
    },
    {
     "name": "stderr",
     "output_type": "stream",
     "text": [
      "WARNING:tensorflow:Unresolved object in checkpoint: (root).model.layer_with_weights-0._transformer_layers.11._cross_attention_output_dense\n"
     ]
    },
    {
     "name": "stdout",
     "output_type": "stream",
     "text": [
      "WARNING:tensorflow:Unresolved object in checkpoint: (root).model.layer_with_weights-0._transformer_layers.11._cross_attention_layer_norm\n"
     ]
    },
    {
     "name": "stderr",
     "output_type": "stream",
     "text": [
      "WARNING:tensorflow:Unresolved object in checkpoint: (root).model.layer_with_weights-0._transformer_layers.11._cross_attention_layer_norm\n"
     ]
    },
    {
     "name": "stdout",
     "output_type": "stream",
     "text": [
      "WARNING:tensorflow:Unresolved object in checkpoint: (root).model.layer_with_weights-0._transformer_layers.0._cross_attention_layer._query_dense\n"
     ]
    },
    {
     "name": "stderr",
     "output_type": "stream",
     "text": [
      "WARNING:tensorflow:Unresolved object in checkpoint: (root).model.layer_with_weights-0._transformer_layers.0._cross_attention_layer._query_dense\n"
     ]
    },
    {
     "name": "stdout",
     "output_type": "stream",
     "text": [
      "WARNING:tensorflow:Unresolved object in checkpoint: (root).model.layer_with_weights-0._transformer_layers.0._cross_attention_layer._key_dense\n"
     ]
    },
    {
     "name": "stderr",
     "output_type": "stream",
     "text": [
      "WARNING:tensorflow:Unresolved object in checkpoint: (root).model.layer_with_weights-0._transformer_layers.0._cross_attention_layer._key_dense\n"
     ]
    },
    {
     "name": "stdout",
     "output_type": "stream",
     "text": [
      "WARNING:tensorflow:Unresolved object in checkpoint: (root).model.layer_with_weights-0._transformer_layers.0._cross_attention_layer._value_dense\n"
     ]
    },
    {
     "name": "stderr",
     "output_type": "stream",
     "text": [
      "WARNING:tensorflow:Unresolved object in checkpoint: (root).model.layer_with_weights-0._transformer_layers.0._cross_attention_layer._value_dense\n"
     ]
    },
    {
     "name": "stdout",
     "output_type": "stream",
     "text": [
      "WARNING:tensorflow:Unresolved object in checkpoint: (root).model.layer_with_weights-0._transformer_layers.0._cross_attention_layer._masked_softmax\n"
     ]
    },
    {
     "name": "stderr",
     "output_type": "stream",
     "text": [
      "WARNING:tensorflow:Unresolved object in checkpoint: (root).model.layer_with_weights-0._transformer_layers.0._cross_attention_layer._masked_softmax\n"
     ]
    },
    {
     "name": "stdout",
     "output_type": "stream",
     "text": [
      "WARNING:tensorflow:Unresolved object in checkpoint: (root).model.layer_with_weights-0._transformer_layers.0._cross_attention_layer._dropout\n"
     ]
    },
    {
     "name": "stderr",
     "output_type": "stream",
     "text": [
      "WARNING:tensorflow:Unresolved object in checkpoint: (root).model.layer_with_weights-0._transformer_layers.0._cross_attention_layer._dropout\n"
     ]
    },
    {
     "name": "stdout",
     "output_type": "stream",
     "text": [
      "WARNING:tensorflow:Unresolved object in checkpoint: (root).model.layer_with_weights-0._transformer_layers.0._cross_attention_output_dense.kernel\n"
     ]
    },
    {
     "name": "stderr",
     "output_type": "stream",
     "text": [
      "WARNING:tensorflow:Unresolved object in checkpoint: (root).model.layer_with_weights-0._transformer_layers.0._cross_attention_output_dense.kernel\n"
     ]
    },
    {
     "name": "stdout",
     "output_type": "stream",
     "text": [
      "WARNING:tensorflow:Unresolved object in checkpoint: (root).model.layer_with_weights-0._transformer_layers.0._cross_attention_output_dense.bias\n"
     ]
    },
    {
     "name": "stderr",
     "output_type": "stream",
     "text": [
      "WARNING:tensorflow:Unresolved object in checkpoint: (root).model.layer_with_weights-0._transformer_layers.0._cross_attention_output_dense.bias\n"
     ]
    },
    {
     "name": "stdout",
     "output_type": "stream",
     "text": [
      "WARNING:tensorflow:Unresolved object in checkpoint: (root).model.layer_with_weights-0._transformer_layers.0._cross_attention_layer_norm.axis\n"
     ]
    },
    {
     "name": "stderr",
     "output_type": "stream",
     "text": [
      "WARNING:tensorflow:Unresolved object in checkpoint: (root).model.layer_with_weights-0._transformer_layers.0._cross_attention_layer_norm.axis\n"
     ]
    },
    {
     "name": "stdout",
     "output_type": "stream",
     "text": [
      "WARNING:tensorflow:Unresolved object in checkpoint: (root).model.layer_with_weights-0._transformer_layers.0._cross_attention_layer_norm.gamma\n"
     ]
    },
    {
     "name": "stderr",
     "output_type": "stream",
     "text": [
      "WARNING:tensorflow:Unresolved object in checkpoint: (root).model.layer_with_weights-0._transformer_layers.0._cross_attention_layer_norm.gamma\n"
     ]
    },
    {
     "name": "stdout",
     "output_type": "stream",
     "text": [
      "WARNING:tensorflow:Unresolved object in checkpoint: (root).model.layer_with_weights-0._transformer_layers.0._cross_attention_layer_norm.beta\n"
     ]
    },
    {
     "name": "stderr",
     "output_type": "stream",
     "text": [
      "WARNING:tensorflow:Unresolved object in checkpoint: (root).model.layer_with_weights-0._transformer_layers.0._cross_attention_layer_norm.beta\n"
     ]
    },
    {
     "name": "stdout",
     "output_type": "stream",
     "text": [
      "WARNING:tensorflow:Unresolved object in checkpoint: (root).model.layer_with_weights-0._transformer_layers.1._cross_attention_layer._query_dense\n"
     ]
    },
    {
     "name": "stderr",
     "output_type": "stream",
     "text": [
      "WARNING:tensorflow:Unresolved object in checkpoint: (root).model.layer_with_weights-0._transformer_layers.1._cross_attention_layer._query_dense\n"
     ]
    },
    {
     "name": "stdout",
     "output_type": "stream",
     "text": [
      "WARNING:tensorflow:Unresolved object in checkpoint: (root).model.layer_with_weights-0._transformer_layers.1._cross_attention_layer._key_dense\n"
     ]
    },
    {
     "name": "stderr",
     "output_type": "stream",
     "text": [
      "WARNING:tensorflow:Unresolved object in checkpoint: (root).model.layer_with_weights-0._transformer_layers.1._cross_attention_layer._key_dense\n"
     ]
    },
    {
     "name": "stdout",
     "output_type": "stream",
     "text": [
      "WARNING:tensorflow:Unresolved object in checkpoint: (root).model.layer_with_weights-0._transformer_layers.1._cross_attention_layer._value_dense\n"
     ]
    },
    {
     "name": "stderr",
     "output_type": "stream",
     "text": [
      "WARNING:tensorflow:Unresolved object in checkpoint: (root).model.layer_with_weights-0._transformer_layers.1._cross_attention_layer._value_dense\n"
     ]
    },
    {
     "name": "stdout",
     "output_type": "stream",
     "text": [
      "WARNING:tensorflow:Unresolved object in checkpoint: (root).model.layer_with_weights-0._transformer_layers.1._cross_attention_layer._masked_softmax\n"
     ]
    },
    {
     "name": "stderr",
     "output_type": "stream",
     "text": [
      "WARNING:tensorflow:Unresolved object in checkpoint: (root).model.layer_with_weights-0._transformer_layers.1._cross_attention_layer._masked_softmax\n"
     ]
    },
    {
     "name": "stdout",
     "output_type": "stream",
     "text": [
      "WARNING:tensorflow:Unresolved object in checkpoint: (root).model.layer_with_weights-0._transformer_layers.1._cross_attention_layer._dropout\n"
     ]
    },
    {
     "name": "stderr",
     "output_type": "stream",
     "text": [
      "WARNING:tensorflow:Unresolved object in checkpoint: (root).model.layer_with_weights-0._transformer_layers.1._cross_attention_layer._dropout\n"
     ]
    },
    {
     "name": "stdout",
     "output_type": "stream",
     "text": [
      "WARNING:tensorflow:Unresolved object in checkpoint: (root).model.layer_with_weights-0._transformer_layers.1._cross_attention_output_dense.kernel\n"
     ]
    },
    {
     "name": "stderr",
     "output_type": "stream",
     "text": [
      "WARNING:tensorflow:Unresolved object in checkpoint: (root).model.layer_with_weights-0._transformer_layers.1._cross_attention_output_dense.kernel\n"
     ]
    },
    {
     "name": "stdout",
     "output_type": "stream",
     "text": [
      "WARNING:tensorflow:Unresolved object in checkpoint: (root).model.layer_with_weights-0._transformer_layers.1._cross_attention_output_dense.bias\n"
     ]
    },
    {
     "name": "stderr",
     "output_type": "stream",
     "text": [
      "WARNING:tensorflow:Unresolved object in checkpoint: (root).model.layer_with_weights-0._transformer_layers.1._cross_attention_output_dense.bias\n"
     ]
    },
    {
     "name": "stdout",
     "output_type": "stream",
     "text": [
      "WARNING:tensorflow:Unresolved object in checkpoint: (root).model.layer_with_weights-0._transformer_layers.1._cross_attention_layer_norm.axis\n"
     ]
    },
    {
     "name": "stderr",
     "output_type": "stream",
     "text": [
      "WARNING:tensorflow:Unresolved object in checkpoint: (root).model.layer_with_weights-0._transformer_layers.1._cross_attention_layer_norm.axis\n"
     ]
    },
    {
     "name": "stdout",
     "output_type": "stream",
     "text": [
      "WARNING:tensorflow:Unresolved object in checkpoint: (root).model.layer_with_weights-0._transformer_layers.1._cross_attention_layer_norm.gamma\n"
     ]
    },
    {
     "name": "stderr",
     "output_type": "stream",
     "text": [
      "WARNING:tensorflow:Unresolved object in checkpoint: (root).model.layer_with_weights-0._transformer_layers.1._cross_attention_layer_norm.gamma\n"
     ]
    },
    {
     "name": "stdout",
     "output_type": "stream",
     "text": [
      "WARNING:tensorflow:Unresolved object in checkpoint: (root).model.layer_with_weights-0._transformer_layers.1._cross_attention_layer_norm.beta\n"
     ]
    },
    {
     "name": "stderr",
     "output_type": "stream",
     "text": [
      "WARNING:tensorflow:Unresolved object in checkpoint: (root).model.layer_with_weights-0._transformer_layers.1._cross_attention_layer_norm.beta\n"
     ]
    },
    {
     "name": "stdout",
     "output_type": "stream",
     "text": [
      "WARNING:tensorflow:Unresolved object in checkpoint: (root).model.layer_with_weights-0._transformer_layers.2._cross_attention_layer._query_dense\n"
     ]
    },
    {
     "name": "stderr",
     "output_type": "stream",
     "text": [
      "WARNING:tensorflow:Unresolved object in checkpoint: (root).model.layer_with_weights-0._transformer_layers.2._cross_attention_layer._query_dense\n"
     ]
    },
    {
     "name": "stdout",
     "output_type": "stream",
     "text": [
      "WARNING:tensorflow:Unresolved object in checkpoint: (root).model.layer_with_weights-0._transformer_layers.2._cross_attention_layer._key_dense\n"
     ]
    },
    {
     "name": "stderr",
     "output_type": "stream",
     "text": [
      "WARNING:tensorflow:Unresolved object in checkpoint: (root).model.layer_with_weights-0._transformer_layers.2._cross_attention_layer._key_dense\n"
     ]
    },
    {
     "name": "stdout",
     "output_type": "stream",
     "text": [
      "WARNING:tensorflow:Unresolved object in checkpoint: (root).model.layer_with_weights-0._transformer_layers.2._cross_attention_layer._value_dense\n"
     ]
    },
    {
     "name": "stderr",
     "output_type": "stream",
     "text": [
      "WARNING:tensorflow:Unresolved object in checkpoint: (root).model.layer_with_weights-0._transformer_layers.2._cross_attention_layer._value_dense\n"
     ]
    },
    {
     "name": "stdout",
     "output_type": "stream",
     "text": [
      "WARNING:tensorflow:Unresolved object in checkpoint: (root).model.layer_with_weights-0._transformer_layers.2._cross_attention_layer._masked_softmax\n"
     ]
    },
    {
     "name": "stderr",
     "output_type": "stream",
     "text": [
      "WARNING:tensorflow:Unresolved object in checkpoint: (root).model.layer_with_weights-0._transformer_layers.2._cross_attention_layer._masked_softmax\n"
     ]
    },
    {
     "name": "stdout",
     "output_type": "stream",
     "text": [
      "WARNING:tensorflow:Unresolved object in checkpoint: (root).model.layer_with_weights-0._transformer_layers.2._cross_attention_layer._dropout\n"
     ]
    },
    {
     "name": "stderr",
     "output_type": "stream",
     "text": [
      "WARNING:tensorflow:Unresolved object in checkpoint: (root).model.layer_with_weights-0._transformer_layers.2._cross_attention_layer._dropout\n"
     ]
    },
    {
     "name": "stdout",
     "output_type": "stream",
     "text": [
      "WARNING:tensorflow:Unresolved object in checkpoint: (root).model.layer_with_weights-0._transformer_layers.2._cross_attention_output_dense.kernel\n"
     ]
    },
    {
     "name": "stderr",
     "output_type": "stream",
     "text": [
      "WARNING:tensorflow:Unresolved object in checkpoint: (root).model.layer_with_weights-0._transformer_layers.2._cross_attention_output_dense.kernel\n"
     ]
    },
    {
     "name": "stdout",
     "output_type": "stream",
     "text": [
      "WARNING:tensorflow:Unresolved object in checkpoint: (root).model.layer_with_weights-0._transformer_layers.2._cross_attention_output_dense.bias\n"
     ]
    },
    {
     "name": "stderr",
     "output_type": "stream",
     "text": [
      "WARNING:tensorflow:Unresolved object in checkpoint: (root).model.layer_with_weights-0._transformer_layers.2._cross_attention_output_dense.bias\n"
     ]
    },
    {
     "name": "stdout",
     "output_type": "stream",
     "text": [
      "WARNING:tensorflow:Unresolved object in checkpoint: (root).model.layer_with_weights-0._transformer_layers.2._cross_attention_layer_norm.axis\n"
     ]
    },
    {
     "name": "stderr",
     "output_type": "stream",
     "text": [
      "WARNING:tensorflow:Unresolved object in checkpoint: (root).model.layer_with_weights-0._transformer_layers.2._cross_attention_layer_norm.axis\n"
     ]
    },
    {
     "name": "stdout",
     "output_type": "stream",
     "text": [
      "WARNING:tensorflow:Unresolved object in checkpoint: (root).model.layer_with_weights-0._transformer_layers.2._cross_attention_layer_norm.gamma\n"
     ]
    },
    {
     "name": "stderr",
     "output_type": "stream",
     "text": [
      "WARNING:tensorflow:Unresolved object in checkpoint: (root).model.layer_with_weights-0._transformer_layers.2._cross_attention_layer_norm.gamma\n"
     ]
    },
    {
     "name": "stdout",
     "output_type": "stream",
     "text": [
      "WARNING:tensorflow:Unresolved object in checkpoint: (root).model.layer_with_weights-0._transformer_layers.2._cross_attention_layer_norm.beta\n"
     ]
    },
    {
     "name": "stderr",
     "output_type": "stream",
     "text": [
      "WARNING:tensorflow:Unresolved object in checkpoint: (root).model.layer_with_weights-0._transformer_layers.2._cross_attention_layer_norm.beta\n"
     ]
    },
    {
     "name": "stdout",
     "output_type": "stream",
     "text": [
      "WARNING:tensorflow:Unresolved object in checkpoint: (root).model.layer_with_weights-0._transformer_layers.3._cross_attention_layer._query_dense\n"
     ]
    },
    {
     "name": "stderr",
     "output_type": "stream",
     "text": [
      "WARNING:tensorflow:Unresolved object in checkpoint: (root).model.layer_with_weights-0._transformer_layers.3._cross_attention_layer._query_dense\n"
     ]
    },
    {
     "name": "stdout",
     "output_type": "stream",
     "text": [
      "WARNING:tensorflow:Unresolved object in checkpoint: (root).model.layer_with_weights-0._transformer_layers.3._cross_attention_layer._key_dense\n"
     ]
    },
    {
     "name": "stderr",
     "output_type": "stream",
     "text": [
      "WARNING:tensorflow:Unresolved object in checkpoint: (root).model.layer_with_weights-0._transformer_layers.3._cross_attention_layer._key_dense\n"
     ]
    },
    {
     "name": "stdout",
     "output_type": "stream",
     "text": [
      "WARNING:tensorflow:Unresolved object in checkpoint: (root).model.layer_with_weights-0._transformer_layers.3._cross_attention_layer._value_dense\n"
     ]
    },
    {
     "name": "stderr",
     "output_type": "stream",
     "text": [
      "WARNING:tensorflow:Unresolved object in checkpoint: (root).model.layer_with_weights-0._transformer_layers.3._cross_attention_layer._value_dense\n"
     ]
    },
    {
     "name": "stdout",
     "output_type": "stream",
     "text": [
      "WARNING:tensorflow:Unresolved object in checkpoint: (root).model.layer_with_weights-0._transformer_layers.3._cross_attention_layer._masked_softmax\n"
     ]
    },
    {
     "name": "stderr",
     "output_type": "stream",
     "text": [
      "WARNING:tensorflow:Unresolved object in checkpoint: (root).model.layer_with_weights-0._transformer_layers.3._cross_attention_layer._masked_softmax\n"
     ]
    },
    {
     "name": "stdout",
     "output_type": "stream",
     "text": [
      "WARNING:tensorflow:Unresolved object in checkpoint: (root).model.layer_with_weights-0._transformer_layers.3._cross_attention_layer._dropout\n"
     ]
    },
    {
     "name": "stderr",
     "output_type": "stream",
     "text": [
      "WARNING:tensorflow:Unresolved object in checkpoint: (root).model.layer_with_weights-0._transformer_layers.3._cross_attention_layer._dropout\n"
     ]
    },
    {
     "name": "stdout",
     "output_type": "stream",
     "text": [
      "WARNING:tensorflow:Unresolved object in checkpoint: (root).model.layer_with_weights-0._transformer_layers.3._cross_attention_output_dense.kernel\n"
     ]
    },
    {
     "name": "stderr",
     "output_type": "stream",
     "text": [
      "WARNING:tensorflow:Unresolved object in checkpoint: (root).model.layer_with_weights-0._transformer_layers.3._cross_attention_output_dense.kernel\n"
     ]
    },
    {
     "name": "stdout",
     "output_type": "stream",
     "text": [
      "WARNING:tensorflow:Unresolved object in checkpoint: (root).model.layer_with_weights-0._transformer_layers.3._cross_attention_output_dense.bias\n"
     ]
    },
    {
     "name": "stderr",
     "output_type": "stream",
     "text": [
      "WARNING:tensorflow:Unresolved object in checkpoint: (root).model.layer_with_weights-0._transformer_layers.3._cross_attention_output_dense.bias\n"
     ]
    },
    {
     "name": "stdout",
     "output_type": "stream",
     "text": [
      "WARNING:tensorflow:Unresolved object in checkpoint: (root).model.layer_with_weights-0._transformer_layers.3._cross_attention_layer_norm.axis\n"
     ]
    },
    {
     "name": "stderr",
     "output_type": "stream",
     "text": [
      "WARNING:tensorflow:Unresolved object in checkpoint: (root).model.layer_with_weights-0._transformer_layers.3._cross_attention_layer_norm.axis\n"
     ]
    },
    {
     "name": "stdout",
     "output_type": "stream",
     "text": [
      "WARNING:tensorflow:Unresolved object in checkpoint: (root).model.layer_with_weights-0._transformer_layers.3._cross_attention_layer_norm.gamma\n"
     ]
    },
    {
     "name": "stderr",
     "output_type": "stream",
     "text": [
      "WARNING:tensorflow:Unresolved object in checkpoint: (root).model.layer_with_weights-0._transformer_layers.3._cross_attention_layer_norm.gamma\n"
     ]
    },
    {
     "name": "stdout",
     "output_type": "stream",
     "text": [
      "WARNING:tensorflow:Unresolved object in checkpoint: (root).model.layer_with_weights-0._transformer_layers.3._cross_attention_layer_norm.beta\n"
     ]
    },
    {
     "name": "stderr",
     "output_type": "stream",
     "text": [
      "WARNING:tensorflow:Unresolved object in checkpoint: (root).model.layer_with_weights-0._transformer_layers.3._cross_attention_layer_norm.beta\n"
     ]
    },
    {
     "name": "stdout",
     "output_type": "stream",
     "text": [
      "WARNING:tensorflow:Unresolved object in checkpoint: (root).model.layer_with_weights-0._transformer_layers.4._cross_attention_layer._query_dense\n"
     ]
    },
    {
     "name": "stderr",
     "output_type": "stream",
     "text": [
      "WARNING:tensorflow:Unresolved object in checkpoint: (root).model.layer_with_weights-0._transformer_layers.4._cross_attention_layer._query_dense\n"
     ]
    },
    {
     "name": "stdout",
     "output_type": "stream",
     "text": [
      "WARNING:tensorflow:Unresolved object in checkpoint: (root).model.layer_with_weights-0._transformer_layers.4._cross_attention_layer._key_dense\n"
     ]
    },
    {
     "name": "stderr",
     "output_type": "stream",
     "text": [
      "WARNING:tensorflow:Unresolved object in checkpoint: (root).model.layer_with_weights-0._transformer_layers.4._cross_attention_layer._key_dense\n"
     ]
    },
    {
     "name": "stdout",
     "output_type": "stream",
     "text": [
      "WARNING:tensorflow:Unresolved object in checkpoint: (root).model.layer_with_weights-0._transformer_layers.4._cross_attention_layer._value_dense\n"
     ]
    },
    {
     "name": "stderr",
     "output_type": "stream",
     "text": [
      "WARNING:tensorflow:Unresolved object in checkpoint: (root).model.layer_with_weights-0._transformer_layers.4._cross_attention_layer._value_dense\n"
     ]
    },
    {
     "name": "stdout",
     "output_type": "stream",
     "text": [
      "WARNING:tensorflow:Unresolved object in checkpoint: (root).model.layer_with_weights-0._transformer_layers.4._cross_attention_layer._masked_softmax\n"
     ]
    },
    {
     "name": "stderr",
     "output_type": "stream",
     "text": [
      "WARNING:tensorflow:Unresolved object in checkpoint: (root).model.layer_with_weights-0._transformer_layers.4._cross_attention_layer._masked_softmax\n"
     ]
    },
    {
     "name": "stdout",
     "output_type": "stream",
     "text": [
      "WARNING:tensorflow:Unresolved object in checkpoint: (root).model.layer_with_weights-0._transformer_layers.4._cross_attention_layer._dropout\n"
     ]
    },
    {
     "name": "stderr",
     "output_type": "stream",
     "text": [
      "WARNING:tensorflow:Unresolved object in checkpoint: (root).model.layer_with_weights-0._transformer_layers.4._cross_attention_layer._dropout\n"
     ]
    },
    {
     "name": "stdout",
     "output_type": "stream",
     "text": [
      "WARNING:tensorflow:Unresolved object in checkpoint: (root).model.layer_with_weights-0._transformer_layers.4._cross_attention_output_dense.kernel\n"
     ]
    },
    {
     "name": "stderr",
     "output_type": "stream",
     "text": [
      "WARNING:tensorflow:Unresolved object in checkpoint: (root).model.layer_with_weights-0._transformer_layers.4._cross_attention_output_dense.kernel\n"
     ]
    },
    {
     "name": "stdout",
     "output_type": "stream",
     "text": [
      "WARNING:tensorflow:Unresolved object in checkpoint: (root).model.layer_with_weights-0._transformer_layers.4._cross_attention_output_dense.bias\n"
     ]
    },
    {
     "name": "stderr",
     "output_type": "stream",
     "text": [
      "WARNING:tensorflow:Unresolved object in checkpoint: (root).model.layer_with_weights-0._transformer_layers.4._cross_attention_output_dense.bias\n"
     ]
    },
    {
     "name": "stdout",
     "output_type": "stream",
     "text": [
      "WARNING:tensorflow:Unresolved object in checkpoint: (root).model.layer_with_weights-0._transformer_layers.4._cross_attention_layer_norm.axis\n"
     ]
    },
    {
     "name": "stderr",
     "output_type": "stream",
     "text": [
      "WARNING:tensorflow:Unresolved object in checkpoint: (root).model.layer_with_weights-0._transformer_layers.4._cross_attention_layer_norm.axis\n"
     ]
    },
    {
     "name": "stdout",
     "output_type": "stream",
     "text": [
      "WARNING:tensorflow:Unresolved object in checkpoint: (root).model.layer_with_weights-0._transformer_layers.4._cross_attention_layer_norm.gamma\n"
     ]
    },
    {
     "name": "stderr",
     "output_type": "stream",
     "text": [
      "WARNING:tensorflow:Unresolved object in checkpoint: (root).model.layer_with_weights-0._transformer_layers.4._cross_attention_layer_norm.gamma\n"
     ]
    },
    {
     "name": "stdout",
     "output_type": "stream",
     "text": [
      "WARNING:tensorflow:Unresolved object in checkpoint: (root).model.layer_with_weights-0._transformer_layers.4._cross_attention_layer_norm.beta\n"
     ]
    },
    {
     "name": "stderr",
     "output_type": "stream",
     "text": [
      "WARNING:tensorflow:Unresolved object in checkpoint: (root).model.layer_with_weights-0._transformer_layers.4._cross_attention_layer_norm.beta\n"
     ]
    },
    {
     "name": "stdout",
     "output_type": "stream",
     "text": [
      "WARNING:tensorflow:Unresolved object in checkpoint: (root).model.layer_with_weights-0._transformer_layers.5._cross_attention_layer._query_dense\n"
     ]
    },
    {
     "name": "stderr",
     "output_type": "stream",
     "text": [
      "WARNING:tensorflow:Unresolved object in checkpoint: (root).model.layer_with_weights-0._transformer_layers.5._cross_attention_layer._query_dense\n"
     ]
    },
    {
     "name": "stdout",
     "output_type": "stream",
     "text": [
      "WARNING:tensorflow:Unresolved object in checkpoint: (root).model.layer_with_weights-0._transformer_layers.5._cross_attention_layer._key_dense\n"
     ]
    },
    {
     "name": "stderr",
     "output_type": "stream",
     "text": [
      "WARNING:tensorflow:Unresolved object in checkpoint: (root).model.layer_with_weights-0._transformer_layers.5._cross_attention_layer._key_dense\n"
     ]
    },
    {
     "name": "stdout",
     "output_type": "stream",
     "text": [
      "WARNING:tensorflow:Unresolved object in checkpoint: (root).model.layer_with_weights-0._transformer_layers.5._cross_attention_layer._value_dense\n"
     ]
    },
    {
     "name": "stderr",
     "output_type": "stream",
     "text": [
      "WARNING:tensorflow:Unresolved object in checkpoint: (root).model.layer_with_weights-0._transformer_layers.5._cross_attention_layer._value_dense\n"
     ]
    },
    {
     "name": "stdout",
     "output_type": "stream",
     "text": [
      "WARNING:tensorflow:Unresolved object in checkpoint: (root).model.layer_with_weights-0._transformer_layers.5._cross_attention_layer._masked_softmax\n"
     ]
    },
    {
     "name": "stderr",
     "output_type": "stream",
     "text": [
      "WARNING:tensorflow:Unresolved object in checkpoint: (root).model.layer_with_weights-0._transformer_layers.5._cross_attention_layer._masked_softmax\n"
     ]
    },
    {
     "name": "stdout",
     "output_type": "stream",
     "text": [
      "WARNING:tensorflow:Unresolved object in checkpoint: (root).model.layer_with_weights-0._transformer_layers.5._cross_attention_layer._dropout\n"
     ]
    },
    {
     "name": "stderr",
     "output_type": "stream",
     "text": [
      "WARNING:tensorflow:Unresolved object in checkpoint: (root).model.layer_with_weights-0._transformer_layers.5._cross_attention_layer._dropout\n"
     ]
    },
    {
     "name": "stdout",
     "output_type": "stream",
     "text": [
      "WARNING:tensorflow:Unresolved object in checkpoint: (root).model.layer_with_weights-0._transformer_layers.5._cross_attention_output_dense.kernel\n"
     ]
    },
    {
     "name": "stderr",
     "output_type": "stream",
     "text": [
      "WARNING:tensorflow:Unresolved object in checkpoint: (root).model.layer_with_weights-0._transformer_layers.5._cross_attention_output_dense.kernel\n"
     ]
    },
    {
     "name": "stdout",
     "output_type": "stream",
     "text": [
      "WARNING:tensorflow:Unresolved object in checkpoint: (root).model.layer_with_weights-0._transformer_layers.5._cross_attention_output_dense.bias\n"
     ]
    },
    {
     "name": "stderr",
     "output_type": "stream",
     "text": [
      "WARNING:tensorflow:Unresolved object in checkpoint: (root).model.layer_with_weights-0._transformer_layers.5._cross_attention_output_dense.bias\n"
     ]
    },
    {
     "name": "stdout",
     "output_type": "stream",
     "text": [
      "WARNING:tensorflow:Unresolved object in checkpoint: (root).model.layer_with_weights-0._transformer_layers.5._cross_attention_layer_norm.axis\n"
     ]
    },
    {
     "name": "stderr",
     "output_type": "stream",
     "text": [
      "WARNING:tensorflow:Unresolved object in checkpoint: (root).model.layer_with_weights-0._transformer_layers.5._cross_attention_layer_norm.axis\n"
     ]
    },
    {
     "name": "stdout",
     "output_type": "stream",
     "text": [
      "WARNING:tensorflow:Unresolved object in checkpoint: (root).model.layer_with_weights-0._transformer_layers.5._cross_attention_layer_norm.gamma\n"
     ]
    },
    {
     "name": "stderr",
     "output_type": "stream",
     "text": [
      "WARNING:tensorflow:Unresolved object in checkpoint: (root).model.layer_with_weights-0._transformer_layers.5._cross_attention_layer_norm.gamma\n"
     ]
    },
    {
     "name": "stdout",
     "output_type": "stream",
     "text": [
      "WARNING:tensorflow:Unresolved object in checkpoint: (root).model.layer_with_weights-0._transformer_layers.5._cross_attention_layer_norm.beta\n"
     ]
    },
    {
     "name": "stderr",
     "output_type": "stream",
     "text": [
      "WARNING:tensorflow:Unresolved object in checkpoint: (root).model.layer_with_weights-0._transformer_layers.5._cross_attention_layer_norm.beta\n"
     ]
    },
    {
     "name": "stdout",
     "output_type": "stream",
     "text": [
      "WARNING:tensorflow:Unresolved object in checkpoint: (root).model.layer_with_weights-0._transformer_layers.6._cross_attention_layer._query_dense\n"
     ]
    },
    {
     "name": "stderr",
     "output_type": "stream",
     "text": [
      "WARNING:tensorflow:Unresolved object in checkpoint: (root).model.layer_with_weights-0._transformer_layers.6._cross_attention_layer._query_dense\n"
     ]
    },
    {
     "name": "stdout",
     "output_type": "stream",
     "text": [
      "WARNING:tensorflow:Unresolved object in checkpoint: (root).model.layer_with_weights-0._transformer_layers.6._cross_attention_layer._key_dense\n"
     ]
    },
    {
     "name": "stderr",
     "output_type": "stream",
     "text": [
      "WARNING:tensorflow:Unresolved object in checkpoint: (root).model.layer_with_weights-0._transformer_layers.6._cross_attention_layer._key_dense\n"
     ]
    },
    {
     "name": "stdout",
     "output_type": "stream",
     "text": [
      "WARNING:tensorflow:Unresolved object in checkpoint: (root).model.layer_with_weights-0._transformer_layers.6._cross_attention_layer._value_dense\n"
     ]
    },
    {
     "name": "stderr",
     "output_type": "stream",
     "text": [
      "WARNING:tensorflow:Unresolved object in checkpoint: (root).model.layer_with_weights-0._transformer_layers.6._cross_attention_layer._value_dense\n"
     ]
    },
    {
     "name": "stdout",
     "output_type": "stream",
     "text": [
      "WARNING:tensorflow:Unresolved object in checkpoint: (root).model.layer_with_weights-0._transformer_layers.6._cross_attention_layer._masked_softmax\n"
     ]
    },
    {
     "name": "stderr",
     "output_type": "stream",
     "text": [
      "WARNING:tensorflow:Unresolved object in checkpoint: (root).model.layer_with_weights-0._transformer_layers.6._cross_attention_layer._masked_softmax\n"
     ]
    },
    {
     "name": "stdout",
     "output_type": "stream",
     "text": [
      "WARNING:tensorflow:Unresolved object in checkpoint: (root).model.layer_with_weights-0._transformer_layers.6._cross_attention_layer._dropout\n"
     ]
    },
    {
     "name": "stderr",
     "output_type": "stream",
     "text": [
      "WARNING:tensorflow:Unresolved object in checkpoint: (root).model.layer_with_weights-0._transformer_layers.6._cross_attention_layer._dropout\n"
     ]
    },
    {
     "name": "stdout",
     "output_type": "stream",
     "text": [
      "WARNING:tensorflow:Unresolved object in checkpoint: (root).model.layer_with_weights-0._transformer_layers.6._cross_attention_output_dense.kernel\n"
     ]
    },
    {
     "name": "stderr",
     "output_type": "stream",
     "text": [
      "WARNING:tensorflow:Unresolved object in checkpoint: (root).model.layer_with_weights-0._transformer_layers.6._cross_attention_output_dense.kernel\n"
     ]
    },
    {
     "name": "stdout",
     "output_type": "stream",
     "text": [
      "WARNING:tensorflow:Unresolved object in checkpoint: (root).model.layer_with_weights-0._transformer_layers.6._cross_attention_output_dense.bias\n"
     ]
    },
    {
     "name": "stderr",
     "output_type": "stream",
     "text": [
      "WARNING:tensorflow:Unresolved object in checkpoint: (root).model.layer_with_weights-0._transformer_layers.6._cross_attention_output_dense.bias\n"
     ]
    },
    {
     "name": "stdout",
     "output_type": "stream",
     "text": [
      "WARNING:tensorflow:Unresolved object in checkpoint: (root).model.layer_with_weights-0._transformer_layers.6._cross_attention_layer_norm.axis\n"
     ]
    },
    {
     "name": "stderr",
     "output_type": "stream",
     "text": [
      "WARNING:tensorflow:Unresolved object in checkpoint: (root).model.layer_with_weights-0._transformer_layers.6._cross_attention_layer_norm.axis\n"
     ]
    },
    {
     "name": "stdout",
     "output_type": "stream",
     "text": [
      "WARNING:tensorflow:Unresolved object in checkpoint: (root).model.layer_with_weights-0._transformer_layers.6._cross_attention_layer_norm.gamma\n"
     ]
    },
    {
     "name": "stderr",
     "output_type": "stream",
     "text": [
      "WARNING:tensorflow:Unresolved object in checkpoint: (root).model.layer_with_weights-0._transformer_layers.6._cross_attention_layer_norm.gamma\n"
     ]
    },
    {
     "name": "stdout",
     "output_type": "stream",
     "text": [
      "WARNING:tensorflow:Unresolved object in checkpoint: (root).model.layer_with_weights-0._transformer_layers.6._cross_attention_layer_norm.beta\n"
     ]
    },
    {
     "name": "stderr",
     "output_type": "stream",
     "text": [
      "WARNING:tensorflow:Unresolved object in checkpoint: (root).model.layer_with_weights-0._transformer_layers.6._cross_attention_layer_norm.beta\n"
     ]
    },
    {
     "name": "stdout",
     "output_type": "stream",
     "text": [
      "WARNING:tensorflow:Unresolved object in checkpoint: (root).model.layer_with_weights-0._transformer_layers.7._cross_attention_layer._query_dense\n"
     ]
    },
    {
     "name": "stderr",
     "output_type": "stream",
     "text": [
      "WARNING:tensorflow:Unresolved object in checkpoint: (root).model.layer_with_weights-0._transformer_layers.7._cross_attention_layer._query_dense\n"
     ]
    },
    {
     "name": "stdout",
     "output_type": "stream",
     "text": [
      "WARNING:tensorflow:Unresolved object in checkpoint: (root).model.layer_with_weights-0._transformer_layers.7._cross_attention_layer._key_dense\n"
     ]
    },
    {
     "name": "stderr",
     "output_type": "stream",
     "text": [
      "WARNING:tensorflow:Unresolved object in checkpoint: (root).model.layer_with_weights-0._transformer_layers.7._cross_attention_layer._key_dense\n"
     ]
    },
    {
     "name": "stdout",
     "output_type": "stream",
     "text": [
      "WARNING:tensorflow:Unresolved object in checkpoint: (root).model.layer_with_weights-0._transformer_layers.7._cross_attention_layer._value_dense\n"
     ]
    },
    {
     "name": "stderr",
     "output_type": "stream",
     "text": [
      "WARNING:tensorflow:Unresolved object in checkpoint: (root).model.layer_with_weights-0._transformer_layers.7._cross_attention_layer._value_dense\n"
     ]
    },
    {
     "name": "stdout",
     "output_type": "stream",
     "text": [
      "WARNING:tensorflow:Unresolved object in checkpoint: (root).model.layer_with_weights-0._transformer_layers.7._cross_attention_layer._masked_softmax\n"
     ]
    },
    {
     "name": "stderr",
     "output_type": "stream",
     "text": [
      "WARNING:tensorflow:Unresolved object in checkpoint: (root).model.layer_with_weights-0._transformer_layers.7._cross_attention_layer._masked_softmax\n"
     ]
    },
    {
     "name": "stdout",
     "output_type": "stream",
     "text": [
      "WARNING:tensorflow:Unresolved object in checkpoint: (root).model.layer_with_weights-0._transformer_layers.7._cross_attention_layer._dropout\n"
     ]
    },
    {
     "name": "stderr",
     "output_type": "stream",
     "text": [
      "WARNING:tensorflow:Unresolved object in checkpoint: (root).model.layer_with_weights-0._transformer_layers.7._cross_attention_layer._dropout\n"
     ]
    },
    {
     "name": "stdout",
     "output_type": "stream",
     "text": [
      "WARNING:tensorflow:Unresolved object in checkpoint: (root).model.layer_with_weights-0._transformer_layers.7._cross_attention_output_dense.kernel\n"
     ]
    },
    {
     "name": "stderr",
     "output_type": "stream",
     "text": [
      "WARNING:tensorflow:Unresolved object in checkpoint: (root).model.layer_with_weights-0._transformer_layers.7._cross_attention_output_dense.kernel\n"
     ]
    },
    {
     "name": "stdout",
     "output_type": "stream",
     "text": [
      "WARNING:tensorflow:Unresolved object in checkpoint: (root).model.layer_with_weights-0._transformer_layers.7._cross_attention_output_dense.bias\n"
     ]
    },
    {
     "name": "stderr",
     "output_type": "stream",
     "text": [
      "WARNING:tensorflow:Unresolved object in checkpoint: (root).model.layer_with_weights-0._transformer_layers.7._cross_attention_output_dense.bias\n"
     ]
    },
    {
     "name": "stdout",
     "output_type": "stream",
     "text": [
      "WARNING:tensorflow:Unresolved object in checkpoint: (root).model.layer_with_weights-0._transformer_layers.7._cross_attention_layer_norm.axis\n"
     ]
    },
    {
     "name": "stderr",
     "output_type": "stream",
     "text": [
      "WARNING:tensorflow:Unresolved object in checkpoint: (root).model.layer_with_weights-0._transformer_layers.7._cross_attention_layer_norm.axis\n"
     ]
    },
    {
     "name": "stdout",
     "output_type": "stream",
     "text": [
      "WARNING:tensorflow:Unresolved object in checkpoint: (root).model.layer_with_weights-0._transformer_layers.7._cross_attention_layer_norm.gamma\n"
     ]
    },
    {
     "name": "stderr",
     "output_type": "stream",
     "text": [
      "WARNING:tensorflow:Unresolved object in checkpoint: (root).model.layer_with_weights-0._transformer_layers.7._cross_attention_layer_norm.gamma\n"
     ]
    },
    {
     "name": "stdout",
     "output_type": "stream",
     "text": [
      "WARNING:tensorflow:Unresolved object in checkpoint: (root).model.layer_with_weights-0._transformer_layers.7._cross_attention_layer_norm.beta\n"
     ]
    },
    {
     "name": "stderr",
     "output_type": "stream",
     "text": [
      "WARNING:tensorflow:Unresolved object in checkpoint: (root).model.layer_with_weights-0._transformer_layers.7._cross_attention_layer_norm.beta\n"
     ]
    },
    {
     "name": "stdout",
     "output_type": "stream",
     "text": [
      "WARNING:tensorflow:Unresolved object in checkpoint: (root).model.layer_with_weights-0._transformer_layers.8._cross_attention_layer._query_dense\n"
     ]
    },
    {
     "name": "stderr",
     "output_type": "stream",
     "text": [
      "WARNING:tensorflow:Unresolved object in checkpoint: (root).model.layer_with_weights-0._transformer_layers.8._cross_attention_layer._query_dense\n"
     ]
    },
    {
     "name": "stdout",
     "output_type": "stream",
     "text": [
      "WARNING:tensorflow:Unresolved object in checkpoint: (root).model.layer_with_weights-0._transformer_layers.8._cross_attention_layer._key_dense\n"
     ]
    },
    {
     "name": "stderr",
     "output_type": "stream",
     "text": [
      "WARNING:tensorflow:Unresolved object in checkpoint: (root).model.layer_with_weights-0._transformer_layers.8._cross_attention_layer._key_dense\n"
     ]
    },
    {
     "name": "stdout",
     "output_type": "stream",
     "text": [
      "WARNING:tensorflow:Unresolved object in checkpoint: (root).model.layer_with_weights-0._transformer_layers.8._cross_attention_layer._value_dense\n"
     ]
    },
    {
     "name": "stderr",
     "output_type": "stream",
     "text": [
      "WARNING:tensorflow:Unresolved object in checkpoint: (root).model.layer_with_weights-0._transformer_layers.8._cross_attention_layer._value_dense\n"
     ]
    },
    {
     "name": "stdout",
     "output_type": "stream",
     "text": [
      "WARNING:tensorflow:Unresolved object in checkpoint: (root).model.layer_with_weights-0._transformer_layers.8._cross_attention_layer._masked_softmax\n"
     ]
    },
    {
     "name": "stderr",
     "output_type": "stream",
     "text": [
      "WARNING:tensorflow:Unresolved object in checkpoint: (root).model.layer_with_weights-0._transformer_layers.8._cross_attention_layer._masked_softmax\n"
     ]
    },
    {
     "name": "stdout",
     "output_type": "stream",
     "text": [
      "WARNING:tensorflow:Unresolved object in checkpoint: (root).model.layer_with_weights-0._transformer_layers.8._cross_attention_layer._dropout\n"
     ]
    },
    {
     "name": "stderr",
     "output_type": "stream",
     "text": [
      "WARNING:tensorflow:Unresolved object in checkpoint: (root).model.layer_with_weights-0._transformer_layers.8._cross_attention_layer._dropout\n"
     ]
    },
    {
     "name": "stdout",
     "output_type": "stream",
     "text": [
      "WARNING:tensorflow:Unresolved object in checkpoint: (root).model.layer_with_weights-0._transformer_layers.8._cross_attention_output_dense.kernel\n"
     ]
    },
    {
     "name": "stderr",
     "output_type": "stream",
     "text": [
      "WARNING:tensorflow:Unresolved object in checkpoint: (root).model.layer_with_weights-0._transformer_layers.8._cross_attention_output_dense.kernel\n"
     ]
    },
    {
     "name": "stdout",
     "output_type": "stream",
     "text": [
      "WARNING:tensorflow:Unresolved object in checkpoint: (root).model.layer_with_weights-0._transformer_layers.8._cross_attention_output_dense.bias\n"
     ]
    },
    {
     "name": "stderr",
     "output_type": "stream",
     "text": [
      "WARNING:tensorflow:Unresolved object in checkpoint: (root).model.layer_with_weights-0._transformer_layers.8._cross_attention_output_dense.bias\n"
     ]
    },
    {
     "name": "stdout",
     "output_type": "stream",
     "text": [
      "WARNING:tensorflow:Unresolved object in checkpoint: (root).model.layer_with_weights-0._transformer_layers.8._cross_attention_layer_norm.axis\n"
     ]
    },
    {
     "name": "stderr",
     "output_type": "stream",
     "text": [
      "WARNING:tensorflow:Unresolved object in checkpoint: (root).model.layer_with_weights-0._transformer_layers.8._cross_attention_layer_norm.axis\n"
     ]
    },
    {
     "name": "stdout",
     "output_type": "stream",
     "text": [
      "WARNING:tensorflow:Unresolved object in checkpoint: (root).model.layer_with_weights-0._transformer_layers.8._cross_attention_layer_norm.gamma\n"
     ]
    },
    {
     "name": "stderr",
     "output_type": "stream",
     "text": [
      "WARNING:tensorflow:Unresolved object in checkpoint: (root).model.layer_with_weights-0._transformer_layers.8._cross_attention_layer_norm.gamma\n"
     ]
    },
    {
     "name": "stdout",
     "output_type": "stream",
     "text": [
      "WARNING:tensorflow:Unresolved object in checkpoint: (root).model.layer_with_weights-0._transformer_layers.8._cross_attention_layer_norm.beta\n"
     ]
    },
    {
     "name": "stderr",
     "output_type": "stream",
     "text": [
      "WARNING:tensorflow:Unresolved object in checkpoint: (root).model.layer_with_weights-0._transformer_layers.8._cross_attention_layer_norm.beta\n"
     ]
    },
    {
     "name": "stdout",
     "output_type": "stream",
     "text": [
      "WARNING:tensorflow:Unresolved object in checkpoint: (root).model.layer_with_weights-0._transformer_layers.9._cross_attention_layer._query_dense\n"
     ]
    },
    {
     "name": "stderr",
     "output_type": "stream",
     "text": [
      "WARNING:tensorflow:Unresolved object in checkpoint: (root).model.layer_with_weights-0._transformer_layers.9._cross_attention_layer._query_dense\n"
     ]
    },
    {
     "name": "stdout",
     "output_type": "stream",
     "text": [
      "WARNING:tensorflow:Unresolved object in checkpoint: (root).model.layer_with_weights-0._transformer_layers.9._cross_attention_layer._key_dense\n"
     ]
    },
    {
     "name": "stderr",
     "output_type": "stream",
     "text": [
      "WARNING:tensorflow:Unresolved object in checkpoint: (root).model.layer_with_weights-0._transformer_layers.9._cross_attention_layer._key_dense\n"
     ]
    },
    {
     "name": "stdout",
     "output_type": "stream",
     "text": [
      "WARNING:tensorflow:Unresolved object in checkpoint: (root).model.layer_with_weights-0._transformer_layers.9._cross_attention_layer._value_dense\n"
     ]
    },
    {
     "name": "stderr",
     "output_type": "stream",
     "text": [
      "WARNING:tensorflow:Unresolved object in checkpoint: (root).model.layer_with_weights-0._transformer_layers.9._cross_attention_layer._value_dense\n"
     ]
    },
    {
     "name": "stdout",
     "output_type": "stream",
     "text": [
      "WARNING:tensorflow:Unresolved object in checkpoint: (root).model.layer_with_weights-0._transformer_layers.9._cross_attention_layer._masked_softmax\n"
     ]
    },
    {
     "name": "stderr",
     "output_type": "stream",
     "text": [
      "WARNING:tensorflow:Unresolved object in checkpoint: (root).model.layer_with_weights-0._transformer_layers.9._cross_attention_layer._masked_softmax\n"
     ]
    },
    {
     "name": "stdout",
     "output_type": "stream",
     "text": [
      "WARNING:tensorflow:Unresolved object in checkpoint: (root).model.layer_with_weights-0._transformer_layers.9._cross_attention_layer._dropout\n"
     ]
    },
    {
     "name": "stderr",
     "output_type": "stream",
     "text": [
      "WARNING:tensorflow:Unresolved object in checkpoint: (root).model.layer_with_weights-0._transformer_layers.9._cross_attention_layer._dropout\n"
     ]
    },
    {
     "name": "stdout",
     "output_type": "stream",
     "text": [
      "WARNING:tensorflow:Unresolved object in checkpoint: (root).model.layer_with_weights-0._transformer_layers.9._cross_attention_output_dense.kernel\n"
     ]
    },
    {
     "name": "stderr",
     "output_type": "stream",
     "text": [
      "WARNING:tensorflow:Unresolved object in checkpoint: (root).model.layer_with_weights-0._transformer_layers.9._cross_attention_output_dense.kernel\n"
     ]
    },
    {
     "name": "stdout",
     "output_type": "stream",
     "text": [
      "WARNING:tensorflow:Unresolved object in checkpoint: (root).model.layer_with_weights-0._transformer_layers.9._cross_attention_output_dense.bias\n"
     ]
    },
    {
     "name": "stderr",
     "output_type": "stream",
     "text": [
      "WARNING:tensorflow:Unresolved object in checkpoint: (root).model.layer_with_weights-0._transformer_layers.9._cross_attention_output_dense.bias\n"
     ]
    },
    {
     "name": "stdout",
     "output_type": "stream",
     "text": [
      "WARNING:tensorflow:Unresolved object in checkpoint: (root).model.layer_with_weights-0._transformer_layers.9._cross_attention_layer_norm.axis\n"
     ]
    },
    {
     "name": "stderr",
     "output_type": "stream",
     "text": [
      "WARNING:tensorflow:Unresolved object in checkpoint: (root).model.layer_with_weights-0._transformer_layers.9._cross_attention_layer_norm.axis\n"
     ]
    },
    {
     "name": "stdout",
     "output_type": "stream",
     "text": [
      "WARNING:tensorflow:Unresolved object in checkpoint: (root).model.layer_with_weights-0._transformer_layers.9._cross_attention_layer_norm.gamma\n"
     ]
    },
    {
     "name": "stderr",
     "output_type": "stream",
     "text": [
      "WARNING:tensorflow:Unresolved object in checkpoint: (root).model.layer_with_weights-0._transformer_layers.9._cross_attention_layer_norm.gamma\n"
     ]
    },
    {
     "name": "stdout",
     "output_type": "stream",
     "text": [
      "WARNING:tensorflow:Unresolved object in checkpoint: (root).model.layer_with_weights-0._transformer_layers.9._cross_attention_layer_norm.beta\n"
     ]
    },
    {
     "name": "stderr",
     "output_type": "stream",
     "text": [
      "WARNING:tensorflow:Unresolved object in checkpoint: (root).model.layer_with_weights-0._transformer_layers.9._cross_attention_layer_norm.beta\n"
     ]
    },
    {
     "name": "stdout",
     "output_type": "stream",
     "text": [
      "WARNING:tensorflow:Unresolved object in checkpoint: (root).model.layer_with_weights-0._transformer_layers.10._cross_attention_layer._query_dense\n"
     ]
    },
    {
     "name": "stderr",
     "output_type": "stream",
     "text": [
      "WARNING:tensorflow:Unresolved object in checkpoint: (root).model.layer_with_weights-0._transformer_layers.10._cross_attention_layer._query_dense\n"
     ]
    },
    {
     "name": "stdout",
     "output_type": "stream",
     "text": [
      "WARNING:tensorflow:Unresolved object in checkpoint: (root).model.layer_with_weights-0._transformer_layers.10._cross_attention_layer._key_dense\n"
     ]
    },
    {
     "name": "stderr",
     "output_type": "stream",
     "text": [
      "WARNING:tensorflow:Unresolved object in checkpoint: (root).model.layer_with_weights-0._transformer_layers.10._cross_attention_layer._key_dense\n"
     ]
    },
    {
     "name": "stdout",
     "output_type": "stream",
     "text": [
      "WARNING:tensorflow:Unresolved object in checkpoint: (root).model.layer_with_weights-0._transformer_layers.10._cross_attention_layer._value_dense\n"
     ]
    },
    {
     "name": "stderr",
     "output_type": "stream",
     "text": [
      "WARNING:tensorflow:Unresolved object in checkpoint: (root).model.layer_with_weights-0._transformer_layers.10._cross_attention_layer._value_dense\n"
     ]
    },
    {
     "name": "stdout",
     "output_type": "stream",
     "text": [
      "WARNING:tensorflow:Unresolved object in checkpoint: (root).model.layer_with_weights-0._transformer_layers.10._cross_attention_layer._masked_softmax\n"
     ]
    },
    {
     "name": "stderr",
     "output_type": "stream",
     "text": [
      "WARNING:tensorflow:Unresolved object in checkpoint: (root).model.layer_with_weights-0._transformer_layers.10._cross_attention_layer._masked_softmax\n"
     ]
    },
    {
     "name": "stdout",
     "output_type": "stream",
     "text": [
      "WARNING:tensorflow:Unresolved object in checkpoint: (root).model.layer_with_weights-0._transformer_layers.10._cross_attention_layer._dropout\n"
     ]
    },
    {
     "name": "stderr",
     "output_type": "stream",
     "text": [
      "WARNING:tensorflow:Unresolved object in checkpoint: (root).model.layer_with_weights-0._transformer_layers.10._cross_attention_layer._dropout\n"
     ]
    },
    {
     "name": "stdout",
     "output_type": "stream",
     "text": [
      "WARNING:tensorflow:Unresolved object in checkpoint: (root).model.layer_with_weights-0._transformer_layers.10._cross_attention_output_dense.kernel\n"
     ]
    },
    {
     "name": "stderr",
     "output_type": "stream",
     "text": [
      "WARNING:tensorflow:Unresolved object in checkpoint: (root).model.layer_with_weights-0._transformer_layers.10._cross_attention_output_dense.kernel\n"
     ]
    },
    {
     "name": "stdout",
     "output_type": "stream",
     "text": [
      "WARNING:tensorflow:Unresolved object in checkpoint: (root).model.layer_with_weights-0._transformer_layers.10._cross_attention_output_dense.bias\n"
     ]
    },
    {
     "name": "stderr",
     "output_type": "stream",
     "text": [
      "WARNING:tensorflow:Unresolved object in checkpoint: (root).model.layer_with_weights-0._transformer_layers.10._cross_attention_output_dense.bias\n"
     ]
    },
    {
     "name": "stdout",
     "output_type": "stream",
     "text": [
      "WARNING:tensorflow:Unresolved object in checkpoint: (root).model.layer_with_weights-0._transformer_layers.10._cross_attention_layer_norm.axis\n"
     ]
    },
    {
     "name": "stderr",
     "output_type": "stream",
     "text": [
      "WARNING:tensorflow:Unresolved object in checkpoint: (root).model.layer_with_weights-0._transformer_layers.10._cross_attention_layer_norm.axis\n"
     ]
    },
    {
     "name": "stdout",
     "output_type": "stream",
     "text": [
      "WARNING:tensorflow:Unresolved object in checkpoint: (root).model.layer_with_weights-0._transformer_layers.10._cross_attention_layer_norm.gamma\n"
     ]
    },
    {
     "name": "stderr",
     "output_type": "stream",
     "text": [
      "WARNING:tensorflow:Unresolved object in checkpoint: (root).model.layer_with_weights-0._transformer_layers.10._cross_attention_layer_norm.gamma\n"
     ]
    },
    {
     "name": "stdout",
     "output_type": "stream",
     "text": [
      "WARNING:tensorflow:Unresolved object in checkpoint: (root).model.layer_with_weights-0._transformer_layers.10._cross_attention_layer_norm.beta\n"
     ]
    },
    {
     "name": "stderr",
     "output_type": "stream",
     "text": [
      "WARNING:tensorflow:Unresolved object in checkpoint: (root).model.layer_with_weights-0._transformer_layers.10._cross_attention_layer_norm.beta\n"
     ]
    },
    {
     "name": "stdout",
     "output_type": "stream",
     "text": [
      "WARNING:tensorflow:Unresolved object in checkpoint: (root).model.layer_with_weights-0._transformer_layers.11._cross_attention_layer._query_dense\n"
     ]
    },
    {
     "name": "stderr",
     "output_type": "stream",
     "text": [
      "WARNING:tensorflow:Unresolved object in checkpoint: (root).model.layer_with_weights-0._transformer_layers.11._cross_attention_layer._query_dense\n"
     ]
    },
    {
     "name": "stdout",
     "output_type": "stream",
     "text": [
      "WARNING:tensorflow:Unresolved object in checkpoint: (root).model.layer_with_weights-0._transformer_layers.11._cross_attention_layer._key_dense\n"
     ]
    },
    {
     "name": "stderr",
     "output_type": "stream",
     "text": [
      "WARNING:tensorflow:Unresolved object in checkpoint: (root).model.layer_with_weights-0._transformer_layers.11._cross_attention_layer._key_dense\n"
     ]
    },
    {
     "name": "stdout",
     "output_type": "stream",
     "text": [
      "WARNING:tensorflow:Unresolved object in checkpoint: (root).model.layer_with_weights-0._transformer_layers.11._cross_attention_layer._value_dense\n"
     ]
    },
    {
     "name": "stderr",
     "output_type": "stream",
     "text": [
      "WARNING:tensorflow:Unresolved object in checkpoint: (root).model.layer_with_weights-0._transformer_layers.11._cross_attention_layer._value_dense\n"
     ]
    },
    {
     "name": "stdout",
     "output_type": "stream",
     "text": [
      "WARNING:tensorflow:Unresolved object in checkpoint: (root).model.layer_with_weights-0._transformer_layers.11._cross_attention_layer._masked_softmax\n"
     ]
    },
    {
     "name": "stderr",
     "output_type": "stream",
     "text": [
      "WARNING:tensorflow:Unresolved object in checkpoint: (root).model.layer_with_weights-0._transformer_layers.11._cross_attention_layer._masked_softmax\n"
     ]
    },
    {
     "name": "stdout",
     "output_type": "stream",
     "text": [
      "WARNING:tensorflow:Unresolved object in checkpoint: (root).model.layer_with_weights-0._transformer_layers.11._cross_attention_layer._dropout\n"
     ]
    },
    {
     "name": "stderr",
     "output_type": "stream",
     "text": [
      "WARNING:tensorflow:Unresolved object in checkpoint: (root).model.layer_with_weights-0._transformer_layers.11._cross_attention_layer._dropout\n"
     ]
    },
    {
     "name": "stdout",
     "output_type": "stream",
     "text": [
      "WARNING:tensorflow:Unresolved object in checkpoint: (root).model.layer_with_weights-0._transformer_layers.11._cross_attention_output_dense.kernel\n"
     ]
    },
    {
     "name": "stderr",
     "output_type": "stream",
     "text": [
      "WARNING:tensorflow:Unresolved object in checkpoint: (root).model.layer_with_weights-0._transformer_layers.11._cross_attention_output_dense.kernel\n"
     ]
    },
    {
     "name": "stdout",
     "output_type": "stream",
     "text": [
      "WARNING:tensorflow:Unresolved object in checkpoint: (root).model.layer_with_weights-0._transformer_layers.11._cross_attention_output_dense.bias\n"
     ]
    },
    {
     "name": "stderr",
     "output_type": "stream",
     "text": [
      "WARNING:tensorflow:Unresolved object in checkpoint: (root).model.layer_with_weights-0._transformer_layers.11._cross_attention_output_dense.bias\n"
     ]
    },
    {
     "name": "stdout",
     "output_type": "stream",
     "text": [
      "WARNING:tensorflow:Unresolved object in checkpoint: (root).model.layer_with_weights-0._transformer_layers.11._cross_attention_layer_norm.axis\n"
     ]
    },
    {
     "name": "stderr",
     "output_type": "stream",
     "text": [
      "WARNING:tensorflow:Unresolved object in checkpoint: (root).model.layer_with_weights-0._transformer_layers.11._cross_attention_layer_norm.axis\n"
     ]
    },
    {
     "name": "stdout",
     "output_type": "stream",
     "text": [
      "WARNING:tensorflow:Unresolved object in checkpoint: (root).model.layer_with_weights-0._transformer_layers.11._cross_attention_layer_norm.gamma\n"
     ]
    },
    {
     "name": "stderr",
     "output_type": "stream",
     "text": [
      "WARNING:tensorflow:Unresolved object in checkpoint: (root).model.layer_with_weights-0._transformer_layers.11._cross_attention_layer_norm.gamma\n"
     ]
    },
    {
     "name": "stdout",
     "output_type": "stream",
     "text": [
      "WARNING:tensorflow:Unresolved object in checkpoint: (root).model.layer_with_weights-0._transformer_layers.11._cross_attention_layer_norm.beta\n"
     ]
    },
    {
     "name": "stderr",
     "output_type": "stream",
     "text": [
      "WARNING:tensorflow:Unresolved object in checkpoint: (root).model.layer_with_weights-0._transformer_layers.11._cross_attention_layer_norm.beta\n"
     ]
    },
    {
     "name": "stdout",
     "output_type": "stream",
     "text": [
      "WARNING:tensorflow:Unresolved object in checkpoint: (root).model.layer_with_weights-0._transformer_layers.0._cross_attention_layer._query_dense.kernel\n"
     ]
    },
    {
     "name": "stderr",
     "output_type": "stream",
     "text": [
      "WARNING:tensorflow:Unresolved object in checkpoint: (root).model.layer_with_weights-0._transformer_layers.0._cross_attention_layer._query_dense.kernel\n"
     ]
    },
    {
     "name": "stdout",
     "output_type": "stream",
     "text": [
      "WARNING:tensorflow:Unresolved object in checkpoint: (root).model.layer_with_weights-0._transformer_layers.0._cross_attention_layer._query_dense.bias\n"
     ]
    },
    {
     "name": "stderr",
     "output_type": "stream",
     "text": [
      "WARNING:tensorflow:Unresolved object in checkpoint: (root).model.layer_with_weights-0._transformer_layers.0._cross_attention_layer._query_dense.bias\n"
     ]
    },
    {
     "name": "stdout",
     "output_type": "stream",
     "text": [
      "WARNING:tensorflow:Unresolved object in checkpoint: (root).model.layer_with_weights-0._transformer_layers.0._cross_attention_layer._key_dense.kernel\n"
     ]
    },
    {
     "name": "stderr",
     "output_type": "stream",
     "text": [
      "WARNING:tensorflow:Unresolved object in checkpoint: (root).model.layer_with_weights-0._transformer_layers.0._cross_attention_layer._key_dense.kernel\n"
     ]
    },
    {
     "name": "stdout",
     "output_type": "stream",
     "text": [
      "WARNING:tensorflow:Unresolved object in checkpoint: (root).model.layer_with_weights-0._transformer_layers.0._cross_attention_layer._key_dense.bias\n"
     ]
    },
    {
     "name": "stderr",
     "output_type": "stream",
     "text": [
      "WARNING:tensorflow:Unresolved object in checkpoint: (root).model.layer_with_weights-0._transformer_layers.0._cross_attention_layer._key_dense.bias\n"
     ]
    },
    {
     "name": "stdout",
     "output_type": "stream",
     "text": [
      "WARNING:tensorflow:Unresolved object in checkpoint: (root).model.layer_with_weights-0._transformer_layers.0._cross_attention_layer._value_dense.kernel\n"
     ]
    },
    {
     "name": "stderr",
     "output_type": "stream",
     "text": [
      "WARNING:tensorflow:Unresolved object in checkpoint: (root).model.layer_with_weights-0._transformer_layers.0._cross_attention_layer._value_dense.kernel\n"
     ]
    },
    {
     "name": "stdout",
     "output_type": "stream",
     "text": [
      "WARNING:tensorflow:Unresolved object in checkpoint: (root).model.layer_with_weights-0._transformer_layers.0._cross_attention_layer._value_dense.bias\n"
     ]
    },
    {
     "name": "stderr",
     "output_type": "stream",
     "text": [
      "WARNING:tensorflow:Unresolved object in checkpoint: (root).model.layer_with_weights-0._transformer_layers.0._cross_attention_layer._value_dense.bias\n"
     ]
    },
    {
     "name": "stdout",
     "output_type": "stream",
     "text": [
      "WARNING:tensorflow:Unresolved object in checkpoint: (root).model.layer_with_weights-0._transformer_layers.0._cross_attention_layer._masked_softmax._mask_expansion_axes\n"
     ]
    },
    {
     "name": "stderr",
     "output_type": "stream",
     "text": [
      "WARNING:tensorflow:Unresolved object in checkpoint: (root).model.layer_with_weights-0._transformer_layers.0._cross_attention_layer._masked_softmax._mask_expansion_axes\n"
     ]
    },
    {
     "name": "stdout",
     "output_type": "stream",
     "text": [
      "WARNING:tensorflow:Unresolved object in checkpoint: (root).model.layer_with_weights-0._transformer_layers.1._cross_attention_layer._query_dense.kernel\n"
     ]
    },
    {
     "name": "stderr",
     "output_type": "stream",
     "text": [
      "WARNING:tensorflow:Unresolved object in checkpoint: (root).model.layer_with_weights-0._transformer_layers.1._cross_attention_layer._query_dense.kernel\n"
     ]
    },
    {
     "name": "stdout",
     "output_type": "stream",
     "text": [
      "WARNING:tensorflow:Unresolved object in checkpoint: (root).model.layer_with_weights-0._transformer_layers.1._cross_attention_layer._query_dense.bias\n"
     ]
    },
    {
     "name": "stderr",
     "output_type": "stream",
     "text": [
      "WARNING:tensorflow:Unresolved object in checkpoint: (root).model.layer_with_weights-0._transformer_layers.1._cross_attention_layer._query_dense.bias\n"
     ]
    },
    {
     "name": "stdout",
     "output_type": "stream",
     "text": [
      "WARNING:tensorflow:Unresolved object in checkpoint: (root).model.layer_with_weights-0._transformer_layers.1._cross_attention_layer._key_dense.kernel\n"
     ]
    },
    {
     "name": "stderr",
     "output_type": "stream",
     "text": [
      "WARNING:tensorflow:Unresolved object in checkpoint: (root).model.layer_with_weights-0._transformer_layers.1._cross_attention_layer._key_dense.kernel\n"
     ]
    },
    {
     "name": "stdout",
     "output_type": "stream",
     "text": [
      "WARNING:tensorflow:Unresolved object in checkpoint: (root).model.layer_with_weights-0._transformer_layers.1._cross_attention_layer._key_dense.bias\n"
     ]
    },
    {
     "name": "stderr",
     "output_type": "stream",
     "text": [
      "WARNING:tensorflow:Unresolved object in checkpoint: (root).model.layer_with_weights-0._transformer_layers.1._cross_attention_layer._key_dense.bias\n"
     ]
    },
    {
     "name": "stdout",
     "output_type": "stream",
     "text": [
      "WARNING:tensorflow:Unresolved object in checkpoint: (root).model.layer_with_weights-0._transformer_layers.1._cross_attention_layer._value_dense.kernel\n"
     ]
    },
    {
     "name": "stderr",
     "output_type": "stream",
     "text": [
      "WARNING:tensorflow:Unresolved object in checkpoint: (root).model.layer_with_weights-0._transformer_layers.1._cross_attention_layer._value_dense.kernel\n"
     ]
    },
    {
     "name": "stdout",
     "output_type": "stream",
     "text": [
      "WARNING:tensorflow:Unresolved object in checkpoint: (root).model.layer_with_weights-0._transformer_layers.1._cross_attention_layer._value_dense.bias\n"
     ]
    },
    {
     "name": "stderr",
     "output_type": "stream",
     "text": [
      "WARNING:tensorflow:Unresolved object in checkpoint: (root).model.layer_with_weights-0._transformer_layers.1._cross_attention_layer._value_dense.bias\n"
     ]
    },
    {
     "name": "stdout",
     "output_type": "stream",
     "text": [
      "WARNING:tensorflow:Unresolved object in checkpoint: (root).model.layer_with_weights-0._transformer_layers.1._cross_attention_layer._masked_softmax._mask_expansion_axes\n"
     ]
    },
    {
     "name": "stderr",
     "output_type": "stream",
     "text": [
      "WARNING:tensorflow:Unresolved object in checkpoint: (root).model.layer_with_weights-0._transformer_layers.1._cross_attention_layer._masked_softmax._mask_expansion_axes\n"
     ]
    },
    {
     "name": "stdout",
     "output_type": "stream",
     "text": [
      "WARNING:tensorflow:Unresolved object in checkpoint: (root).model.layer_with_weights-0._transformer_layers.2._cross_attention_layer._query_dense.kernel\n"
     ]
    },
    {
     "name": "stderr",
     "output_type": "stream",
     "text": [
      "WARNING:tensorflow:Unresolved object in checkpoint: (root).model.layer_with_weights-0._transformer_layers.2._cross_attention_layer._query_dense.kernel\n"
     ]
    },
    {
     "name": "stdout",
     "output_type": "stream",
     "text": [
      "WARNING:tensorflow:Unresolved object in checkpoint: (root).model.layer_with_weights-0._transformer_layers.2._cross_attention_layer._query_dense.bias\n"
     ]
    },
    {
     "name": "stderr",
     "output_type": "stream",
     "text": [
      "WARNING:tensorflow:Unresolved object in checkpoint: (root).model.layer_with_weights-0._transformer_layers.2._cross_attention_layer._query_dense.bias\n"
     ]
    },
    {
     "name": "stdout",
     "output_type": "stream",
     "text": [
      "WARNING:tensorflow:Unresolved object in checkpoint: (root).model.layer_with_weights-0._transformer_layers.2._cross_attention_layer._key_dense.kernel\n"
     ]
    },
    {
     "name": "stderr",
     "output_type": "stream",
     "text": [
      "WARNING:tensorflow:Unresolved object in checkpoint: (root).model.layer_with_weights-0._transformer_layers.2._cross_attention_layer._key_dense.kernel\n"
     ]
    },
    {
     "name": "stdout",
     "output_type": "stream",
     "text": [
      "WARNING:tensorflow:Unresolved object in checkpoint: (root).model.layer_with_weights-0._transformer_layers.2._cross_attention_layer._key_dense.bias\n"
     ]
    },
    {
     "name": "stderr",
     "output_type": "stream",
     "text": [
      "WARNING:tensorflow:Unresolved object in checkpoint: (root).model.layer_with_weights-0._transformer_layers.2._cross_attention_layer._key_dense.bias\n"
     ]
    },
    {
     "name": "stdout",
     "output_type": "stream",
     "text": [
      "WARNING:tensorflow:Unresolved object in checkpoint: (root).model.layer_with_weights-0._transformer_layers.2._cross_attention_layer._value_dense.kernel\n"
     ]
    },
    {
     "name": "stderr",
     "output_type": "stream",
     "text": [
      "WARNING:tensorflow:Unresolved object in checkpoint: (root).model.layer_with_weights-0._transformer_layers.2._cross_attention_layer._value_dense.kernel\n"
     ]
    },
    {
     "name": "stdout",
     "output_type": "stream",
     "text": [
      "WARNING:tensorflow:Unresolved object in checkpoint: (root).model.layer_with_weights-0._transformer_layers.2._cross_attention_layer._value_dense.bias\n"
     ]
    },
    {
     "name": "stderr",
     "output_type": "stream",
     "text": [
      "WARNING:tensorflow:Unresolved object in checkpoint: (root).model.layer_with_weights-0._transformer_layers.2._cross_attention_layer._value_dense.bias\n"
     ]
    },
    {
     "name": "stdout",
     "output_type": "stream",
     "text": [
      "WARNING:tensorflow:Unresolved object in checkpoint: (root).model.layer_with_weights-0._transformer_layers.2._cross_attention_layer._masked_softmax._mask_expansion_axes\n"
     ]
    },
    {
     "name": "stderr",
     "output_type": "stream",
     "text": [
      "WARNING:tensorflow:Unresolved object in checkpoint: (root).model.layer_with_weights-0._transformer_layers.2._cross_attention_layer._masked_softmax._mask_expansion_axes\n"
     ]
    },
    {
     "name": "stdout",
     "output_type": "stream",
     "text": [
      "WARNING:tensorflow:Unresolved object in checkpoint: (root).model.layer_with_weights-0._transformer_layers.3._cross_attention_layer._query_dense.kernel\n"
     ]
    },
    {
     "name": "stderr",
     "output_type": "stream",
     "text": [
      "WARNING:tensorflow:Unresolved object in checkpoint: (root).model.layer_with_weights-0._transformer_layers.3._cross_attention_layer._query_dense.kernel\n"
     ]
    },
    {
     "name": "stdout",
     "output_type": "stream",
     "text": [
      "WARNING:tensorflow:Unresolved object in checkpoint: (root).model.layer_with_weights-0._transformer_layers.3._cross_attention_layer._query_dense.bias\n"
     ]
    },
    {
     "name": "stderr",
     "output_type": "stream",
     "text": [
      "WARNING:tensorflow:Unresolved object in checkpoint: (root).model.layer_with_weights-0._transformer_layers.3._cross_attention_layer._query_dense.bias\n"
     ]
    },
    {
     "name": "stdout",
     "output_type": "stream",
     "text": [
      "WARNING:tensorflow:Unresolved object in checkpoint: (root).model.layer_with_weights-0._transformer_layers.3._cross_attention_layer._key_dense.kernel\n"
     ]
    },
    {
     "name": "stderr",
     "output_type": "stream",
     "text": [
      "WARNING:tensorflow:Unresolved object in checkpoint: (root).model.layer_with_weights-0._transformer_layers.3._cross_attention_layer._key_dense.kernel\n"
     ]
    },
    {
     "name": "stdout",
     "output_type": "stream",
     "text": [
      "WARNING:tensorflow:Unresolved object in checkpoint: (root).model.layer_with_weights-0._transformer_layers.3._cross_attention_layer._key_dense.bias\n"
     ]
    },
    {
     "name": "stderr",
     "output_type": "stream",
     "text": [
      "WARNING:tensorflow:Unresolved object in checkpoint: (root).model.layer_with_weights-0._transformer_layers.3._cross_attention_layer._key_dense.bias\n"
     ]
    },
    {
     "name": "stdout",
     "output_type": "stream",
     "text": [
      "WARNING:tensorflow:Unresolved object in checkpoint: (root).model.layer_with_weights-0._transformer_layers.3._cross_attention_layer._value_dense.kernel\n"
     ]
    },
    {
     "name": "stderr",
     "output_type": "stream",
     "text": [
      "WARNING:tensorflow:Unresolved object in checkpoint: (root).model.layer_with_weights-0._transformer_layers.3._cross_attention_layer._value_dense.kernel\n"
     ]
    },
    {
     "name": "stdout",
     "output_type": "stream",
     "text": [
      "WARNING:tensorflow:Unresolved object in checkpoint: (root).model.layer_with_weights-0._transformer_layers.3._cross_attention_layer._value_dense.bias\n"
     ]
    },
    {
     "name": "stderr",
     "output_type": "stream",
     "text": [
      "WARNING:tensorflow:Unresolved object in checkpoint: (root).model.layer_with_weights-0._transformer_layers.3._cross_attention_layer._value_dense.bias\n"
     ]
    },
    {
     "name": "stdout",
     "output_type": "stream",
     "text": [
      "WARNING:tensorflow:Unresolved object in checkpoint: (root).model.layer_with_weights-0._transformer_layers.3._cross_attention_layer._masked_softmax._mask_expansion_axes\n"
     ]
    },
    {
     "name": "stderr",
     "output_type": "stream",
     "text": [
      "WARNING:tensorflow:Unresolved object in checkpoint: (root).model.layer_with_weights-0._transformer_layers.3._cross_attention_layer._masked_softmax._mask_expansion_axes\n"
     ]
    },
    {
     "name": "stdout",
     "output_type": "stream",
     "text": [
      "WARNING:tensorflow:Unresolved object in checkpoint: (root).model.layer_with_weights-0._transformer_layers.4._cross_attention_layer._query_dense.kernel\n"
     ]
    },
    {
     "name": "stderr",
     "output_type": "stream",
     "text": [
      "WARNING:tensorflow:Unresolved object in checkpoint: (root).model.layer_with_weights-0._transformer_layers.4._cross_attention_layer._query_dense.kernel\n"
     ]
    },
    {
     "name": "stdout",
     "output_type": "stream",
     "text": [
      "WARNING:tensorflow:Unresolved object in checkpoint: (root).model.layer_with_weights-0._transformer_layers.4._cross_attention_layer._query_dense.bias\n"
     ]
    },
    {
     "name": "stderr",
     "output_type": "stream",
     "text": [
      "WARNING:tensorflow:Unresolved object in checkpoint: (root).model.layer_with_weights-0._transformer_layers.4._cross_attention_layer._query_dense.bias\n"
     ]
    },
    {
     "name": "stdout",
     "output_type": "stream",
     "text": [
      "WARNING:tensorflow:Unresolved object in checkpoint: (root).model.layer_with_weights-0._transformer_layers.4._cross_attention_layer._key_dense.kernel\n"
     ]
    },
    {
     "name": "stderr",
     "output_type": "stream",
     "text": [
      "WARNING:tensorflow:Unresolved object in checkpoint: (root).model.layer_with_weights-0._transformer_layers.4._cross_attention_layer._key_dense.kernel\n"
     ]
    },
    {
     "name": "stdout",
     "output_type": "stream",
     "text": [
      "WARNING:tensorflow:Unresolved object in checkpoint: (root).model.layer_with_weights-0._transformer_layers.4._cross_attention_layer._key_dense.bias\n"
     ]
    },
    {
     "name": "stderr",
     "output_type": "stream",
     "text": [
      "WARNING:tensorflow:Unresolved object in checkpoint: (root).model.layer_with_weights-0._transformer_layers.4._cross_attention_layer._key_dense.bias\n"
     ]
    },
    {
     "name": "stdout",
     "output_type": "stream",
     "text": [
      "WARNING:tensorflow:Unresolved object in checkpoint: (root).model.layer_with_weights-0._transformer_layers.4._cross_attention_layer._value_dense.kernel\n"
     ]
    },
    {
     "name": "stderr",
     "output_type": "stream",
     "text": [
      "WARNING:tensorflow:Unresolved object in checkpoint: (root).model.layer_with_weights-0._transformer_layers.4._cross_attention_layer._value_dense.kernel\n"
     ]
    },
    {
     "name": "stdout",
     "output_type": "stream",
     "text": [
      "WARNING:tensorflow:Unresolved object in checkpoint: (root).model.layer_with_weights-0._transformer_layers.4._cross_attention_layer._value_dense.bias\n"
     ]
    },
    {
     "name": "stderr",
     "output_type": "stream",
     "text": [
      "WARNING:tensorflow:Unresolved object in checkpoint: (root).model.layer_with_weights-0._transformer_layers.4._cross_attention_layer._value_dense.bias\n"
     ]
    },
    {
     "name": "stdout",
     "output_type": "stream",
     "text": [
      "WARNING:tensorflow:Unresolved object in checkpoint: (root).model.layer_with_weights-0._transformer_layers.4._cross_attention_layer._masked_softmax._mask_expansion_axes\n"
     ]
    },
    {
     "name": "stderr",
     "output_type": "stream",
     "text": [
      "WARNING:tensorflow:Unresolved object in checkpoint: (root).model.layer_with_weights-0._transformer_layers.4._cross_attention_layer._masked_softmax._mask_expansion_axes\n"
     ]
    },
    {
     "name": "stdout",
     "output_type": "stream",
     "text": [
      "WARNING:tensorflow:Unresolved object in checkpoint: (root).model.layer_with_weights-0._transformer_layers.5._cross_attention_layer._query_dense.kernel\n"
     ]
    },
    {
     "name": "stderr",
     "output_type": "stream",
     "text": [
      "WARNING:tensorflow:Unresolved object in checkpoint: (root).model.layer_with_weights-0._transformer_layers.5._cross_attention_layer._query_dense.kernel\n"
     ]
    },
    {
     "name": "stdout",
     "output_type": "stream",
     "text": [
      "WARNING:tensorflow:Unresolved object in checkpoint: (root).model.layer_with_weights-0._transformer_layers.5._cross_attention_layer._query_dense.bias\n"
     ]
    },
    {
     "name": "stderr",
     "output_type": "stream",
     "text": [
      "WARNING:tensorflow:Unresolved object in checkpoint: (root).model.layer_with_weights-0._transformer_layers.5._cross_attention_layer._query_dense.bias\n"
     ]
    },
    {
     "name": "stdout",
     "output_type": "stream",
     "text": [
      "WARNING:tensorflow:Unresolved object in checkpoint: (root).model.layer_with_weights-0._transformer_layers.5._cross_attention_layer._key_dense.kernel\n"
     ]
    },
    {
     "name": "stderr",
     "output_type": "stream",
     "text": [
      "WARNING:tensorflow:Unresolved object in checkpoint: (root).model.layer_with_weights-0._transformer_layers.5._cross_attention_layer._key_dense.kernel\n"
     ]
    },
    {
     "name": "stdout",
     "output_type": "stream",
     "text": [
      "WARNING:tensorflow:Unresolved object in checkpoint: (root).model.layer_with_weights-0._transformer_layers.5._cross_attention_layer._key_dense.bias\n"
     ]
    },
    {
     "name": "stderr",
     "output_type": "stream",
     "text": [
      "WARNING:tensorflow:Unresolved object in checkpoint: (root).model.layer_with_weights-0._transformer_layers.5._cross_attention_layer._key_dense.bias\n"
     ]
    },
    {
     "name": "stdout",
     "output_type": "stream",
     "text": [
      "WARNING:tensorflow:Unresolved object in checkpoint: (root).model.layer_with_weights-0._transformer_layers.5._cross_attention_layer._value_dense.kernel\n"
     ]
    },
    {
     "name": "stderr",
     "output_type": "stream",
     "text": [
      "WARNING:tensorflow:Unresolved object in checkpoint: (root).model.layer_with_weights-0._transformer_layers.5._cross_attention_layer._value_dense.kernel\n"
     ]
    },
    {
     "name": "stdout",
     "output_type": "stream",
     "text": [
      "WARNING:tensorflow:Unresolved object in checkpoint: (root).model.layer_with_weights-0._transformer_layers.5._cross_attention_layer._value_dense.bias\n"
     ]
    },
    {
     "name": "stderr",
     "output_type": "stream",
     "text": [
      "WARNING:tensorflow:Unresolved object in checkpoint: (root).model.layer_with_weights-0._transformer_layers.5._cross_attention_layer._value_dense.bias\n"
     ]
    },
    {
     "name": "stdout",
     "output_type": "stream",
     "text": [
      "WARNING:tensorflow:Unresolved object in checkpoint: (root).model.layer_with_weights-0._transformer_layers.5._cross_attention_layer._masked_softmax._mask_expansion_axes\n"
     ]
    },
    {
     "name": "stderr",
     "output_type": "stream",
     "text": [
      "WARNING:tensorflow:Unresolved object in checkpoint: (root).model.layer_with_weights-0._transformer_layers.5._cross_attention_layer._masked_softmax._mask_expansion_axes\n"
     ]
    },
    {
     "name": "stdout",
     "output_type": "stream",
     "text": [
      "WARNING:tensorflow:Unresolved object in checkpoint: (root).model.layer_with_weights-0._transformer_layers.6._cross_attention_layer._query_dense.kernel\n"
     ]
    },
    {
     "name": "stderr",
     "output_type": "stream",
     "text": [
      "WARNING:tensorflow:Unresolved object in checkpoint: (root).model.layer_with_weights-0._transformer_layers.6._cross_attention_layer._query_dense.kernel\n"
     ]
    },
    {
     "name": "stdout",
     "output_type": "stream",
     "text": [
      "WARNING:tensorflow:Unresolved object in checkpoint: (root).model.layer_with_weights-0._transformer_layers.6._cross_attention_layer._query_dense.bias\n"
     ]
    },
    {
     "name": "stderr",
     "output_type": "stream",
     "text": [
      "WARNING:tensorflow:Unresolved object in checkpoint: (root).model.layer_with_weights-0._transformer_layers.6._cross_attention_layer._query_dense.bias\n"
     ]
    },
    {
     "name": "stdout",
     "output_type": "stream",
     "text": [
      "WARNING:tensorflow:Unresolved object in checkpoint: (root).model.layer_with_weights-0._transformer_layers.6._cross_attention_layer._key_dense.kernel\n"
     ]
    },
    {
     "name": "stderr",
     "output_type": "stream",
     "text": [
      "WARNING:tensorflow:Unresolved object in checkpoint: (root).model.layer_with_weights-0._transformer_layers.6._cross_attention_layer._key_dense.kernel\n"
     ]
    },
    {
     "name": "stdout",
     "output_type": "stream",
     "text": [
      "WARNING:tensorflow:Unresolved object in checkpoint: (root).model.layer_with_weights-0._transformer_layers.6._cross_attention_layer._key_dense.bias\n"
     ]
    },
    {
     "name": "stderr",
     "output_type": "stream",
     "text": [
      "WARNING:tensorflow:Unresolved object in checkpoint: (root).model.layer_with_weights-0._transformer_layers.6._cross_attention_layer._key_dense.bias\n"
     ]
    },
    {
     "name": "stdout",
     "output_type": "stream",
     "text": [
      "WARNING:tensorflow:Unresolved object in checkpoint: (root).model.layer_with_weights-0._transformer_layers.6._cross_attention_layer._value_dense.kernel\n"
     ]
    },
    {
     "name": "stderr",
     "output_type": "stream",
     "text": [
      "WARNING:tensorflow:Unresolved object in checkpoint: (root).model.layer_with_weights-0._transformer_layers.6._cross_attention_layer._value_dense.kernel\n"
     ]
    },
    {
     "name": "stdout",
     "output_type": "stream",
     "text": [
      "WARNING:tensorflow:Unresolved object in checkpoint: (root).model.layer_with_weights-0._transformer_layers.6._cross_attention_layer._value_dense.bias\n"
     ]
    },
    {
     "name": "stderr",
     "output_type": "stream",
     "text": [
      "WARNING:tensorflow:Unresolved object in checkpoint: (root).model.layer_with_weights-0._transformer_layers.6._cross_attention_layer._value_dense.bias\n"
     ]
    },
    {
     "name": "stdout",
     "output_type": "stream",
     "text": [
      "WARNING:tensorflow:Unresolved object in checkpoint: (root).model.layer_with_weights-0._transformer_layers.6._cross_attention_layer._masked_softmax._mask_expansion_axes\n"
     ]
    },
    {
     "name": "stderr",
     "output_type": "stream",
     "text": [
      "WARNING:tensorflow:Unresolved object in checkpoint: (root).model.layer_with_weights-0._transformer_layers.6._cross_attention_layer._masked_softmax._mask_expansion_axes\n"
     ]
    },
    {
     "name": "stdout",
     "output_type": "stream",
     "text": [
      "WARNING:tensorflow:Unresolved object in checkpoint: (root).model.layer_with_weights-0._transformer_layers.7._cross_attention_layer._query_dense.kernel\n"
     ]
    },
    {
     "name": "stderr",
     "output_type": "stream",
     "text": [
      "WARNING:tensorflow:Unresolved object in checkpoint: (root).model.layer_with_weights-0._transformer_layers.7._cross_attention_layer._query_dense.kernel\n"
     ]
    },
    {
     "name": "stdout",
     "output_type": "stream",
     "text": [
      "WARNING:tensorflow:Unresolved object in checkpoint: (root).model.layer_with_weights-0._transformer_layers.7._cross_attention_layer._query_dense.bias\n"
     ]
    },
    {
     "name": "stderr",
     "output_type": "stream",
     "text": [
      "WARNING:tensorflow:Unresolved object in checkpoint: (root).model.layer_with_weights-0._transformer_layers.7._cross_attention_layer._query_dense.bias\n"
     ]
    },
    {
     "name": "stdout",
     "output_type": "stream",
     "text": [
      "WARNING:tensorflow:Unresolved object in checkpoint: (root).model.layer_with_weights-0._transformer_layers.7._cross_attention_layer._key_dense.kernel\n"
     ]
    },
    {
     "name": "stderr",
     "output_type": "stream",
     "text": [
      "WARNING:tensorflow:Unresolved object in checkpoint: (root).model.layer_with_weights-0._transformer_layers.7._cross_attention_layer._key_dense.kernel\n"
     ]
    },
    {
     "name": "stdout",
     "output_type": "stream",
     "text": [
      "WARNING:tensorflow:Unresolved object in checkpoint: (root).model.layer_with_weights-0._transformer_layers.7._cross_attention_layer._key_dense.bias\n"
     ]
    },
    {
     "name": "stderr",
     "output_type": "stream",
     "text": [
      "WARNING:tensorflow:Unresolved object in checkpoint: (root).model.layer_with_weights-0._transformer_layers.7._cross_attention_layer._key_dense.bias\n"
     ]
    },
    {
     "name": "stdout",
     "output_type": "stream",
     "text": [
      "WARNING:tensorflow:Unresolved object in checkpoint: (root).model.layer_with_weights-0._transformer_layers.7._cross_attention_layer._value_dense.kernel\n"
     ]
    },
    {
     "name": "stderr",
     "output_type": "stream",
     "text": [
      "WARNING:tensorflow:Unresolved object in checkpoint: (root).model.layer_with_weights-0._transformer_layers.7._cross_attention_layer._value_dense.kernel\n"
     ]
    },
    {
     "name": "stdout",
     "output_type": "stream",
     "text": [
      "WARNING:tensorflow:Unresolved object in checkpoint: (root).model.layer_with_weights-0._transformer_layers.7._cross_attention_layer._value_dense.bias\n"
     ]
    },
    {
     "name": "stderr",
     "output_type": "stream",
     "text": [
      "WARNING:tensorflow:Unresolved object in checkpoint: (root).model.layer_with_weights-0._transformer_layers.7._cross_attention_layer._value_dense.bias\n"
     ]
    },
    {
     "name": "stdout",
     "output_type": "stream",
     "text": [
      "WARNING:tensorflow:Unresolved object in checkpoint: (root).model.layer_with_weights-0._transformer_layers.7._cross_attention_layer._masked_softmax._mask_expansion_axes\n"
     ]
    },
    {
     "name": "stderr",
     "output_type": "stream",
     "text": [
      "WARNING:tensorflow:Unresolved object in checkpoint: (root).model.layer_with_weights-0._transformer_layers.7._cross_attention_layer._masked_softmax._mask_expansion_axes\n"
     ]
    },
    {
     "name": "stdout",
     "output_type": "stream",
     "text": [
      "WARNING:tensorflow:Unresolved object in checkpoint: (root).model.layer_with_weights-0._transformer_layers.8._cross_attention_layer._query_dense.kernel\n"
     ]
    },
    {
     "name": "stderr",
     "output_type": "stream",
     "text": [
      "WARNING:tensorflow:Unresolved object in checkpoint: (root).model.layer_with_weights-0._transformer_layers.8._cross_attention_layer._query_dense.kernel\n"
     ]
    },
    {
     "name": "stdout",
     "output_type": "stream",
     "text": [
      "WARNING:tensorflow:Unresolved object in checkpoint: (root).model.layer_with_weights-0._transformer_layers.8._cross_attention_layer._query_dense.bias\n"
     ]
    },
    {
     "name": "stderr",
     "output_type": "stream",
     "text": [
      "WARNING:tensorflow:Unresolved object in checkpoint: (root).model.layer_with_weights-0._transformer_layers.8._cross_attention_layer._query_dense.bias\n"
     ]
    },
    {
     "name": "stdout",
     "output_type": "stream",
     "text": [
      "WARNING:tensorflow:Unresolved object in checkpoint: (root).model.layer_with_weights-0._transformer_layers.8._cross_attention_layer._key_dense.kernel\n"
     ]
    },
    {
     "name": "stderr",
     "output_type": "stream",
     "text": [
      "WARNING:tensorflow:Unresolved object in checkpoint: (root).model.layer_with_weights-0._transformer_layers.8._cross_attention_layer._key_dense.kernel\n"
     ]
    },
    {
     "name": "stdout",
     "output_type": "stream",
     "text": [
      "WARNING:tensorflow:Unresolved object in checkpoint: (root).model.layer_with_weights-0._transformer_layers.8._cross_attention_layer._key_dense.bias\n"
     ]
    },
    {
     "name": "stderr",
     "output_type": "stream",
     "text": [
      "WARNING:tensorflow:Unresolved object in checkpoint: (root).model.layer_with_weights-0._transformer_layers.8._cross_attention_layer._key_dense.bias\n"
     ]
    },
    {
     "name": "stdout",
     "output_type": "stream",
     "text": [
      "WARNING:tensorflow:Unresolved object in checkpoint: (root).model.layer_with_weights-0._transformer_layers.8._cross_attention_layer._value_dense.kernel\n"
     ]
    },
    {
     "name": "stderr",
     "output_type": "stream",
     "text": [
      "WARNING:tensorflow:Unresolved object in checkpoint: (root).model.layer_with_weights-0._transformer_layers.8._cross_attention_layer._value_dense.kernel\n"
     ]
    },
    {
     "name": "stdout",
     "output_type": "stream",
     "text": [
      "WARNING:tensorflow:Unresolved object in checkpoint: (root).model.layer_with_weights-0._transformer_layers.8._cross_attention_layer._value_dense.bias\n"
     ]
    },
    {
     "name": "stderr",
     "output_type": "stream",
     "text": [
      "WARNING:tensorflow:Unresolved object in checkpoint: (root).model.layer_with_weights-0._transformer_layers.8._cross_attention_layer._value_dense.bias\n"
     ]
    },
    {
     "name": "stdout",
     "output_type": "stream",
     "text": [
      "WARNING:tensorflow:Unresolved object in checkpoint: (root).model.layer_with_weights-0._transformer_layers.8._cross_attention_layer._masked_softmax._mask_expansion_axes\n"
     ]
    },
    {
     "name": "stderr",
     "output_type": "stream",
     "text": [
      "WARNING:tensorflow:Unresolved object in checkpoint: (root).model.layer_with_weights-0._transformer_layers.8._cross_attention_layer._masked_softmax._mask_expansion_axes\n"
     ]
    },
    {
     "name": "stdout",
     "output_type": "stream",
     "text": [
      "WARNING:tensorflow:Unresolved object in checkpoint: (root).model.layer_with_weights-0._transformer_layers.9._cross_attention_layer._query_dense.kernel\n"
     ]
    },
    {
     "name": "stderr",
     "output_type": "stream",
     "text": [
      "WARNING:tensorflow:Unresolved object in checkpoint: (root).model.layer_with_weights-0._transformer_layers.9._cross_attention_layer._query_dense.kernel\n"
     ]
    },
    {
     "name": "stdout",
     "output_type": "stream",
     "text": [
      "WARNING:tensorflow:Unresolved object in checkpoint: (root).model.layer_with_weights-0._transformer_layers.9._cross_attention_layer._query_dense.bias\n"
     ]
    },
    {
     "name": "stderr",
     "output_type": "stream",
     "text": [
      "WARNING:tensorflow:Unresolved object in checkpoint: (root).model.layer_with_weights-0._transformer_layers.9._cross_attention_layer._query_dense.bias\n"
     ]
    },
    {
     "name": "stdout",
     "output_type": "stream",
     "text": [
      "WARNING:tensorflow:Unresolved object in checkpoint: (root).model.layer_with_weights-0._transformer_layers.9._cross_attention_layer._key_dense.kernel\n"
     ]
    },
    {
     "name": "stderr",
     "output_type": "stream",
     "text": [
      "WARNING:tensorflow:Unresolved object in checkpoint: (root).model.layer_with_weights-0._transformer_layers.9._cross_attention_layer._key_dense.kernel\n"
     ]
    },
    {
     "name": "stdout",
     "output_type": "stream",
     "text": [
      "WARNING:tensorflow:Unresolved object in checkpoint: (root).model.layer_with_weights-0._transformer_layers.9._cross_attention_layer._key_dense.bias\n"
     ]
    },
    {
     "name": "stderr",
     "output_type": "stream",
     "text": [
      "WARNING:tensorflow:Unresolved object in checkpoint: (root).model.layer_with_weights-0._transformer_layers.9._cross_attention_layer._key_dense.bias\n"
     ]
    },
    {
     "name": "stdout",
     "output_type": "stream",
     "text": [
      "WARNING:tensorflow:Unresolved object in checkpoint: (root).model.layer_with_weights-0._transformer_layers.9._cross_attention_layer._value_dense.kernel\n"
     ]
    },
    {
     "name": "stderr",
     "output_type": "stream",
     "text": [
      "WARNING:tensorflow:Unresolved object in checkpoint: (root).model.layer_with_weights-0._transformer_layers.9._cross_attention_layer._value_dense.kernel\n"
     ]
    },
    {
     "name": "stdout",
     "output_type": "stream",
     "text": [
      "WARNING:tensorflow:Unresolved object in checkpoint: (root).model.layer_with_weights-0._transformer_layers.9._cross_attention_layer._value_dense.bias\n"
     ]
    },
    {
     "name": "stderr",
     "output_type": "stream",
     "text": [
      "WARNING:tensorflow:Unresolved object in checkpoint: (root).model.layer_with_weights-0._transformer_layers.9._cross_attention_layer._value_dense.bias\n"
     ]
    },
    {
     "name": "stdout",
     "output_type": "stream",
     "text": [
      "WARNING:tensorflow:Unresolved object in checkpoint: (root).model.layer_with_weights-0._transformer_layers.9._cross_attention_layer._masked_softmax._mask_expansion_axes\n"
     ]
    },
    {
     "name": "stderr",
     "output_type": "stream",
     "text": [
      "WARNING:tensorflow:Unresolved object in checkpoint: (root).model.layer_with_weights-0._transformer_layers.9._cross_attention_layer._masked_softmax._mask_expansion_axes\n"
     ]
    },
    {
     "name": "stdout",
     "output_type": "stream",
     "text": [
      "WARNING:tensorflow:Unresolved object in checkpoint: (root).model.layer_with_weights-0._transformer_layers.10._cross_attention_layer._query_dense.kernel\n"
     ]
    },
    {
     "name": "stderr",
     "output_type": "stream",
     "text": [
      "WARNING:tensorflow:Unresolved object in checkpoint: (root).model.layer_with_weights-0._transformer_layers.10._cross_attention_layer._query_dense.kernel\n"
     ]
    },
    {
     "name": "stdout",
     "output_type": "stream",
     "text": [
      "WARNING:tensorflow:Unresolved object in checkpoint: (root).model.layer_with_weights-0._transformer_layers.10._cross_attention_layer._query_dense.bias\n"
     ]
    },
    {
     "name": "stderr",
     "output_type": "stream",
     "text": [
      "WARNING:tensorflow:Unresolved object in checkpoint: (root).model.layer_with_weights-0._transformer_layers.10._cross_attention_layer._query_dense.bias\n"
     ]
    },
    {
     "name": "stdout",
     "output_type": "stream",
     "text": [
      "WARNING:tensorflow:Unresolved object in checkpoint: (root).model.layer_with_weights-0._transformer_layers.10._cross_attention_layer._key_dense.kernel\n"
     ]
    },
    {
     "name": "stderr",
     "output_type": "stream",
     "text": [
      "WARNING:tensorflow:Unresolved object in checkpoint: (root).model.layer_with_weights-0._transformer_layers.10._cross_attention_layer._key_dense.kernel\n"
     ]
    },
    {
     "name": "stdout",
     "output_type": "stream",
     "text": [
      "WARNING:tensorflow:Unresolved object in checkpoint: (root).model.layer_with_weights-0._transformer_layers.10._cross_attention_layer._key_dense.bias\n"
     ]
    },
    {
     "name": "stderr",
     "output_type": "stream",
     "text": [
      "WARNING:tensorflow:Unresolved object in checkpoint: (root).model.layer_with_weights-0._transformer_layers.10._cross_attention_layer._key_dense.bias\n"
     ]
    },
    {
     "name": "stdout",
     "output_type": "stream",
     "text": [
      "WARNING:tensorflow:Unresolved object in checkpoint: (root).model.layer_with_weights-0._transformer_layers.10._cross_attention_layer._value_dense.kernel\n"
     ]
    },
    {
     "name": "stderr",
     "output_type": "stream",
     "text": [
      "WARNING:tensorflow:Unresolved object in checkpoint: (root).model.layer_with_weights-0._transformer_layers.10._cross_attention_layer._value_dense.kernel\n"
     ]
    },
    {
     "name": "stdout",
     "output_type": "stream",
     "text": [
      "WARNING:tensorflow:Unresolved object in checkpoint: (root).model.layer_with_weights-0._transformer_layers.10._cross_attention_layer._value_dense.bias\n"
     ]
    },
    {
     "name": "stderr",
     "output_type": "stream",
     "text": [
      "WARNING:tensorflow:Unresolved object in checkpoint: (root).model.layer_with_weights-0._transformer_layers.10._cross_attention_layer._value_dense.bias\n"
     ]
    },
    {
     "name": "stdout",
     "output_type": "stream",
     "text": [
      "WARNING:tensorflow:Unresolved object in checkpoint: (root).model.layer_with_weights-0._transformer_layers.10._cross_attention_layer._masked_softmax._mask_expansion_axes\n"
     ]
    },
    {
     "name": "stderr",
     "output_type": "stream",
     "text": [
      "WARNING:tensorflow:Unresolved object in checkpoint: (root).model.layer_with_weights-0._transformer_layers.10._cross_attention_layer._masked_softmax._mask_expansion_axes\n"
     ]
    },
    {
     "name": "stdout",
     "output_type": "stream",
     "text": [
      "WARNING:tensorflow:Unresolved object in checkpoint: (root).model.layer_with_weights-0._transformer_layers.11._cross_attention_layer._query_dense.kernel\n"
     ]
    },
    {
     "name": "stderr",
     "output_type": "stream",
     "text": [
      "WARNING:tensorflow:Unresolved object in checkpoint: (root).model.layer_with_weights-0._transformer_layers.11._cross_attention_layer._query_dense.kernel\n"
     ]
    },
    {
     "name": "stdout",
     "output_type": "stream",
     "text": [
      "WARNING:tensorflow:Unresolved object in checkpoint: (root).model.layer_with_weights-0._transformer_layers.11._cross_attention_layer._query_dense.bias\n"
     ]
    },
    {
     "name": "stderr",
     "output_type": "stream",
     "text": [
      "WARNING:tensorflow:Unresolved object in checkpoint: (root).model.layer_with_weights-0._transformer_layers.11._cross_attention_layer._query_dense.bias\n"
     ]
    },
    {
     "name": "stdout",
     "output_type": "stream",
     "text": [
      "WARNING:tensorflow:Unresolved object in checkpoint: (root).model.layer_with_weights-0._transformer_layers.11._cross_attention_layer._key_dense.kernel\n"
     ]
    },
    {
     "name": "stderr",
     "output_type": "stream",
     "text": [
      "WARNING:tensorflow:Unresolved object in checkpoint: (root).model.layer_with_weights-0._transformer_layers.11._cross_attention_layer._key_dense.kernel\n"
     ]
    },
    {
     "name": "stdout",
     "output_type": "stream",
     "text": [
      "WARNING:tensorflow:Unresolved object in checkpoint: (root).model.layer_with_weights-0._transformer_layers.11._cross_attention_layer._key_dense.bias\n"
     ]
    },
    {
     "name": "stderr",
     "output_type": "stream",
     "text": [
      "WARNING:tensorflow:Unresolved object in checkpoint: (root).model.layer_with_weights-0._transformer_layers.11._cross_attention_layer._key_dense.bias\n"
     ]
    },
    {
     "name": "stdout",
     "output_type": "stream",
     "text": [
      "WARNING:tensorflow:Unresolved object in checkpoint: (root).model.layer_with_weights-0._transformer_layers.11._cross_attention_layer._value_dense.kernel\n"
     ]
    },
    {
     "name": "stderr",
     "output_type": "stream",
     "text": [
      "WARNING:tensorflow:Unresolved object in checkpoint: (root).model.layer_with_weights-0._transformer_layers.11._cross_attention_layer._value_dense.kernel\n"
     ]
    },
    {
     "name": "stdout",
     "output_type": "stream",
     "text": [
      "WARNING:tensorflow:Unresolved object in checkpoint: (root).model.layer_with_weights-0._transformer_layers.11._cross_attention_layer._value_dense.bias\n"
     ]
    },
    {
     "name": "stderr",
     "output_type": "stream",
     "text": [
      "WARNING:tensorflow:Unresolved object in checkpoint: (root).model.layer_with_weights-0._transformer_layers.11._cross_attention_layer._value_dense.bias\n"
     ]
    },
    {
     "name": "stdout",
     "output_type": "stream",
     "text": [
      "WARNING:tensorflow:Unresolved object in checkpoint: (root).model.layer_with_weights-0._transformer_layers.11._cross_attention_layer._masked_softmax._mask_expansion_axes\n"
     ]
    },
    {
     "name": "stderr",
     "output_type": "stream",
     "text": [
      "WARNING:tensorflow:Unresolved object in checkpoint: (root).model.layer_with_weights-0._transformer_layers.11._cross_attention_layer._masked_softmax._mask_expansion_axes\n"
     ]
    },
    {
     "name": "stdout",
     "output_type": "stream",
     "text": [
      "WARNING:tensorflow:A checkpoint was restored (e.g. tf.train.Checkpoint.restore or tf.keras.Model.load_weights) but not all checkpointed values were used. See above for specific issues. Use expect_partial() on the load status object, e.g. tf.train.Checkpoint.restore(...).expect_partial(), to silence these warnings, or use assert_consumed() to make the check explicit. See https://www.tensorflow.org/guide/checkpoint#loading_mechanics for details.\n"
     ]
    },
    {
     "name": "stderr",
     "output_type": "stream",
     "text": [
      "WARNING:tensorflow:A checkpoint was restored (e.g. tf.train.Checkpoint.restore or tf.keras.Model.load_weights) but not all checkpointed values were used. See above for specific issues. Use expect_partial() on the load status object, e.g. tf.train.Checkpoint.restore(...).expect_partial(), to silence these warnings, or use assert_consumed() to make the check explicit. See https://www.tensorflow.org/guide/checkpoint#loading_mechanics for details.\n",
      "INFO:absl:Successful: Model checkpoints matched and loaded from /tmp/tf_transformers_cache/roberta-base/ckpt-1\n",
      "You are using a model of type roberta to instantiate a model of type . This is not supported for all configurations of models and can yield errors.\n"
     ]
    },
    {
     "name": "stdout",
     "output_type": "stream",
     "text": [
      "Robertaaaa\n",
      "Embeddings (None, None, 768) Tensor(\"tf_transformers/roberta/Sum:0\", shape=(None, None), dtype=float32)\n",
      "Pos embeddings (None, None, 768) Tensor(\"tf_transformers/roberta/Sum_1:0\", shape=(1, None), dtype=float32)\n",
      "Embeddings Pos (None, None, 768) Tensor(\"tf_transformers/roberta/Sum_2:0\", shape=(None, None), dtype=float32)\n",
      "Embeddings (None, None, 768) Tensor(\"tf_transformers/roberta/Sum:0\", shape=(None, None), dtype=float32)\n",
      "Pos embeddings (None, None, 768) Tensor(\"tf_transformers/roberta/Sum_1:0\", shape=(1, None), dtype=float32)\n",
      "Embeddings Pos (None, None, 768) Tensor(\"tf_transformers/roberta/Sum_2:0\", shape=(None, None), dtype=float32)\n"
     ]
    },
    {
     "name": "stderr",
     "output_type": "stream",
     "text": [
      "INFO:absl:Successful: Model checkpoints matched and loaded from /tmp/tf_transformers_cache/roberta-base/ckpt-1\n"
     ]
    },
    {
     "name": "stdout",
     "output_type": "stream",
     "text": [
      "WARNING:tensorflow:Unresolved object in checkpoint: (root).model.layer-5\n"
     ]
    },
    {
     "name": "stderr",
     "output_type": "stream",
     "text": [
      "WARNING:tensorflow:Unresolved object in checkpoint: (root).model.layer-5\n"
     ]
    },
    {
     "name": "stdout",
     "output_type": "stream",
     "text": [
      "WARNING:tensorflow:A checkpoint was restored (e.g. tf.train.Checkpoint.restore or tf.keras.Model.load_weights) but not all checkpointed values were used. See above for specific issues. Use expect_partial() on the load status object, e.g. tf.train.Checkpoint.restore(...).expect_partial(), to silence these warnings, or use assert_consumed() to make the check explicit. See https://www.tensorflow.org/guide/checkpoint#loading_mechanics for details.\n"
     ]
    },
    {
     "name": "stderr",
     "output_type": "stream",
     "text": [
      "WARNING:tensorflow:A checkpoint was restored (e.g. tf.train.Checkpoint.restore or tf.keras.Model.load_weights) but not all checkpointed values were used. See above for specific issues. Use expect_partial() on the load status object, e.g. tf.train.Checkpoint.restore(...).expect_partial(), to silence these warnings, or use assert_consumed() to make the check explicit. See https://www.tensorflow.org/guide/checkpoint#loading_mechanics for details.\n"
     ]
    },
    {
     "name": "stdout",
     "output_type": "stream",
     "text": [
      "Assigned 204 variables from encoder to decoder .\n",
      "ENncoder variables 204 and Decoder variables 324\n",
      "Embeddings (None, None, 768) Tensor(\"roberta_roberta/tf_transformers/roberta/Sum:0\", shape=(None, None), dtype=float32)\n",
      "Pos embeddings (None, None, 768) Tensor(\"roberta_roberta/tf_transformers/roberta/Sum_1:0\", shape=(1, None), dtype=float32)\n",
      "Embeddings Pos (None, None, 768) Tensor(\"roberta_roberta/tf_transformers/roberta/Sum_2:0\", shape=(None, None), dtype=float32)\n",
      "Embeddings (None, None, 768) Tensor(\"roberta_roberta/tf_transformers/roberta/Sum:0\", shape=(None, None), dtype=float32)\n",
      "Pos embeddings (None, None, 768) Tensor(\"roberta_roberta/tf_transformers/roberta/Sum_1:0\", shape=(1, None), dtype=float32)\n",
      "Embeddings Pos (None, None, 768) Tensor(\"roberta_roberta/tf_transformers/roberta/Sum_2:0\", shape=(None, None), dtype=float32)\n",
      "Model variables 525\n"
     ]
    }
   ],
   "source": [
    "model = get_model(is_training=True, use_dropout=True)()"
   ]
  },
  {
   "cell_type": "code",
   "execution_count": 60,
   "id": "27411779",
   "metadata": {},
   "outputs": [
    {
     "ename": "AssertionError",
     "evalue": "Some Python objects were not bound to checkpointed values, likely due to changes in the Python program: [<tf.Variable 'Variable:0' shape=() dtype=int32, numpy=1>]",
     "output_type": "error",
     "traceback": [
      "\u001b[0;31m---------------------------------------------------------------------------\u001b[0m",
      "\u001b[0;31mAssertionError\u001b[0m                            Traceback (most recent call last)",
      "\u001b[0;32m<ipython-input-60-bd5e9bea9b5d>\u001b[0m in \u001b[0;36m<module>\u001b[0;34m\u001b[0m\n\u001b[0;32m----> 1\u001b[0;31m \u001b[0mmodel\u001b[0m\u001b[0;34m.\u001b[0m\u001b[0mload_checkpoint\u001b[0m\u001b[0;34m(\u001b[0m\u001b[0mmodel_checkpoint_dir\u001b[0m\u001b[0;34m,\u001b[0m \u001b[0mstep\u001b[0m\u001b[0;34m=\u001b[0m\u001b[0mtf\u001b[0m\u001b[0;34m.\u001b[0m\u001b[0mVariable\u001b[0m\u001b[0;34m(\u001b[0m\u001b[0;36m1\u001b[0m\u001b[0;34m)\u001b[0m\u001b[0;34m)\u001b[0m\u001b[0;34m\u001b[0m\u001b[0;34m\u001b[0m\u001b[0m\n\u001b[0m",
      "\u001b[0;32m~/TF_NEW/tf-transformers/src/tf_transformers/core/legacy_model.py\u001b[0m in \u001b[0;36mload_checkpoint\u001b[0;34m(self, checkpoint_dir, checkpoint_path, **kwargs)\u001b[0m\n\u001b[1;32m    162\u001b[0m             \u001b[0mstatus\u001b[0m \u001b[0;34m=\u001b[0m \u001b[0mcheckpoint\u001b[0m\u001b[0;34m.\u001b[0m\u001b[0mrestore\u001b[0m\u001b[0;34m(\u001b[0m\u001b[0mcheckpoint_path\u001b[0m\u001b[0;34m)\u001b[0m\u001b[0;34m\u001b[0m\u001b[0;34m\u001b[0m\u001b[0m\n\u001b[1;32m    163\u001b[0m             \u001b[0;31m# Important\u001b[0m\u001b[0;34m\u001b[0m\u001b[0;34m\u001b[0m\u001b[0;34m\u001b[0m\u001b[0m\n\u001b[0;32m--> 164\u001b[0;31m             \u001b[0;32mif\u001b[0m \u001b[0mstatus\u001b[0m\u001b[0;34m.\u001b[0m\u001b[0massert_existing_objects_matched\u001b[0m\u001b[0;34m(\u001b[0m\u001b[0;34m)\u001b[0m\u001b[0;34m:\u001b[0m\u001b[0;34m\u001b[0m\u001b[0;34m\u001b[0m\u001b[0m\n\u001b[0m\u001b[1;32m    165\u001b[0m                 \u001b[0mlogging\u001b[0m\u001b[0;34m.\u001b[0m\u001b[0minfo\u001b[0m\u001b[0;34m(\u001b[0m\u001b[0;34m\"Successful: Model checkpoints matched and loaded from {}\"\u001b[0m\u001b[0;34m.\u001b[0m\u001b[0mformat\u001b[0m\u001b[0;34m(\u001b[0m\u001b[0mcheckpoint_path\u001b[0m\u001b[0;34m)\u001b[0m\u001b[0;34m)\u001b[0m\u001b[0;34m\u001b[0m\u001b[0;34m\u001b[0m\u001b[0m\n\u001b[1;32m    166\u001b[0m             \u001b[0;32melse\u001b[0m\u001b[0;34m:\u001b[0m\u001b[0;34m\u001b[0m\u001b[0;34m\u001b[0m\u001b[0m\n",
      "\u001b[0;32m/usr/local/lib/python3.8/dist-packages/tensorflow/python/training/tracking/util.py\u001b[0m in \u001b[0;36massert_existing_objects_matched\u001b[0;34m(self)\u001b[0m\n\u001b[1;32m    803\u001b[0m             self._checkpoint.object_by_proto_id.values()))\n\u001b[1;32m    804\u001b[0m     \u001b[0;32mif\u001b[0m \u001b[0munused_python_objects\u001b[0m\u001b[0;34m:\u001b[0m\u001b[0;34m\u001b[0m\u001b[0;34m\u001b[0m\u001b[0m\n\u001b[0;32m--> 805\u001b[0;31m       raise AssertionError(\n\u001b[0m\u001b[1;32m    806\u001b[0m           (\"Some Python objects were not bound to checkpointed values, likely \"\n\u001b[1;32m    807\u001b[0m            \"due to changes in the Python program: %s\") %\n",
      "\u001b[0;31mAssertionError\u001b[0m: Some Python objects were not bound to checkpointed values, likely due to changes in the Python program: [<tf.Variable 'Variable:0' shape=() dtype=int32, numpy=1>]"
     ]
    }
   ],
   "source": [
    "model.load_checkpoint(model_checkpoint_dir, step=tf.Variable(1))"
   ]
  },
  {
   "cell_type": "code",
   "execution_count": null,
   "id": "789a8053",
   "metadata": {},
   "outputs": [],
   "source": []
  },
  {
   "cell_type": "code",
   "execution_count": null,
   "id": "31c0967c",
   "metadata": {},
   "outputs": [],
   "source": [
    "from tf_transformers.text import TextDecoder\n",
    "decoder = TextDecoder(model=model_ar, \n",
    "                     decoder_start_token_id=tokenizer.cls_token_id, \n",
    "                     input_type_ids=0)\n"
   ]
  },
  {
   "cell_type": "code",
   "execution_count": 55,
   "id": "620b9e27",
   "metadata": {},
   "outputs": [
    {
     "name": "stderr",
     "output_type": "stream",
     "text": [
      "572it [1:52:44, 11.83s/it]\n"
     ]
    },
    {
     "ename": "KeyboardInterrupt",
     "evalue": "",
     "output_type": "error",
     "traceback": [
      "\u001b[0;31m---------------------------------------------------------------------------\u001b[0m",
      "\u001b[0;31mIndexError\u001b[0m                                Traceback (most recent call last)",
      "\u001b[0;32m/usr/local/lib/python3.8/dist-packages/tensorflow/python/distribute/distribution_strategy_context.py\u001b[0m in \u001b[0;36m_get_per_thread_mode\u001b[0;34m()\u001b[0m\n\u001b[1;32m     81\u001b[0m   \u001b[0;32mtry\u001b[0m\u001b[0;34m:\u001b[0m\u001b[0;34m\u001b[0m\u001b[0;34m\u001b[0m\u001b[0m\n\u001b[0;32m---> 82\u001b[0;31m     \u001b[0;32mreturn\u001b[0m \u001b[0mops\u001b[0m\u001b[0;34m.\u001b[0m\u001b[0mget_default_graph\u001b[0m\u001b[0;34m(\u001b[0m\u001b[0;34m)\u001b[0m\u001b[0;34m.\u001b[0m\u001b[0m_distribution_strategy_stack\u001b[0m\u001b[0;34m[\u001b[0m\u001b[0;34m-\u001b[0m\u001b[0;36m1\u001b[0m\u001b[0;34m]\u001b[0m  \u001b[0;31m# pylint: disable=protected-access\u001b[0m\u001b[0;34m\u001b[0m\u001b[0;34m\u001b[0m\u001b[0m\n\u001b[0m\u001b[1;32m     83\u001b[0m   \u001b[0;32mexcept\u001b[0m \u001b[0;34m(\u001b[0m\u001b[0mAttributeError\u001b[0m\u001b[0;34m,\u001b[0m \u001b[0mIndexError\u001b[0m\u001b[0;34m)\u001b[0m\u001b[0;34m:\u001b[0m\u001b[0;34m\u001b[0m\u001b[0;34m\u001b[0m\u001b[0m\n",
      "\u001b[0;31mIndexError\u001b[0m: list index out of range",
      "\nDuring handling of the above exception, another exception occurred:\n",
      "\u001b[0;31mKeyboardInterrupt\u001b[0m                         Traceback (most recent call last)",
      "\u001b[0;32m<ipython-input-55-7b43d59ce2ff>\u001b[0m in \u001b[0;36m<module>\u001b[0;34m\u001b[0m\n\u001b[1;32m      6\u001b[0m \u001b[0;32mfor\u001b[0m \u001b[0;34m(\u001b[0m\u001b[0mbatch_inputs\u001b[0m\u001b[0;34m,\u001b[0m \u001b[0mbatch_labels\u001b[0m\u001b[0;34m)\u001b[0m \u001b[0;32min\u001b[0m \u001b[0mtqdm\u001b[0m\u001b[0;34m.\u001b[0m\u001b[0mtqdm\u001b[0m\u001b[0;34m(\u001b[0m\u001b[0meval_dataset\u001b[0m\u001b[0;34m)\u001b[0m\u001b[0;34m:\u001b[0m\u001b[0;34m\u001b[0m\u001b[0;34m\u001b[0m\u001b[0m\n\u001b[1;32m      7\u001b[0m     \u001b[0;32mdel\u001b[0m \u001b[0mbatch_inputs\u001b[0m\u001b[0;34m[\u001b[0m\u001b[0;34m'decoder_input_ids'\u001b[0m\u001b[0;34m]\u001b[0m\u001b[0;34m\u001b[0m\u001b[0;34m\u001b[0m\u001b[0m\n\u001b[0;32m----> 8\u001b[0;31m     decoder_outputs = decoder.decode(batch_inputs, mode='beam', \n\u001b[0m\u001b[1;32m      9\u001b[0m                                      \u001b[0mnum_beams\u001b[0m\u001b[0;34m=\u001b[0m\u001b[0;36m4\u001b[0m\u001b[0;34m,\u001b[0m\u001b[0;34m\u001b[0m\u001b[0;34m\u001b[0m\u001b[0m\n\u001b[1;32m     10\u001b[0m                                                                       \u001b[0malpha\u001b[0m\u001b[0;34m=\u001b[0m\u001b[0;36m2.0\u001b[0m\u001b[0;34m,\u001b[0m\u001b[0;34m\u001b[0m\u001b[0;34m\u001b[0m\u001b[0m\n",
      "\u001b[0;32m~/TF_NEW/tf-transformers/src/tf_transformers/text/text_decoder_seq2seq.py\u001b[0m in \u001b[0;36mdecode\u001b[0;34m(self, inputs, max_iterations, num_beams, sampling_temperature, alpha, num_return_sequences, eos_id, top_k, top_p, do_sample, mode)\u001b[0m\n\u001b[1;32m    698\u001b[0m             )\n\u001b[1;32m    699\u001b[0m         \u001b[0;32mif\u001b[0m \u001b[0mmode\u001b[0m \u001b[0;34m==\u001b[0m \u001b[0;34m\"beam\"\u001b[0m\u001b[0;34m:\u001b[0m\u001b[0;34m\u001b[0m\u001b[0;34m\u001b[0m\u001b[0m\n\u001b[0;32m--> 700\u001b[0;31m             result = self.beam_decode(\n\u001b[0m\u001b[1;32m    701\u001b[0m                 \u001b[0minputs\u001b[0m\u001b[0;34m,\u001b[0m\u001b[0;34m\u001b[0m\u001b[0;34m\u001b[0m\u001b[0m\n\u001b[1;32m    702\u001b[0m                 \u001b[0mmax_iterations\u001b[0m\u001b[0;34m=\u001b[0m\u001b[0mmax_iterations\u001b[0m\u001b[0;34m,\u001b[0m\u001b[0;34m\u001b[0m\u001b[0;34m\u001b[0m\u001b[0m\n",
      "\u001b[0;32m~/TF_NEW/tf-transformers/src/tf_transformers/text/text_decoder_seq2seq.py\u001b[0m in \u001b[0;36mbeam_decode\u001b[0;34m(self, inputs_original, num_beams, max_iterations, temperature, alpha, top_k, top_p, do_sample, eos_id)\u001b[0m\n\u001b[1;32m    372\u001b[0m         \u001b[0;32mwhile\u001b[0m \u001b[0;34m(\u001b[0m\u001b[0mi\u001b[0m \u001b[0;34m<\u001b[0m \u001b[0mmax_iterations\u001b[0m\u001b[0;34m)\u001b[0m \u001b[0;32mand\u001b[0m \u001b[0;34m(\u001b[0m\u001b[0meos_found\u001b[0m \u001b[0;32mis\u001b[0m \u001b[0;32mFalse\u001b[0m\u001b[0;34m)\u001b[0m\u001b[0;34m:\u001b[0m\u001b[0;34m\u001b[0m\u001b[0;34m\u001b[0m\u001b[0m\n\u001b[1;32m    373\u001b[0m \u001b[0;34m\u001b[0m\u001b[0m\n\u001b[0;32m--> 374\u001b[0;31m             \u001b[0mresult\u001b[0m \u001b[0;34m=\u001b[0m \u001b[0mself\u001b[0m\u001b[0;34m.\u001b[0m\u001b[0mmodel_fn\u001b[0m\u001b[0;34m(\u001b[0m\u001b[0minputs_repeated\u001b[0m\u001b[0;34m)\u001b[0m\u001b[0;34m\u001b[0m\u001b[0;34m\u001b[0m\u001b[0m\n\u001b[0m\u001b[1;32m    375\u001b[0m \u001b[0;34m\u001b[0m\u001b[0m\n\u001b[1;32m    376\u001b[0m             \u001b[0mmodel_logits\u001b[0m \u001b[0;34m=\u001b[0m \u001b[0mresult\u001b[0m\u001b[0;34m[\u001b[0m\u001b[0;34m\"last_token_logits\"\u001b[0m\u001b[0;34m]\u001b[0m \u001b[0;34m/\u001b[0m \u001b[0mtemperature\u001b[0m\u001b[0;34m\u001b[0m\u001b[0;34m\u001b[0m\u001b[0m\n",
      "\u001b[0;32m/usr/local/lib/python3.8/dist-packages/tensorflow/python/keras/engine/base_layer.py\u001b[0m in \u001b[0;36m__call__\u001b[0;34m(self, *args, **kwargs)\u001b[0m\n\u001b[1;32m   1010\u001b[0m         with autocast_variable.enable_auto_cast_variables(\n\u001b[1;32m   1011\u001b[0m             self._compute_dtype_object):\n\u001b[0;32m-> 1012\u001b[0;31m           \u001b[0moutputs\u001b[0m \u001b[0;34m=\u001b[0m \u001b[0mcall_fn\u001b[0m\u001b[0;34m(\u001b[0m\u001b[0minputs\u001b[0m\u001b[0;34m,\u001b[0m \u001b[0;34m*\u001b[0m\u001b[0margs\u001b[0m\u001b[0;34m,\u001b[0m \u001b[0;34m**\u001b[0m\u001b[0mkwargs\u001b[0m\u001b[0;34m)\u001b[0m\u001b[0;34m\u001b[0m\u001b[0;34m\u001b[0m\u001b[0m\n\u001b[0m\u001b[1;32m   1013\u001b[0m \u001b[0;34m\u001b[0m\u001b[0m\n\u001b[1;32m   1014\u001b[0m         \u001b[0;32mif\u001b[0m \u001b[0mself\u001b[0m\u001b[0;34m.\u001b[0m\u001b[0m_activity_regularizer\u001b[0m\u001b[0;34m:\u001b[0m\u001b[0;34m\u001b[0m\u001b[0;34m\u001b[0m\u001b[0m\n",
      "\u001b[0;32m/usr/local/lib/python3.8/dist-packages/tensorflow/python/keras/engine/functional.py\u001b[0m in \u001b[0;36mcall\u001b[0;34m(self, inputs, training, mask)\u001b[0m\n\u001b[1;32m    422\u001b[0m         \u001b[0ma\u001b[0m \u001b[0mlist\u001b[0m \u001b[0mof\u001b[0m \u001b[0mtensors\u001b[0m \u001b[0;32mif\u001b[0m \u001b[0mthere\u001b[0m \u001b[0mare\u001b[0m \u001b[0mmore\u001b[0m \u001b[0mthan\u001b[0m \u001b[0mone\u001b[0m \u001b[0moutputs\u001b[0m\u001b[0;34m.\u001b[0m\u001b[0;34m\u001b[0m\u001b[0;34m\u001b[0m\u001b[0m\n\u001b[1;32m    423\u001b[0m     \"\"\"\n\u001b[0;32m--> 424\u001b[0;31m     return self._run_internal_graph(\n\u001b[0m\u001b[1;32m    425\u001b[0m         inputs, training=training, mask=mask)\n\u001b[1;32m    426\u001b[0m \u001b[0;34m\u001b[0m\u001b[0m\n",
      "\u001b[0;32m/usr/local/lib/python3.8/dist-packages/tensorflow/python/keras/engine/functional.py\u001b[0m in \u001b[0;36m_run_internal_graph\u001b[0;34m(self, inputs, training, mask)\u001b[0m\n\u001b[1;32m    558\u001b[0m \u001b[0;34m\u001b[0m\u001b[0m\n\u001b[1;32m    559\u001b[0m         \u001b[0margs\u001b[0m\u001b[0;34m,\u001b[0m \u001b[0mkwargs\u001b[0m \u001b[0;34m=\u001b[0m \u001b[0mnode\u001b[0m\u001b[0;34m.\u001b[0m\u001b[0mmap_arguments\u001b[0m\u001b[0;34m(\u001b[0m\u001b[0mtensor_dict\u001b[0m\u001b[0;34m)\u001b[0m\u001b[0;34m\u001b[0m\u001b[0;34m\u001b[0m\u001b[0m\n\u001b[0;32m--> 560\u001b[0;31m         \u001b[0moutputs\u001b[0m \u001b[0;34m=\u001b[0m \u001b[0mnode\u001b[0m\u001b[0;34m.\u001b[0m\u001b[0mlayer\u001b[0m\u001b[0;34m(\u001b[0m\u001b[0;34m*\u001b[0m\u001b[0margs\u001b[0m\u001b[0;34m,\u001b[0m \u001b[0;34m**\u001b[0m\u001b[0mkwargs\u001b[0m\u001b[0;34m)\u001b[0m\u001b[0;34m\u001b[0m\u001b[0;34m\u001b[0m\u001b[0m\n\u001b[0m\u001b[1;32m    561\u001b[0m \u001b[0;34m\u001b[0m\u001b[0m\n\u001b[1;32m    562\u001b[0m         \u001b[0;31m# Update tensor_dict.\u001b[0m\u001b[0;34m\u001b[0m\u001b[0;34m\u001b[0m\u001b[0;34m\u001b[0m\u001b[0m\n",
      "\u001b[0;32m/usr/local/lib/python3.8/dist-packages/tensorflow/python/keras/engine/base_layer.py\u001b[0m in \u001b[0;36m__call__\u001b[0;34m(self, *args, **kwargs)\u001b[0m\n\u001b[1;32m   1010\u001b[0m         with autocast_variable.enable_auto_cast_variables(\n\u001b[1;32m   1011\u001b[0m             self._compute_dtype_object):\n\u001b[0;32m-> 1012\u001b[0;31m           \u001b[0moutputs\u001b[0m \u001b[0;34m=\u001b[0m \u001b[0mcall_fn\u001b[0m\u001b[0;34m(\u001b[0m\u001b[0minputs\u001b[0m\u001b[0;34m,\u001b[0m \u001b[0;34m*\u001b[0m\u001b[0margs\u001b[0m\u001b[0;34m,\u001b[0m \u001b[0;34m**\u001b[0m\u001b[0mkwargs\u001b[0m\u001b[0;34m)\u001b[0m\u001b[0;34m\u001b[0m\u001b[0;34m\u001b[0m\u001b[0m\n\u001b[0m\u001b[1;32m   1013\u001b[0m \u001b[0;34m\u001b[0m\u001b[0m\n\u001b[1;32m   1014\u001b[0m         \u001b[0;32mif\u001b[0m \u001b[0mself\u001b[0m\u001b[0;34m.\u001b[0m\u001b[0m_activity_regularizer\u001b[0m\u001b[0;34m:\u001b[0m\u001b[0;34m\u001b[0m\u001b[0;34m\u001b[0m\u001b[0m\n",
      "\u001b[0;32m~/TF_NEW/tf-transformers/src/tf_transformers/models/encoder_decoder/encoder_decoder.py\u001b[0m in \u001b[0;36mcall\u001b[0;34m(self, inputs)\u001b[0m\n\u001b[1;32m    381\u001b[0m         \"\"\"\n\u001b[1;32m    382\u001b[0m         \u001b[0;32mif\u001b[0m \u001b[0mself\u001b[0m\u001b[0;34m.\u001b[0m\u001b[0m_is_training\u001b[0m \u001b[0;32mis\u001b[0m \u001b[0;32mFalse\u001b[0m \u001b[0;32mand\u001b[0m \u001b[0mself\u001b[0m\u001b[0;34m.\u001b[0m\u001b[0m_decoder\u001b[0m\u001b[0;34m.\u001b[0m\u001b[0m_use_auto_regressive\u001b[0m\u001b[0;34m:\u001b[0m\u001b[0;34m\u001b[0m\u001b[0;34m\u001b[0m\u001b[0m\n\u001b[0;32m--> 383\u001b[0;31m             \u001b[0moutputs\u001b[0m \u001b[0;34m=\u001b[0m \u001b[0mself\u001b[0m\u001b[0;34m.\u001b[0m\u001b[0mcall_auto_regressive\u001b[0m\u001b[0;34m(\u001b[0m\u001b[0minputs\u001b[0m\u001b[0;34m)\u001b[0m\u001b[0;34m\u001b[0m\u001b[0;34m\u001b[0m\u001b[0m\n\u001b[0m\u001b[1;32m    384\u001b[0m         \u001b[0;32melse\u001b[0m\u001b[0;34m:\u001b[0m\u001b[0;34m\u001b[0m\u001b[0;34m\u001b[0m\u001b[0m\n\u001b[1;32m    385\u001b[0m             \u001b[0moutputs\u001b[0m \u001b[0;34m=\u001b[0m \u001b[0mself\u001b[0m\u001b[0;34m.\u001b[0m\u001b[0mcall_forward\u001b[0m\u001b[0;34m(\u001b[0m\u001b[0minputs\u001b[0m\u001b[0;34m)\u001b[0m\u001b[0;34m\u001b[0m\u001b[0;34m\u001b[0m\u001b[0m\n",
      "\u001b[0;32m~/TF_NEW/tf-transformers/src/tf_transformers/models/encoder_decoder/encoder_decoder.py\u001b[0m in \u001b[0;36mcall_auto_regressive\u001b[0;34m(self, inputs)\u001b[0m\n\u001b[1;32m    361\u001b[0m         \u001b[0mdecoder_inputs\u001b[0m\u001b[0;34m[\u001b[0m\u001b[0;34m\"decoder_encoder_mask\"\u001b[0m\u001b[0;34m]\u001b[0m \u001b[0;34m=\u001b[0m \u001b[0mdecoder_encoder_mask\u001b[0m\u001b[0;34m\u001b[0m\u001b[0;34m\u001b[0m\u001b[0m\n\u001b[1;32m    362\u001b[0m \u001b[0;34m\u001b[0m\u001b[0m\n\u001b[0;32m--> 363\u001b[0;31m         \u001b[0mdecoder_outputs\u001b[0m \u001b[0;34m=\u001b[0m \u001b[0mself\u001b[0m\u001b[0;34m.\u001b[0m\u001b[0m_decoder\u001b[0m\u001b[0;34m(\u001b[0m\u001b[0mdecoder_inputs\u001b[0m\u001b[0;34m)\u001b[0m\u001b[0;34m\u001b[0m\u001b[0;34m\u001b[0m\u001b[0m\n\u001b[0m\u001b[1;32m    364\u001b[0m         \u001b[0mdecoder_outputs\u001b[0m\u001b[0;34m[\u001b[0m\u001b[0;34m\"encoder_hidden_states\"\u001b[0m\u001b[0;34m]\u001b[0m \u001b[0;34m=\u001b[0m \u001b[0mencoder_hidden_states\u001b[0m\u001b[0;34m\u001b[0m\u001b[0;34m\u001b[0m\u001b[0m\n\u001b[1;32m    365\u001b[0m         \u001b[0mdecoder_outputs\u001b[0m\u001b[0;34m[\u001b[0m\u001b[0;34m\"decoder_all_cache_key\"\u001b[0m\u001b[0;34m]\u001b[0m \u001b[0;34m=\u001b[0m \u001b[0mdecoder_outputs\u001b[0m\u001b[0;34m[\u001b[0m\u001b[0;34m\"all_cache_key\"\u001b[0m\u001b[0;34m]\u001b[0m\u001b[0;34m\u001b[0m\u001b[0;34m\u001b[0m\u001b[0m\n",
      "\u001b[0;32m/usr/local/lib/python3.8/dist-packages/tensorflow/python/keras/engine/base_layer.py\u001b[0m in \u001b[0;36m__call__\u001b[0;34m(self, *args, **kwargs)\u001b[0m\n\u001b[1;32m   1010\u001b[0m         with autocast_variable.enable_auto_cast_variables(\n\u001b[1;32m   1011\u001b[0m             self._compute_dtype_object):\n\u001b[0;32m-> 1012\u001b[0;31m           \u001b[0moutputs\u001b[0m \u001b[0;34m=\u001b[0m \u001b[0mcall_fn\u001b[0m\u001b[0;34m(\u001b[0m\u001b[0minputs\u001b[0m\u001b[0;34m,\u001b[0m \u001b[0;34m*\u001b[0m\u001b[0margs\u001b[0m\u001b[0;34m,\u001b[0m \u001b[0;34m**\u001b[0m\u001b[0mkwargs\u001b[0m\u001b[0;34m)\u001b[0m\u001b[0;34m\u001b[0m\u001b[0;34m\u001b[0m\u001b[0m\n\u001b[0m\u001b[1;32m   1013\u001b[0m \u001b[0;34m\u001b[0m\u001b[0m\n\u001b[1;32m   1014\u001b[0m         \u001b[0;32mif\u001b[0m \u001b[0mself\u001b[0m\u001b[0;34m.\u001b[0m\u001b[0m_activity_regularizer\u001b[0m\u001b[0;34m:\u001b[0m\u001b[0;34m\u001b[0m\u001b[0;34m\u001b[0m\u001b[0m\n",
      "\u001b[0;32m~/TF_NEW/tf-transformers/src/tf_transformers/models/roberta/roberta.py\u001b[0m in \u001b[0;36mcall\u001b[0;34m(self, inputs)\u001b[0m\n\u001b[1;32m    879\u001b[0m \u001b[0;34m\u001b[0m\u001b[0m\n\u001b[1;32m    880\u001b[0m     \u001b[0;32mdef\u001b[0m \u001b[0mget_embedding_table\u001b[0m\u001b[0;34m(\u001b[0m\u001b[0mself\u001b[0m\u001b[0;34m)\u001b[0m\u001b[0;34m:\u001b[0m\u001b[0;34m\u001b[0m\u001b[0;34m\u001b[0m\u001b[0m\n\u001b[0;32m--> 881\u001b[0;31m         \u001b[0;32mreturn\u001b[0m \u001b[0mself\u001b[0m\u001b[0;34m.\u001b[0m\u001b[0m_embedding_layer\u001b[0m\u001b[0;34m.\u001b[0m\u001b[0membeddings\u001b[0m\u001b[0;34m\u001b[0m\u001b[0;34m\u001b[0m\u001b[0m\n\u001b[0m\u001b[1;32m    882\u001b[0m \u001b[0;34m\u001b[0m\u001b[0m\n\u001b[1;32m    883\u001b[0m     \u001b[0;32mdef\u001b[0m \u001b[0mget_config\u001b[0m\u001b[0;34m(\u001b[0m\u001b[0mself\u001b[0m\u001b[0;34m)\u001b[0m\u001b[0;34m:\u001b[0m\u001b[0;34m\u001b[0m\u001b[0;34m\u001b[0m\u001b[0m\n",
      "\u001b[0;32m~/TF_NEW/tf-transformers/src/tf_transformers/models/roberta/roberta.py\u001b[0m in \u001b[0;36mcall_decoder_auto_regressive\u001b[0;34m(self, inputs)\u001b[0m\n\u001b[1;32m    834\u001b[0m                     \u001b[0membeddings\u001b[0m\u001b[0;34m,\u001b[0m\u001b[0;34m\u001b[0m\u001b[0;34m\u001b[0m\u001b[0m\n\u001b[1;32m    835\u001b[0m                     \u001b[0mattention_mask\u001b[0m\u001b[0;34m,\u001b[0m\u001b[0;34m\u001b[0m\u001b[0;34m\u001b[0m\u001b[0m\n\u001b[0;32m--> 836\u001b[0;31m                     \u001b[0mencoder_hidden_state\u001b[0m\u001b[0;34m,\u001b[0m\u001b[0;34m\u001b[0m\u001b[0;34m\u001b[0m\u001b[0m\n\u001b[0m\u001b[1;32m    837\u001b[0m                     \u001b[0mdecoder_encoder_mask\u001b[0m\u001b[0;34m,\u001b[0m\u001b[0;34m\u001b[0m\u001b[0;34m\u001b[0m\u001b[0m\n\u001b[1;32m    838\u001b[0m                 ],\n",
      "\u001b[0;32m/usr/local/lib/python3.8/dist-packages/tensorflow/python/keras/engine/base_layer.py\u001b[0m in \u001b[0;36m__call__\u001b[0;34m(self, *args, **kwargs)\u001b[0m\n\u001b[1;32m   1010\u001b[0m         with autocast_variable.enable_auto_cast_variables(\n\u001b[1;32m   1011\u001b[0m             self._compute_dtype_object):\n\u001b[0;32m-> 1012\u001b[0;31m           \u001b[0moutputs\u001b[0m \u001b[0;34m=\u001b[0m \u001b[0mcall_fn\u001b[0m\u001b[0;34m(\u001b[0m\u001b[0minputs\u001b[0m\u001b[0;34m,\u001b[0m \u001b[0;34m*\u001b[0m\u001b[0margs\u001b[0m\u001b[0;34m,\u001b[0m \u001b[0;34m**\u001b[0m\u001b[0mkwargs\u001b[0m\u001b[0;34m)\u001b[0m\u001b[0;34m\u001b[0m\u001b[0;34m\u001b[0m\u001b[0m\n\u001b[0m\u001b[1;32m   1013\u001b[0m \u001b[0;34m\u001b[0m\u001b[0m\n\u001b[1;32m   1014\u001b[0m         \u001b[0;32mif\u001b[0m \u001b[0mself\u001b[0m\u001b[0;34m.\u001b[0m\u001b[0m_activity_regularizer\u001b[0m\u001b[0;34m:\u001b[0m\u001b[0;34m\u001b[0m\u001b[0;34m\u001b[0m\u001b[0m\n",
      "\u001b[0;32m~/TF_NEW/tf-transformers/src/tf_transformers/layers/transformer/bert_transformer.py\u001b[0m in \u001b[0;36mcall\u001b[0;34m(self, inputs, mode, cache_key, cache_value)\u001b[0m\n\u001b[1;32m    327\u001b[0m         \"\"\"\n\u001b[1;32m    328\u001b[0m         \u001b[0;32mif\u001b[0m \u001b[0mself\u001b[0m\u001b[0;34m.\u001b[0m\u001b[0m_use_decoder\u001b[0m\u001b[0;34m:\u001b[0m\u001b[0;34m\u001b[0m\u001b[0;34m\u001b[0m\u001b[0m\n\u001b[0;32m--> 329\u001b[0;31m             \u001b[0moutputs\u001b[0m \u001b[0;34m=\u001b[0m \u001b[0mself\u001b[0m\u001b[0;34m.\u001b[0m\u001b[0mcall_decoder\u001b[0m\u001b[0;34m(\u001b[0m\u001b[0minputs\u001b[0m\u001b[0;34m,\u001b[0m \u001b[0mcache_key\u001b[0m\u001b[0;34m=\u001b[0m\u001b[0mcache_key\u001b[0m\u001b[0;34m,\u001b[0m \u001b[0mcache_value\u001b[0m\u001b[0;34m=\u001b[0m\u001b[0mcache_value\u001b[0m\u001b[0;34m)\u001b[0m\u001b[0;34m\u001b[0m\u001b[0;34m\u001b[0m\u001b[0m\n\u001b[0m\u001b[1;32m    330\u001b[0m         \u001b[0;32melse\u001b[0m\u001b[0;34m:\u001b[0m\u001b[0;34m\u001b[0m\u001b[0;34m\u001b[0m\u001b[0m\n\u001b[1;32m    331\u001b[0m             \u001b[0moutputs\u001b[0m \u001b[0;34m=\u001b[0m \u001b[0mself\u001b[0m\u001b[0;34m.\u001b[0m\u001b[0mcall_encoder\u001b[0m\u001b[0;34m(\u001b[0m\u001b[0minputs\u001b[0m\u001b[0;34m,\u001b[0m \u001b[0mcache_key\u001b[0m\u001b[0;34m=\u001b[0m\u001b[0mcache_key\u001b[0m\u001b[0;34m,\u001b[0m \u001b[0mcache_value\u001b[0m\u001b[0;34m=\u001b[0m\u001b[0mcache_value\u001b[0m\u001b[0;34m)\u001b[0m\u001b[0;34m\u001b[0m\u001b[0;34m\u001b[0m\u001b[0m\n",
      "\u001b[0;32m~/TF_NEW/tf-transformers/src/tf_transformers/layers/transformer/bert_transformer.py\u001b[0m in \u001b[0;36mcall_decoder\u001b[0;34m(self, inputs, cache_key, cache_value)\u001b[0m\n\u001b[1;32m    296\u001b[0m                 \u001b[0mcache_key_cross\u001b[0m \u001b[0;34m=\u001b[0m \u001b[0mtf\u001b[0m\u001b[0;34m.\u001b[0m\u001b[0mzeros_like\u001b[0m\u001b[0;34m(\u001b[0m\u001b[0mcache_key\u001b[0m\u001b[0;34m)\u001b[0m\u001b[0;34m\u001b[0m\u001b[0;34m\u001b[0m\u001b[0m\n\u001b[1;32m    297\u001b[0m                 \u001b[0mcache_value_cross\u001b[0m \u001b[0;34m=\u001b[0m \u001b[0mtf\u001b[0m\u001b[0;34m.\u001b[0m\u001b[0mzeros_like\u001b[0m\u001b[0;34m(\u001b[0m\u001b[0mcache_value\u001b[0m\u001b[0;34m)\u001b[0m\u001b[0;34m\u001b[0m\u001b[0;34m\u001b[0m\u001b[0m\n\u001b[0;32m--> 298\u001b[0;31m             attention_output, _, _ = self._cross_attention_layer(\n\u001b[0m\u001b[1;32m    299\u001b[0m                 \u001b[0mattention_inputs_for_decoder\u001b[0m\u001b[0;34m,\u001b[0m \u001b[0mcache_key\u001b[0m\u001b[0;34m=\u001b[0m\u001b[0mcache_key_cross\u001b[0m\u001b[0;34m,\u001b[0m \u001b[0mcache_value\u001b[0m\u001b[0;34m=\u001b[0m\u001b[0mcache_value_cross\u001b[0m\u001b[0;34m\u001b[0m\u001b[0;34m\u001b[0m\u001b[0m\n\u001b[1;32m    300\u001b[0m             )\n",
      "\u001b[0;32m/usr/local/lib/python3.8/dist-packages/tensorflow/python/keras/engine/base_layer.py\u001b[0m in \u001b[0;36m__call__\u001b[0;34m(self, *args, **kwargs)\u001b[0m\n\u001b[1;32m   1010\u001b[0m         with autocast_variable.enable_auto_cast_variables(\n\u001b[1;32m   1011\u001b[0m             self._compute_dtype_object):\n\u001b[0;32m-> 1012\u001b[0;31m           \u001b[0moutputs\u001b[0m \u001b[0;34m=\u001b[0m \u001b[0mcall_fn\u001b[0m\u001b[0;34m(\u001b[0m\u001b[0minputs\u001b[0m\u001b[0;34m,\u001b[0m \u001b[0;34m*\u001b[0m\u001b[0margs\u001b[0m\u001b[0;34m,\u001b[0m \u001b[0;34m**\u001b[0m\u001b[0mkwargs\u001b[0m\u001b[0;34m)\u001b[0m\u001b[0;34m\u001b[0m\u001b[0;34m\u001b[0m\u001b[0m\n\u001b[0m\u001b[1;32m   1013\u001b[0m \u001b[0;34m\u001b[0m\u001b[0m\n\u001b[1;32m   1014\u001b[0m         \u001b[0;32mif\u001b[0m \u001b[0mself\u001b[0m\u001b[0;34m.\u001b[0m\u001b[0m_activity_regularizer\u001b[0m\u001b[0;34m:\u001b[0m\u001b[0;34m\u001b[0m\u001b[0;34m\u001b[0m\u001b[0m\n",
      "\u001b[0;32m~/TF_NEW/tf-transformers/src/tf_transformers/layers/attention/bert_attention.py\u001b[0m in \u001b[0;36mcall\u001b[0;34m(self, inputs, cache_key, cache_value)\u001b[0m\n\u001b[1;32m    312\u001b[0m         \u001b[0;31m# For decoder this function is used for training and inference\u001b[0m\u001b[0;34m\u001b[0m\u001b[0;34m\u001b[0m\u001b[0;34m\u001b[0m\u001b[0m\n\u001b[1;32m    313\u001b[0m         \u001b[0;32mif\u001b[0m \u001b[0;34m(\u001b[0m\u001b[0mself\u001b[0m\u001b[0;34m.\u001b[0m\u001b[0m_is_training\u001b[0m \u001b[0;32mis\u001b[0m \u001b[0;32mFalse\u001b[0m \u001b[0;32mand\u001b[0m \u001b[0mself\u001b[0m\u001b[0;34m.\u001b[0m\u001b[0m_use_auto_regressive\u001b[0m\u001b[0;34m)\u001b[0m \u001b[0;32mor\u001b[0m \u001b[0mcache_key\u001b[0m \u001b[0;32mis\u001b[0m \u001b[0;32mnot\u001b[0m \u001b[0;32mNone\u001b[0m\u001b[0;34m:\u001b[0m\u001b[0;34m\u001b[0m\u001b[0;34m\u001b[0m\u001b[0m\n\u001b[0;32m--> 314\u001b[0;31m             \u001b[0mattention_states\u001b[0m\u001b[0;34m,\u001b[0m \u001b[0mkey_tensor\u001b[0m\u001b[0;34m,\u001b[0m \u001b[0mvalue_tensor\u001b[0m \u001b[0;34m=\u001b[0m \u001b[0mself\u001b[0m\u001b[0;34m.\u001b[0m\u001b[0mcall_predict\u001b[0m\u001b[0;34m(\u001b[0m\u001b[0minputs\u001b[0m\u001b[0;34m,\u001b[0m \u001b[0mcache_key\u001b[0m\u001b[0;34m,\u001b[0m \u001b[0mcache_value\u001b[0m\u001b[0;34m)\u001b[0m\u001b[0;34m\u001b[0m\u001b[0;34m\u001b[0m\u001b[0m\n\u001b[0m\u001b[1;32m    315\u001b[0m             \u001b[0;32mreturn\u001b[0m \u001b[0mattention_states\u001b[0m\u001b[0;34m,\u001b[0m \u001b[0mkey_tensor\u001b[0m\u001b[0;34m,\u001b[0m \u001b[0mvalue_tensor\u001b[0m\u001b[0;34m\u001b[0m\u001b[0;34m\u001b[0m\u001b[0m\n\u001b[1;32m    316\u001b[0m         \u001b[0;32melse\u001b[0m\u001b[0;34m:\u001b[0m\u001b[0;34m\u001b[0m\u001b[0;34m\u001b[0m\u001b[0m\n",
      "\u001b[0;32m~/TF_NEW/tf-transformers/src/tf_transformers/layers/attention/bert_attention.py\u001b[0m in \u001b[0;36mcall_predict\u001b[0;34m(self, inputs, cache_key, cache_value)\u001b[0m\n\u001b[1;32m    237\u001b[0m             \u001b[0;32mreturn\u001b[0m \u001b[0mquery_tensor\u001b[0m\u001b[0;34m,\u001b[0m \u001b[0mkey_tensor\u001b[0m\u001b[0;34m,\u001b[0m \u001b[0mvalue_tensor\u001b[0m\u001b[0;34m\u001b[0m\u001b[0;34m\u001b[0m\u001b[0m\n\u001b[1;32m    238\u001b[0m \u001b[0;34m\u001b[0m\u001b[0m\n\u001b[0;32m--> 239\u001b[0;31m         query_tensor, key_tensor, value_tensor = tf.cond(\n\u001b[0m\u001b[1;32m    240\u001b[0m             \u001b[0mtf\u001b[0m\u001b[0;34m.\u001b[0m\u001b[0mequal\u001b[0m\u001b[0;34m(\u001b[0m\u001b[0mtf\u001b[0m\u001b[0;34m.\u001b[0m\u001b[0mreduce_sum\u001b[0m\u001b[0;34m(\u001b[0m\u001b[0mcache_key\u001b[0m\u001b[0;34m)\u001b[0m\u001b[0;34m,\u001b[0m \u001b[0;36m0.0\u001b[0m\u001b[0;34m)\u001b[0m\u001b[0;34m,\u001b[0m \u001b[0;32mlambda\u001b[0m\u001b[0;34m:\u001b[0m \u001b[0mleft\u001b[0m\u001b[0;34m(\u001b[0m\u001b[0;34m)\u001b[0m\u001b[0;34m,\u001b[0m \u001b[0;32mlambda\u001b[0m\u001b[0;34m:\u001b[0m \u001b[0mright\u001b[0m\u001b[0;34m(\u001b[0m\u001b[0;34m)\u001b[0m\u001b[0;34m\u001b[0m\u001b[0;34m\u001b[0m\u001b[0m\n\u001b[1;32m    241\u001b[0m         )\n",
      "\u001b[0;32m/usr/local/lib/python3.8/dist-packages/tensorflow/python/util/dispatch.py\u001b[0m in \u001b[0;36mwrapper\u001b[0;34m(*args, **kwargs)\u001b[0m\n\u001b[1;32m    199\u001b[0m     \u001b[0;34m\"\"\"Call target, and fall back on dispatchers if there is a TypeError.\"\"\"\u001b[0m\u001b[0;34m\u001b[0m\u001b[0;34m\u001b[0m\u001b[0m\n\u001b[1;32m    200\u001b[0m     \u001b[0;32mtry\u001b[0m\u001b[0;34m:\u001b[0m\u001b[0;34m\u001b[0m\u001b[0;34m\u001b[0m\u001b[0m\n\u001b[0;32m--> 201\u001b[0;31m       \u001b[0;32mreturn\u001b[0m \u001b[0mtarget\u001b[0m\u001b[0;34m(\u001b[0m\u001b[0;34m*\u001b[0m\u001b[0margs\u001b[0m\u001b[0;34m,\u001b[0m \u001b[0;34m**\u001b[0m\u001b[0mkwargs\u001b[0m\u001b[0;34m)\u001b[0m\u001b[0;34m\u001b[0m\u001b[0;34m\u001b[0m\u001b[0m\n\u001b[0m\u001b[1;32m    202\u001b[0m     \u001b[0;32mexcept\u001b[0m \u001b[0;34m(\u001b[0m\u001b[0mTypeError\u001b[0m\u001b[0;34m,\u001b[0m \u001b[0mValueError\u001b[0m\u001b[0;34m)\u001b[0m\u001b[0;34m:\u001b[0m\u001b[0;34m\u001b[0m\u001b[0;34m\u001b[0m\u001b[0m\n\u001b[1;32m    203\u001b[0m       \u001b[0;31m# Note: convert_to_eager_tensor currently raises a ValueError, not a\u001b[0m\u001b[0;34m\u001b[0m\u001b[0;34m\u001b[0m\u001b[0;34m\u001b[0m\u001b[0m\n",
      "\u001b[0;32m/usr/local/lib/python3.8/dist-packages/tensorflow/python/ops/control_flow_ops.py\u001b[0m in \u001b[0;36mcond_for_tf_v2\u001b[0;34m(pred, true_fn, false_fn, name)\u001b[0m\n\u001b[1;32m   1394\u001b[0m \u001b[0;34m\u001b[0m\u001b[0m\n\u001b[1;32m   1395\u001b[0m   \"\"\"\n\u001b[0;32m-> 1396\u001b[0;31m   \u001b[0;32mreturn\u001b[0m \u001b[0mcond\u001b[0m\u001b[0;34m(\u001b[0m\u001b[0mpred\u001b[0m\u001b[0;34m,\u001b[0m \u001b[0mtrue_fn\u001b[0m\u001b[0;34m=\u001b[0m\u001b[0mtrue_fn\u001b[0m\u001b[0;34m,\u001b[0m \u001b[0mfalse_fn\u001b[0m\u001b[0;34m=\u001b[0m\u001b[0mfalse_fn\u001b[0m\u001b[0;34m,\u001b[0m \u001b[0mstrict\u001b[0m\u001b[0;34m=\u001b[0m\u001b[0;32mTrue\u001b[0m\u001b[0;34m,\u001b[0m \u001b[0mname\u001b[0m\u001b[0;34m=\u001b[0m\u001b[0mname\u001b[0m\u001b[0;34m)\u001b[0m\u001b[0;34m\u001b[0m\u001b[0;34m\u001b[0m\u001b[0m\n\u001b[0m\u001b[1;32m   1397\u001b[0m \u001b[0;34m\u001b[0m\u001b[0m\n\u001b[1;32m   1398\u001b[0m \u001b[0;34m\u001b[0m\u001b[0m\n",
      "\u001b[0;32m/usr/local/lib/python3.8/dist-packages/tensorflow/python/util/dispatch.py\u001b[0m in \u001b[0;36mwrapper\u001b[0;34m(*args, **kwargs)\u001b[0m\n\u001b[1;32m    199\u001b[0m     \u001b[0;34m\"\"\"Call target, and fall back on dispatchers if there is a TypeError.\"\"\"\u001b[0m\u001b[0;34m\u001b[0m\u001b[0;34m\u001b[0m\u001b[0m\n\u001b[1;32m    200\u001b[0m     \u001b[0;32mtry\u001b[0m\u001b[0;34m:\u001b[0m\u001b[0;34m\u001b[0m\u001b[0;34m\u001b[0m\u001b[0m\n\u001b[0;32m--> 201\u001b[0;31m       \u001b[0;32mreturn\u001b[0m \u001b[0mtarget\u001b[0m\u001b[0;34m(\u001b[0m\u001b[0;34m*\u001b[0m\u001b[0margs\u001b[0m\u001b[0;34m,\u001b[0m \u001b[0;34m**\u001b[0m\u001b[0mkwargs\u001b[0m\u001b[0;34m)\u001b[0m\u001b[0;34m\u001b[0m\u001b[0;34m\u001b[0m\u001b[0m\n\u001b[0m\u001b[1;32m    202\u001b[0m     \u001b[0;32mexcept\u001b[0m \u001b[0;34m(\u001b[0m\u001b[0mTypeError\u001b[0m\u001b[0;34m,\u001b[0m \u001b[0mValueError\u001b[0m\u001b[0;34m)\u001b[0m\u001b[0;34m:\u001b[0m\u001b[0;34m\u001b[0m\u001b[0;34m\u001b[0m\u001b[0m\n\u001b[1;32m    203\u001b[0m       \u001b[0;31m# Note: convert_to_eager_tensor currently raises a ValueError, not a\u001b[0m\u001b[0;34m\u001b[0m\u001b[0;34m\u001b[0m\u001b[0;34m\u001b[0m\u001b[0m\n",
      "\u001b[0;32m/usr/local/lib/python3.8/dist-packages/tensorflow/python/util/deprecation.py\u001b[0m in \u001b[0;36mnew_func\u001b[0;34m(*args, **kwargs)\u001b[0m\n\u001b[1;32m    536\u001b[0m                 \u001b[0;34m'in a future version'\u001b[0m \u001b[0;32mif\u001b[0m \u001b[0mdate\u001b[0m \u001b[0;32mis\u001b[0m \u001b[0;32mNone\u001b[0m \u001b[0;32melse\u001b[0m \u001b[0;34m(\u001b[0m\u001b[0;34m'after %s'\u001b[0m \u001b[0;34m%\u001b[0m \u001b[0mdate\u001b[0m\u001b[0;34m)\u001b[0m\u001b[0;34m,\u001b[0m\u001b[0;34m\u001b[0m\u001b[0;34m\u001b[0m\u001b[0m\n\u001b[1;32m    537\u001b[0m                 instructions)\n\u001b[0;32m--> 538\u001b[0;31m       \u001b[0;32mreturn\u001b[0m \u001b[0mfunc\u001b[0m\u001b[0;34m(\u001b[0m\u001b[0;34m*\u001b[0m\u001b[0margs\u001b[0m\u001b[0;34m,\u001b[0m \u001b[0;34m**\u001b[0m\u001b[0mkwargs\u001b[0m\u001b[0;34m)\u001b[0m\u001b[0;34m\u001b[0m\u001b[0;34m\u001b[0m\u001b[0m\n\u001b[0m\u001b[1;32m    539\u001b[0m \u001b[0;34m\u001b[0m\u001b[0m\n\u001b[1;32m    540\u001b[0m     doc = _add_deprecated_arg_notice_to_docstring(\n",
      "\u001b[0;32m/usr/local/lib/python3.8/dist-packages/tensorflow/python/ops/control_flow_ops.py\u001b[0m in \u001b[0;36mcond\u001b[0;34m(pred, true_fn, false_fn, strict, name, fn1, fn2)\u001b[0m\n\u001b[1;32m   1206\u001b[0m     \u001b[0;32mif\u001b[0m \u001b[0mcontext\u001b[0m\u001b[0;34m.\u001b[0m\u001b[0mexecuting_eagerly\u001b[0m\u001b[0;34m(\u001b[0m\u001b[0;34m)\u001b[0m\u001b[0;34m:\u001b[0m\u001b[0;34m\u001b[0m\u001b[0;34m\u001b[0m\u001b[0m\n\u001b[1;32m   1207\u001b[0m       \u001b[0;32mif\u001b[0m \u001b[0mpred\u001b[0m\u001b[0;34m:\u001b[0m\u001b[0;34m\u001b[0m\u001b[0;34m\u001b[0m\u001b[0m\n\u001b[0;32m-> 1208\u001b[0;31m         \u001b[0mresult\u001b[0m \u001b[0;34m=\u001b[0m \u001b[0mtrue_fn\u001b[0m\u001b[0;34m(\u001b[0m\u001b[0;34m)\u001b[0m\u001b[0;34m\u001b[0m\u001b[0;34m\u001b[0m\u001b[0m\n\u001b[0m\u001b[1;32m   1209\u001b[0m       \u001b[0;32melse\u001b[0m\u001b[0;34m:\u001b[0m\u001b[0;34m\u001b[0m\u001b[0;34m\u001b[0m\u001b[0m\n\u001b[1;32m   1210\u001b[0m         \u001b[0mresult\u001b[0m \u001b[0;34m=\u001b[0m \u001b[0mfalse_fn\u001b[0m\u001b[0;34m(\u001b[0m\u001b[0;34m)\u001b[0m\u001b[0;34m\u001b[0m\u001b[0;34m\u001b[0m\u001b[0m\n",
      "\u001b[0;32m~/TF_NEW/tf-transformers/src/tf_transformers/layers/attention/bert_attention.py\u001b[0m in \u001b[0;36m<lambda>\u001b[0;34m()\u001b[0m\n\u001b[1;32m    238\u001b[0m \u001b[0;34m\u001b[0m\u001b[0m\n\u001b[1;32m    239\u001b[0m         query_tensor, key_tensor, value_tensor = tf.cond(\n\u001b[0;32m--> 240\u001b[0;31m             \u001b[0mtf\u001b[0m\u001b[0;34m.\u001b[0m\u001b[0mequal\u001b[0m\u001b[0;34m(\u001b[0m\u001b[0mtf\u001b[0m\u001b[0;34m.\u001b[0m\u001b[0mreduce_sum\u001b[0m\u001b[0;34m(\u001b[0m\u001b[0mcache_key\u001b[0m\u001b[0;34m)\u001b[0m\u001b[0;34m,\u001b[0m \u001b[0;36m0.0\u001b[0m\u001b[0;34m)\u001b[0m\u001b[0;34m,\u001b[0m \u001b[0;32mlambda\u001b[0m\u001b[0;34m:\u001b[0m \u001b[0mleft\u001b[0m\u001b[0;34m(\u001b[0m\u001b[0;34m)\u001b[0m\u001b[0;34m,\u001b[0m \u001b[0;32mlambda\u001b[0m\u001b[0;34m:\u001b[0m \u001b[0mright\u001b[0m\u001b[0;34m(\u001b[0m\u001b[0;34m)\u001b[0m\u001b[0;34m\u001b[0m\u001b[0;34m\u001b[0m\u001b[0m\n\u001b[0m\u001b[1;32m    241\u001b[0m         )\n\u001b[1;32m    242\u001b[0m         \u001b[0;31m# Scalar dimensions referenced here:\u001b[0m\u001b[0;34m\u001b[0m\u001b[0;34m\u001b[0m\u001b[0;34m\u001b[0m\u001b[0m\n",
      "\u001b[0;32m~/TF_NEW/tf-transformers/src/tf_transformers/layers/attention/bert_attention.py\u001b[0m in \u001b[0;36mleft\u001b[0;34m()\u001b[0m\n\u001b[1;32m    196\u001b[0m \u001b[0;34m\u001b[0m\u001b[0m\n\u001b[1;32m    197\u001b[0m             \u001b[0;31m# `value_tensor` = [B, T, N, H]\u001b[0m\u001b[0;34m\u001b[0m\u001b[0;34m\u001b[0m\u001b[0;34m\u001b[0m\u001b[0m\n\u001b[0;32m--> 198\u001b[0;31m             \u001b[0mvalue_tensor\u001b[0m \u001b[0;34m=\u001b[0m \u001b[0mself\u001b[0m\u001b[0;34m.\u001b[0m\u001b[0m_value_dense\u001b[0m\u001b[0;34m(\u001b[0m\u001b[0mto_tensor\u001b[0m\u001b[0;34m)\u001b[0m\u001b[0;34m\u001b[0m\u001b[0;34m\u001b[0m\u001b[0m\n\u001b[0m\u001b[1;32m    199\u001b[0m \u001b[0;34m\u001b[0m\u001b[0m\n\u001b[1;32m    200\u001b[0m             \u001b[0;31m# Take the dot product between \"query\" and \"key\" to get the raw\u001b[0m\u001b[0;34m\u001b[0m\u001b[0;34m\u001b[0m\u001b[0;34m\u001b[0m\u001b[0m\n",
      "\u001b[0;32m/usr/local/lib/python3.8/dist-packages/tensorflow/python/keras/engine/base_layer.py\u001b[0m in \u001b[0;36m__call__\u001b[0;34m(self, *args, **kwargs)\u001b[0m\n\u001b[1;32m   1010\u001b[0m         with autocast_variable.enable_auto_cast_variables(\n\u001b[1;32m   1011\u001b[0m             self._compute_dtype_object):\n\u001b[0;32m-> 1012\u001b[0;31m           \u001b[0moutputs\u001b[0m \u001b[0;34m=\u001b[0m \u001b[0mcall_fn\u001b[0m\u001b[0;34m(\u001b[0m\u001b[0minputs\u001b[0m\u001b[0;34m,\u001b[0m \u001b[0;34m*\u001b[0m\u001b[0margs\u001b[0m\u001b[0;34m,\u001b[0m \u001b[0;34m**\u001b[0m\u001b[0mkwargs\u001b[0m\u001b[0;34m)\u001b[0m\u001b[0;34m\u001b[0m\u001b[0;34m\u001b[0m\u001b[0m\n\u001b[0m\u001b[1;32m   1013\u001b[0m \u001b[0;34m\u001b[0m\u001b[0m\n\u001b[1;32m   1014\u001b[0m         \u001b[0;32mif\u001b[0m \u001b[0mself\u001b[0m\u001b[0;34m.\u001b[0m\u001b[0m_activity_regularizer\u001b[0m\u001b[0;34m:\u001b[0m\u001b[0;34m\u001b[0m\u001b[0;34m\u001b[0m\u001b[0m\n",
      "\u001b[0;32m~/TF_NEW/tf-transformers/src/tf_transformers/layers/dense_einsum.py\u001b[0m in \u001b[0;36mcall\u001b[0;34m(self, inputs)\u001b[0m\n\u001b[1;32m    157\u001b[0m         \u001b[0mret\u001b[0m \u001b[0;34m=\u001b[0m \u001b[0mtf\u001b[0m\u001b[0;34m.\u001b[0m\u001b[0meinsum\u001b[0m\u001b[0;34m(\u001b[0m\u001b[0mself\u001b[0m\u001b[0;34m.\u001b[0m\u001b[0m_einsum_string\u001b[0m\u001b[0;34m,\u001b[0m \u001b[0minputs\u001b[0m\u001b[0;34m,\u001b[0m \u001b[0mself\u001b[0m\u001b[0;34m.\u001b[0m\u001b[0m_kernel\u001b[0m\u001b[0;34m)\u001b[0m\u001b[0;34m\u001b[0m\u001b[0;34m\u001b[0m\u001b[0m\n\u001b[1;32m    158\u001b[0m         \u001b[0;32mif\u001b[0m \u001b[0mself\u001b[0m\u001b[0;34m.\u001b[0m\u001b[0m_use_bias\u001b[0m\u001b[0;34m:\u001b[0m\u001b[0;34m\u001b[0m\u001b[0;34m\u001b[0m\u001b[0m\n\u001b[0;32m--> 159\u001b[0;31m             \u001b[0mret\u001b[0m \u001b[0;34m+=\u001b[0m \u001b[0mself\u001b[0m\u001b[0;34m.\u001b[0m\u001b[0m_bias\u001b[0m\u001b[0;34m\u001b[0m\u001b[0;34m\u001b[0m\u001b[0m\n\u001b[0m\u001b[1;32m    160\u001b[0m         \u001b[0;32mif\u001b[0m \u001b[0mself\u001b[0m\u001b[0;34m.\u001b[0m\u001b[0m_activation\u001b[0m \u001b[0;32mis\u001b[0m \u001b[0;32mnot\u001b[0m \u001b[0;32mNone\u001b[0m\u001b[0;34m:\u001b[0m\u001b[0;34m\u001b[0m\u001b[0;34m\u001b[0m\u001b[0m\n\u001b[1;32m    161\u001b[0m             \u001b[0mret\u001b[0m \u001b[0;34m=\u001b[0m \u001b[0mself\u001b[0m\u001b[0;34m.\u001b[0m\u001b[0m_activation\u001b[0m\u001b[0;34m(\u001b[0m\u001b[0mret\u001b[0m\u001b[0;34m)\u001b[0m\u001b[0;34m\u001b[0m\u001b[0;34m\u001b[0m\u001b[0m\n",
      "\u001b[0;32m/usr/local/lib/python3.8/dist-packages/tensorflow/python/ops/math_ops.py\u001b[0m in \u001b[0;36mbinary_op_wrapper\u001b[0;34m(x, y)\u001b[0m\n\u001b[1;32m   1162\u001b[0m     \u001b[0;32mwith\u001b[0m \u001b[0mops\u001b[0m\u001b[0;34m.\u001b[0m\u001b[0mname_scope\u001b[0m\u001b[0;34m(\u001b[0m\u001b[0;32mNone\u001b[0m\u001b[0;34m,\u001b[0m \u001b[0mop_name\u001b[0m\u001b[0;34m,\u001b[0m \u001b[0;34m[\u001b[0m\u001b[0mx\u001b[0m\u001b[0;34m,\u001b[0m \u001b[0my\u001b[0m\u001b[0;34m]\u001b[0m\u001b[0;34m)\u001b[0m \u001b[0;32mas\u001b[0m \u001b[0mname\u001b[0m\u001b[0;34m:\u001b[0m\u001b[0;34m\u001b[0m\u001b[0;34m\u001b[0m\u001b[0m\n\u001b[1;32m   1163\u001b[0m       \u001b[0;32mtry\u001b[0m\u001b[0;34m:\u001b[0m\u001b[0;34m\u001b[0m\u001b[0;34m\u001b[0m\u001b[0m\n\u001b[0;32m-> 1164\u001b[0;31m         \u001b[0;32mreturn\u001b[0m \u001b[0mfunc\u001b[0m\u001b[0;34m(\u001b[0m\u001b[0mx\u001b[0m\u001b[0;34m,\u001b[0m \u001b[0my\u001b[0m\u001b[0;34m,\u001b[0m \u001b[0mname\u001b[0m\u001b[0;34m=\u001b[0m\u001b[0mname\u001b[0m\u001b[0;34m)\u001b[0m\u001b[0;34m\u001b[0m\u001b[0;34m\u001b[0m\u001b[0m\n\u001b[0m\u001b[1;32m   1165\u001b[0m       \u001b[0;32mexcept\u001b[0m \u001b[0;34m(\u001b[0m\u001b[0mTypeError\u001b[0m\u001b[0;34m,\u001b[0m \u001b[0mValueError\u001b[0m\u001b[0;34m)\u001b[0m \u001b[0;32mas\u001b[0m \u001b[0me\u001b[0m\u001b[0;34m:\u001b[0m\u001b[0;34m\u001b[0m\u001b[0;34m\u001b[0m\u001b[0m\n\u001b[1;32m   1166\u001b[0m         \u001b[0;31m# Even if dispatching the op failed, the RHS may be a tensor aware\u001b[0m\u001b[0;34m\u001b[0m\u001b[0;34m\u001b[0m\u001b[0;34m\u001b[0m\u001b[0m\n",
      "\u001b[0;32m/usr/local/lib/python3.8/dist-packages/tensorflow/python/util/dispatch.py\u001b[0m in \u001b[0;36mwrapper\u001b[0;34m(*args, **kwargs)\u001b[0m\n\u001b[1;32m    199\u001b[0m     \u001b[0;34m\"\"\"Call target, and fall back on dispatchers if there is a TypeError.\"\"\"\u001b[0m\u001b[0;34m\u001b[0m\u001b[0;34m\u001b[0m\u001b[0m\n\u001b[1;32m    200\u001b[0m     \u001b[0;32mtry\u001b[0m\u001b[0;34m:\u001b[0m\u001b[0;34m\u001b[0m\u001b[0;34m\u001b[0m\u001b[0m\n\u001b[0;32m--> 201\u001b[0;31m       \u001b[0;32mreturn\u001b[0m \u001b[0mtarget\u001b[0m\u001b[0;34m(\u001b[0m\u001b[0;34m*\u001b[0m\u001b[0margs\u001b[0m\u001b[0;34m,\u001b[0m \u001b[0;34m**\u001b[0m\u001b[0mkwargs\u001b[0m\u001b[0;34m)\u001b[0m\u001b[0;34m\u001b[0m\u001b[0;34m\u001b[0m\u001b[0m\n\u001b[0m\u001b[1;32m    202\u001b[0m     \u001b[0;32mexcept\u001b[0m \u001b[0;34m(\u001b[0m\u001b[0mTypeError\u001b[0m\u001b[0;34m,\u001b[0m \u001b[0mValueError\u001b[0m\u001b[0;34m)\u001b[0m\u001b[0;34m:\u001b[0m\u001b[0;34m\u001b[0m\u001b[0;34m\u001b[0m\u001b[0m\n\u001b[1;32m    203\u001b[0m       \u001b[0;31m# Note: convert_to_eager_tensor currently raises a ValueError, not a\u001b[0m\u001b[0;34m\u001b[0m\u001b[0;34m\u001b[0m\u001b[0;34m\u001b[0m\u001b[0m\n",
      "\u001b[0;32m/usr/local/lib/python3.8/dist-packages/tensorflow/python/ops/math_ops.py\u001b[0m in \u001b[0;36m_add_dispatch\u001b[0;34m(x, y, name)\u001b[0m\n\u001b[1;32m   1480\u001b[0m   if not isinstance(y, ops.Tensor) and not isinstance(\n\u001b[1;32m   1481\u001b[0m       y, sparse_tensor.SparseTensor):\n\u001b[0;32m-> 1482\u001b[0;31m     \u001b[0my\u001b[0m \u001b[0;34m=\u001b[0m \u001b[0mops\u001b[0m\u001b[0;34m.\u001b[0m\u001b[0mconvert_to_tensor\u001b[0m\u001b[0;34m(\u001b[0m\u001b[0my\u001b[0m\u001b[0;34m,\u001b[0m \u001b[0mdtype_hint\u001b[0m\u001b[0;34m=\u001b[0m\u001b[0mx\u001b[0m\u001b[0;34m.\u001b[0m\u001b[0mdtype\u001b[0m\u001b[0;34m.\u001b[0m\u001b[0mbase_dtype\u001b[0m\u001b[0;34m,\u001b[0m \u001b[0mname\u001b[0m\u001b[0;34m=\u001b[0m\u001b[0;34m\"y\"\u001b[0m\u001b[0;34m)\u001b[0m\u001b[0;34m\u001b[0m\u001b[0;34m\u001b[0m\u001b[0m\n\u001b[0m\u001b[1;32m   1483\u001b[0m   \u001b[0;32mif\u001b[0m \u001b[0mx\u001b[0m\u001b[0;34m.\u001b[0m\u001b[0mdtype\u001b[0m \u001b[0;34m==\u001b[0m \u001b[0mdtypes\u001b[0m\u001b[0;34m.\u001b[0m\u001b[0mstring\u001b[0m\u001b[0;34m:\u001b[0m\u001b[0;34m\u001b[0m\u001b[0;34m\u001b[0m\u001b[0m\n\u001b[1;32m   1484\u001b[0m     \u001b[0;32mreturn\u001b[0m \u001b[0mgen_math_ops\u001b[0m\u001b[0;34m.\u001b[0m\u001b[0madd\u001b[0m\u001b[0;34m(\u001b[0m\u001b[0mx\u001b[0m\u001b[0;34m,\u001b[0m \u001b[0my\u001b[0m\u001b[0;34m,\u001b[0m \u001b[0mname\u001b[0m\u001b[0;34m=\u001b[0m\u001b[0mname\u001b[0m\u001b[0;34m)\u001b[0m\u001b[0;34m\u001b[0m\u001b[0;34m\u001b[0m\u001b[0m\n",
      "\u001b[0;32m/usr/local/lib/python3.8/dist-packages/tensorflow/python/profiler/trace.py\u001b[0m in \u001b[0;36mwrapped\u001b[0;34m(*args, **kwargs)\u001b[0m\n\u001b[1;32m    161\u001b[0m         \u001b[0;32mwith\u001b[0m \u001b[0mTrace\u001b[0m\u001b[0;34m(\u001b[0m\u001b[0mtrace_name\u001b[0m\u001b[0;34m,\u001b[0m \u001b[0;34m**\u001b[0m\u001b[0mtrace_kwargs\u001b[0m\u001b[0;34m)\u001b[0m\u001b[0;34m:\u001b[0m\u001b[0;34m\u001b[0m\u001b[0;34m\u001b[0m\u001b[0m\n\u001b[1;32m    162\u001b[0m           \u001b[0;32mreturn\u001b[0m \u001b[0mfunc\u001b[0m\u001b[0;34m(\u001b[0m\u001b[0;34m*\u001b[0m\u001b[0margs\u001b[0m\u001b[0;34m,\u001b[0m \u001b[0;34m**\u001b[0m\u001b[0mkwargs\u001b[0m\u001b[0;34m)\u001b[0m\u001b[0;34m\u001b[0m\u001b[0;34m\u001b[0m\u001b[0m\n\u001b[0;32m--> 163\u001b[0;31m       \u001b[0;32mreturn\u001b[0m \u001b[0mfunc\u001b[0m\u001b[0;34m(\u001b[0m\u001b[0;34m*\u001b[0m\u001b[0margs\u001b[0m\u001b[0;34m,\u001b[0m \u001b[0;34m**\u001b[0m\u001b[0mkwargs\u001b[0m\u001b[0;34m)\u001b[0m\u001b[0;34m\u001b[0m\u001b[0;34m\u001b[0m\u001b[0m\n\u001b[0m\u001b[1;32m    164\u001b[0m \u001b[0;34m\u001b[0m\u001b[0m\n\u001b[1;32m    165\u001b[0m     \u001b[0;32mreturn\u001b[0m \u001b[0mwrapped\u001b[0m\u001b[0;34m\u001b[0m\u001b[0;34m\u001b[0m\u001b[0m\n",
      "\u001b[0;32m/usr/local/lib/python3.8/dist-packages/tensorflow/python/framework/ops.py\u001b[0m in \u001b[0;36mconvert_to_tensor\u001b[0;34m(value, dtype, name, as_ref, preferred_dtype, dtype_hint, ctx, accepted_result_types)\u001b[0m\n\u001b[1;32m   1525\u001b[0m     \u001b[0;32mif\u001b[0m \u001b[0mdtype\u001b[0m \u001b[0;32mis\u001b[0m \u001b[0;32mNone\u001b[0m \u001b[0;32mand\u001b[0m \u001b[0mpreferred_dtype\u001b[0m \u001b[0;32mis\u001b[0m \u001b[0;32mnot\u001b[0m \u001b[0;32mNone\u001b[0m\u001b[0;34m:\u001b[0m\u001b[0;34m\u001b[0m\u001b[0;34m\u001b[0m\u001b[0m\n\u001b[1;32m   1526\u001b[0m       \u001b[0;32mtry\u001b[0m\u001b[0;34m:\u001b[0m\u001b[0;34m\u001b[0m\u001b[0;34m\u001b[0m\u001b[0m\n\u001b[0;32m-> 1527\u001b[0;31m         ret = conversion_func(\n\u001b[0m\u001b[1;32m   1528\u001b[0m             value, dtype=preferred_dtype, name=name, as_ref=as_ref)\n\u001b[1;32m   1529\u001b[0m       \u001b[0;32mexcept\u001b[0m \u001b[0;34m(\u001b[0m\u001b[0mTypeError\u001b[0m\u001b[0;34m,\u001b[0m \u001b[0mValueError\u001b[0m\u001b[0;34m)\u001b[0m\u001b[0;34m:\u001b[0m\u001b[0;34m\u001b[0m\u001b[0;34m\u001b[0m\u001b[0m\n",
      "\u001b[0;32m/usr/local/lib/python3.8/dist-packages/tensorflow/python/ops/resource_variable_ops.py\u001b[0m in \u001b[0;36m_dense_var_to_tensor\u001b[0;34m(var, dtype, name, as_ref)\u001b[0m\n\u001b[1;32m   1990\u001b[0m \u001b[0;34m\u001b[0m\u001b[0m\n\u001b[1;32m   1991\u001b[0m \u001b[0;32mdef\u001b[0m \u001b[0m_dense_var_to_tensor\u001b[0m\u001b[0;34m(\u001b[0m\u001b[0mvar\u001b[0m\u001b[0;34m,\u001b[0m \u001b[0mdtype\u001b[0m\u001b[0;34m=\u001b[0m\u001b[0;32mNone\u001b[0m\u001b[0;34m,\u001b[0m \u001b[0mname\u001b[0m\u001b[0;34m=\u001b[0m\u001b[0;32mNone\u001b[0m\u001b[0;34m,\u001b[0m \u001b[0mas_ref\u001b[0m\u001b[0;34m=\u001b[0m\u001b[0;32mFalse\u001b[0m\u001b[0;34m)\u001b[0m\u001b[0;34m:\u001b[0m\u001b[0;34m\u001b[0m\u001b[0;34m\u001b[0m\u001b[0m\n\u001b[0;32m-> 1992\u001b[0;31m   \u001b[0;32mreturn\u001b[0m \u001b[0mvar\u001b[0m\u001b[0;34m.\u001b[0m\u001b[0m_dense_var_to_tensor\u001b[0m\u001b[0;34m(\u001b[0m\u001b[0mdtype\u001b[0m\u001b[0;34m=\u001b[0m\u001b[0mdtype\u001b[0m\u001b[0;34m,\u001b[0m \u001b[0mname\u001b[0m\u001b[0;34m=\u001b[0m\u001b[0mname\u001b[0m\u001b[0;34m,\u001b[0m \u001b[0mas_ref\u001b[0m\u001b[0;34m=\u001b[0m\u001b[0mas_ref\u001b[0m\u001b[0;34m)\u001b[0m  \u001b[0;31m# pylint: disable=protected-access\u001b[0m\u001b[0;34m\u001b[0m\u001b[0;34m\u001b[0m\u001b[0m\n\u001b[0m\u001b[1;32m   1993\u001b[0m \u001b[0;34m\u001b[0m\u001b[0m\n\u001b[1;32m   1994\u001b[0m \u001b[0;34m\u001b[0m\u001b[0m\n",
      "\u001b[0;32m/usr/local/lib/python3.8/dist-packages/tensorflow/python/ops/resource_variable_ops.py\u001b[0m in \u001b[0;36m_dense_var_to_tensor\u001b[0;34m(***failed resolving arguments***)\u001b[0m\n\u001b[1;32m   1391\u001b[0m       \u001b[0;32mreturn\u001b[0m \u001b[0mself\u001b[0m\u001b[0;34m.\u001b[0m\u001b[0mread_value\u001b[0m\u001b[0;34m(\u001b[0m\u001b[0;34m)\u001b[0m\u001b[0;34m.\u001b[0m\u001b[0mop\u001b[0m\u001b[0;34m.\u001b[0m\u001b[0minputs\u001b[0m\u001b[0;34m[\u001b[0m\u001b[0;36m0\u001b[0m\u001b[0;34m]\u001b[0m\u001b[0;34m\u001b[0m\u001b[0;34m\u001b[0m\u001b[0m\n\u001b[1;32m   1392\u001b[0m     \u001b[0;32melse\u001b[0m\u001b[0;34m:\u001b[0m\u001b[0;34m\u001b[0m\u001b[0;34m\u001b[0m\u001b[0m\n\u001b[0;32m-> 1393\u001b[0;31m       \u001b[0;32mreturn\u001b[0m \u001b[0mself\u001b[0m\u001b[0;34m.\u001b[0m\u001b[0mvalue\u001b[0m\u001b[0;34m(\u001b[0m\u001b[0;34m)\u001b[0m\u001b[0;34m\u001b[0m\u001b[0;34m\u001b[0m\u001b[0m\n\u001b[0m\u001b[1;32m   1394\u001b[0m \u001b[0;34m\u001b[0m\u001b[0m\n\u001b[1;32m   1395\u001b[0m   \u001b[0;32mdef\u001b[0m \u001b[0m__iadd__\u001b[0m\u001b[0;34m(\u001b[0m\u001b[0mself\u001b[0m\u001b[0;34m,\u001b[0m \u001b[0munused_other\u001b[0m\u001b[0;34m)\u001b[0m\u001b[0;34m:\u001b[0m\u001b[0;34m\u001b[0m\u001b[0;34m\u001b[0m\u001b[0m\n",
      "\u001b[0;32m/usr/local/lib/python3.8/dist-packages/tensorflow/python/ops/resource_variable_ops.py\u001b[0m in \u001b[0;36mvalue\u001b[0;34m(self)\u001b[0m\n\u001b[1;32m    563\u001b[0m       \u001b[0;32mreturn\u001b[0m \u001b[0mself\u001b[0m\u001b[0;34m.\u001b[0m\u001b[0m_cached_value\u001b[0m\u001b[0;34m\u001b[0m\u001b[0;34m\u001b[0m\u001b[0m\n\u001b[1;32m    564\u001b[0m     \u001b[0;32mwith\u001b[0m \u001b[0mops\u001b[0m\u001b[0;34m.\u001b[0m\u001b[0mcolocate_with\u001b[0m\u001b[0;34m(\u001b[0m\u001b[0;32mNone\u001b[0m\u001b[0;34m,\u001b[0m \u001b[0mignore_existing\u001b[0m\u001b[0;34m=\u001b[0m\u001b[0;32mTrue\u001b[0m\u001b[0;34m)\u001b[0m\u001b[0;34m:\u001b[0m\u001b[0;34m\u001b[0m\u001b[0;34m\u001b[0m\u001b[0m\n\u001b[0;32m--> 565\u001b[0;31m       \u001b[0;32mreturn\u001b[0m \u001b[0mself\u001b[0m\u001b[0;34m.\u001b[0m\u001b[0m_read_variable_op\u001b[0m\u001b[0;34m(\u001b[0m\u001b[0;34m)\u001b[0m\u001b[0;34m\u001b[0m\u001b[0;34m\u001b[0m\u001b[0m\n\u001b[0m\u001b[1;32m    566\u001b[0m \u001b[0;34m\u001b[0m\u001b[0m\n\u001b[1;32m    567\u001b[0m   \u001b[0;32mdef\u001b[0m \u001b[0m_as_graph_element\u001b[0m\u001b[0;34m(\u001b[0m\u001b[0mself\u001b[0m\u001b[0;34m)\u001b[0m\u001b[0;34m:\u001b[0m\u001b[0;34m\u001b[0m\u001b[0;34m\u001b[0m\u001b[0m\n",
      "\u001b[0;32m/usr/local/lib/python3.8/dist-packages/tensorflow/python/ops/resource_variable_ops.py\u001b[0m in \u001b[0;36m_read_variable_op\u001b[0;34m(self)\u001b[0m\n\u001b[1;32m    657\u001b[0m \u001b[0;34m\u001b[0m\u001b[0m\n\u001b[1;32m    658\u001b[0m   \u001b[0;32mdef\u001b[0m \u001b[0m_read_variable_op\u001b[0m\u001b[0;34m(\u001b[0m\u001b[0mself\u001b[0m\u001b[0;34m)\u001b[0m\u001b[0;34m:\u001b[0m\u001b[0;34m\u001b[0m\u001b[0;34m\u001b[0m\u001b[0m\n\u001b[0;32m--> 659\u001b[0;31m     \u001b[0mvariable_accessed\u001b[0m\u001b[0;34m(\u001b[0m\u001b[0mself\u001b[0m\u001b[0;34m)\u001b[0m\u001b[0;34m\u001b[0m\u001b[0;34m\u001b[0m\u001b[0m\n\u001b[0m\u001b[1;32m    660\u001b[0m \u001b[0;34m\u001b[0m\u001b[0m\n\u001b[1;32m    661\u001b[0m     \u001b[0;32mdef\u001b[0m \u001b[0mread_and_set_handle\u001b[0m\u001b[0;34m(\u001b[0m\u001b[0;34m)\u001b[0m\u001b[0;34m:\u001b[0m\u001b[0;34m\u001b[0m\u001b[0;34m\u001b[0m\u001b[0m\n",
      "\u001b[0;32m/usr/local/lib/python3.8/dist-packages/tensorflow/python/ops/resource_variable_ops.py\u001b[0m in \u001b[0;36mvariable_accessed\u001b[0;34m(variable)\u001b[0m\n\u001b[1;32m    326\u001b[0m     \u001b[0mops\u001b[0m\u001b[0;34m.\u001b[0m\u001b[0mget_default_graph\u001b[0m\u001b[0;34m(\u001b[0m\u001b[0;34m)\u001b[0m\u001b[0;34m.\u001b[0m\u001b[0mwatch_variable\u001b[0m\u001b[0;34m(\u001b[0m\u001b[0mvariable\u001b[0m\u001b[0;34m)\u001b[0m\u001b[0;34m\u001b[0m\u001b[0;34m\u001b[0m\u001b[0m\n\u001b[1;32m    327\u001b[0m   \u001b[0;32mif\u001b[0m \u001b[0mvariable\u001b[0m\u001b[0;34m.\u001b[0m\u001b[0mtrainable\u001b[0m\u001b[0;34m:\u001b[0m\u001b[0;34m\u001b[0m\u001b[0;34m\u001b[0m\u001b[0m\n\u001b[0;32m--> 328\u001b[0;31m     \u001b[0mtape\u001b[0m\u001b[0;34m.\u001b[0m\u001b[0mvariable_accessed\u001b[0m\u001b[0;34m(\u001b[0m\u001b[0mvariable\u001b[0m\u001b[0;34m)\u001b[0m\u001b[0;34m\u001b[0m\u001b[0;34m\u001b[0m\u001b[0m\n\u001b[0m\u001b[1;32m    329\u001b[0m \u001b[0;34m\u001b[0m\u001b[0m\n\u001b[1;32m    330\u001b[0m \u001b[0;34m\u001b[0m\u001b[0m\n",
      "\u001b[0;32m/usr/local/lib/python3.8/dist-packages/tensorflow/python/eager/tape.py\u001b[0m in \u001b[0;36mvariable_accessed\u001b[0;34m(variable)\u001b[0m\n\u001b[1;32m    113\u001b[0m   \"\"\"\n\u001b[1;32m    114\u001b[0m   strategy, context = (\n\u001b[0;32m--> 115\u001b[0;31m       distribution_strategy_context.get_strategy_and_replica_context())\n\u001b[0m\u001b[1;32m    116\u001b[0m   \u001b[0;32mif\u001b[0m \u001b[0mcontext\u001b[0m\u001b[0;34m:\u001b[0m\u001b[0;34m\u001b[0m\u001b[0;34m\u001b[0m\u001b[0m\n\u001b[1;32m    117\u001b[0m     \u001b[0mvariables\u001b[0m \u001b[0;34m=\u001b[0m \u001b[0;34m[\u001b[0m\u001b[0mstrategy\u001b[0m\u001b[0;34m.\u001b[0m\u001b[0mextended\u001b[0m\u001b[0;34m.\u001b[0m\u001b[0mvalue_container\u001b[0m\u001b[0;34m(\u001b[0m\u001b[0mvariable\u001b[0m\u001b[0;34m)\u001b[0m\u001b[0;34m]\u001b[0m\u001b[0;34m\u001b[0m\u001b[0;34m\u001b[0m\u001b[0m\n",
      "\u001b[0;32m/usr/local/lib/python3.8/dist-packages/tensorflow/python/distribute/distribution_strategy_context.py\u001b[0m in \u001b[0;36mget_strategy_and_replica_context\u001b[0;34m()\u001b[0m\n\u001b[1;32m    215\u001b[0m \u001b[0;34m\u001b[0m\u001b[0m\n\u001b[1;32m    216\u001b[0m \u001b[0;32mdef\u001b[0m \u001b[0mget_strategy_and_replica_context\u001b[0m\u001b[0;34m(\u001b[0m\u001b[0;34m)\u001b[0m\u001b[0;34m:\u001b[0m\u001b[0;34m\u001b[0m\u001b[0;34m\u001b[0m\u001b[0m\n\u001b[0;32m--> 217\u001b[0;31m   \u001b[0mper_thread_mode\u001b[0m \u001b[0;34m=\u001b[0m \u001b[0m_get_per_thread_mode\u001b[0m\u001b[0;34m(\u001b[0m\u001b[0;34m)\u001b[0m\u001b[0;34m\u001b[0m\u001b[0;34m\u001b[0m\u001b[0m\n\u001b[0m\u001b[1;32m    218\u001b[0m   \u001b[0;32mreturn\u001b[0m \u001b[0;34m(\u001b[0m\u001b[0mper_thread_mode\u001b[0m\u001b[0;34m.\u001b[0m\u001b[0mstrategy\u001b[0m\u001b[0;34m,\u001b[0m \u001b[0mper_thread_mode\u001b[0m\u001b[0;34m.\u001b[0m\u001b[0mreplica_context\u001b[0m\u001b[0;34m)\u001b[0m\u001b[0;34m\u001b[0m\u001b[0;34m\u001b[0m\u001b[0m\n\u001b[1;32m    219\u001b[0m \u001b[0;34m\u001b[0m\u001b[0m\n",
      "\u001b[0;32m/usr/local/lib/python3.8/dist-packages/tensorflow/python/distribute/distribution_strategy_context.py\u001b[0m in \u001b[0;36m_get_per_thread_mode\u001b[0;34m()\u001b[0m\n\u001b[1;32m     80\u001b[0m \u001b[0;32mdef\u001b[0m \u001b[0m_get_per_thread_mode\u001b[0m\u001b[0;34m(\u001b[0m\u001b[0;34m)\u001b[0m\u001b[0;34m:\u001b[0m\u001b[0;34m\u001b[0m\u001b[0;34m\u001b[0m\u001b[0m\n\u001b[1;32m     81\u001b[0m   \u001b[0;32mtry\u001b[0m\u001b[0;34m:\u001b[0m\u001b[0;34m\u001b[0m\u001b[0;34m\u001b[0m\u001b[0m\n\u001b[0;32m---> 82\u001b[0;31m     \u001b[0;32mreturn\u001b[0m \u001b[0mops\u001b[0m\u001b[0;34m.\u001b[0m\u001b[0mget_default_graph\u001b[0m\u001b[0;34m(\u001b[0m\u001b[0;34m)\u001b[0m\u001b[0;34m.\u001b[0m\u001b[0m_distribution_strategy_stack\u001b[0m\u001b[0;34m[\u001b[0m\u001b[0;34m-\u001b[0m\u001b[0;36m1\u001b[0m\u001b[0;34m]\u001b[0m  \u001b[0;31m# pylint: disable=protected-access\u001b[0m\u001b[0;34m\u001b[0m\u001b[0;34m\u001b[0m\u001b[0m\n\u001b[0m\u001b[1;32m     83\u001b[0m   \u001b[0;32mexcept\u001b[0m \u001b[0;34m(\u001b[0m\u001b[0mAttributeError\u001b[0m\u001b[0;34m,\u001b[0m \u001b[0mIndexError\u001b[0m\u001b[0;34m)\u001b[0m\u001b[0;34m:\u001b[0m\u001b[0;34m\u001b[0m\u001b[0;34m\u001b[0m\u001b[0m\n\u001b[1;32m     84\u001b[0m     \u001b[0;32mreturn\u001b[0m \u001b[0m_get_default_replica_mode\u001b[0m\u001b[0;34m(\u001b[0m\u001b[0;34m)\u001b[0m\u001b[0;34m\u001b[0m\u001b[0;34m\u001b[0m\u001b[0m\n",
      "\u001b[0;31mKeyboardInterrupt\u001b[0m: "
     ]
    }
   ],
   "source": [
    "# Predictions\n",
    "import tqdm\n",
    "eval_dataset, total_eval_examples   = read_tfrecord(tfrecord_dir + 'eval', 16,  shuffle=False, drop_remainder=False)\n",
    "\n",
    "predicted_summaries = []\n",
    "for (batch_inputs, batch_labels) in tqdm.tqdm(eval_dataset):\n",
    "    del batch_inputs['decoder_input_ids']\n",
    "    decoder_outputs = decoder.decode(batch_inputs, mode='beam', \n",
    "                                     num_beams=4,\n",
    "                                                                      alpha=2.0,\n",
    "\n",
    "                                     do_sample=False,\n",
    "                                     max_iterations=64, eos_id=tokenizer.sep_token_id)\n",
    "    predicted_ids = [item[0] for item in decoder_outputs['predicted_ids'].numpy().tolist()]\n",
    "    \n",
    "    predicted_ids_sliced = []\n",
    "    for p_id in predicted_ids:\n",
    "        if tokenizer.sep_token_id in p_id:\n",
    "            index = p_id.index(tokenizer.sep_token_id)\n",
    "            p_id = p_id[:index]\n",
    "        predicted_ids_sliced.append(p_id)\n",
    "        predicted_summaries.append(tokenizer.decode(p_id))\n",
    "    "
   ]
  },
  {
   "cell_type": "code",
   "execution_count": 56,
   "id": "5dcf4283",
   "metadata": {},
   "outputs": [
    {
     "data": {
      "text/plain": [
       "['A US court has ordered the US to pay $1bn (£2.5m) to the US to help the US-based company the company to pay its own service.',\n",
       " 'England will not be held for the second Test series against South Africa at the end of the season.',\n",
       " 'A French man has died after being held in the Republic of Ireland in the Republic of Ireland.',\n",
       " 'Plans for a new £1.5m project to build a new £1m project to help the Scottish Borders.',\n",
       " 'The number of people in Scotland has fallen by the Scottish government, according to a new report.',\n",
       " 'The United Nations has said it will not be a new deal with the US and China.',\n",
       " 'A lorry has been rescued from a car after a car crashed into the road in the Borders.',\n",
       " 'The government has said it will not be a £2.5m of funding for the government in the next three years.',\n",
       " 'A football fan has been arrested in connection with the Scottish Cup of Nations match against Dundee.',\n",
       " 'The Welsh Government has said it will not be able to leave the EU if the EU is a \"unprecedented\" for the EU.',\n",
       " 'The Scottish Parliament is to close its first ever role in the UK.',\n",
       " 'Swansea City have appointed former England boss Paul Clement for the rest of the season, the club has announced.',\n",
       " 'More than 100,000 people are being investigated by police in Wales over the next two years.',\n",
       " 'A man has died after being hit by a football club.',\n",
       " 'A man has been found guilty of murdering his wife at a London school.',\n",
       " 'England have made their first match of the year in the World Cup.',\n",
       " 'More than 100,000 people have been killed in an air strike in Afghanistan in the capital, the UN says.',\n",
       " 'The Welsh government has said it will not be \"unacceptable\" about the Welsh government to leave the Welsh Government.',\n",
       " 'US President Barack Obama has said he is \"not a \"not\" of the US President Barack Obama\\'s decision on the US to leave the US to the US.',\n",
       " 'It was a few years ago, and it was the most important of the world of the world of the year.',\n",
       " 'At least 10 people have been killed in a bomb attacks in the Indian capital, the UN says.',\n",
       " 'A £2.5m project to build a new £2m project has been unveiled.',\n",
       " 'Swansea City have signed England batsman Alex Ferguson on a two-year contract.',\n",
       " 'Coventry City have confirmed the signing of former Rangers boss Paul Clement as their new manager.',\n",
       " 'The Labour Party has said he will not be \"a good\" for the party in the party\\'s election.',\n",
       " 'The head of the Islamic State (IS) has said he is \"unacceptable\".',\n",
       " \"It is the world of the world of the world's most powerful car.\",\n",
       " 'Plans for a new £1.5m project to build a new £1.3m road in the Borders have been approved by the council.',\n",
       " 'Police in Glasgow are being investigated by police investigating the murder of a man in Glasgow.',\n",
       " 'Nigeria\\'s government has said it will be a \"unacceptable\" of the country in the capital, South Africa, after a row over the country.',\n",
       " 'A man has been arrested after a man was found dead in a house fire at a house in the Borders.',\n",
       " 'A woman who was shot dead in the Syrian city of Aleppo has been found dead in the country.',\n",
       " 'Hibernian moved to the Championship play-off places with victory at home to the top of the Championship.',\n",
       " 'The government has announced it will be a \"unacceptable\" of the government in the country to pay £1m in the country to the government.',\n",
       " 'Plans for a new £1.5m bus station in Cardiff have been approved by the council.',\n",
       " 'Plans for a £1.5m project to build a new £1m project to mark the Isle of Wight.',\n",
       " 'The NHS in England has said that the NHS will be given to the NHS in England, the NHS has announced.',\n",
       " 'Donald Trump has become the first time in the US.',\n",
       " 'A £1.2m project to mark the Isle of Wight has been unveiled in the Borders.',\n",
       " 'A man arrested in connection with the murder of a man in South Africa has been arrested in connection with the murder of a man in South Africa.',\n",
       " 'A woman who was shot dead in the South African Republic has said she was \"a bit\" about the death of a woman who was shot dead in the country.',\n",
       " \"A court in India has ordered the trial of former President Barack Obama's former president, who was accused of murdering his wife.\",\n",
       " 'Celtic have signed former Rangers and Rangers midfielder Alex Ferguson on a two-year deal.',\n",
       " 'A motorcyclist has been injured in a crash on the A9 in the A9.',\n",
       " 'Great Britain have won their World Cup semi-finals in Rio with victory in the World Twenty20.',\n",
       " 'A woman found dead at a house in London has been found dead at a house in London.',\n",
       " \"World number one Johanna Konta says he will not be able to win the world's Olympic gold medal at the World Championships.\",\n",
       " 'A man has been found guilty of child sex abuse at his home in the UK.',\n",
       " 'A man has died in a crash on the Isle of Wight.',\n",
       " 'It is a few weeks for the first time in the world.',\n",
       " 'The Labour Party has said the party will not be able to leave the Welsh Government in Wales.',\n",
       " 'The US is to close its own service in the US.',\n",
       " \"It's a few weeks ago.\",\n",
       " 'The Scottish Football Association has announced that it has been a £1.5m £2m for the first time in the year.',\n",
       " 'The US has announced plans to cut a $2bn (Â£2.3.5bn) deal with the company over the next two years.',\n",
       " 'A man has been found guilty of being \"unprecedented\" by the BBC\\'s chief constable, after he was found guilty.',\n",
       " 'The family of a former police officer who was shot dead in the Manchester Arena have said they will not have to pay them to the public.',\n",
       " 'World number one Johanna Konta was beaten in the Olympic Games in Rio.',\n",
       " 'Firefighters are being investigated over a fire at a County Tyrone town.',\n",
       " \"A court in the Indian capital, the Indian city of India, has been accused by a court in the Indian capital, India, after the country's Supreme Court.\",\n",
       " 'Two men have been jailed for life after a man was found dead at his home.',\n",
       " 'A schoolgirl who was sexually abused by a schoolgirl in a school has been banned from the school.',\n",
       " 'A teenage girl has been arrested in connection with the death of a baby girl in the southern Indian capital, the BBC has learned.',\n",
       " \"It is the world of the world's most famous film.\",\n",
       " 'The number of cancer patients in the UK has risen to the UK, according to a report by the US government.',\n",
       " 'Swansea City have agreed a deal with the League Two club after a deal was suspended for a fee of £2m from the club.',\n",
       " \"It's the world of the year for the first time in the UK.\",\n",
       " 'Worcestershire are in the first Test against Wales at the World Cup.',\n",
       " \"Former England and England captain Michael O'Brien has been ruled out for the 2017 World Cup of Nations.\",\n",
       " 'Two men have been arrested after two men were injured in a suspected arson attack in Manchester.',\n",
       " 'Worcestershire have signed England batsman Alex Ferguson on a two-year deal.',\n",
       " 'A woman who was shot dead at a school in the UK has been named as part of a former head coach.',\n",
       " 'The government has said there is no plans for a £2.2m school in England and Wales will not be made in the next five months.',\n",
       " 'A woman has been found dead at her home in the US.',\n",
       " \"A football fan has been given a £1.5m project to help the club's new football team.\",\n",
       " 'The world is to be held in the US for the first time in the UK to be built in the world.',\n",
       " 'Worcestershire have signed former Scotland international James Anderson for an undisclosed fee on a two-year deal.',\n",
       " 'Former Manchester United and Manchester United manager Paul Clement has been ruled out for the first time in the World Cup.',\n",
       " \"It's a few weeks ago, and it's been the most important time.\",\n",
       " 'Cardiff City manager Neil Warnock says the club are \"not a chance\" for the club to leave the club.',\n",
       " 'A man has been charged with the murder of a woman who was found dead at his home in London.',\n",
       " 'A statue has been unveiled at the age of 10.',\n",
       " 'A man has died after being hit by a car on the A9 in the Borders.',\n",
       " 'A man accused of murdering a man in Glasgow has been found dead at a school in Glasgow.',\n",
       " 'A man has been charged with attempted murder after a man was found dead at a house in County Tyrone.',\n",
       " \"(Close): Wall Street closed lower on Monday, with a strong fall in the country's biggest rate of the year.\",\n",
       " 'A man has been found dead at a London hospital after being found dead at a school.',\n",
       " 'Plans for a £1.5m road in the Borders have been announced.',\n",
       " 'Wales manager Paul Clement says he is \"not a good\" for Wales in the European Champions Cup.',\n",
       " 'It was a few years ago, and it was the best known for the world of the world.',\n",
       " 'Swansea City have made a new deal with England and England and Wales to make a new contract with the club.',\n",
       " 'A council has said it will not be given a £1.5m project to help the public to help the public.',\n",
       " 'Bristol City moved up to the top of the Championship with a comfortable win at the top of League Two.',\n",
       " 'At least 20 people have been killed in a suspected arson attack in the southern Indian capital, state officials say.',\n",
       " 'A man accused of murdering a teenage girl at a school has been found guilty.',\n",
       " 'The Northern Ireland Football Association has said it will not be \"not the chance\" for the first time in the Republic of Ireland.',\n",
       " 'A man has been found dead in a house fire at the A9.',\n",
       " 'A man has been found dead at a hospital after being hit by a car in Cardiff.',\n",
       " 'Bristol City moved into the top of the Premier League with a comfortable win over Manchester City.',\n",
       " 'More than 100,000 people have been killed in the southern Indian capital, the UN says.',\n",
       " 'A man has been convicted of raping and sexually abusing children in the UK.',\n",
       " 'Wales will be held for the 2016 World Championships in Cardiff.',\n",
       " 'A teenage girl has been charged with sexual assault after a child was found at a house in Manchester.',\n",
       " 'Plans for a new £2.5m scheme to help the Welsh Government to help the public have been approved by the council.',\n",
       " 'World number one Johanna Konta says his side will be out for the first time since the World Cup.',\n",
       " \"It's a few weeks ago.\",\n",
       " 'Scientists say they have found a \"unprecedented of the world\", a study has found.',\n",
       " 'Former world number one Johanna Konta has been ruled out for the first time in the world of the year.',\n",
       " 'The BBC is being investigated by the government over the next three years.',\n",
       " 'Bristol Rovers have signed former Celtic and Scotland international defender Alex Ferguson on loan until the end of the season.',\n",
       " \"Great Britain's women won gold at the European Championships in Rio with victory in Rio.\",\n",
       " \"South Korea's Supreme Court has ordered the country's Supreme Court in the capital, a court has heard.\",\n",
       " 'Bristol Rovers have signed striker James Anderson on a two-year deal from League One side Wigan Athletic.',\n",
       " \"It's been a week for the first time in the world of the world, but the country's most famous people are being used in the country.\",\n",
       " 'A bus has been closed for a second time in a year.',\n",
       " 'A man has been arrested in connection with the death of a man who was found dead at his home in the city of Glasgow.',\n",
       " 'A motorcyclist has died after a car crashed in a crash in County Tyrone.',\n",
       " 'At least 10 people have been killed in a bomb attacks in the capital, the UN says.',\n",
       " 'World number one Johanna Konta won the second round of the Tour de France with victory in the final of the Tour de France.',\n",
       " 'The Northern Ireland Assembly has said it will be a \"unacceptable\" of the Northern Ireland government.',\n",
       " 'A man found dead at his house in the US has been found dead at his house.',\n",
       " 'Bristol City moved up to the top of the Championship with a comfortable victory over Leicester City.',\n",
       " 'The Northern Ireland Assembly has said it will not be \"unprecedented\" over the next two years.',\n",
       " 'Bristol City manager Paul Clement says he is \"not a chance\" after being held on a two-year contract.',\n",
       " 'Scientists say they have found a new species that can be used in the US for the first time in the US.',\n",
       " 'A woman has died following a fire at a house in Dundee.',\n",
       " 'A man has been found guilty of murdering his wife in a house fire.',\n",
       " 'The chief executive of London has said that it will be a £1.3bn deal to pay for the government to pay for the government.',\n",
       " 'A woman from the world has said she will not have to make it a \"unacceptable\".',\n",
       " \"British number one Johanna Konta won gold in the women's Olympic gold medal at the World Championships in Rio.\",\n",
       " \"It's the world of the world of the world of the world of the world.\",\n",
       " \"Google has said it is to cut a £2.2m investment in the US to help the company the company's new jobs.\",\n",
       " 'A new study has been launched into the world.',\n",
       " 'Plans have been held for the Welsh Rugby World Championships in Cardiff.',\n",
       " 'It was the most important time of the world of the world of the year.',\n",
       " 'The number of people being used in Wales is being held in Wales, according to new research.',\n",
       " 'At least 10 people have been killed in a bomb attacks in the US, officials have said.',\n",
       " 'Bristol City moved to second in the Scottish Premiership with a comfortable victory over St Mirren.',\n",
       " 'World number one Andy Murray has said he will not be in the Olympic gold medal at the World Championships in London.',\n",
       " 'The number of children in the UK has risen in the past year, according to a report.',\n",
       " 'Google has announced it is to close the first time in the US.',\n",
       " 'Coventry City manager Paul Clement says he is \"not a chance\" for the Scottish Premiership club.',\n",
       " 'US President Barack Obama has said that the US will be able to pay for the UK to help the UK-based oil company.',\n",
       " 'England will face Australia at the top of the World Twenty20 after beating England in their final match at the World Cup.',\n",
       " 'A County Tyrone town has been suspended following an investigation into the public.',\n",
       " 'Thousands of people are being investigated by the government over the next five years, according to a report by the government.',\n",
       " 'Huddersfield Town have signed striker James Anderson on a two-year deal from League One side Hibernian.',\n",
       " 'Wales have been ruled out for the first time in four months after a knee injury in the Irish Cup.',\n",
       " 'At least 20 people have been killed in an air strike in the capital, the UN says.',\n",
       " 'A man has been arrested after a man was attacked in a car crash on the M4.',\n",
       " 'Middlesbrough moved to the top of the Premiership with a comfortable victory over South Africa in the first round of the season.',\n",
       " 'A man has been arrested after a woman was found dead in a house fire in County Armagh.',\n",
       " 'A school has been fined £1,000 after a school was found dead at a school.',\n",
       " 'Bristol Rovers moved up to the top of the Championship with a comfortable win at the top of League Two.',\n",
       " 'Two teenagers have been jailed for life after a man were found dead at a house.',\n",
       " 'England have made their first match of their World Cup qualifier against South Africa on Saturday.',\n",
       " 'A school has been rescued from a primary school after it was closed for a school.',\n",
       " 'Huddersfield Town moved up to the League Two play-off places with victory at the top of League Two.',\n",
       " 'The United Nations has said it will not be a new deal with the US and Ireland.',\n",
       " 'Scientists say they have discovered a new study that could be used in the UK to help them to help them.',\n",
       " 'The BBC has announced that it will be the first of the year for the first time in the year.',\n",
       " 'The Football Association has said it will not be \"not no\" after a football match between the Football Association and Manchester City.',\n",
       " 'A man has been found guilty of murdering a police officer in the north Wales town.',\n",
       " 'The NHS in England and Wales are being used by the NHS in the UK, according to a new report.',\n",
       " 'A motorcyclist has been found dead in a car crash on the A9.',\n",
       " 'The number of people in England and Scotland has fallen by more than a year, according to a report.',\n",
       " 'A man has been charged with the murder of a man who was found dead in the capital, County Antrim.',\n",
       " 'Bristol City have signed Manchester City striker Alex Ferguson on loan until the end of the season.',\n",
       " 'A chronology of key events:',\n",
       " 'It was the most important time in the world of the year.',\n",
       " 'Worcestershire have appointed former England batsman Alex Ferguson as their new head coach.',\n",
       " 'World number one Johanna Konta won the second round of the US Open with victory at the US Open.',\n",
       " 'Two men have been arrested in connection with the murder of a man who was stabbed in a house in County Armagh.',\n",
       " 'Two people have been arrested in connection with the murder of a man who was found dead at a house in the capital, County Tyrone.',\n",
       " 'Swansea City have been named the new manager of the Year.',\n",
       " 'At least 10 people have been killed in a bomb attack in the country in the country, officials say.',\n",
       " 'A woman has been injured after a car was hit by a car on the A9 in Glasgow.',\n",
       " 'Coventry City have signed midfielder James Anderson on a two-year deal.',\n",
       " 'A hospital trust has been launched after a new £1.5m project to help the NHS in Wales.',\n",
       " 'The Labour Party has said it will not be \"not no\" for the Labour leader.',\n",
       " 'Plans to build a new £1.5m project to build a new £1.5m project to build a new £1m project.',\n",
       " 'The number of people in England and Wales has said the UK will not be \"unacceptable\".',\n",
       " 'The number of people in England and Wales has been criticised by the government, a report says.',\n",
       " 'All pictures are copyrighted.',\n",
       " 'Huddersfield Town moved to the top of the League Two play-off places with victory at home to the top of the League One play-off places.',\n",
       " 'The Welsh government has said it will not be \"unacceptable\" about the EU referendum on the EU.',\n",
       " 'A man has been injured after a car crashed into a car on the M4 in County Tyrone.',\n",
       " 'The NHS in England is being investigated by the NHS in England and Wales over the next five years, the NHS has said.',\n",
       " 'It was a few weeks ago, and it was the best of the world of the year.',\n",
       " 'Three men have been jailed for a £2m (Â£1m) £2m of the year for a £2m prison.',\n",
       " 'Huddersfield Town have signed former England and Irish Lions batsman Alex Ferguson on a two-year deal.',\n",
       " 'A man has died after being hit by a car in the US.',\n",
       " 'Middlesbrough moved into the second round of the Championship with a comfortable victory over Yorkshire.',\n",
       " \"It's been a day for the Olympic Games in Rio.\",\n",
       " 'A woman has been rescued from the sea off the Isle of Wight.',\n",
       " 'A County Tyrone company is to close to the public after a £1m project to pay for the public to the public.',\n",
       " \"It's a few weeks ago, and it will be the first time in the UK.\",\n",
       " 'Worcester Warriors have signed Wales batsman Alex Ferguson on a two-year contract.',\n",
       " 'A hospital trust is to be held in a hospital after being found dead at a hospital.',\n",
       " 'England batsman James Anderson says he is \"not no longer\" after being held to the World Twenty20 in the World Twenty20.',\n",
       " 'A bus driver has died after being hit by a bus on the A9.5 in the Borders.',\n",
       " 'A woman has been found dead at her home in the south of England.',\n",
       " 'A new £2.5m bid to make the first Test against England and Wales has been announced.',\n",
       " 'Google has announced plans to cut a £2m investment in the EU.',\n",
       " 'A woman has been charged with the murder of a man in a house in County Tyrone.',\n",
       " 'A man has been shot dead in the southern Indian capital, killing at least 10 people, officials say.',\n",
       " 'It is the world of the world of the world.',\n",
       " 'Scientists say they have found a new species that can be used in the world for the first time.',\n",
       " 'Two men have been arrested after a woman was arrested in connection with the murder of a woman at a house in County Armagh.',\n",
       " 'It was the first time of the UK government in the Republic of Ireland, the Northern Ireland Assembly has said.',\n",
       " 'Three men have been arrested in connection with the murder of a man in the north Belfast.',\n",
       " 'Northern Ireland is to be held to win the World Championships in London on Saturday.',\n",
       " 'A woman has died after a fire at a house in Cardiff.',\n",
       " 'A man has been found guilty of murdering a man in the US.',\n",
       " 'A police officer has said it is \"unacceptable\" about a report on the public inquiry.',\n",
       " 'Middlesbrough moved to second in the second round of the season after beating South Africa in the second Test.',\n",
       " \"A British woman has been arrested in the UK after she was found dead at the UK's largest US state of Aleppo.\",\n",
       " 'Welshman Chris Froome won gold for the 2016 Olympic Games in Rio.',\n",
       " 'Bristol City have signed former England and Scotland international midfielder James Anderson on a two-year deal.',\n",
       " 'The former chief executive of the US has said it will not be \"unacceptable\" for the next three years, the chief constable has confirmed.',\n",
       " 'A US company has said it will be a \"unprecedented\" to help people with the US.',\n",
       " \"It's the world of the world of the year.\",\n",
       " 'Two men have been jailed for life for a man who was found dead at a London prison.',\n",
       " \"Former Labour leader Nigel Farage has died at a party in a row over his party's election.\",\n",
       " \"Great Britain's Olympic gold medal at the Rio Olympics has said she will not be able to return for the 2016 Olympic Games in London.\",\n",
       " 'It is the world of the world of the world.',\n",
       " 'A man has been found dead at the Isle of Wight.',\n",
       " 'A council is to be held for the first time to be held on the Isle of Man.',\n",
       " 'The Labour Party has said it will not be \"unprecedented\" if the Labour Party is to be suspended from the UK government.',\n",
       " 'More than 1,000 people are being treated in hospital following a fire at a hospital in Edinburgh.',\n",
       " 'World number one Johanna Konta has been ruled out for the second time in the final round of the World Championships.',\n",
       " \"Britain's Chris Froome has been ruled out for the second time in the World Championships in London.\",\n",
       " 'A £1.5m project to mark the Isle of Wight has been unveiled.',\n",
       " 'A woman has been found dead at a house in County Tyrone.',\n",
       " 'Two children have been arrested after the body of a man was found dead in a house fire.',\n",
       " 'A man has been found guilty of causing the death of an elderly woman in a car crash.',\n",
       " 'The Football Association has said that the Football Association is \"not a new\" to be held in London.',\n",
       " 'More than £2m will be given to a new £1.6m of the government, the BBC has announced.',\n",
       " 'Bristol Rovers were beaten in the League Two play-off places with victory at the top of the League One play-off places.',\n",
       " 'Bristol City moved up to second in the Championship with a comfortable victory over League One side Leeds United.',\n",
       " 'A man accused of murdering a woman in the UK has been found guilty of murdering a woman.',\n",
       " 'A man has been killed in an attack in the UK in the Syrian capital, the BBC has learned.',\n",
       " 'More than 100,000 people are being investigated by the US government over the next two years.',\n",
       " 'The Scottish government has said that it will be able to build a £1.5m project to build a new £1.2m project.',\n",
       " 'At least 20 people have been killed in an attack in the capital, the UN has said.',\n",
       " 'Coventry City manager Paul Clement says he is \"not a \"not\" for his side to leave the club.',\n",
       " \"Mae'n yn yn yn yn yn yn yn yn yn yn yn yn yn yn yn yn yn yn yn ym yn yn yn yn yn yn yn yn yn\",\n",
       " 'More than 100 jobs are being investigated over the next two years, the union has said.',\n",
       " 'A man has been found guilty of murdering his wife.',\n",
       " 'US President Barack Obama has said he is \"not a \"unacceptable\" after a US-led deal with US President Barack Obama.',\n",
       " 'Bristol Rovers have signed midfielder James Anderson on a two-year deal from League Two side Reading.',\n",
       " 'A woman has been found dead at a house in Belfast.',\n",
       " 'World number one Andy Murray won his third round of the World Championship with victory in the US Open.',\n",
       " 'A man has been found dead at the centre of Australia after being hit by a car.',\n",
       " 'A study has found that a new study into the NHS in the UK is being investigated by the NHS.',\n",
       " 'A man has been rescued from the World War Two in the Republic of Ireland for the first time in the year.',\n",
       " 'The European Union has said it will be \"unprecedented\" for the first time in the world to be used in the European Union.',\n",
       " \"The world's most popular film, the world of the year, has died at a house in London.\",\n",
       " '(Close): US markets closed higher on Monday, with the country\\'s biggest economy, but the country\\'s biggest economy is a \"not good\" for the first time.',\n",
       " 'Two people have been taken to hospital after a fire broke out in a house fire.',\n",
       " 'A man has been jailed for life for the first time in four years for the second time in a row.',\n",
       " 'Leicestershire have been ruled out for the first time in the World Cup.',\n",
       " 'A woman has been found guilty of murdering a woman at a hospital.',\n",
       " 'Bristol City moved into the top of the Championship with a comfortable win over League One side Bristol City.',\n",
       " 'At least 10 people have been killed in an air strike in the US, the UN says.',\n",
       " \"It's been a year for the first time in the year.\",\n",
       " 'A man has died after being hit by a car in County Tyrone.',\n",
       " 'Bristol City have signed striker James Anderson on a two-year deal from League One side Wigan Athletic.',\n",
       " 'Northern Ireland will face Ireland in the World Cup final after their final match in the World Cup.',\n",
       " 'A man has been charged with attempted murder after a man was found dead at his house in the Republic of Ireland.',\n",
       " 'Leicestershire have signed Australia international James Anderson on a two-year contract.',\n",
       " '(Close): US shares closed higher on Monday, with shares on Tuesday, after a rise in the country.',\n",
       " 'Swansea City were held to a draw at the top of the Premier League with a comfortable win over Manchester City.',\n",
       " 'China has announced that it has been given a $1.2bn (£1.5bn) deal to pay for the country to the US.',\n",
       " \"It's been a day of the world of the year for the first time in the world of the year.\",\n",
       " 'England are in the first Test series against South Africa in the World Cup.',\n",
       " 'The number of people in the UK has fallen to a year in the past year, according to the latest figures.',\n",
       " 'A woman has died after a crash on the A9 in Manchester.',\n",
       " 'Plans are being held for the first time in the UK to be built in the South East.',\n",
       " 'The European Commission has said that the UK is a \"unacceptable\".',\n",
       " \"At least 15 people have been killed in a car crash in China's capital, China, officials say.\",\n",
       " 'Wales\\' world number one Johanna Konta says he is \"not a chance\" with his side to win the final round of the World Championships in Belfast.',\n",
       " 'Worcestershire have signed South Africa batsman Alex Ferguson on a two-year deal from League Two side Northampton Town.',\n",
       " 'A new study has been launched in Australia.',\n",
       " 'South Africa will be given £1.5m for the next three months to the Premier League, according to the Football Association.',\n",
       " 'The number of children in England and Wales is being investigated by the government, a report says.',\n",
       " \"A £1.5m project to mark the first time of the year's new film The Oval has been unveiled.\",\n",
       " 'Donald Trump has said the US is a \"unacceptable\".',\n",
       " 'A woman has been rescued from a car after a car crashed into her car.',\n",
       " 'A woman has been found guilty of raping a woman at her home.',\n",
       " 'A man has been arrested on suspicion of murder after a woman was stabbed to death in a house.',\n",
       " 'The UN has said it will be \"unprecedented\" in the country to help the country to help the Syrian city of Aleppo.',\n",
       " 'A man has been convicted of murdering his wife at a US court in the US.',\n",
       " 'A woman has been jailed for life for murdering a woman in her home.',\n",
       " 'Swansea City have completed the signing of former England batsman Alex Ferguson after he was ruled out for the rest of the season.',\n",
       " 'A man has been found guilty of raping a woman in his home.',\n",
       " 'Scientists say they have discovered a new study that could be used by a study.',\n",
       " 'The US has said it will be a \"unacceptable\" of its air strike in the southern Indian capital.',\n",
       " 'Two people have been jailed for life after a man was found dead in the UK.',\n",
       " 'British number one Johanna Konta won gold at the European Championships in Rio.',\n",
       " 'League One side Gillingham have signed Cardiff City midfielder Tom Dons on a two-year deal.',\n",
       " \"Mae'r ymwyr yn yn yn yn yn yn yn yn yn yn yn yn yn yn ôl i'r yn yn yn yn yn yn yn yn yn yn\",\n",
       " 'A man has been found guilty of causing the death of his wife at his home in London.',\n",
       " 'World number one Johanna Konta was beaten in the final round of the World Championships in London.',\n",
       " 'A man has been shot dead in the US in the US.',\n",
       " 'A chronology of key events',\n",
       " 'Bristol Rovers have signed former England and England batsman Alex Ferguson on a two-year deal.',\n",
       " 'A man accused of murdering a woman in her home has been convicted of murdering a woman.',\n",
       " 'A man has been rescued from a car after being hit by a bus in Cardiff city centre.',\n",
       " 'World number one Andy Murray won his second round of the season with victory in the final round of the World Championship in London.',\n",
       " 'Middlesbrough were beaten in their first-round match in the second round of the season after beating South Africa in the second round.',\n",
       " \"Great Britain's women won gold for the second time in the World Championships in London.\",\n",
       " 'The number of people in England and Wales has risen by more than a year, according to a report.',\n",
       " 'Manchester United manager Jose Mourinho says his side will not be \"not the chance\" if he is not to leave the Premier League.',\n",
       " 'The chief executive of London has said it will not be a £5m of £1.5bn in the next three years.',\n",
       " 'World number one Novak Djokovic says he will be \"a good\" to win his first round of the World Championships.',\n",
       " 'Plans for a new £2.2m school in Cardiff have been approved.',\n",
       " 'At least 20 people have been killed in an air strike in the eastern Indian capital, the UN says.',\n",
       " 'A man has been arrested after a man was found dead at a house in the Borders.',\n",
       " 'Police are investigating the murder of a man who was found dead at a house in County Armagh.',\n",
       " 'Thousands of thousands of people have taken part in Australia in a bid to save the sea in the US.',\n",
       " 'The US is being investigated by the US and the government over the next three years, but the US is a \"unacceptable\".',\n",
       " \"US President Donald Trump has said that he will not be the most powerful of the world's most famous people in the UK.\",\n",
       " 'Manchester City manager Jose Mourinho says the club will not be \"not a chance\" if he is not to be a \"not\" for the club.',\n",
       " \"It was a few days for the first time of the year, and it's been the most famous football team.\",\n",
       " 'Plans to build a £1.6m project to help the sea off the coast of the North Sea have been approved by the company.',\n",
       " 'The BBC has said it will be a \"unacceptable\" for its first time in the UK.',\n",
       " 'Huddersfield Giants have confirmed they will not be out for the rest of the season.',\n",
       " 'A man has appeared in court charged with the murder of a man who was found dead in a car in the West Yorkshire.',\n",
       " 'The Northern Ireland Assembly has announced that it is to close to the government.',\n",
       " \"Great Britain won gold in the women's Olympic gold medal at Rio 2016.\",\n",
       " 'The US has said it will not be the first of the country to be held in the US.',\n",
       " \"It's the world of the world of the year.\",\n",
       " 'Celtic moved to the top of the Championship with a comfortable victory at the top of League One.',\n",
       " 'Two people have been arrested after a man was hit by a fire in the Borders.',\n",
       " 'Bristol City manager Paul Clement says he is \"not a \"not\" for the club to leave the Premier League.',\n",
       " \"It's a day of the world of the world of the world of the world.\",\n",
       " 'Plans for a £1.5m investment in the north Wales have been announced by the government.',\n",
       " 'A school in the UK is being investigated by the government over the next five years.',\n",
       " 'A man has been jailed for the murder of a man in Edinburgh.',\n",
       " 'Lewis Hamilton was beaten in the second round of the US Open by beating South Africa by beating South Africa in the final of the World Championship.',\n",
       " 'A Scottish government minister has said he will not have to leave the Scottish government in Scotland.',\n",
       " 'More than a million people in the UK are being investigated by the NHS in England, a study suggests.',\n",
       " 'The Church of England has said it will not be able to pay £2.5bn to the government to pay for the government to pay for the government.',\n",
       " 'At least 10 people have been killed in a bomb attacks in the northern Indian capital, the UN says.',\n",
       " 'Manchester City are in the top of the Premier League with a comfortable victory over Manchester United.',\n",
       " 'It was a few years ago.',\n",
       " 'Plans for a new £2.5m project to build a new £1m project to build a new £1.3m project.',\n",
       " 'A man has been found guilty of murdering his wife at a prison.',\n",
       " 'Plans for a new £1.5m project to build a new £1m project have been approved by councillors.',\n",
       " 'Swansea City have appointed former Manchester City boss Paul Clement as their new manager.',\n",
       " 'A man from the UK has become the first of the world to be the world of the year.',\n",
       " 'Plans for a £2.6m project to build a new £1m project to mark the end of the year.',\n",
       " 'It is a few days for the EU referendum on the EU referendum.',\n",
       " 'It was a few years ago.',\n",
       " 'A train has been rescued from the Isle of Wight after a plane crashed into the sea off the coast.',\n",
       " 'Aberdeen manager Derek McIlroy has said he is \"not a chance\" for the Scottish Cup.',\n",
       " 'Huddersfield Town moved to the top of the League One play-off places with a comfortable victory over League One side St Mirren.',\n",
       " 'The Irish government has said he will not be able to pay for the Irish government in the Republic of Ireland for the first time in a row.',\n",
       " \"It's been the most powerful number of women in the UK.\",\n",
       " 'Great Britain have won the World Championships in Rio.',\n",
       " 'Huddersfield Town moved to the top of the Premiership with a comfortable win over Belfast City.',\n",
       " 'The Northern Ireland Assembly has said it will be no longer be able to leave the Northern Ireland Assembly.',\n",
       " 'A man has been found dead at a house in the New Year.',\n",
       " 'A man has been found dead at his home after he was found dead at a house.',\n",
       " \"Northern Ireland's first-half goal of the season were held to a 1-1 draw at St Mirren.\",\n",
       " 'Rory McIlroy was knocked out of his second round of the Irish Open after a 2-0 victory over Bournemouth.',\n",
       " 'Wales will be held for the first time since the Six Nations match against Wales on Saturday.',\n",
       " 'A woman has been jailed for life for murdering a woman in the UK.',\n",
       " 'Two people have been arrested in London after a woman was found dead at a London school in London.',\n",
       " 'Plans to build a £1.3m project to build a £1m project in the Borders have been approved by the government.',\n",
       " 'A police officer who was shot dead by police in London is to be investigated over the murder of a police officer.',\n",
       " 'England will face Australia at the end of the World Cup in Australia after the first Test against Australia.',\n",
       " 'A man has been killed in an air strike in the Syrian capital, the US and the US has said.',\n",
       " 'The government has said it will not be \"unprecedented\" over the next two years, the council leader of the council has said.',\n",
       " 'A woman who was found dead in a house fire at her home has died.',\n",
       " 'Celtic have completed the end of the season after a knee injury.',\n",
       " 'Swansea City boss Paul Clement has said he will not be able to pay him to the club for the club.',\n",
       " 'Police in the Republic of Ireland are investigating allegations that a woman were found dead in a car park in County Tyrone.',\n",
       " 'Huddersfield Town have signed midfielder James Anderson on a two-year deal from Championship side Bury.',\n",
       " 'The European Commission has announced that it will be a new deal with the European Commission.',\n",
       " 'A man has appeared in court in connection with the murder of a man found dead at his house in County Tyrone.',\n",
       " 'Swansea City have signed England batsman Alex Ferguson on a two-year contract.',\n",
       " 'Bristol Rovers have signed midfielder James Anderson on a two-year deal from League One side Wigan Athletic.',\n",
       " 'A former police officer who was found dead at the home of a police officer has been told he is not to be \"unacceptable\" by police.',\n",
       " 'Former Manchester United and England batsman Chris Froome has been ruled out for the first time in five weeks.',\n",
       " 'A court in South Africa has ordered the country to pay for the first time in the country to pay for the country to the country.',\n",
       " 'The government has said it will be a £1.5m of the NHS in England and Wales.',\n",
       " \"It's been a year for the first time in the world of the year, but it was the best of the year.\",\n",
       " 'Plans for a new £1.5m project to build a new £1.2m project in the Borders have been approved by the government.',\n",
       " 'A man has been convicted of murdering a woman at a hospital in the US.',\n",
       " 'A man has appeared in court charged with the murder of a man found dead at a house.',\n",
       " 'A woman who has died in a car crash in South Yorkshire has been named as the new leader.',\n",
       " 'An Australian woman has been told she will not have her appeal against her case against the Australian Open at the World Championships in London.',\n",
       " 'A man has been jailed for life for killing his wife and his wife.',\n",
       " \"It's the world of the year, and it is the world of the world.\",\n",
       " 'Swansea City have appointed former Manchester City manager Paul Clement as their new manager.',\n",
       " 'A study has found that people are being used in the UK to help them to help them.',\n",
       " '(Close): US shares closed higher on Monday, with shares on Tuesday, with the shares in the first quarter of the year.',\n",
       " 'A man has died after being shot dead in the country.',\n",
       " 'A man has been found dead after a plane crashed in the Paris attacks.',\n",
       " 'Celtic have appointed former Rangers boss Paul Clement as their new head coach.',\n",
       " \"Mae'r yn yn yn yn yn yn yn yn yn yn yn yn yn yn yn yn yn yn yn ym yn yn yn yn yn yn yn ym yn\",\n",
       " 'A study has said that the NHS should be given to the NHS in England and Wales, a report has found.',\n",
       " 'The number of people in Scotland has risen by 10% in the first quarter of the year, according to a new report.',\n",
       " 'The number of people in Northern Ireland has risen to the last year, according to the latest official figures.',\n",
       " 'World number one Johanna Konta was beaten by the Olympic gold medal at the Rio Olympics.',\n",
       " 'A man who was found dead at a house in the UK has been found dead at his home.',\n",
       " 'A man has been arrested on suspicion of murder after a man was shot dead in the US.',\n",
       " 'The number of people in England and Wales has fallen to the UK in the first quarter of the year, according to a new report.',\n",
       " 'The European Commission has said it will not be \"unacceptable\".',\n",
       " 'Huddersfield Town moved up to the League One play-off places with victory at the top of League One.',\n",
       " 'It is a few weeks ago, and it was the first time in the country of the country.',\n",
       " 'A man has been arrested in connection with the murder of a woman in the southern Indian capital, Delhi.',\n",
       " 'Two people have been arrested after a man was found in a house fire at the A9.',\n",
       " 'A man has been arrested after a woman was found dead in her home.',\n",
       " 'British number one Johanna Konta has been ruled out for the first time in the US Open.',\n",
       " \"It's been a week after a plane crash on the Isle of Wight.\",\n",
       " 'Plans for a new £1.6m project to build a new £1m project to help the site of the site of the Cardiff city centre have been unveiled.',\n",
       " 'A man has been charged with attempted murder after a man was found dead at his home in County Tyrone.',\n",
       " 'It is the first time of the year to be the most important of the world of the world.',\n",
       " 'Huddersfield Town have signed striker James Anderson on a two-year deal.',\n",
       " 'The 2016 Olympic Games will be held on Monday, the Rio Olympics has announced.',\n",
       " 'Huddersfield Town have signed former Manchester United and Manchester United defender James Anderson on a two-year deal.',\n",
       " \"England batsman Michael O'Brien has been banned from international football after being banned for a second-round match at the World Cup.\",\n",
       " 'British number one Johanna Konta won gold at the World Championships in Rio.',\n",
       " 'Plans have been launched to build a £2.5m project to build a new £1.3m project.',\n",
       " 'England were held to a second-half-wicket victory over Australia in the second round of the World Cup.',\n",
       " 'A woman has been arrested after a woman was attacked in a car crash in China, police say.',\n",
       " 'A 15-year-old girl has been arrested after a woman was found dead at a house in County Tyrone.',\n",
       " 'A £1.5m project to help the public to help the public has been unveiled in the UK.',\n",
       " 'A Scottish Labour MP has said he will not be able to leave the Scottish Parliament.',\n",
       " 'The Welsh Government has said it will not be \"unacceptable\" for the Welsh Government to be made in the Welsh Government.',\n",
       " 'Huddersfield Town moved to the top of the League One play-off places with a 1-0 victory at the top of the League One play-off places.',\n",
       " 'Swansea City head coach Paul Clement says he is \"not a chance\" after the Championship play-off hopes of the Championship.',\n",
       " 'A man has been convicted of killing his wife and his wife at a prison in South Africa.',\n",
       " 'Police in Northern Ireland are investigating the murder of a man in County Armagh.',\n",
       " 'More than 100,000 people are being made in the UK in the UK, a new study suggests.',\n",
       " \"Britain's Olympic gold medal at the Olympic Games in Rio has been named the world champion of the World Championships in London.\",\n",
       " 'A man has appeared in court charged with the murder of a woman found dead at a house in Bristol.',\n",
       " 'The Scottish government has announced a deal to build a £2.3m of the UK government to help the NHS in England and Wales.',\n",
       " 'A man has been jailed for the murder of a man who was found dead at his home.',\n",
       " 'Swansea City have appointed former England boss Paul Clement for the rest of the season.',\n",
       " 'The number of patients in England and England has risen by more than 100% in the last year, according to a survey.',\n",
       " 'A Scottish company has said it will be a \"unacceptable\" after a fire on the M8 in Aberdeen.',\n",
       " 'The number of NHS patients in Northern Ireland is being investigated by the NHS in England.',\n",
       " 'England captain Michael O\\'Neill says he is \"not a chance\" to win the World Cup semi-final against South Africa.',\n",
       " 'Swansea City have confirmed the signing of former England and England international defender James Anderson.',\n",
       " 'Middlesbrough have appointed former England and England batsman Alex Ferguson as their new manager.',\n",
       " \"A £1.5m project to help the UK's new university is to be built in Swansea.\",\n",
       " 'A British woman has been shot dead at the Isle of Wight.',\n",
       " 'England batsman James Anderson has been ruled out of the England squad for next season.',\n",
       " 'Plans have been launched to build a new £20m road on the Isle of Wrexham.',\n",
       " 'England will face Australia in the first Test against Australia at the World Cup.',\n",
       " 'Bristol City have signed Australia batsman Alex Ferguson on a two-year deal.',\n",
       " 'Coventry City have signed midfielder James Anderson on loan from Rangers until the end of the summer.',\n",
       " 'The chief constable of the Football Association has said the BBC will not have to pay for \"unprecedented\".',\n",
       " 'The government has announced a £1.5bn deal to cut the government to £1bn in the next year.',\n",
       " 'A court in the Australian state of Australia has said it will not be \"unacceptable\".',\n",
       " 'Bristol City manager Paul Clement says he is \"not a chance\" after being held on a two-year contract.',\n",
       " \"It's the world of the world of the world of the world.\",\n",
       " 'A man has been arrested after a man was stabbed in a car in County Tyrone.',\n",
       " 'The number of people in the US has risen to the country for the first time in the year, according to the government.',\n",
       " 'The Scottish government has said he will not be a \"unacceptable\" for the party in the party\\'s election.',\n",
       " 'A football match has been killed and two others were injured in a row over the weekend.',\n",
       " 'A woman has died after a fire at a train on the Isle of Wight.',\n",
       " 'Bristol City have signed former England international midfielder Alex Ferguson on a two-year deal.',\n",
       " 'A man has been jailed for life for raping a man in his home.',\n",
       " 'Bristol City have signed Northern Ireland international goalkeeper Alex Ferguson on a two-year deal.',\n",
       " 'A man has been charged with the murder of a South African football player who was shot dead in the South Africa Cup.',\n",
       " 'A man has been sold to £1,000 to £1,000 for the first time in the UK.',\n",
       " 'At least 10 people have been killed in a bomb attack in the northern Indian capital, the UN says.',\n",
       " 'A man has been jailed for life for murdering a man in the Republic of Ireland.',\n",
       " 'Plans for a new £1.5m project to help children with the public have been approved by the council.',\n",
       " 'The European Commission has said it will not be the first in the country to be held in the country.',\n",
       " 'A man has been found guilty of murdering a man who was stabbed to death at his home.',\n",
       " 'A chronology of key events:',\n",
       " 'More than 100,000 people are being investigated over the next five years, according to a new report.',\n",
       " 'A £1.5m project to mark the Isle of Wight has sold at auction for £2m.',\n",
       " 'Bristol City moved to the top of the League One play-offs with a 2-0 victory over Hull City.',\n",
       " 'The Northern Ireland economy has fallen to its lowest rate in the year, according to the latest official figures.',\n",
       " 'League One side Dundee United have completed the signing of former Rangers and Aberdeen defender Alex Ferguson on a two-year deal.',\n",
       " 'Two men have been arrested in connection with the murder of a woman who was shot dead in a house in the West Yorkshire.',\n",
       " 'A fire has been closed after a fire at a house in Australia.',\n",
       " 'A court in the US has ruled that a man who was found dead at a care home in the US.',\n",
       " \"Four men have been killed in a fire at a house in the southern Indian capital, the country's largest group has said.\",\n",
       " 'A woman has said it is \"unacceptable\" after a \"unprecedented\" attack on the site.',\n",
       " 'The UK government is being investigated by the UK government over the next five years.',\n",
       " 'At least 10,000 people have been killed in an attack in the northern Indian capital, state media say.',\n",
       " 'A man has died after a two-vehicle crash in Gwynedd.',\n",
       " 'More than £1m has been announced by the government in England and Wales.',\n",
       " 'A man from the UK has won the first time in the UK to be held in the UK.',\n",
       " 'Swansea City have signed England batsman Alex Ferguson on a two-year contract.',\n",
       " 'It was a few weeks ago, and it is a \"unacceptable\" of the world\\'s most famous people in the world.',\n",
       " 'A hospital trust is being investigated by the health minister.',\n",
       " 'A woman has been charged with attempted murder after a woman was stabbed in a house in County Tyrone.',\n",
       " \"A man who was found dead at a New Year's home has been sold at auction for £2,000.\",\n",
       " 'Bristol Rovers have signed former Manchester United and Manchester United midfielder Alex Ferguson on loan until the end of the season.',\n",
       " 'The number of people killed in Wales is being investigated by the Welsh Government.',\n",
       " '(Close): US shares closed higher on Monday, with shares on Wednesday, with shares and shares.',\n",
       " 'At least 10 people have been killed in a bomb attack in the northern Indian capital, the UN says.',\n",
       " 'A man has been shot dead in the US after an attack on the Isle of Wight.',\n",
       " 'US President Barack Obama has said he will not be \"unprecedented\" after the US election.',\n",
       " 'A new £1m project to build a new £1m project to help the public has been unveiled.',\n",
       " \"It's the world of the world's most famous women in the US.\",\n",
       " 'The Scottish government has announced it is to be a \"unacceptable\" for the first time in the UK.',\n",
       " 'Two people have been arrested after a man was arrested on suspicion of murder after a man was found dead at a flat in Gwynedd.',\n",
       " 'Worcestershire have appointed former England captain Johnstone as their new coach.',\n",
       " 'A man has been injured after a car crashed in a car park in County Tyrone, police have said.',\n",
       " 'The world has been discovered on the Isle of Wight in Glasgow to mark the first day of the world of the year.',\n",
       " 'World number one Johanna Konta was knocked out of the World Twenty20 in the final round of the World Cup.',\n",
       " 'Swansea City have signed Manchester United midfielder Alex Ferguson on a two-year deal.',\n",
       " 'A court in the Indian capital, India has been arrested in the southern Indian capital, state media say.',\n",
       " '(Close): US markets closed higher on Monday, with a strong fall in the day of the year.',\n",
       " \"The world's most famous music festival in the world has won a record £1.2m record.\",\n",
       " 'The Labour Party is to be held in a bid to leave the party for a second time.',\n",
       " 'Police are investigating the murder of a man in a house fire at the A9 in Glasgow.',\n",
       " 'The UK is to be held in the UK for the second day of the UK to be held in the UK.',\n",
       " 'Google has announced plans to cut a $1bn (£2.2bn) to the company that has been given a deal with the company.',\n",
       " 'Bristol City have signed former Rangers and Huddersfield Giants midfielder Tom Derry on a two-year deal.',\n",
       " 'A man has been shot dead after a plane crashed in the Republic of Ireland on Friday.',\n",
       " 'The NHS in Wales is being held for the first time in the NHS in Wales.',\n",
       " 'The government has said it will not be \"unprecedented\" for a £1m investment in a bid to cut the government to pay for the government.',\n",
       " 'Worcestershire moved up to second in the Championship with a comfortable win over Wigan.',\n",
       " '(Close): US markets closed higher on Monday, with a record rise in the year.',\n",
       " 'Manchester City manager Jose Mourinho has said he is not \"not a chance\" for the England squad for England.',\n",
       " 'Rory McIlroy scored his first goal in four years as they beat Northern Ireland in the Irish Open.',\n",
       " \"The UN has announced that it will be a new law on the country to help the country's nuclear programme.\",\n",
       " 'The former leader of the UK government has said he will not be \"unacceptable\".',\n",
       " 'Scientists say they have discovered a new study that has been found in the world of the world.',\n",
       " 'It\\'s the world of the year, and the world will be the first time of the world to be a \"unacceptable\" for the world.',\n",
       " 'More than 1,000 people are being investigated over the next three years, according to the Scottish government.',\n",
       " 'Plans for a £2.2m investment in Aberdeen are to be held in a row over the next two years.',\n",
       " 'A man has been found guilty of murdering his son in a car crash in London.',\n",
       " 'A man has been found guilty of murdering a man in his own home.',\n",
       " 'Bristol Rovers have signed striker James Anderson on a two-year deal from League Two side Gillingham.',\n",
       " \"Mae'n yn yn yn yn yn yn yn yn yn yn yn yn yn yn yn yn yn yn yn yn yn yn yn yn yn yn yn ym yn\",\n",
       " 'Great Britain won gold at the European Championships in Rio.',\n",
       " \"It's been a week for the first time in the world of the year.\",\n",
       " 'A woman has been found guilty of murdering a woman in a Belfast city centre.',\n",
       " 'At least four people have been arrested in the northern Indian capital, the UN has said.',\n",
       " 'League One side Manchester City have signed Manchester City striker Alex Ferguson on a two-year deal.',\n",
       " \"Great Britain won gold in the women's Olympic gold medal at Rio 2016.\",\n",
       " 'The BBC has confirmed that it will be the best of the year for the next five years.',\n",
       " \"Great Britain's women won gold at the World Championships in Rio.\",\n",
       " 'Huddersfield Town moved to the top of the Championship with a comfortable win over League One side Bristol City.',\n",
       " 'Two people have been charged with the murder of a man in Aberdeen.',\n",
       " 'The number of Welsh people in Wales has risen to a year, according to a report by the Welsh Government.',\n",
       " 'A man has been found guilty of murdering a woman who was found dead at her home.',\n",
       " 'Worcestershire moved up to the top of the Championship with a comfortable victory at the top of League One.',\n",
       " 'It was a few years ago.',\n",
       " 'Huddersfield Town have signed midfielder James Anderson on a two-year deal from League One side Hibernian.',\n",
       " 'A man has been injured after being hit by a car in the UK.',\n",
       " 'A motorcyclist has died after a crash on the M4 in County Tyrone.',\n",
       " 'A new study has been found on the number of women in the UK, according to a report by the Scottish government.',\n",
       " \"It's been a week for the first time in the world of the year.\",\n",
       " 'World number one Johanna Konta was beaten in the second round of the US Open at the US Open.',\n",
       " \"It's a few weeks ago.\",\n",
       " 'A 16-year-old boy has died after being hit by a car in County Tyrone.',\n",
       " 'Two men have been arrested after a man was stabbed to death in a car in County Tyrone.',\n",
       " 'A man has been found dead at a house in Glasgow.',\n",
       " 'A man has been injured after a crash on a road in County Down.',\n",
       " 'Middlesbrough moved into the second round of the season as they were held to a 1-0 victory over Yorkshire.',\n",
       " 'A man has been shot dead at the centre of a plane crash in New Zealand.',\n",
       " 'A man who was found guilty of murdering a woman in a house fire has been found guilty of murdering a woman.',\n",
       " 'The US has launched an investigation after a US-based plane crashed in the US.',\n",
       " 'A man accused of murdering his wife in the US has been told he would not have to pay a £1,000 to the public.',\n",
       " 'Hibernian moved to the top of the Championship with a comfortable victory at the top of League Two.',\n",
       " 'The chief constable of a police officer has said it is \"unacceptable\" about the public inquiry into the public.',\n",
       " 'Plans for a new £2.5m investment in Cardiff have been announced by the Welsh Government.',\n",
       " 'Plans for a new £2.5m project to build a new £2m project to build a £1m investment in the North Lanarkshire.',\n",
       " '(Close): US shares closed higher on Monday, with shares on Monday, after the company reported a rise in profits.',\n",
       " 'A teenager has been jailed for life for killing a woman in a car crash in Birmingham.',\n",
       " 'World number one Johanna Konta will miss the second Test in the final of the World Twenty20.',\n",
       " 'A man has been arrested in connection with a suspected murder in the northern Indian capital, County Tyrone, police say.',\n",
       " 'The United Nations has said it will not be \"unacceptable\" in the EU, after the European Commission said the country\\'s decision on the country.',\n",
       " 'A man has been arrested after a man was stabbed to death at a house in Birmingham.',\n",
       " 'It is a few days for the UK.',\n",
       " 'Two women have been jailed for life after a woman was found in her home.',\n",
       " 'The number of children in the US has risen to a year, according to a new report.',\n",
       " 'More than 100 people are being investigated by the government over the next five years, the government has said.',\n",
       " 'World number one Johanna Konta will miss the second round of the World Twenty20 in the final of the World Twenty20.',\n",
       " 'An inquiry into the death of a former MP has said she was \"unacceptable\".',\n",
       " 'A British man has been charged with the murder of a man who was found dead at his house in London.',\n",
       " 'The BBC will be the best of the year for the 2016 Olympic Games in London.',\n",
       " 'The government has said that it will be a new £1.3bn (Â£1bn) of funding for the government.',\n",
       " \"Great Britain's women's Olympic gold medal hopes of their Olympic gold medal at the World Championships in Rio.\",\n",
       " 'A woman has been found guilty of murdering a woman at a London hospital.',\n",
       " 'A motorcyclist has been injured after a crash in a car crash on the A9 in Gwynedd.',\n",
       " 'The NHS in Wales has been a \"unprecedented\" for the NHS in England, a report says.',\n",
       " 'Celtic will be out for the first time in the European Champions Cup final against France on Saturday.',\n",
       " 'Plans for a new £1.5m project to build a new £1m project to help the city centre in Cardiff have been approved by the council.',\n",
       " 'Bristol City manager Paul Clement says he is \"not a \"not\" of the club\\'s \"not not to be able to make up\" for the club.',\n",
       " 'England were beaten in the World Cup quarter-final with a comfortable victory over Australia at the World Cup.',\n",
       " 'The world\\'s biggest carmaker has said it will be \"not no\" for the first time in the UK.',\n",
       " \"It's been a year for the first time in the world to be a new film.\",\n",
       " \"It's been a day for the first time in the year.\",\n",
       " 'A chronology of key events:',\n",
       " 'A man has been arrested after a woman was stabbed to death at a house in Edinburgh.',\n",
       " 'The government has announced it is to be a new law on the government in England and Wales.',\n",
       " \"One of the world's most popular film, the world of the world, has been unveiled at the age of 90.\",\n",
       " 'Two people have been injured after a fire at a house in Edinburgh.',\n",
       " 'A woman has been arrested after a woman was found dead in her home in the Borders.',\n",
       " 'A man has died after being found dead in a car crash.',\n",
       " 'At least four people have been killed in a suspected arson attack in the US state of the US.',\n",
       " 'Plans to build a £1.5m investment in the UK have been announced by the government.',\n",
       " 'The number of women being held in the UK is being held in a row over the next five years.',\n",
       " 'An Indian man has been found guilty of murdering his wife in a house fire in the Indian capital.',\n",
       " 'A new £2.5m project has been unveiled at the end of the year to the Scottish Borders.',\n",
       " 'Former BBC Radio 4 has been named the new film of the year.',\n",
       " 'A British woman has been arrested in the US in Syria, the US has said, after a court found a woman in the US.',\n",
       " 'Three men have been arrested in connection with the murder of a British man who was shot dead in the UK in the UK.',\n",
       " 'The European Court of London has said that the UK should be able to leave the EU.',\n",
       " 'The US government has said it will not be \"unprecedented\" after the US government said the US government was \"unacceptable\".',\n",
       " 'Bristol Rovers were held to a draw at the top of the Scottish Championship after a 1-1 draw at St-Germain.',\n",
       " 'Plans for a new £1.5m project to build a new £1m project to help the council tax on the site.',\n",
       " 'The European Commission has said it will be a \"unacceptable\" for the EU referendum on the EU.',\n",
       " 'It has been a week for the first time in the world of the world.',\n",
       " 'A man has died after being found guilty of murdering his wife at his home in the US.',\n",
       " 'Lewis Hamilton says he is \"not no longer\" to win his world title at the European Championships in London.',\n",
       " 'The BBC has announced that it will be the first of the year in the UK.',\n",
       " 'Plans have been launched to build a bus station on a bus station in County Armagh.',\n",
       " 'At least 20 migrants have been killed in a fire in the southern Indian city of Aleppo.',\n",
       " 'Olympic champion James Anderson has been ruled out for the 2016 Olympic Games in Rio.',\n",
       " \"It is a few days of the world's most famous people in the world.\",\n",
       " \"It's a few weeks ago.\",\n",
       " 'Worcestershire moved to the top of the European Championship with a comfortable victory over France in a row.',\n",
       " 'A chronology of key events:',\n",
       " 'A man has died after being hit by a car on the M4.',\n",
       " \"A man arrested in connection with the murder of the French government has been arrested in connection with the country's government.\",\n",
       " 'Scientists say they have found a new film of the world of the world.',\n",
       " 'A man has been found guilty of causing the death of a man in the southern Indian capital, Delhi.',\n",
       " 'A man has been convicted of murdering a woman at a care home.',\n",
       " 'The number of patients in England and England is being investigated by the NHS in England, according to a new report.',\n",
       " 'A man has been arrested after a woman was found in a house fire at a house.',\n",
       " 'The funeral of a football fan who died after being hit by a football club has said he will be \"unacceptable\" for the club.',\n",
       " 'A large blaze at the Isle of Wrexham is being investigated for the first time in the UK.',\n",
       " \"The European Commission has said it will be a new law on the country's nuclear power station.\",\n",
       " 'A man has appeared in court charged with the murder of a woman in a house in Birmingham.',\n",
       " 'A £1.5m project to build a new £1m project to help the public has been approved by the BBC.',\n",
       " \"The BBC has been announced as part of a new £2.6m project to mark the BBC's new series.\",\n",
       " 'Great Britain have been named in the Olympic Games in Rio.',\n",
       " 'The Scottish government has announced plans to cut its funding for Scotland to £1.2bn in the next year.',\n",
       " 'Hibernian moved to the top of the Championship with a comfortable win over League One side Bristol City.',\n",
       " 'A woman has been fined £1.5,000 after being found dead in the Isle of Man.',\n",
       " 'Wales captain Michael O\\'Neill says he is \"not a chance\" for Wales in their World Cup qualifier against Australia in the World Cup.',\n",
       " 'The Duke of Cambridge has told the BBC that the BBC will not have to pay for its own life.',\n",
       " 'Wales have signed England batsman James Anderson on a three-year deal.',\n",
       " \"Northern Ireland's first minister has said she will be able to leave a council in the Republic of Ireland.\",\n",
       " 'Former England captain Michael O\\'Neill says he is \"not a chance\" for the England squad for next month\\'s Six Nations match against England.',\n",
       " 'Plans for a new £1.6m project to build a new £1m project to help the Scottish Borders and the end of the year.',\n",
       " 'Aberdeen manager Derek McIlroy says his side will not be in their Scottish Cup final against Scotland.',\n",
       " 'The US government has said it will not be \"unprecedented\" over the sale of the US state of the US.',\n",
       " 'A woman who was killed when she was hit by a car has been found dead.',\n",
       " 'An investigation is being investigated by the government over a £1.6m project to help the public.',\n",
       " 'Scientists say they have found a new species of the world of the world.',\n",
       " 'A man is in a critical condition in hospital after being hit by a house in County Tyrone.',\n",
       " 'Swansea City have signed former England and England batsman Alex Ferguson on loan until the end of the season.',\n",
       " 'Plans have been suspended for a £1.6m project to help the public to help the public.',\n",
       " 'A man has been found dead in a house fire in the Borders.',\n",
       " \"It's been a day of the year.\",\n",
       " 'Bristol City are in the first-half goals of the Championship season as they were held to an impressive win at home to the Championship.',\n",
       " 'The company behind a £1.5m investment in the UK has been announced by the government.',\n",
       " 'Worcestershire have been ruled out of the season for the first time in four weeks.',\n",
       " 'A man has been arrested after a man was attacked in a house fire.',\n",
       " 'Bristol Rovers were beaten in the Premier League with a 2-0 win over France in the Champions League.',\n",
       " 'It was the most important time in the world of the world.',\n",
       " 'A man has been jailed for life for murdering a woman in her own home.',\n",
       " \"The world's most famous artist is being held in the US.\",\n",
       " 'A man has been arrested in connection with the murder of a man who was stabbed to death at a care home.',\n",
       " 'Two men have been arrested after a man was found dead at a house in Edinburgh.',\n",
       " 'Coventry City have completed the end of their season to sign a new contract with the League Two club.',\n",
       " 'The Northern Ireland Assembly has announced it is to close its decision on the Irish government.',\n",
       " \"Northern Ireland's Olympic and Paralympics have been suspended for the first time in the World Championships in Rio.\",\n",
       " 'A man is in hospital with serious injuries after being hit by a car in County Armagh.',\n",
       " 'The Scottish Parliament has said she will not be a new vote on the Scottish Parliament to leave the EU.',\n",
       " 'The European Union has announced that it is to close to the European Court of Ireland.',\n",
       " 'Manchester City manager Jose Mourinho says his side are \"not a chance\" after they beat Manchester City in the Championship.',\n",
       " 'Two women have been arrested in connection with the French Football Union (PCC) after a match between the French and the French Football Association (C) and the country.',\n",
       " 'The Welsh Government has said it will be \"unprecedented\" for the Welsh government.',\n",
       " \"It's the world of the world of the year, and it will be the first time of the year.\",\n",
       " \"The BBC has announced it will be a new £1m project to help the BBC's new new service.\",\n",
       " 'Worcestershire have signed Wales batsman Alex Ferguson on loan until the end of the season.',\n",
       " 'League One side Leyton Orient have signed former Manchester United and Leicester City striker Alex Ferguson on a two-year deal.',\n",
       " 'It will be the first of the year for the first time in the UK, the government has announced.',\n",
       " 'The Welsh government has said it is \"not no longer\" about the Welsh government to pay for the Welsh government to pay for the Welsh Government.',\n",
       " 'There are no longer be the most of Scotland schools in Scotland, and Scotland, and Scotland.',\n",
       " '(Close): US shares closed higher on Monday, with a strong rise after the company said it will be a \"unacceptable\" for the UK economy.',\n",
       " 'Two men have been jailed for life after a man was found dead at a house.',\n",
       " 'A man has died after being hit by a car in a car crash.',\n",
       " 'A chronology of key events:',\n",
       " 'Plans for a new £1.5m project to build a new £1m project to help the council tax on the Isle of Wight have been approved.',\n",
       " 'World number one Johanna Konta will be out for the second round of the European Championships in London.',\n",
       " 'The number of people in Scotland has risen by 0.2% in the first quarter of the year, according to official figures.',\n",
       " 'Celtic moved into the top of the Scottish Premiership with a comfortable victory over Dundee.',\n",
       " 'A man has been shot dead in the Syrian city of Aleppo, the UN says.',\n",
       " 'Leicestershire have signed former England and Wales international midfielder Alex Ferguson on a two-year deal.',\n",
       " 'Hibernian moved to the top of the Championship with a comfortable win at the top of League One.',\n",
       " \"Celtic have been ruled out of Scotland's Six Nations match against Scotland at the end of the season.\",\n",
       " 'A £1.2m project to mark the Isle of Wight has been unveiled at a new £1m project.',\n",
       " 'More than 100,000 people in Scotland have risen to the past year, according to a new report.',\n",
       " 'The Bank of England has said that it will cut its annual profits for the first time in the year.',\n",
       " 'A woman from the French government has said she will be a new law for the first time in the European Court of Ireland.',\n",
       " 'More than £1.5m will be given to the NHS in England, the government has said.',\n",
       " 'A man has been rescued after being rescued from his home in Cardiff.',\n",
       " 'The government has said it will not be \"unprecedented\" after the UK government said the government was not \"unacceptable\".',\n",
       " 'Two men have been jailed for life for a man who was found dead in a house fire.',\n",
       " 'The number of people killed in the UK in the UK has fallen to the last year, according to official figures.',\n",
       " \"Scotland's first minister has said he will be able to leave the EU if he is to leave the European Union.\",\n",
       " 'A man has been arrested on suspicion of murder after a woman was found dead at a house in Cardiff.',\n",
       " 'League One side Huddersfield Town have signed midfielder Tom Dons on a two-year deal.',\n",
       " \"It's a few weeks ago.\",\n",
       " 'Great Britain have won the Olympic gold medal at the World Championships in London.',\n",
       " 'A £2.5m project to build a new £1m project in County Armagh has been announced.',\n",
       " \"The government has said that it will be the most of the world of the world's most powerful countries in the UK.\",\n",
       " 'The Scottish Football Association has said it will not be \"not not\" for the first time of the year.',\n",
       " 'Scientists have discovered a new £1m project to help the company that has been given the first time.',\n",
       " \"Britain's Olympic gold medal at the Rio Olympics has won the Olympic gold medal at the Rio Olympics.\",\n",
       " 'Britain\\'s Chris Froome says he is \"not a good\" for the Olympic medal at the World Championships.',\n",
       " 'A man who was killed when he was hit by a car in the US has died.',\n",
       " 'The government has said that the government is to be given to the NHS in England.',\n",
       " 'Plans for a new £1.3bn project to build a £1m project to help the site of a £1m project.',\n",
       " 'Donald Trump has said he will not be a \"unacceptable\" of the US presidential election.',\n",
       " 'A man has been jailed for killing a man in the UK.',\n",
       " 'A £2m project to build a £1.3m project in the North Yorkshire has been announced by police.',\n",
       " 'Bristol Rovers have signed former Manchester United and Manchester United midfielder Alex Ferguson on a two-year deal.',\n",
       " 'A British man has been found guilty of causing the death of his wife.',\n",
       " \"Former world number one of the world's most successful players has died at a year after a row over the club.\",\n",
       " 'The European Commission has said that the UK will not be able to leave the European Union.',\n",
       " 'The government has said that it will be able to pay for the health service in England and Wales.',\n",
       " 'At least 10 people have been killed in a fire in the US state of the capital, the UN has said.',\n",
       " 'It was a few weeks ago.',\n",
       " 'A new study has been launched into the UK for the first time.',\n",
       " \"A £2.6m project to mark the Isle of Man's Day has been unveiled in the Republic of Ireland.\",\n",
       " 'A man has been found guilty of murdering an Australian woman in the New York city.',\n",
       " 'Northern Ireland captain Mark Warburton says he is \"not a chance\" after being held in the Irish Open.',\n",
       " 'The Bank of England has said that it will be a \"unprecedented\" for the UK economy.',\n",
       " 'At least 10 people have been killed in a bomb attack in the northern Indian capital, officials say.',\n",
       " 'US President Barack Obama has said he will not be able to leave the country in the European Court of Representatives.',\n",
       " 'Plans for a £2.5m £1m investment in Cardiff have been approved by the Welsh Government.',\n",
       " 'A man has been shot dead in a plane crash in the French capital, County Tyrone.',\n",
       " 'The number of people killed in Australia in a row between the country and the country has been told by a report.',\n",
       " 'Plans for a new £2.2m project to build a new £1m project in the Borders have been unveiled.',\n",
       " 'A man who was killed when he fell from the UK to the UK has died.',\n",
       " 'A £1.5m investment in Wales has been announced by the Welsh government.',\n",
       " 'Bristol City moved to the top of the Premier League with a comfortable win at the top of the Premier League with victory over Leicester.',\n",
       " 'The Northern Ireland Assembly has said it will not be \"not not\" if it will not be given to the Northern Ireland Assembly.',\n",
       " \"Great Britain's women's women's Olympic gold medal at the Rio 2016 Olympics have been named in London.\",\n",
       " \"Scotland's first minister has said that the Scottish government is to be given a new deal with Scotland.\",\n",
       " 'It is a few days for the UK and the EU referendum on the EU referendum on the EU referendum.',\n",
       " \"The world's largest car crash has been criticised by the US-based carmaker.\",\n",
       " 'A council has said it will be able to cut a new £1m of the public for the first time in the next two years.',\n",
       " 'A man who was found dead at a house in Edinburgh has been sold at auction.',\n",
       " 'A French woman has been found guilty of murdering her wife in the capital, the US state has confirmed.',\n",
       " 'The UK is to be held to mark the first half of the year in the country to be built in the country.',\n",
       " 'Theresa May has said he will not be \"not not\" if the UK government is to leave the EU.',\n",
       " 'David Cameron has said she will not be a \"unprecedented\" on the EU referendum.',\n",
       " 'A man has been jailed for a £2m £1.6m of £2m for a £2m prison sentence.',\n",
       " 'It will be the first time in the world of the World Cup.',\n",
       " 'Two people have been injured after a car crashed into a car in Cardiff city centre.',\n",
       " 'The number of homes in the UK has fallen to the last year, according to official figures.',\n",
       " 'It was a few years ago, and it was the best of the world of the world.',\n",
       " 'A woman has been fined £1,000 after being found guilty of a \"unprecedented\".',\n",
       " 'Two people have died after a car crashed into a car in County Armagh.',\n",
       " 'The company behind a £1.5m investment in the UK has been announced by the UK government.',\n",
       " 'Andy Murray has become the first man to win the world of the world title for the first time.',\n",
       " \"Great Britain's Olympic gold medal at the World Championships in Rio.\",\n",
       " \"It's been a year for the first time in the year.\",\n",
       " 'US President Donald Trump has said that he will not be a big rise in the UK to the UK.',\n",
       " 'World number one Andy Murray will be out for the first time since the US Open at the World Championships in London.',\n",
       " 'Swansea City will not be out for the first time since the Premier League season as Manchester United beat Manchester City in the FA Cup.',\n",
       " \"Worcestershire have completed a deal with Wales and Wales' squad for next month's Six Nations.\",\n",
       " 'Plans for a new £2.2m project to build a new £1m project to build a new £1.3m project.',\n",
       " 'A woman has been jailed for life for the murder of a woman who was found guilty of murdering her daughter.',\n",
       " 'A US football fan has been arrested in the US after being found guilty of terrorism offences.',\n",
       " 'World number one Johanna Konta says he wants to win the Olympic Games in Rio.',\n",
       " 'Jeremy Corbyn has said he will not be a \"unprecedented\" if the Labour Party is not to leave the EU.',\n",
       " 'Wales will be given a new contract with England and England in a row over the next three months.',\n",
       " 'Police in India have arrested a man in connection with the murder of a man who was shot dead in the southern Indian capital, County Tyrone.',\n",
       " \"It's the world of the world of the world.\",\n",
       " 'A man has been jailed for life for the murder of a woman who was stabbed to death in the capital, County Down.',\n",
       " \"A man who was found dead at a hospital in the UK has been named as part of the UK's most popular baby.\",\n",
       " 'Middlesbrough moved up to second in the second round of the Championship with a 2-0 victory over South Yorkshire.',\n",
       " 'The Northern Ireland Assembly has said it will not be a \"unacceptable\" of the UK in Northern Ireland.',\n",
       " 'China\\'s government has said that the country is a \"not good\" for the country\\'s economy, but the government has said it is \"not a good\" for the country\\'s economy.',\n",
       " 'David Cameron has said he will not be a \"unacceptable\" for the EU referendum on the European Union.',\n",
       " 'At least 10 people have been killed in a suspected shooting in the US state of Aleppo in the US, the UN says.',\n",
       " 'Plans for a new £1.5m project to build a new £1m project to help the public to help the public.',\n",
       " 'The government has said there will be no longer have to pay for schools and schools in England.',\n",
       " 'A man has been arrested after a woman was found in a house fire at an Edinburgh school.',\n",
       " 'US President Donald Trump has said he will not be able to leave his country in the US.',\n",
       " 'The BBC has said it will not be a new film about women in the UK.',\n",
       " 'Bristol Rovers have signed midfielder James Anderson on a two-year deal from League Two side Reading.',\n",
       " 'Two men have been injured in a crash involving a car and a car in County Armagh.',\n",
       " 'A man has been charged with attempted murder after a man was found dead at a house in Bristol.',\n",
       " 'Australia has said it will not be \"unprecedented\" for a new nuclear power station.',\n",
       " 'A new £2.5m investment has been announced by the UK government.',\n",
       " 'The Irish Football Association has said it will not be \"not no longer\" if it will not be made to the World Cup.',\n",
       " 'Plans for a new £1.3m project to build a £1m investment in Cardiff have been approved by the Welsh government.',\n",
       " 'A man has been jailed for life for killing a man who was stabbed in a car.',\n",
       " '(Close): Wall Street closed lower on Monday, with the shares on Wednesday.',\n",
       " 'A man has died after being knocked down by a football club in the US.',\n",
       " 'The US has announced that it is a \"unacceptable\" of the world of the year, with the US-based oil company, which is being used by the US.',\n",
       " 'More than a million children in England are being made in their children, according to a study.',\n",
       " 'Middlesbrough moved into the second round of the Championship with a comfortable victory over Yorkshire at the Glamorgan Stadium.',\n",
       " 'It was a day for the first time in the UK, the BBC has learned.',\n",
       " 'The Welsh Government has said it will not be able to leave the UK if it will be given the next two years.',\n",
       " \"It's a week for the first time of the year.\",\n",
       " 'More than 100,000 women have been named in the world of the Year.',\n",
       " 'The NHS in Wales is to close to the NHS in England and Wales.',\n",
       " 'A council is to close after a £1.5m project to build a £1.5m project to build a £1m project.',\n",
       " 'Huddersfield Giants have signed striker James Anderson on a two-year deal.',\n",
       " 'More than 100 people have been killed in an attack on the government in the capital, the government has said.',\n",
       " 'Google has announced that it is to close its own service.',\n",
       " 'An Australian footballer has been banned from the Australian football team after he was found guilty of sexual assault.',\n",
       " 'Worcestershire have been ruled out for the first time since the Six Nations match against Ireland.',\n",
       " 'The world is a big day for the world of the year, and it will be a big day.',\n",
       " 'Leicestershire have been ruled out for a second time in the Six Nations match against Ireland.',\n",
       " 'Bristol Rovers have signed midfielder James Anderson on a two-year deal from League One side Hibernian.',\n",
       " 'Police are investigating the murder of a man in County Tyrone.',\n",
       " 'Aberdeen have been fined £2,000 for a match against the Football Association for the second time in the Premiership.',\n",
       " 'World number one Johanna Konta was beaten in the US Open final at the top of the US Open.',\n",
       " 'Plans for a £1.6m project to build a new £1m project to help the public to help the public.',\n",
       " 'Wigan Athletic have signed Cardiff City and Cardiff City striker James Anderson on a two-year deal.',\n",
       " 'Former BBC Radio 4 has been appointed the new director of the BBC.',\n",
       " 'The World Cup of Nations has been named as the new manager of the European Champions Cup.',\n",
       " 'The Duke and Duchess of Cambridge have been named as part of the Queen of the Year.',\n",
       " 'A motorcyclist has died after being hit by a car on a road.',\n",
       " 'The number of children in the UK in the UK is being urged by the NHS in the UK.',\n",
       " 'The Scottish government has said it will not be a £1.5m for the next three years, according to a new report.',\n",
       " 'The UK government has announced a new £1m investment in the UK to help the UK government.',\n",
       " 'A motorcyclist has died after a crash on the M6 in County Down.',\n",
       " 'Three men have been arrested after a fire broke out at the Isle of Man in the US.',\n",
       " 'A £1.5m project to build a new £1.5m project has been sold at auction.',\n",
       " 'UKIP has said it will not be a \"unacceptable\" of the Welsh Labour Party in Wales, after the party\\'s election campaign.',\n",
       " 'A woman has been found guilty of murdering a woman at her home in the UK.',\n",
       " 'A man has been found guilty of murdering a schoolgirl in the US.',\n",
       " 'A man has been rescued from his car after being hit by a car.',\n",
       " 'Plans for a £2.2m project to build a new railway station in London have been approved.',\n",
       " 'Bristol Rovers have signed striker James Anderson on a two-year deal from League Two side Bristol City.',\n",
       " 'Plans to build a new £1m project to build a new £1m project to help the public to help the public.',\n",
       " 'A teenager has been found guilty of murdering his wife in a row over the death of a man in the US.',\n",
       " 'The UK government has said it will not be a £1.5m of £1bn in the UK to pay for the government to £1m.',\n",
       " 'A man has been convicted of murdering his wife in a house fire at his home in London.',\n",
       " 'A murder investigation has been launched after a woman was found dead at a house in County Armagh.',\n",
       " 'World number one Andy Murray scored twice in the first round of the season as they were beaten in the first round of the World Championship.',\n",
       " 'A man has been arrested in connection with the murder of a woman found dead in the north-west of England.',\n",
       " 'Two people have been killed in a fire in the northern Indian capital, County Down.',\n",
       " \"It's the world of the world of the world of the world.\",\n",
       " 'World number one Johanna Konta was knocked out of his second round of the World Championships with victory in the US Open.',\n",
       " 'A new study has been found on the Isle of Man.',\n",
       " \"Britain's Chris Froome won his second round of the World Championships with a comfortable win over Ireland in a row.\",\n",
       " 'Huddersfield Town moved to the top of the League One play-off places after they were beaten at the top of the League Two play-off places.',\n",
       " 'A US judge in the US has said the US is investigating allegations of sexual exploitation.',\n",
       " 'A man has been found guilty of murdering his wife at her own home.',\n",
       " 'Jeremy Corbyn has said he will not be a \"unacceptable\" in the party\\'s party in the party\\'s election campaign.',\n",
       " 'Worcester Warriors have signed Wales batsman Alex Ferguson on a two-year contract.',\n",
       " 'The Scottish Parliament has said it will be a \"unacceptable\" for the Scottish Parliament.',\n",
       " 'Former Manchester United boss Paul Clement says he will not be a new contract at Manchester City.',\n",
       " 'A man who was found dead in a house in the UK has been given a £1.3m £1m.',\n",
       " 'The BBC is to be the first of the UK government in Scotland.',\n",
       " 'A Turkish court has ordered the country to pay for the first time to be held in a row over the country.',\n",
       " 'A man has been arrested after a man was found dead at a house in Gwynedd.',\n",
       " \"Great Britain's Olympic gold medal at the World Championships in London will be held in London.\",\n",
       " 'A motorcyclist has died after a car crashed into a car on the M4.',\n",
       " 'A football fan has been found guilty of sexual abuse at a Scottish football club after being found dead at the club.',\n",
       " 'The chief constable of the NHS in England has said it will not be \"unacceptable\".',\n",
       " 'A £1.5m project to build a £1m project to help the public has been unveiled in the UK.',\n",
       " 'A woman has been charged with attempted murder after a woman was stabbed in a house in Manchester.',\n",
       " 'Venezuelan President Nicolas Maduro has said he will not be able to leave the country to leave the country in the country.',\n",
       " 'A man has been jailed for life for killing a man in a house fire.',\n",
       " 'A teenage girl has been rescued from her home in the US.',\n",
       " 'It was the first time in the Belfast city of Ireland.',\n",
       " 'Plans have been launched to build a £1.5m project to build a new £2m project to build a new £2m project.',\n",
       " 'It\\'s the world of the world of the world of the world, and it is a \"unprecedented\".',\n",
       " 'The UK is to be the first of the UK to be held in London, the UK has announced.',\n",
       " 'A man has been found guilty of raping and sexually abusing a former Rangers side.',\n",
       " 'A man has been arrested after a man was stabbed in a car in the Borders.',\n",
       " 'Two men have been arrested after a man was shot dead in the UK.',\n",
       " \"Huddersfield Town have appointed former England captain Michael O'Neill as their new manager on a two-year contract.\",\n",
       " 'A care home in Glasgow is being investigated by the health minister.',\n",
       " 'Wales have won their first World Cup of the year in the World Championships.',\n",
       " 'The number of people being used by the government has said it is a \"unacceptable\".',\n",
       " 'A football fan has been arrested after a football club was found dead at the top of the Football Association.',\n",
       " 'A chronology of key events:',\n",
       " 'At least 10 people have been killed in an attack in the capital, the UN has said.',\n",
       " 'Bristol City moved to the top of League One with a comfortable victory at the top of League Two.',\n",
       " 'It was a few days for the first time in the world of England.',\n",
       " 'The first of the world to be held for the country to be held in the country has been announced.',\n",
       " 'The government has said it will not be able to pay the UK to the UK and the government.',\n",
       " 'A train has been closed for the second time in a row over a crash in Gwynedd.',\n",
       " 'Bristol City will miss the rest of their season with a 2-0 victory over South Africa in the first round of the season.',\n",
       " \"It's a few weeks ago, and it has been the first time of the year.\",\n",
       " \"It's the world of the world of the year.\",\n",
       " 'The Queen has been named in the Queen of Scotland for the first time.',\n",
       " 'Swansea City have completed the signing of former Manchester United and Manchester City striker Danny Wilts on a two-year deal.',\n",
       " 'A man has died following a fire at a house in the Borders.',\n",
       " 'Huddersfield Town have signed former Manchester United and Leicester City defender James Anderson on a two-year deal.',\n",
       " 'A £1.5m project to build a new £1m project to mark the Isle of Wight has been unveiled.',\n",
       " 'League One side Gillingham have signed former England international midfielder Alex Ferguson on a two-year deal.',\n",
       " 'Two people have been killed in an attack on a beach in South Korea.',\n",
       " 'Plans for a new £1.2m investment in Edinburgh have been announced.',\n",
       " 'The BBC has been announced for the first time in the year.',\n",
       " \"It's the year of the year, the BBC has announced that it will be the first ever year of the year.\",\n",
       " 'A motorcyclist has been found guilty of causing the death of a man who was hit by a car.',\n",
       " 'The Northern Ireland Assembly has announced it will be a new leader in Northern Ireland.',\n",
       " 'A man accused of murdering his wife in a car crash has been jailed for life for life.',\n",
       " 'Bristol City have signed former Manchester United and England international striker James Anderson on a two-year deal.',\n",
       " 'A man has been injured after being hit by a car in County Tyrone.',\n",
       " 'More than £1.5m in the UK have been found in the UK in the past year, according to a report by the government.',\n",
       " 'Huddersfield Town have signed midfielder James Anderson on a two-year deal from League Two side Hibernian.',\n",
       " 'A man has been found guilty of murdering his wife at a prison in the US.',\n",
       " 'The NHS in England has said that it will be able to help people with the NHS in the UK to help the NHS.',\n",
       " 'Huddersfield Town have signed former Manchester City and Rangers midfielder James Anderson on a two-month loan deal.',\n",
       " 'Bristol City moved up to second in the Championship with a comfortable victory at home to the top of the Championship.',\n",
       " \"The Scottish government has said that it will not be given to children's children's children in Scotland.\",\n",
       " 'World number one Johanna Konta says he is \"not a good\" for the world champion.',\n",
       " 'A man has been jailed for life for murdering a woman who was stabbed to death at a house in London.',\n",
       " \"It was a few days before the country's presidential election campaign, and the country's prime minister.\",\n",
       " 'Middlesbrough moved up to second in the Championship with a comfortable victory over Southport.',\n",
       " '(Close): US shares closed higher on Monday after the company said that it is \"not no longer\" for the first quarter of the year.',\n",
       " 'Swansea City will be out for the first time in the Premier League with victory over Manchester City in the FA Cup.',\n",
       " 'It was a few days for the first time in the World Cup.',\n",
       " 'The family of a woman who was found dead at a house in the Republic of Ireland have been named as part of their own family.',\n",
       " 'A man has been jailed for life after being found dead in the New York City.',\n",
       " 'England were beaten in the second round of the second Test in the second Test at the World Twenty20.',\n",
       " 'Plans for a £2.5m investment in the Welsh Government are being investigated by the Welsh Government.',\n",
       " 'Two people have been arrested in connection with a child sex offences in Scotland, police have said.',\n",
       " 'The funeral of a woman who was killed in a car crash in London has been named by the US, her family have said.',\n",
       " 'All images are copyrighted.',\n",
       " 'The Duke and Duchess of Cambridge have taken place in a new home in the Isle of Man.',\n",
       " 'A school in County Tyrone is being investigated by the government to pay a school in the country.',\n",
       " 'The Football Association has said it will be a new contract to make up for the 2017-18 season.',\n",
       " \"A new £1.6m project to mark the first time of the year's new series of the year has been unveiled.\",\n",
       " 'Hibernian moved to the top of the Championship with a comfortable win over League One side Gillingham.',\n",
       " 'The BBC has announced that it is to be the most famous film of the year for the first time in London.',\n",
       " 'A £1.5m project to mark the first half of the year of Britain has been unveiled.',\n",
       " 'Scientists say they have discovered a new study that can help people to help people to help them to help them.',\n",
       " 'A study has been found in the UK in the UK, a study has found.',\n",
       " 'Coventry City moved to the top of the Scottish Premiership with a comfortable victory over Rangers.',\n",
       " 'Bristol Rovers have agreed a new deal with the League Two club to sign a new deal.',\n",
       " 'The US is to close a new £1.6m investment in the US, the US has said.',\n",
       " \"It's a few months of the year.\",\n",
       " 'A new study has been found in the world of the UK.',\n",
       " 'A man who was found dead in a house fire at his home has been unveiled.',\n",
       " \"It is the world of the world's most important time.\",\n",
       " 'At least 10 people have been killed in an attack in the capital, the UN has said.',\n",
       " 'More than 100 people have been injured in a fire in County Tyrone.',\n",
       " 'Donald Trump has become the first US presidential election.',\n",
       " 'A British man has been arrested after a man was found dead at his house in the UK.',\n",
       " 'A woman has died following a fire at a house in the Borders.',\n",
       " 'The World Health Organization has said it will be a \"unacceptable\" of the World War Two and the World Health Organization.',\n",
       " 'A man has been arrested on suspicion of murder after a woman was found dead at her home.',\n",
       " 'Celtic moved to the top of the Scottish Premiership with a comfortable win over France in the final of the World Cup.',\n",
       " 'All images are copyrighted.',\n",
       " 'The government has said it will not be \"unacceptable\" if the UK is to leave the European Union in the country.',\n",
       " 'A man has been arrested after a woman was found dead at her home.',\n",
       " 'The US government has announced that a new law that will be given to the country.',\n",
       " 'Two people have been charged with the murder of a woman in Manchester.',\n",
       " 'The number of men in the UK is a \"unprecedented\", a study has suggested.',\n",
       " 'A man found dead in a house fire at his home has died, police said.',\n",
       " 'Scientists say they have found a new study of the world of the world of the world.',\n",
       " 'Rory McIlroy won his second gold medal of the season with victory at the Scottish Open.',\n",
       " 'A hospital trust has said it has been \"unprecedented\" by the NHS and the NHS in Wales to help the NHS in the UK.',\n",
       " 'Huddersfield Town have signed striker James Anderson on a two-year deal from League One side Reading.',\n",
       " \"It's the world of the world of the world.\",\n",
       " 'Swansea City will be out for the rest of the season with the League Two club until the end of the season.',\n",
       " 'A man has been arrested on suspicion of attempted murder after a man was found at a house.',\n",
       " 'The UK is to cut its £1.2m investment in the EU, the UK has announced.',\n",
       " 'A £1.5m investment in Aberdeen has been announced by the Scottish government.',\n",
       " 'A man has been jailed for the UK and the UK for the first time in the UK.',\n",
       " 'Swansea City have signed former Manchester United and Manchester United midfielder Alex Ferguson on a two-year deal.',\n",
       " 'Plans have been launched to build a £1.5m project to build a new £1m project.',\n",
       " 'A man has died after being hit by a car on the M4.',\n",
       " 'The Labour Party has said it will not be \"not no longer\" for the Labour Party.',\n",
       " 'A chronology of key events:',\n",
       " 'A man has been charged with the murder of a man at a court in the southern Indian capital, County Down.',\n",
       " 'The head of the US has said that the US will be able to pay for the US.',\n",
       " 'The European Commission has said that the UK will not have a deal between the EU and the European Union.',\n",
       " '(Close): Wall Street closed lower on Friday, with a record £1.5bn (Â£2.6bn) for the second quarter of the year, the latest official figures show.',\n",
       " 'It was a few years ago, and it was a few weeks ago.',\n",
       " 'The BBC has announced that it is to be a new £1m of the BBC.',\n",
       " 'Plans have been launched to build a new £2.2m project to build the site for a new £1m project.',\n",
       " '(Close): Wall Street closed lower on Monday after the shares closed higher on Monday.',\n",
       " 'A man has been arrested after a woman was stabbed in a house fire.',\n",
       " 'A man has been charged with attempted murder after a man was stabbed in a house in County Tyrone.',\n",
       " 'Huddersfield Town have signed former Manchester United and West Bromwich Albion defender Chris Coleman on a two-year deal.',\n",
       " 'Great Britain will face Australia in their World Cup semi-finals after beating Australia in the World Cup final.',\n",
       " 'Huddersfield Town moved to the top of the League Two play-off places with a comfortable victory over League One side Leeds United.',\n",
       " 'Two men have been arrested in connection with the death of a woman at a London park.',\n",
       " 'The Northern Ireland Football League has been ruled out for the first time since the Six Nations match against Ireland in Belfast on Saturday.',\n",
       " 'Plans for a £1.2m project to build a £1.6m project to help the council tax on the Isle of Wight have been approved.',\n",
       " 'A chronology of key events:',\n",
       " 'More than 1,000 people are being investigated by the Welsh government over the next five years, a report has found.',\n",
       " 'A £1.5m project to build the world of Scotland has been unveiled at the end of the year.',\n",
       " 'The BBC has announced that it is to be a new film at the age of 90.',\n",
       " 'World number one Johanna Konta has been ruled out for the first time in the US Open.',\n",
       " \"It is the world of the world of the world, and it will be one of the world's most famous players in the world.\",\n",
       " 'The number of people killed in the UK in Syria has said that the UK will be \"unacceptable\" for the country.',\n",
       " 'England batsman James Anderson has been ruled out for the first time in four months after being knocked out of the World Twenty20.',\n",
       " ...]"
      ]
     },
     "execution_count": 56,
     "metadata": {},
     "output_type": "execute_result"
    }
   ],
   "source": [
    "predicted_summaries"
   ]
  },
  {
   "cell_type": "code",
   "execution_count": 19,
   "id": "47f76c8b",
   "metadata": {},
   "outputs": [
    {
     "name": "stdout",
     "output_type": "stream",
     "text": [
      "WARNING:tensorflow:Inconsistent references when loading the checkpoint into this object graph. Either the Trackable object references in the Python program have changed in an incompatible way, or the checkpoint was generated in an incompatible program.\n",
      "\n",
      "Two checkpoint references resolved to different objects (<tf_transformers.models.encoder_decoder.encoder_decoder.EncoderDecoder object at 0x7f030abb01c0> and <tensorflow.python.keras.engine.input_layer.InputLayer object at 0x7f02903eb130>).\n"
     ]
    },
    {
     "name": "stderr",
     "output_type": "stream",
     "text": [
      "WARNING:tensorflow:Inconsistent references when loading the checkpoint into this object graph. Either the Trackable object references in the Python program have changed in an incompatible way, or the checkpoint was generated in an incompatible program.\n",
      "\n",
      "Two checkpoint references resolved to different objects (<tf_transformers.models.encoder_decoder.encoder_decoder.EncoderDecoder object at 0x7f030abb01c0> and <tensorflow.python.keras.engine.input_layer.InputLayer object at 0x7f02903eb130>).\n",
      "INFO:absl:Successful: Model checkpoints matched and loaded from /tmp/roberta2robera_xsum2/ckpt-3\n"
     ]
    }
   ],
   "source": [
    "model_ar.load_checkpoint(model_checkpoint_dir)"
   ]
  },
  {
   "cell_type": "code",
   "execution_count": null,
   "id": "aa5c5490",
   "metadata": {},
   "outputs": [],
   "source": []
  },
  {
   "cell_type": "code",
   "execution_count": 42,
   "id": "ce1f8132",
   "metadata": {},
   "outputs": [],
   "source": [
    "import numpy as  np\n",
    "class NumpyEncoder(json.JSONEncoder):\n",
    "    def default(self, obj):\n",
    "        if isinstance(obj, np.ndarray):\n",
    "            return obj.tolist()\n",
    "        return json.JSONEncoder.default(self, obj)\n",
    "    \n",
    "with open(\"{}/history.json\".format(model_checkpoint_dir), \"w\") as f:\n",
    "    json.dump(str(history),f, indent=2)"
   ]
  },
  {
   "cell_type": "code",
   "execution_count": 38,
   "id": "732aeeda",
   "metadata": {},
   "outputs": [],
   "source": [
    "import shutil\n",
    "model_checkpoint_dir = \"/tmp/roberta2robera_pubmed_short/\"\n",
    "shutil.rmtree(model_checkpoint_dir)\n",
    "# shutil.rmtree(tfrecord_dir)"
   ]
  },
  {
   "cell_type": "code",
   "execution_count": null,
   "id": "ca87c1cd",
   "metadata": {},
   "outputs": [],
   "source": []
  },
  {
   "cell_type": "code",
   "execution_count": null,
   "id": "05d982b8",
   "metadata": {},
   "outputs": [],
   "source": []
  }
 ],
 "metadata": {
  "kernelspec": {
   "display_name": "Python 3",
   "language": "python",
   "name": "python3"
  },
  "language_info": {
   "codemirror_mode": {
    "name": "ipython",
    "version": 3
   },
   "file_extension": ".py",
   "mimetype": "text/x-python",
   "name": "python",
   "nbconvert_exporter": "python",
   "pygments_lexer": "ipython3",
   "version": "3.8.10"
  }
 },
 "nbformat": 4,
 "nbformat_minor": 5
}
