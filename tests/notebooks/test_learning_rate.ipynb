{
 "cells": [
  {
   "cell_type": "code",
   "execution_count": 1,
   "id": "d550fff0",
   "metadata": {},
   "outputs": [],
   "source": []
  },
  {
   "cell_type": "code",
   "execution_count": null,
   "id": "a29e0fc4",
   "metadata": {},
   "outputs": [],
   "source": [
    "import tensorflow as tf\n",
    "import matplotlib as mpl\n",
    "import matplotlib.pyplot as plt\n",
    "\n",
    "mpl.rcParams['figure.figsize'] = (12, 10)\n",
    "colors = plt.rcParams['axes.prop_cycle'].by_key()['color']\n",
    "from tf_transformers.models import AlbertModel, Classification_Model\n",
    "from tf_transformers.optimization import create_optimizer\n",
    "from tf_transformers.core import GPUTrainer\n",
    "from tf_transformers.losses import cross_entropy_loss_for_classification"
   ]
  },
  {
   "cell_type": "code",
   "execution_count": null,
   "id": "79b5435c",
   "metadata": {},
   "outputs": [],
   "source": []
  },
  {
   "cell_type": "code",
   "execution_count": null,
   "id": "83bfc2a9",
   "metadata": {},
   "outputs": [],
   "source": [
    "# Build a basic model for demonstartion purpose\n",
    "config = {\n",
    "    \"attention_probs_dropout_prob\": 0.1,\n",
    "    \"hidden_act\": \"gelu\",\n",
    "    \"intermediate_act\": \"gelu\",\n",
    "    \"hidden_dropout_prob\": 0.1,\n",
    "    \"embedding_size\": 32,\n",
    "    \"initializer_range\": 0.02,\n",
    "    \"intermediate_size\": 300,\n",
    "    \"max_position_embeddings\": 512,\n",
    "    \"num_attention_heads\": 2,\n",
    "    \"attention_head_size\": 16,\n",
    "    \"num_hidden_layers\": 2,\n",
    "    \"type_vocab_size\": 2,\n",
    "    \"vocab_size\": 1000,\n",
    "    \"layer_norm_epsilon\": 1e-12,\n",
    "    \"embedding_projection_size\": 64,\n",
    "}\n",
    "\n",
    "model = AlbertModel.from_config(config)"
   ]
  },
  {
   "cell_type": "code",
   "execution_count": null,
   "id": "614510fe",
   "metadata": {},
   "outputs": [],
   "source": [
    "print(\"Model variables is {}\".format(len(model.variables)))"
   ]
  },
  {
   "cell_type": "code",
   "execution_count": null,
   "id": "c044be78",
   "metadata": {},
   "outputs": [],
   "source": [
    "model.save_checkpoint(\"/tmp/albert_dummy/base_model/\")"
   ]
  },
  {
   "cell_type": "code",
   "execution_count": null,
   "id": "9930560d",
   "metadata": {},
   "outputs": [],
   "source": [
    "# Classification model\n",
    "classification_model = Classification_Model(model, num_classes=2)\n",
    "classification_model = classification_model.get_model()"
   ]
  },
  {
   "cell_type": "code",
   "execution_count": 2,
   "id": "d91e707c",
   "metadata": {},
   "outputs": [
    {
     "name": "stderr",
     "output_type": "stream",
     "text": [
      "2021-08-29 10:47:35.241961: I tensorflow/core/platform/cpu_feature_guard.cc:142] This TensorFlow binary is optimized with oneAPI Deep Neural Network Library (oneDNN) to use the following CPU instructions in performance-critical operations:  AVX2 FMA\n",
      "To enable them in other operations, rebuild TensorFlow with the appropriate compiler flags.\n"
     ]
    }
   ],
   "source": [
    "# Build a dummy dataset\n",
    "\n",
    "minval = 0\n",
    "maxval = 1000 # vocab size\n",
    "n_examples = 119924\n",
    "seq_length = 10\n",
    "input_ids = tf.random.uniform(minval=minval, maxval=maxval, shape=(n_examples, seq_length), dtype=tf.int32)\n",
    "# Binary class\n",
    "labels    = tf.random.uniform(minval=0, maxval=2, shape=(n_examples,), dtype=tf.int32)\n",
    "input_type_ids = tf.zeros_like(input_ids)\n",
    "input_mask     = tf.ones_like(input_ids)\n",
    "\n",
    "dataset = ({'input_ids': input_ids, \n",
    "          'input_type_ids': input_type_ids, \n",
    "          'input_mask': input_mask}, \n",
    "         {'labels': labels})\n",
    "dataset = tf.data.Dataset.from_tensor_slices(dataset)"
   ]
  },
  {
   "cell_type": "code",
   "execution_count": 3,
   "id": "2bffcd01",
   "metadata": {},
   "outputs": [],
   "source": [
    "batch_size = 6\n",
    "epochs = 1\n",
    "steps_per_epoch = n_examples//batch_size\n",
    "train_dataset = dataset.batch(batch_size)"
   ]
  },
  {
   "cell_type": "code",
   "execution_count": 22,
   "id": "1494363d",
   "metadata": {},
   "outputs": [],
   "source": [
    "def loss_fn(y_true_dict, y_pred_dict):\n",
    "    logits = y_pred_dict['class_logits']\n",
    "    labels = y_true_dict['labels']\n",
    "    loss = tf.reduce_mean(tf.nn.sparse_softmax_cross_entropy_with_logits(\n",
    "        logits=logits, labels=tf.squeeze(labels, axis=1)))\n",
    "    return loss"
   ]
  },
  {
   "cell_type": "code",
   "execution_count": 24,
   "id": "52ce9252",
   "metadata": {},
   "outputs": [],
   "source": [
    "def get_optimizer(learning_rate, examples, batch_size, epochs, decay_function=\"polynomial\"):\n",
    "    steps_per_epoch = int(examples / batch_size)\n",
    "    num_train_steps = steps_per_epoch * epochs\n",
    "    warmup_steps = int(0.1 * num_train_steps)\n",
    "    print(\"Warmup steps\", warmup_steps)\n",
    "    def optimizer_fn():\n",
    "        optimizer, learning_rate_fn = create_optimizer(learning_rate,\n",
    "                                                  num_train_steps,\n",
    "                                                  warmup_steps,\n",
    "                                                  decay_function=decay_function )\n",
    "        return optimizer\n",
    "    return optimizer_fn\n",
    "\n",
    "learning_rate = 1e-05\n",
    "optimizer_fn = get_optimizer(learning_rate, \n",
    "                             n_examples, \n",
    "                             batch_size, \n",
    "                             epochs, \n",
    "                             decay_function=\"linear\")"
   ]
  },
  {
   "cell_type": "code",
   "execution_count": 25,
   "id": "633aba6a",
   "metadata": {},
   "outputs": [
    {
     "name": "stderr",
     "output_type": "stream",
     "text": [
      "INFO:absl:Using Adamw optimizer\n"
     ]
    }
   ],
   "source": [
    "optimizer = optimizer_fn()"
   ]
  },
  {
   "cell_type": "code",
   "execution_count": 26,
   "id": "ebd63e31",
   "metadata": {},
   "outputs": [
    {
     "name": "stdout",
     "output_type": "stream",
     "text": [
      "WARNING:tensorflow:Gradients do not exist for variables ['tf_transformers/albert/mlm/transform/dense/kernel:0', 'tf_transformers/albert/mlm/transform/dense/bias:0', 'tf_transformers/albert/mlm/transform/LayerNorm/gamma:0', 'tf_transformers/albert/mlm/transform/LayerNorm/beta:0', 'tf_transformers/albert/mlm/transform/bias:0'] when minimizing the loss.\n"
     ]
    },
    {
     "name": "stderr",
     "output_type": "stream",
     "text": [
      "WARNING:tensorflow:Gradients do not exist for variables ['tf_transformers/albert/mlm/transform/dense/kernel:0', 'tf_transformers/albert/mlm/transform/dense/bias:0', 'tf_transformers/albert/mlm/transform/LayerNorm/gamma:0', 'tf_transformers/albert/mlm/transform/LayerNorm/beta:0', 'tf_transformers/albert/mlm/transform/bias:0'] when minimizing the loss.\n"
     ]
    },
    {
     "name": "stdout",
     "output_type": "stream",
     "text": [
      "WARNING:tensorflow:Gradients do not exist for variables ['tf_transformers/albert/mlm/transform/dense/kernel:0', 'tf_transformers/albert/mlm/transform/dense/bias:0', 'tf_transformers/albert/mlm/transform/LayerNorm/gamma:0', 'tf_transformers/albert/mlm/transform/LayerNorm/beta:0', 'tf_transformers/albert/mlm/transform/bias:0'] when minimizing the loss.\n"
     ]
    },
    {
     "name": "stderr",
     "output_type": "stream",
     "text": [
      "WARNING:tensorflow:Gradients do not exist for variables ['tf_transformers/albert/mlm/transform/dense/kernel:0', 'tf_transformers/albert/mlm/transform/dense/bias:0', 'tf_transformers/albert/mlm/transform/LayerNorm/gamma:0', 'tf_transformers/albert/mlm/transform/LayerNorm/beta:0', 'tf_transformers/albert/mlm/transform/bias:0'] when minimizing the loss.\n"
     ]
    },
    {
     "name": "stdout",
     "output_type": "stream",
     "text": [
      "19987/19987 [==============================] - 78s 4ms/step - loss: 0.6939 - class_logits_loss: 0.6939 - step_loss: 0.6939\n"
     ]
    }
   ],
   "source": [
    "# # Compile\n",
    "keras_loss_fn = {'class_logits': loss_fn}\n",
    "classification_model.compile2(optimizer=optimizer, \n",
    "                             loss=None, \n",
    "                             custom_loss=keras_loss_fn)\n",
    "\n",
    "LR_holder = []\n",
    "class LearningRateLogger(tf.keras.callbacks.Callback):\n",
    "    def __init__(self):\n",
    "        super().__init__()\n",
    "        self._supports_tf_logs = True\n",
    "\n",
    "    def on_batch_end(self, epoch, logs=None):\n",
    "        if logs is None or \"learning_rate\" in logs:\n",
    "            return\n",
    "        lr = tf.keras.backend.get_value(self.model.optimizer.learning_rate)\n",
    "        LR_holder.append(self.model.optimizer._decayed_lr(tf.float32))\n",
    "        #logs[\"learning_rate\"] = self.model.optimizer.lr\n",
    "        logs['step_loss'] = logs['loss']\n",
    "# Change steps per epoch to large value/ ignore it completely to train\n",
    "# on full dataset\n",
    "history = classification_model.fit(train_dataset, \n",
    "                                   epochs=epochs,\n",
    "                                   steps_per_epoch=steps_per_epoch, \n",
    "                                   callbacks=[LearningRateLogger()])"
   ]
  },
  {
   "cell_type": "code",
   "execution_count": 29,
   "id": "c0a649d5",
   "metadata": {},
   "outputs": [
    {
     "data": {
      "text/plain": [
       "11992"
      ]
     },
     "execution_count": 29,
     "metadata": {},
     "output_type": "execute_result"
    }
   ],
   "source": [
    "warmup_steps"
   ]
  },
  {
   "cell_type": "code",
   "execution_count": null,
   "id": "ccead5d3",
   "metadata": {},
   "outputs": [],
   "source": []
  },
  {
   "cell_type": "code",
   "execution_count": 31,
   "id": "3d0f3013",
   "metadata": {},
   "outputs": [
    {
     "data": {
      "text/plain": [
       "Text(0, 0.5, 'learning Rate')"
      ]
     },
     "execution_count": 31,
     "metadata": {},
     "output_type": "execute_result"
    },
    {
     "data": {
      "image/png": "[encoded data removed]",
      "text/plain": [
       "<Figure size 864x720 with 1 Axes>"
      ]
     },
     "metadata": {
      "needs_background": "light"
     },
     "output_type": "display_data"
    }
   ],
   "source": [
    "lr_holder_flattened = [item.numpy() for item in LR_holder]\n",
    "plt.semilogy(range(len(LR_holder)), lr_holder_flattened,\n",
    "           color=colors[6], label='Train')\n",
    "\n",
    "plt.xlabel('Step')\n",
    "plt.ylabel('learning Rate')"
   ]
  },
  {
   "cell_type": "code",
   "execution_count": null,
   "id": "907267a5",
   "metadata": {},
   "outputs": [],
   "source": []
  },
  {
   "cell_type": "code",
   "execution_count": 38,
   "id": "90c8988c",
   "metadata": {},
   "outputs": [],
   "source": [
    "# Okay lets build model from scratch\n",
    "def model_fn():\n",
    "    model = AlbertModel.from_config(config)\n",
    "    model.load_checkpoint(\"/tmp/albert_dummy/base_model/\")\n",
    "    # Classification model\n",
    "    classification_model = Classification_Model(model, num_classes=2)\n",
    "    classification_model = classification_model.get_model()\n",
    "    return classification_model"
   ]
  },
  {
   "cell_type": "code",
   "execution_count": null,
   "id": "834641cd",
   "metadata": {},
   "outputs": [],
   "source": []
  },
  {
   "cell_type": "code",
   "execution_count": 50,
   "id": "36911b6b",
   "metadata": {},
   "outputs": [],
   "source": [
    "trainer = GPUTrainer(distribution_strategy='off')\n",
    "def loss_fn(y_true_dict, y_pred_dict):\n",
    "    logits = y_pred_dict['class_logits']\n",
    "    labels = y_true_dict['labels']\n",
    "    loss = cross_entropy_loss_for_classification(logits=logits, labels=labels)\n",
    "    return {'loss': loss}"
   ]
  },
  {
   "cell_type": "code",
   "execution_count": 51,
   "id": "dc27932c",
   "metadata": {},
   "outputs": [
    {
     "name": "stderr",
     "output_type": "stream",
     "text": [
      "INFO:absl:Make sure `steps_per_epoch` should be less than or equal to number of batches in dataset.\n",
      "INFO:absl:Policy: ----> float32\n",
      "INFO:absl:Strategy: ---> <tensorflow.python.distribute.distribute_lib._DefaultDistributionStrategy object at 0x7ffec951e1f0>\n",
      "INFO:absl:Num GPU Devices: ---> 1\n",
      "INFO:absl:Create model from config\n",
      "INFO:absl:Successful: Model checkpoints matched and loaded from /tmp/albert_dummy/base_model/ckpt-1\n",
      "INFO:absl:Using Adamw optimizer\n",
      "INFO:absl:No checkpoint found in /tmp/albert_dummy/classificatio_mode/\n",
      "Epoch 1/1 --- Step 10/19987 --- total examples 0:   0%|          | 0/1998 [00:00<?, ?batch /s]"
     ]
    },
    {
     "name": "stdout",
     "output_type": "stream",
     "text": [
      "WARNING:tensorflow:Gradients do not exist for variables ['tf_transformers/albert/mlm/transform/dense/kernel:0', 'tf_transformers/albert/mlm/transform/dense/bias:0', 'tf_transformers/albert/mlm/transform/LayerNorm/gamma:0', 'tf_transformers/albert/mlm/transform/LayerNorm/beta:0', 'tf_transformers/albert/mlm/transform/bias:0'] when minimizing the loss.\n"
     ]
    },
    {
     "name": "stderr",
     "output_type": "stream",
     "text": [
      "WARNING:tensorflow:Gradients do not exist for variables ['tf_transformers/albert/mlm/transform/dense/kernel:0', 'tf_transformers/albert/mlm/transform/dense/bias:0', 'tf_transformers/albert/mlm/transform/LayerNorm/gamma:0', 'tf_transformers/albert/mlm/transform/LayerNorm/beta:0', 'tf_transformers/albert/mlm/transform/bias:0'] when minimizing the loss.\n"
     ]
    },
    {
     "name": "stdout",
     "output_type": "stream",
     "text": [
      "WARNING:tensorflow:Gradients do not exist for variables ['tf_transformers/albert/mlm/transform/dense/kernel:0', 'tf_transformers/albert/mlm/transform/dense/bias:0', 'tf_transformers/albert/mlm/transform/LayerNorm/gamma:0', 'tf_transformers/albert/mlm/transform/LayerNorm/beta:0', 'tf_transformers/albert/mlm/transform/bias:0'] when minimizing the loss.\n"
     ]
    },
    {
     "name": "stderr",
     "output_type": "stream",
     "text": [
      "WARNING:tensorflow:Gradients do not exist for variables ['tf_transformers/albert/mlm/transform/dense/kernel:0', 'tf_transformers/albert/mlm/transform/dense/bias:0', 'tf_transformers/albert/mlm/transform/LayerNorm/gamma:0', 'tf_transformers/albert/mlm/transform/LayerNorm/beta:0', 'tf_transformers/albert/mlm/transform/bias:0'] when minimizing the loss.\n",
      "Epoch 1/1 --- Step 19980/19987 --- total examples 119820: 100%|██████████| 1998/1998 [01:10<00:00, 28.27batch /s, learning_rate=6.39e-9, loss=0.692]\n",
      "INFO:absl:Model saved at epoch 1\n"
     ]
    }
   ],
   "source": [
    "model_checkpoint_dir = \"/tmp/albert_dummy/classificatio_mode/\"\n",
    "history = trainer.run(\n",
    "    model_fn = model_fn,\n",
    "    optimizer_fn = optimizer_fn,\n",
    "    train_dataset = train_dataset,\n",
    "    train_loss_fn = loss_fn,\n",
    "    epochs = epochs,\n",
    "    steps_per_epoch = steps_per_epoch,\n",
    "    model_checkpoint_dir=model_checkpoint_dir,\n",
    "    batch_size=batch_size,\n",
    "    training_loss_names=None,\n",
    "    validation_loss_names=None,\n",
    "    validation_dataset=None,\n",
    "    validation_loss_fn=None,\n",
    "    validation_interval_steps=None,\n",
    "    steps_per_call=10,\n",
    "    enable_xla=False,\n",
    "    callbacks=None,\n",
    "    callbacks_interval_steps=None,\n",
    "    overwrite_checkpoint_dir=True,\n",
    "    max_number_of_models=10,\n",
    "    model_save_interval_steps=None,\n",
    "    repeat_dataset=False,\n",
    "    latest_checkpoint=None,\n",
    ")"
   ]
  },
  {
   "cell_type": "code",
   "execution_count": 54,
   "id": "e1f34257",
   "metadata": {},
   "outputs": [
    {
     "data": {
      "text/html": [
       "\n",
       "      <iframe id=\"tensorboard-frame-500f433c34f9f17\" width=\"100%\" height=\"800\" frameborder=\"0\">\n",
       "      </iframe>\n",
       "      <script>\n",
       "        (function() {\n",
       "          const frame = document.getElementById(\"tensorboard-frame-500f433c34f9f17\");\n",
       "          const url = new URL(\"/\", window.location);\n",
       "          const port = 6007;\n",
       "          if (port) {\n",
       "            url.port = port;\n",
       "          }\n",
       "          frame.src = url;\n",
       "        })();\n",
       "      </script>\n",
       "    "
      ],
      "text/plain": [
       "<IPython.core.display.HTML object>"
      ]
     },
     "metadata": {},
     "output_type": "display_data"
    }
   ],
   "source": [
    "%load_ext tensorboard\n",
    "%tensorboard --logdir=/tmp/albert_dummy/classificatio_mode/logs/train/"
   ]
  },
  {
   "cell_type": "code",
   "execution_count": null,
   "id": "ace0eb74",
   "metadata": {},
   "outputs": [],
   "source": []
  },
  {
   "cell_type": "code",
   "execution_count": 4,
   "id": "8028f3d3",
   "metadata": {},
   "outputs": [],
   "source": [
    "import torch"
   ]
  },
  {
   "cell_type": "code",
   "execution_count": 5,
   "id": "4a24b1ad",
   "metadata": {},
   "outputs": [],
   "source": [
    "model = torch.nn.Linear(2, 1)\n",
    "learning_rate = 1e-05\n",
    "optimizer = torch.optim.AdamW(model.parameters(), lr=learning_rate)\n",
    "scheduler = torch.optim.lr_scheduler.OneCycleLR(optimizer, max_lr=0.1, \n",
    "                                                steps_per_epoch=steps_per_epoch, \n",
    "                                                epochs=epochs,\n",
    "                                                anneal_strategy='linear')"
   ]
  },
  {
   "cell_type": "code",
   "execution_count": 6,
   "id": "fff26f33",
   "metadata": {},
   "outputs": [],
   "source": [
    "lrs = []\n",
    "for i in range(steps_per_epoch):\n",
    "    optimizer.step()\n",
    "    lrs.append(optimizer.param_groups[0][\"lr\"])\n",
    "    scheduler.step()"
   ]
  },
  {
   "cell_type": "code",
   "execution_count": 10,
   "id": "1d4df7db",
   "metadata": {},
   "outputs": [
    {
     "data": {
      "text/plain": [
       "Text(0, 0.5, 'learning Rate')"
      ]
     },
     "execution_count": 10,
     "metadata": {},
     "output_type": "execute_result"
    },
    {
     "data": {
      "image/png": "[encoded data removed]",
      "text/plain": [
       "<Figure size 864x720 with 1 Axes>"
      ]
     },
     "metadata": {
      "needs_background": "light"
     },
     "output_type": "display_data"
    }
   ],
   "source": [
    "plt.semilogy(range(len(lrs)), lrs,\n",
    "           color=colors[6], label='Train')\n",
    "\n",
    "plt.xlabel('Step')\n",
    "plt.ylabel('learning Rate')"
   ]
  },
  {
   "cell_type": "code",
   "execution_count": null,
   "id": "f4e6c434",
   "metadata": {},
   "outputs": [],
   "source": []
  },
  {
   "cell_type": "code",
   "execution_count": 26,
   "id": "86242138",
   "metadata": {},
   "outputs": [],
   "source": [
    "from torch.optim import Optimizer\n",
    "from torch.optim.lr_scheduler import LambdaLR\n",
    "def get_linear_schedule_with_warmup(optimizer, num_warmup_steps, num_training_steps, last_epoch=-1):\n",
    "    \"\"\"\n",
    "    Create a schedule with a learning rate that decreases linearly from the initial lr set in the optimizer to 0,\n",
    "    after a warmup period during which it increases linearly from 0 to the initial lr set in the optimizer.\n",
    "\n",
    "    Args:\n",
    "        optimizer (:class:`~torch.optim.Optimizer`):\n",
    "            The optimizer for which to schedule the learning rate.\n",
    "        num_warmup_steps (:obj:`int`):\n",
    "            The number of steps for the warmup phase.\n",
    "        num_training_steps (:obj:`int`):\n",
    "            The totale number of training steps.\n",
    "        last_epoch (:obj:`int`, `optional`, defaults to -1):\n",
    "            The index of the last epoch when resuming training.\n",
    "\n",
    "    Return:\n",
    "        :obj:`torch.optim.lr_scheduler.LambdaLR` with the appropriate schedule.\n",
    "    \"\"\"\n",
    "\n",
    "    def lr_lambda(current_step: int):\n",
    "        if current_step < num_warmup_steps:\n",
    "            return float(current_step) / float(max(1, num_warmup_steps))\n",
    "        return max(\n",
    "            0.0, float(num_training_steps - current_step) / float(max(1, num_training_steps - num_warmup_steps))\n",
    "        )\n",
    "\n",
    "    return LambdaLR(optimizer, lr_lambda, last_epoch)\n",
    "\n",
    "model = torch.nn.Linear(2, 1)\n",
    "learning_rate = 1e-05\n",
    "optimizer = torch.optim.AdamW(model.parameters(), lr=learning_rate)\n",
    "scheduler = get_linear_schedule_with_warmup(\n",
    "                optimizer, num_warmup_steps=int(0.1*n_examples), num_training_steps=n_examples\n",
    "            )\n",
    "lrs = []\n",
    "opt_steps\n",
    "for i in range(steps_per_epoch):\n",
    "    optimizer.step()\n",
    "    lrs.append(optimizer.param_groups[0][\"lr\"])\n",
    "    scheduler.step()"
   ]
  },
  {
   "cell_type": "code",
   "execution_count": 27,
   "id": "aa27e80f",
   "metadata": {},
   "outputs": [
    {
     "data": {
      "text/plain": [
       "Text(0, 0.5, 'learning Rate')"
      ]
     },
     "execution_count": 27,
     "metadata": {},
     "output_type": "execute_result"
    },
    {
     "data": {
      "image/png": "[encoded data removed]",
      "text/plain": [
       "<Figure size 864x720 with 1 Axes>"
      ]
     },
     "metadata": {
      "needs_background": "light"
     },
     "output_type": "display_data"
    }
   ],
   "source": [
    "plt.semilogy(range(len(lrs)), lrs,\n",
    "           color=colors[5], label='Train')\n",
    "\n",
    "plt.xlabel('Step')\n",
    "plt.ylabel('learning Rate')"
   ]
  },
  {
   "cell_type": "code",
   "execution_count": null,
   "id": "649adda9",
   "metadata": {},
   "outputs": [],
   "source": []
  },
  {
   "cell_type": "code",
   "execution_count": null,
   "id": "1ccfd5d7",
   "metadata": {},
   "outputs": [],
   "source": []
  }
 ],
 "metadata": {
  "kernelspec": {
   "display_name": "Python 3 (ipykernel)",
   "language": "python",
   "name": "python3"
  },
  "language_info": {
   "codemirror_mode": {
    "name": "ipython",
    "version": 3
   },
   "file_extension": ".py",
   "mimetype": "text/x-python",
   "name": "python",
   "nbconvert_exporter": "python",
   "pygments_lexer": "ipython3",
   "version": "3.8.11"
  }
 },
 "nbformat": 4,
 "nbformat_minor": 5
}
