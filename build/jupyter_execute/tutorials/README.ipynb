{
 "cells": [
  {
   "cell_type": "markdown",
   "id": "4193b067",
   "metadata": {},
   "source": [
    "We use jupytext to keep copies of notebook in sync with Markdown equivalent.\n",
    "\n",
    "### Adding a new notebook\n",
    "\n",
    "```\n",
    "jupytext --set-formats ipynb,md:myst path/to/the/notebook.ipynb\n",
    "```\n",
    "\n",
    "### Syncing Notebooks\n",
    "\n",
    "After editing either the ipynb or md versions of the notebooks, you can sync the two versions using jupytext by running:\n",
    "\n",
    "```\n",
    "jupytext --sync docs/notebooks/*\n",
    "```"
   ]
  }
 ],
 "metadata": {
  "jupytext": {
   "cell_metadata_filter": "-all",
   "formats": "ipynb,md:myst",
   "main_language": "python"
  }
 },
 "nbformat": 4,
 "nbformat_minor": 5
}