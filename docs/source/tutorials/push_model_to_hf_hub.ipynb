{
 "cells": [
  {
   "cell_type": "code",
   "execution_count": null,
   "id": "a49ff0f8",
   "metadata": {},
   "outputs": [],
   "source": []
  },
  {
   "cell_type": "code",
   "execution_count": 1,
   "id": "d2b02ecd",
   "metadata": {},
   "outputs": [],
   "source": [
    "import subprocess\n",
    "import os\n",
    "from distutils.dir_util import copy_tree"
   ]
  },
  {
   "cell_type": "markdown",
   "id": "22a50398",
   "metadata": {},
   "source": [
    "### How to push  a model to hub  .\n",
    "\n",
    "* Make sure you have logged to ```huggingface-cli login``` using your token."
   ]
  },
  {
   "cell_type": "code",
   "execution_count": null,
   "id": "0ce6938d",
   "metadata": {},
   "outputs": [],
   "source": []
  },
  {
   "cell_type": "code",
   "execution_count": 2,
   "id": "b9a87bd7",
   "metadata": {},
   "outputs": [],
   "source": [
    "model_name = 'byt5-small'"
   ]
  },
  {
   "cell_type": "markdown",
   "id": "2859af00",
   "metadata": {},
   "source": [
    "#### 1. Create model name directory under organization name"
   ]
  },
  {
   "cell_type": "code",
   "execution_count": 3,
   "id": "5dde5f1d",
   "metadata": {},
   "outputs": [
    {
     "name": "stdout",
     "output_type": "stream",
     "text": [
      "\u001b[90mgit version 2.39.1\u001b[0m\n",
      "\u001b[90mgit-lfs/3.0.2 (GitHub; darwin arm64; go 1.17.2)\u001b[0m\n",
      "\n",
      "You are about to create \u001b[1mtftransformers/byt5-small\u001b[0m\n",
      "\n",
      "Your repo now lives at:\n",
      "  \u001b[1mhttps://huggingface.co/tftransformers/byt5-small\u001b[0m\n",
      "\n",
      "You can clone it locally with the command below, and commit/push as usual.\n",
      "\n",
      "  git clone https://huggingface.co/tftransformers/byt5-small\n",
      "\n"
     ]
    },
    {
     "data": {
      "text/plain": [
       "CompletedProcess(args=['huggingface-cli', 'repo', 'create', 'byt5-small', '--yes', '--organization', 'tftransformers'], returncode=0)"
      ]
     },
     "execution_count": 3,
     "metadata": {},
     "output_type": "execute_result"
    }
   ],
   "source": [
    "subprocess.run(['huggingface-cli', 'repo',\n",
    "                'create', '{}'.format(model_name),\n",
    "                '--yes',\n",
    "                '--organization', 'tftransformers'])"
   ]
  },
  {
   "cell_type": "code",
   "execution_count": null,
   "id": "10333418",
   "metadata": {},
   "outputs": [],
   "source": []
  },
  {
   "cell_type": "markdown",
   "id": "d813a372",
   "metadata": {},
   "source": [
    "#### 2. Now clone that above created repo/folder to our local cwd"
   ]
  },
  {
   "cell_type": "code",
   "execution_count": 3,
   "id": "d983cdf3",
   "metadata": {},
   "outputs": [
    {
     "name": "stderr",
     "output_type": "stream",
     "text": [
      "Cloning into 'byt5-small'...\n"
     ]
    },
    {
     "data": {
      "text/plain": [
       "CompletedProcess(args=['git', 'clone', 'https://huggingface.co/tftransformers/byt5-small'], returncode=0)"
      ]
     },
     "execution_count": 3,
     "metadata": {},
     "output_type": "execute_result"
    }
   ],
   "source": [
    "subprocess.run([\"git\", \"clone\", \"https://huggingface.co/tftransformers/{}\".format(model_name)])"
   ]
  },
  {
   "cell_type": "code",
   "execution_count": null,
   "id": "57e6cfcd",
   "metadata": {},
   "outputs": [],
   "source": []
  },
  {
   "cell_type": "markdown",
   "id": "d98942cb",
   "metadata": {},
   "source": [
    "#### 3. Now move your model directory , to current working directory under ```model_name``` directory"
   ]
  },
  {
   "cell_type": "code",
   "execution_count": 5,
   "id": "56e2929f",
   "metadata": {},
   "outputs": [
    {
     "data": {
      "text/plain": [
       "['/Users/sarathrnair/Projects/Experiments/byt5-small/checkpoint',\n",
       " '/Users/sarathrnair/Projects/Experiments/byt5-small/ckpt-1.data-00000-of-00001',\n",
       " '/Users/sarathrnair/Projects/Experiments/byt5-small/config.json',\n",
       " '/Users/sarathrnair/Projects/Experiments/byt5-small/ckpt-1.index']"
      ]
     },
     "execution_count": 5,
     "metadata": {},
     "output_type": "execute_result"
    }
   ],
   "source": [
    "cwd = os.getcwd() # Getc current working dir\n",
    "new_working_dir = os.path.join(cwd, model_name) # This is cloned from hf hub under organization\n",
    "os.chdir(\"{}\".format(new_working_dir)) # Switch to new working dir\n",
    "\n",
    "# Cached model directory keep changing as per other machine\n",
    "cached_model_dir = '/var/folders/vq/4fxns8l55gq8_msgygbyb51h0000gn/T/tf_transformers_cache/{}/'.format(model_name)\n",
    "\n",
    "# Copy cached model directory , to new working directory\n",
    "copy_tree(cached_model_dir, new_working_dir)"
   ]
  },
  {
   "cell_type": "code",
   "execution_count": null,
   "id": "08cfd0ec",
   "metadata": {},
   "outputs": [],
   "source": []
  },
  {
   "cell_type": "markdown",
   "id": "b109a637",
   "metadata": {},
   "source": [
    "#### 4. Now time to push these model to hub"
   ]
  },
  {
   "cell_type": "code",
   "execution_count": null,
   "id": "ecd21055",
   "metadata": {},
   "outputs": [
    {
     "name": "stdout",
     "output_type": "stream",
     "text": [
      "Tracking \"*\"\n",
      "Pattern * matches forbidden file .gitattributes. If you would like to track .gitattributes, modify .gitattributes manually.\n",
      "[main b8651e3] Pushing new model byt5-small\n",
      " 5 files changed, 15 insertions(+), 34 deletions(-)\n",
      " create mode 100644 checkpoint\n",
      " create mode 100644 ckpt-1.data-00000-of-00001\n",
      " create mode 100644 ckpt-1.index\n",
      " create mode 100644 config.json\n"
     ]
    }
   ],
   "source": [
    "subprocess.run([\"git-lfs\", \"track\", \"*\"])\n",
    "subprocess.run([\"git\", \"add\", \".\"])\n",
    "subprocess.run([\"git\", \"commit\", \"-m\", \"Pushing new model {}\".format(model_name)]) # Commit message\n",
    "subprocess.run([\"git\", \"push\"])\n",
    "\n",
    "# Change back to original cwd \n",
    "os.chdir(\"{}\".format(cwd))"
   ]
  },
  {
   "cell_type": "code",
   "execution_count": null,
   "id": "72dd4ab7",
   "metadata": {},
   "outputs": [],
   "source": []
  }
 ],
 "metadata": {
  "jupytext": {
   "formats": "ipynb,md:myst"
  },
  "kernelspec": {
   "display_name": "Python 3 (ipykernel)",
   "language": "python",
   "name": "python3"
  },
  "language_info": {
   "codemirror_mode": {
    "name": "ipython",
    "version": 3
   },
   "file_extension": ".py",
   "mimetype": "text/x-python",
   "name": "python",
   "nbconvert_exporter": "python",
   "pygments_lexer": "ipython3",
   "version": "3.9.7"
  }
 },
 "nbformat": 4,
 "nbformat_minor": 5
}
