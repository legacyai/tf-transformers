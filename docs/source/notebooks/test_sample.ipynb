{
 "cells": [
  {
   "cell_type": "markdown",
   "id": "c4494be4",
   "metadata": {},
   "source": [
    "# Sample Notebook\n"
   ]
  },
  {
   "cell_type": "code",
   "execution_count": null,
   "id": "41c22cb8",
   "metadata": {},
   "outputs": [],
   "source": []
  },
  {
   "cell_type": "markdown",
   "id": "319a510c",
   "metadata": {},
   "source": [
    "### Sample load"
   ]
  },
  {
   "cell_type": "code",
   "execution_count": 2,
   "id": "68db9e04",
   "metadata": {},
   "outputs": [],
   "source": [
    "from tf_transformers.models import AlbertModel"
   ]
  },
  {
   "cell_type": "code",
   "execution_count": null,
   "id": "504040ab",
   "metadata": {},
   "outputs": [],
   "source": []
  },
  {
   "cell_type": "markdown",
   "id": "d697fc15",
   "metadata": {},
   "source": [
    "### Sample Print"
   ]
  },
  {
   "cell_type": "code",
   "execution_count": 3,
   "id": "46b8dac4",
   "metadata": {},
   "outputs": [
    {
     "name": "stdout",
     "output_type": "stream",
     "text": [
      "This is a sample test to execute\n"
     ]
    }
   ],
   "source": [
    "print(\"This is a sample test to execute\")"
   ]
  },
  {
   "cell_type": "code",
   "execution_count": null,
   "id": "4c487ca8",
   "metadata": {},
   "outputs": [],
   "source": [
    "print(\"This is a sample test not to execute\")"
   ]
  }
 ],
 "metadata": {
  "kernelspec": {
   "display_name": "Python 3 (ipykernel)",
   "language": "python",
   "name": "python3"
  },
  "language_info": {
   "codemirror_mode": {
    "name": "ipython",
    "version": 3
   },
   "file_extension": ".py",
   "mimetype": "text/x-python",
   "name": "python",
   "nbconvert_exporter": "python",
   "pygments_lexer": "ipython3",
   "version": "3.8.11"
  }
 },
 "nbformat": 4,
 "nbformat_minor": 5
}
