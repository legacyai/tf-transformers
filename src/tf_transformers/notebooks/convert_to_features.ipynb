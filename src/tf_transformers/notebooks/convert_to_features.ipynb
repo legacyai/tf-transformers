{
 "cells": [
  {
   "cell_type": "code",
   "execution_count": 2,
   "id": "f32f3496",
   "metadata": {},
   "outputs": [],
   "source": [
    "import tensorflow as tf\n",
    "import tensorflow_text as tf_text\n",
    "import tqdm, tempfile, glob, os    \n",
    "from tf_transformers.data import TFWriter, TFReader, TFProcessor\n",
    "from transformers import AlbertTokenizer"
   ]
  },
  {
   "cell_type": "code",
   "execution_count": null,
   "id": "9b02c30d",
   "metadata": {},
   "outputs": [],
   "source": []
  },
  {
   "cell_type": "code",
   "execution_count": null,
   "id": "a44604f6",
   "metadata": {},
   "outputs": [],
   "source": [
    "from datasets import load_dataset\n",
    "dataset = load_dataset(\"mc4\", \"en\")\n"
   ]
  },
  {
   "cell_type": "code",
   "execution_count": 23,
   "id": "818c15b3",
   "metadata": {},
   "outputs": [],
   "source": []
  },
  {
   "cell_type": "code",
   "execution_count": 24,
   "id": "ae905087",
   "metadata": {},
   "outputs": [],
   "source": [
    "def get_tf_text_tokenizer():\n",
    "    temp_dir = tempfile.mkdtemp()\n",
    "    tokenizer_hf = AlbertTokenizer.from_pretrained(\"albert-base-v2\")\n",
    "    tokenizer_hf.save_pretrained(temp_dir)\n",
    "    \n",
    "    dtype = tf.int32\n",
    "    nbest_size = 0\n",
    "    alpha = 1.0\n",
    "\n",
    "    def _create_tokenizer(model_serialized_proto, dtype, nbest_size, alpha):\n",
    "        return tf_text.SentencepieceTokenizer(\n",
    "            model=model_serialized_proto,\n",
    "            out_type=dtype,\n",
    "            nbest_size=nbest_size,\n",
    "            alpha=alpha)\n",
    "\n",
    "    model_file_path = '{}/spiece.model'.format(temp_dir)\n",
    "    model_serialized_proto = tf.io.gfile.GFile(model_file_path,\n",
    "                                                           \"rb\").read()\n",
    "\n",
    "    tokenizer_sp = _create_tokenizer(model_serialized_proto, \n",
    "                                 dtype,\n",
    "                                 nbest_size,\n",
    "                                 alpha)\n",
    "    \n",
    "    return tokenizer_sp\n",
    "\n",
    "\n",
    "\n",
    "def batch(iterable, n):\n",
    "    l = len(iterable)\n",
    "    for ndx in range(0, l, n):\n",
    "        yield iterable[ndx:min(ndx + n, l)]\n",
    "        \n",
    "        \n",
    "def text_normalize(line):\n",
    "    \"\"\"Exclude empty string\"\"\"\n",
    "    line = tf.strings.strip(line)\n",
    "    return tf.not_equal(tf.strings.length(line),0)"
   ]
  },
  {
   "cell_type": "code",
   "execution_count": 25,
   "id": "649161f5",
   "metadata": {},
   "outputs": [],
   "source": []
  },
  {
   "cell_type": "code",
   "execution_count": null,
   "id": "a93260af",
   "metadata": {},
   "outputs": [],
   "source": [
    "INPUT_DIR = \"/home/sidhu/Datasets/C4_newsalike_text\"\n",
    "BATCH_SIZE = 50\n",
    "DATA_BATCH_SIZE = 1024\n",
    "tokenizer_sp = get_tf_text_tokenizer()\n",
    "\n",
    "\n",
    "all_files = glob.glob(\"{}/*.txt\".format(INPUT_DIR))\n",
    "schema = {\n",
    "    \"input_ids\": (\"var_len\", \"int\"),\n",
    "}\n",
    "\n",
    "tfrecord_train_dir = '/home/sidhu/Datasets/TFRECORD_C4'\n",
    "tfrecord_filename = 'c4'\n",
    "tfwriter = TFWriter(schema=schema, \n",
    "                    file_name=tfrecord_filename, \n",
    "                    model_dir=tfrecord_train_dir,\n",
    "                    tag='train',\n",
    "                    n_files=100,\n",
    "                    overwrite=True\n",
    "                    )\n",
    "\n",
    "for (batch_files) in tqdm.tqdm(batch(all_files, BATCH_SIZE)):\n",
    "    \n",
    "    dataset = tf.data.TextLineDataset(batch_files)\n",
    "    dataset = dataset.filter(text_normalize)\n",
    "    dataset = dataset.batch(DATA_BATCH_SIZE, drop_remainder=False)\n",
    "\n",
    "    def parse_train():\n",
    "        for batch_input in tqdm.tqdm(dataset):\n",
    "            batch_tokenized = tokenizer_sp.tokenize(batch_input).merge_dims(-1,1).to_list()\n",
    "            for input_ids in batch_tokenized:\n",
    "\n",
    "                yield {\"input_ids\": input_ids}\n",
    "    # Process\n",
    "    tfwriter.process(parse_fn=parse_train())\n",
    "    \n",
    "    # After that delete files to save memory\n",
    "    \n",
    "    #for _file in batch_files:\n",
    "    #    os.remove(_file)\n",
    "        \n",
    "# 12462160"
   ]
  },
  {
   "cell_type": "code",
   "execution_count": null,
   "id": "2110fdc8",
   "metadata": {},
   "outputs": [],
   "source": [
    "12462160\n",
    "\n",
    "45504648\n",
    "\n",
    "74004228"
   ]
  },
  {
   "cell_type": "code",
   "execution_count": null,
   "id": "af348320",
   "metadata": {},
   "outputs": [],
   "source": [
    "tfrecord_train_dir = '/home/sidhu/Datasets/TFRECORD_WIKI/'\n",
    "\n",
    "\n",
    "schema = json.load(open(\"{}/schema.json\".format(tfrecord_train_dir)))\n",
    "all_files = glob.glob(\"{}/*.tfrecord\".format(tfrecord_train_dir))\n",
    "tf_reader = TFReader(schema=schema, \n",
    "                    tfrecord_files=all_files)\n",
    "\n",
    "x_keys = ['input_ids']\n",
    "# padded_shapes = {'input_ids': [MAX_LEN], \n",
    "#                  'labels': [MAX_LEN], \n",
    "#                  'labels_mask': [MAX_LEN]}\n",
    "train_dataset = tf_reader.read_record(\n",
    "                                  )\n",
    "\n",
    "all_seq_len = []\n",
    "for item in tqdm.tqdimport m(train_dataset):\n",
    "    all_seq_len.append(item['input_ids'].shape[0])\n",
    "    \n",
    "from collections import Counter\n",
    "counter = Counter(all_seq_len)"
   ]
  },
  {
   "cell_type": "code",
   "execution_count": null,
   "id": "d9a07a3d",
   "metadata": {},
   "outputs": [],
   "source": []
  },
  {
   "cell_type": "code",
   "execution_count": 28,
   "id": "5b164de4",
   "metadata": {},
   "outputs": [
    {
     "name": "stderr",
     "output_type": "stream",
     "text": [
      "Using mask_token, but it is not set yet.\n"
     ]
    }
   ],
   "source": [
    "tokenizer_hf.mask_token"
   ]
  },
  {
   "cell_type": "code",
   "execution_count": null,
   "id": "e2530112",
   "metadata": {},
   "outputs": [],
   "source": [
    "# Read Wikipedia and Write to text as before"
   ]
  },
  {
   "cell_type": "code",
   "execution_count": null,
   "id": "232a86bf",
   "metadata": {},
   "outputs": [],
   "source": [
    "dataset = tf.data.TextLineDataset(all_files)\n",
    "dataset = dataset.filter(text_normalize)\n",
    "dataset = dataset.batch(DATA_BATCH_SIZE, drop_remainder=False)\n",
    "\n",
    "def parse_train():\n",
    "    for batch_input in tqdm.tqdm(dataset):\n",
    "        batch_tokenized = tokenizer_sp.tokenize(batch_input).merge_dims(-1,1).to_list()\n",
    "        for input_ids in batch_tokenized:\n",
    "\n",
    "            yield {\"input_ids\": input_ids}\n",
    "# Process\n",
    "tfwriter.process(parse_fn=parse_train())\n"
   ]
  },
  {
   "cell_type": "code",
   "execution_count": 29,
   "id": "bae0ade0",
   "metadata": {},
   "outputs": [],
   "source": [
    "text = '''CC-News dataset contains news articles from news sites all over the world. The data is available on AWS S3 in the Common Crawl bucket at /crawl-data/CC-NEWS/. This version of the dataset has been prepared using news-please - an integrated web crawler and information extractor for news.\n",
    "It contains 708241 English language news articles published between Jan 2017 and December 2019. It represents a small portion of the English language subset of the CC-News dataset.\n",
    "\n",
    "'''"
   ]
  },
  {
   "cell_type": "code",
   "execution_count": 3,
   "id": "9ccbc27f",
   "metadata": {},
   "outputs": [],
   "source": [
    "text_breaker = tf_text.StateBasedSentenceBreaker()"
   ]
  },
  {
   "cell_type": "code",
   "execution_count": null,
   "id": "4c4ee913",
   "metadata": {},
   "outputs": [],
   "source": [
    "text_breaker.break_sentences(text)"
   ]
  },
  {
   "cell_type": "code",
   "execution_count": null,
   "id": "c9cfa5f4",
   "metadata": {},
   "outputs": [],
   "source": []
  }
 ],
 "metadata": {
  "kernelspec": {
   "display_name": "Python 3",
   "language": "python",
   "name": "python3"
  },
  "language_info": {
   "codemirror_mode": {
    "name": "ipython",
    "version": 3
   },
   "file_extension": ".py",
   "mimetype": "text/x-python",
   "name": "python",
   "nbconvert_exporter": "python",
   "pygments_lexer": "ipython3",
   "version": "3.8.8"
  }
 },
 "nbformat": 4,
 "nbformat_minor": 5
}
