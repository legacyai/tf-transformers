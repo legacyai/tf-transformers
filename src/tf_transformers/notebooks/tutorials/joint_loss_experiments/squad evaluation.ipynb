{
 "cells": [
  {
   "cell_type": "code",
   "execution_count": 2,
   "id": "through-change",
   "metadata": {},
   "outputs": [],
   "source": [
    "import json\n",
    "import pandas as pd"
   ]
  },
  {
   "cell_type": "code",
   "execution_count": null,
   "id": "reduced-recall",
   "metadata": {},
   "outputs": [],
   "source": []
  },
  {
   "cell_type": "code",
   "execution_count": 3,
   "id": "governing-contrary",
   "metadata": {},
   "outputs": [],
   "source": [
    "squad_results = json.load(open(\"squad_albert_joint_loss.json\"))"
   ]
  },
  {
   "cell_type": "code",
   "execution_count": 7,
   "id": "bored-secondary",
   "metadata": {},
   "outputs": [],
   "source": [
    "df = pd.DataFrame(squad_results)\n",
    "df.index = ['layer_{}'.format(i) for i in range(12)]"
   ]
  },
  {
   "cell_type": "code",
   "execution_count": 8,
   "id": "sonic-picnic",
   "metadata": {},
   "outputs": [
    {
     "data": {
      "text/html": [
       "<div>\n",
       "<style scoped>\n",
       "    .dataframe tbody tr th:only-of-type {\n",
       "        vertical-align: middle;\n",
       "    }\n",
       "\n",
       "    .dataframe tbody tr th {\n",
       "        vertical-align: top;\n",
       "    }\n",
       "\n",
       "    .dataframe thead th {\n",
       "        text-align: right;\n",
       "    }\n",
       "</style>\n",
       "<table border=\"1\" class=\"dataframe\">\n",
       "  <thead>\n",
       "    <tr style=\"text-align: right;\">\n",
       "      <th></th>\n",
       "      <th>exact_match</th>\n",
       "      <th>f1</th>\n",
       "    </tr>\n",
       "  </thead>\n",
       "  <tbody>\n",
       "    <tr>\n",
       "      <th>layer_0</th>\n",
       "      <td>17.379376</td>\n",
       "      <td>26.390606</td>\n",
       "    </tr>\n",
       "    <tr>\n",
       "      <th>layer_1</th>\n",
       "      <td>54.758751</td>\n",
       "      <td>67.632150</td>\n",
       "    </tr>\n",
       "    <tr>\n",
       "      <th>layer_2</th>\n",
       "      <td>67.048250</td>\n",
       "      <td>78.033796</td>\n",
       "    </tr>\n",
       "    <tr>\n",
       "      <th>layer_3</th>\n",
       "      <td>72.573321</td>\n",
       "      <td>82.323175</td>\n",
       "    </tr>\n",
       "    <tr>\n",
       "      <th>layer_4</th>\n",
       "      <td>75.865658</td>\n",
       "      <td>85.031601</td>\n",
       "    </tr>\n",
       "    <tr>\n",
       "      <th>layer_5</th>\n",
       "      <td>78.003784</td>\n",
       "      <td>86.598577</td>\n",
       "    </tr>\n",
       "    <tr>\n",
       "      <th>layer_6</th>\n",
       "      <td>79.612110</td>\n",
       "      <td>87.697654</td>\n",
       "    </tr>\n",
       "    <tr>\n",
       "      <th>layer_7</th>\n",
       "      <td>79.877010</td>\n",
       "      <td>87.973824</td>\n",
       "    </tr>\n",
       "    <tr>\n",
       "      <th>layer_8</th>\n",
       "      <td>80.141911</td>\n",
       "      <td>88.150018</td>\n",
       "    </tr>\n",
       "    <tr>\n",
       "      <th>layer_9</th>\n",
       "      <td>80.236518</td>\n",
       "      <td>88.231816</td>\n",
       "    </tr>\n",
       "    <tr>\n",
       "      <th>layer_10</th>\n",
       "      <td>80.141911</td>\n",
       "      <td>88.171018</td>\n",
       "    </tr>\n",
       "    <tr>\n",
       "      <th>layer_11</th>\n",
       "      <td>79.943236</td>\n",
       "      <td>88.036916</td>\n",
       "    </tr>\n",
       "  </tbody>\n",
       "</table>\n",
       "</div>"
      ],
      "text/plain": [
       "          exact_match         f1\n",
       "layer_0     17.379376  26.390606\n",
       "layer_1     54.758751  67.632150\n",
       "layer_2     67.048250  78.033796\n",
       "layer_3     72.573321  82.323175\n",
       "layer_4     75.865658  85.031601\n",
       "layer_5     78.003784  86.598577\n",
       "layer_6     79.612110  87.697654\n",
       "layer_7     79.877010  87.973824\n",
       "layer_8     80.141911  88.150018\n",
       "layer_9     80.236518  88.231816\n",
       "layer_10    80.141911  88.171018\n",
       "layer_11    79.943236  88.036916"
      ]
     },
     "execution_count": 8,
     "metadata": {},
     "output_type": "execute_result"
    }
   ],
   "source": [
    "df"
   ]
  },
  {
   "cell_type": "code",
   "execution_count": null,
   "id": "educated-voltage",
   "metadata": {},
   "outputs": [],
   "source": []
  }
 ],
 "metadata": {
  "kernelspec": {
   "display_name": "Python 3",
   "language": "python",
   "name": "python3"
  },
  "language_info": {
   "codemirror_mode": {
    "name": "ipython",
    "version": 3
   },
   "file_extension": ".py",
   "mimetype": "text/x-python",
   "name": "python",
   "nbconvert_exporter": "python",
   "pygments_lexer": "ipython3",
   "version": "3.8.5"
  }
 },
 "nbformat": 4,
 "nbformat_minor": 5
}
