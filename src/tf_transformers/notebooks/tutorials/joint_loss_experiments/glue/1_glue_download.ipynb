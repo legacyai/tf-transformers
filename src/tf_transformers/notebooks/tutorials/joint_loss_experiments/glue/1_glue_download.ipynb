{
 "cells": [
  {
   "cell_type": "code",
   "execution_count": 1,
   "metadata": {},
   "outputs": [
    {
     "name": "stderr",
     "output_type": "stream",
     "text": [
      "/usr/lib/python3/dist-packages/Crypto/Random/Fortuna/FortunaGenerator.py:28: SyntaxWarning: \"is\" with a literal. Did you mean \"==\"?\n",
      "  if sys.version_info[0] is 2 and  sys.version_info[1] is 1:\n",
      "/usr/lib/python3/dist-packages/Crypto/Random/Fortuna/FortunaGenerator.py:28: SyntaxWarning: \"is\" with a literal. Did you mean \"==\"?\n",
      "  if sys.version_info[0] is 2 and  sys.version_info[1] is 1:\n"
     ]
    }
   ],
   "source": [
    "import datasets"
   ]
  },
  {
   "cell_type": "code",
   "execution_count": null,
   "metadata": {},
   "outputs": [],
   "source": [
    "data = datasets.load_dataset(\"glue\", \"cola\")\n",
    "data.save_to_disk(\"/mnt/home/PRE_MODELS/HuggingFace_models/datasets/glue/cola\")"
   ]
  },
  {
   "cell_type": "code",
   "execution_count": null,
   "metadata": {},
   "outputs": [],
   "source": [
    "data = datasets.load_dataset(\"glue\", \"sst2\")\n",
    "data.save_to_disk(\"/mnt/home/PRE_MODELS/HuggingFace_models/datasets/glue/sst2\")"
   ]
  },
  {
   "cell_type": "code",
   "execution_count": null,
   "metadata": {},
   "outputs": [],
   "source": [
    "data = datasets.load_dataset(\"glue\", \"mrpc\")\n",
    "data.save_to_disk(\"/mnt/home/PRE_MODELS/HuggingFace_models/datasets/glue/mrpc\")"
   ]
  },
  {
   "cell_type": "code",
   "execution_count": null,
   "metadata": {},
   "outputs": [],
   "source": [
    "data = datasets.load_dataset(\"glue\", \"qqp\")\n",
    "data.save_to_disk(\"/mnt/home/PRE_MODELS/HuggingFace_models/datasets/glue/qqp\")"
   ]
  },
  {
   "cell_type": "code",
   "execution_count": null,
   "metadata": {},
   "outputs": [],
   "source": [
    "data = datasets.load_dataset(\"glue\", \"stsb\")\n",
    "data.save_to_disk(\"/mnt/home/PRE_MODELS/HuggingFace_models/datasets/glue/stsb\")"
   ]
  },
  {
   "cell_type": "code",
   "execution_count": null,
   "metadata": {},
   "outputs": [],
   "source": [
    "data = datasets.load_dataset(\"glue\", \"mnli\")\n",
    "data.save_to_disk(\"/mnt/home/PRE_MODELS/HuggingFace_models/datasets/glue/mnli\")"
   ]
  },
  {
   "cell_type": "code",
   "execution_count": null,
   "metadata": {},
   "outputs": [],
   "source": [
    "data = datasets.load_dataset(\"glue\", \"mnli_mismatched\")\n",
    "data.save_to_disk(\"/mnt/home/PRE_MODELS/HuggingFace_models/datasets/glue/mnli_mismatched\")"
   ]
  },
  {
   "cell_type": "code",
   "execution_count": null,
   "metadata": {},
   "outputs": [],
   "source": [
    "data = datasets.load_dataset(\"glue\", \"qnli\")\n",
    "data.save_to_disk(\"/mnt/home/PRE_MODELS/HuggingFace_models/datasets/glue/qnli\")"
   ]
  },
  {
   "cell_type": "code",
   "execution_count": null,
   "metadata": {},
   "outputs": [],
   "source": [
    "data = datasets.load_dataset(\"glue\", \"rte\")\n",
    "data.save_to_disk(\"/mnt/home/PRE_MODELS/HuggingFace_models/datasets/glue/rte\")"
   ]
  },
  {
   "cell_type": "code",
   "execution_count": null,
   "metadata": {},
   "outputs": [],
   "source": [
    "data = datasets.load_dataset(\"glue\", \"wnli\")\n",
    "data.save_to_disk(\"/mnt/home/PRE_MODELS/HuggingFace_models/datasets/glue/wnli\")"
   ]
  }
 ],
 "metadata": {
  "kernelspec": {
   "display_name": "Python 3",
   "language": "python",
   "name": "python3"
  },
  "language_info": {
   "codemirror_mode": {
    "name": "ipython",
    "version": 3
   },
   "file_extension": ".py",
   "mimetype": "text/x-python",
   "name": "python",
   "nbconvert_exporter": "python",
   "pygments_lexer": "ipython3",
   "version": "3.8.6"
  }
 },
 "nbformat": 4,
 "nbformat_minor": 4
}
