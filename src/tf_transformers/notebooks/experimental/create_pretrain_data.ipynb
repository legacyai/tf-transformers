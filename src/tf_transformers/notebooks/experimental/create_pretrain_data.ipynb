{
 "cells": [
  {
   "cell_type": "code",
   "execution_count": 1,
   "metadata": {},
   "outputs": [],
   "source": [
    "import sys\n",
    "sys.path.append(\"/Users/PRVATE/models-master/\")"
   ]
  },
  {
   "cell_type": "code",
   "execution_count": 2,
   "metadata": {},
   "outputs": [],
   "source": [
    "import collections\n",
    "import itertools\n",
    "import random\n",
    "\n",
    "# Import libraries\n",
    "from absl import app\n",
    "from absl import flags\n",
    "from absl import logging\n",
    "import tensorflow as tf\n",
    "\n",
    "from official.nlp.bert import tokenization"
   ]
  },
  {
   "cell_type": "code",
   "execution_count": null,
   "metadata": {},
   "outputs": [],
   "source": [
    "# Only for jupyter notebook\n",
    "app.flags.DEFINE_string('f', '', 'kernel')"
   ]
  },
  {
   "cell_type": "code",
   "execution_count": 3,
   "metadata": {},
   "outputs": [],
   "source": [
    "\n",
    "flags.DEFINE_string(\"input_file\", None,\n",
    "                    \"Input raw text file (or comma-separated list of files).\")\n",
    "\n",
    "flags.DEFINE_string(\n",
    "    \"output_file\", None,\n",
    "    \"Output TF example file (or comma-separated list of files).\")\n",
    "\n",
    "flags.DEFINE_string(\"vocab_file\", None,\n",
    "                    \"The vocabulary file that the BERT model was trained on.\")\n",
    "\n",
    "flags.DEFINE_bool(\n",
    "    \"do_lower_case\", True,\n",
    "    \"Whether to lower case the input text. Should be True for uncased \"\n",
    "    \"models and False for cased models.\")\n",
    "\n",
    "flags.DEFINE_bool(\n",
    "    \"do_whole_word_mask\", False,\n",
    "    \"Whether to use whole word masking rather than per-WordPiece masking.\")\n",
    "\n",
    "flags.DEFINE_integer(\n",
    "    \"max_ngram_size\", None,\n",
    "    \"Mask contiguous whole words (n-grams) of up to `max_ngram_size` using a \"\n",
    "    \"weighting scheme to favor shorter n-grams. \"\n",
    "    \"Note: `--do_whole_word_mask=True` must also be set when n-gram masking.\")\n",
    "\n",
    "flags.DEFINE_bool(\n",
    "    \"gzip_compress\", False,\n",
    "    \"Whether to use `GZIP` compress option to get compressed TFRecord files.\")\n",
    "\n",
    "flags.DEFINE_bool(\n",
    "    \"use_v2_feature_names\", False,\n",
    "    \"Whether to use the feature names consistent with the models.\")\n",
    "\n",
    "flags.DEFINE_integer(\"max_seq_length\", 128, \"Maximum sequence length.\")\n",
    "\n",
    "flags.DEFINE_integer(\"max_predictions_per_seq\", 20,\n",
    "                     \"Maximum number of masked LM predictions per sequence.\")\n",
    "\n",
    "flags.DEFINE_integer(\"random_seed\", 12345, \"Random seed for data generation.\")\n",
    "\n",
    "flags.DEFINE_integer(\n",
    "    \"dupe_factor\", 10,\n",
    "    \"Number of times to duplicate the input data (with different masks).\")\n",
    "\n",
    "flags.DEFINE_float(\"masked_lm_prob\", 0.15, \"Masked LM probability.\")\n",
    "\n",
    "flags.DEFINE_float(\n",
    "    \"short_seq_prob\", 0.1,\n",
    "    \"Probability of creating sequences which are shorter than the \"\n",
    "    \"maximum length.\")"
   ]
  },
  {
   "cell_type": "code",
   "execution_count": 4,
   "metadata": {},
   "outputs": [],
   "source": []
  },
  {
   "cell_type": "code",
   "execution_count": 15,
   "metadata": {},
   "outputs": [
    {
     "ename": "SystemExit",
     "evalue": "",
     "output_type": "error",
     "traceback": [
      "An exception has occurred, use %tb to see the full traceback.\n",
      "\u001b[0;31mSystemExit\u001b[0m\n"
     ]
    },
    {
     "name": "stderr",
     "output_type": "stream",
     "text": [
      "/Users/PRVATE/anaconda3/envs/venv_tf_nightly/lib/python3.6/site-packages/IPython/core/interactiveshell.py:3339: UserWarning: To exit: use 'exit', 'quit', or Ctrl-D.\n",
      "  warn(\"To exit: use 'exit', 'quit', or Ctrl-D.\", stacklevel=1)\n"
     ]
    }
   ],
   "source": [
    "def main(_):\n",
    "    pass\n",
    "FLAGS = flags.FLAGS\n",
    "app.run(main)"
   ]
  },
  {
   "cell_type": "code",
   "execution_count": null,
   "metadata": {},
   "outputs": [],
   "source": []
  },
  {
   "cell_type": "code",
   "execution_count": 19,
   "metadata": {},
   "outputs": [],
   "source": [
    "max_seq_length = FLAGS.max_seq_length\n",
    "dupe_factor = FLAGS.dupe_factor\n",
    "short_seq_prob = FLAGS.short_seq_prob\n",
    "masked_lm_prob = FLAGS.masked_lm_prob\n",
    "max_predictions_per_seq = FLAGS.max_predictions_per_seq\n",
    "rng =  random.Random(FLAGS.random_seed)\n",
    "do_whole_word_mask=False\n",
    "max_ngram_size=None"
   ]
  },
  {
   "cell_type": "code",
   "execution_count": 21,
   "metadata": {},
   "outputs": [],
   "source": [
    "vocab_file = '/Users/PRVATE/pretrained_models/bert_uncased/assets/vocab.txt'\n",
    "tokenizer  = tokenization.FullTokenizer(vocab_file=vocab_file, do_lower_case=True)\n",
    "vocab_words = list(tokenizer.vocab.keys())"
   ]
  },
  {
   "cell_type": "code",
   "execution_count": 107,
   "metadata": {},
   "outputs": [],
   "source": [
    "def truncate_seq_pair(tokens_a, tokens_b, max_num_tokens, rng):\n",
    "  \"\"\"Truncates a pair of sequences to a maximum sequence length.\"\"\"\n",
    "  while True:\n",
    "    total_length = len(tokens_a) + len(tokens_b)\n",
    "    if total_length <= max_num_tokens:\n",
    "      break\n",
    "\n",
    "    trunc_tokens = tokens_a if len(tokens_a) > len(tokens_b) else tokens_b\n",
    "    assert len(trunc_tokens) >= 1\n",
    "\n",
    "    # We want to sometimes truncate from the front and sometimes from the\n",
    "    # back to add more randomness and avoid biases.\n",
    "    if rng.random() < 0.5:\n",
    "      del trunc_tokens[0]\n",
    "    else:\n",
    "      trunc_tokens.pop()\n",
    "    \n",
    "def _window(iterable, size):\n",
    "  \"\"\"Helper to create a sliding window iterator with a given size.\n",
    "  E.g.,\n",
    "    input = [1, 2, 3, 4]\n",
    "    _window(input, 1) => [1], [2], [3], [4]\n",
    "    _window(input, 2) => [1, 2], [2, 3], [3, 4]\n",
    "    _window(input, 3) => [1, 2, 3], [2, 3, 4]\n",
    "    _window(input, 4) => [1, 2, 3, 4]\n",
    "    _window(input, 5) => None\n",
    "  Arguments:\n",
    "    iterable: elements to iterate over.\n",
    "    size: size of the window.\n",
    "  Yields:\n",
    "    Elements of `iterable` batched into a sliding window of length `size`.\n",
    "  \"\"\"\n",
    "  i = iter(iterable)\n",
    "  window = []\n",
    "  try:\n",
    "    for e in range(0, size):\n",
    "      window.append(next(i))\n",
    "    yield window\n",
    "  except StopIteration:\n",
    "    # handle the case where iterable's length is less than the window size.\n",
    "    return\n",
    "  for e in i:\n",
    "    window = window[1:] + [e]\n",
    "    yield window\n",
    "    \n",
    "def _contiguous(sorted_grams):\n",
    "  \"\"\"Test whether a sequence of grams is contiguous.\n",
    "  Arguments:\n",
    "    sorted_grams: _Grams which are sorted in increasing order.\n",
    "  Returns:\n",
    "    True if `sorted_grams` are touching each other.\n",
    "  E.g.,\n",
    "    _contiguous([(1, 4), (4, 5), (5, 10)]) == True\n",
    "    _contiguous([(1, 2), (4, 5)]) == False\n",
    "  \"\"\"\n",
    "  for a, b in _window(sorted_grams, 2):\n",
    "    if a.end != b.begin:\n",
    "      return False\n",
    "  return True"
   ]
  },
  {
   "cell_type": "code",
   "execution_count": 49,
   "metadata": {},
   "outputs": [],
   "source": [
    "line = 'Family is love and love is happiness. Lets add a word in malayalam'\n",
    "\n",
    "input_files = ['input.txt']\n",
    "all_documents = [[]]\n",
    "for input_file in input_files:\n",
    "    with tf.io.gfile.GFile(input_file, \"rb\") as reader:\n",
    "      while True:\n",
    "        line = tokenization.convert_to_unicode(reader.readline())\n",
    "        if not line:\n",
    "          break\n",
    "        line = line.strip()\n",
    "\n",
    "        # Empty lines are used as document delimiters\n",
    "        if not line:\n",
    "          all_documents.append([])\n",
    "        tokens = tokenizer.tokenize(line)\n",
    "        if tokens:\n",
    "          all_documents[-1].append(tokens)\n",
    "        \n",
    "all_documents = [x for x in all_documents if x]"
   ]
  },
  {
   "cell_type": "code",
   "execution_count": 50,
   "metadata": {},
   "outputs": [],
   "source": []
  },
  {
   "cell_type": "code",
   "execution_count": 51,
   "metadata": {},
   "outputs": [],
   "source": [
    "document_index = 0"
   ]
  },
  {
   "cell_type": "code",
   "execution_count": 52,
   "metadata": {},
   "outputs": [],
   "source": [
    "document = all_documents[document_index]\n",
    "# Account for [CLS], [SEP], [SEP]\n",
    "max_num_tokens = max_seq_length - 3\n",
    "target_seq_length = max_num_tokens\n",
    "if rng.random() < short_seq_prob:\n",
    "    target_seq_length = rng.randint(2, max_num_tokens)"
   ]
  },
  {
   "cell_type": "code",
   "execution_count": 53,
   "metadata": {},
   "outputs": [
    {
     "data": {
      "text/plain": [
       "0.1"
      ]
     },
     "execution_count": 53,
     "metadata": {},
     "output_type": "execute_result"
    }
   ],
   "source": [
    "short_seq_prob"
   ]
  },
  {
   "cell_type": "code",
   "execution_count": null,
   "metadata": {},
   "outputs": [],
   "source": []
  },
  {
   "cell_type": "code",
   "execution_count": 61,
   "metadata": {},
   "outputs": [],
   "source": [
    "instances = []\n",
    "current_chunk = []\n",
    "current_length = 0\n",
    "i = 0"
   ]
  },
  {
   "cell_type": "code",
   "execution_count": 62,
   "metadata": {},
   "outputs": [
    {
     "data": {
      "text/plain": [
       "3"
      ]
     },
     "execution_count": 62,
     "metadata": {},
     "output_type": "execute_result"
    }
   ],
   "source": [
    "len(document)"
   ]
  },
  {
   "cell_type": "code",
   "execution_count": 63,
   "metadata": {},
   "outputs": [],
   "source": [
    "segment = document[i]\n",
    "current_chunk.append(segment)\n",
    "current_length += len(segment)"
   ]
  },
  {
   "cell_type": "code",
   "execution_count": 69,
   "metadata": {},
   "outputs": [],
   "source": [
    "a_end = 1"
   ]
  },
  {
   "cell_type": "code",
   "execution_count": 70,
   "metadata": {},
   "outputs": [],
   "source": [
    "tokens_a = []\n",
    "for j in range(a_end):\n",
    "    tokens_a.extend(current_chunk[j])"
   ]
  },
  {
   "cell_type": "code",
   "execution_count": 72,
   "metadata": {},
   "outputs": [],
   "source": [
    "        tokens_b = []\n",
    "        # Random next\n",
    "        is_random_next = False\n",
    "        if len(current_chunk) == 1 or rng.random() < 0.5:\n",
    "          is_random_next = True\n",
    "          target_b_length = target_seq_length - len(tokens_a)\n",
    "\n",
    "          # This should rarely go for more than one iteration for large\n",
    "          # corpora. However, just to be careful, we try to make sure that\n",
    "          # the random document is not the same as the document\n",
    "          # we're processing.\n",
    "          for _ in range(10):\n",
    "            random_document_index = rng.randint(0, len(all_documents) - 1)\n",
    "            if random_document_index != document_index:\n",
    "              break\n",
    "\n",
    "          random_document = all_documents[random_document_index]\n",
    "          random_start = rng.randint(0, len(random_document) - 1)\n",
    "          for j in range(random_start, len(random_document)):\n",
    "            tokens_b.extend(random_document[j])\n",
    "            if len(tokens_b) >= target_b_length:\n",
    "              break\n",
    "          # We didn't actually use these segments so we \"put them back\" so\n",
    "          # they don't go to waste.\n",
    "          num_unused_segments = len(current_chunk) - a_end\n",
    "          i -= num_unused_segments\n",
    "        # Actual next\n",
    "        else:\n",
    "          is_random_next = False\n",
    "          for j in range(a_end, len(current_chunk)):\n",
    "            tokens_b.extend(current_chunk[j])"
   ]
  },
  {
   "cell_type": "code",
   "execution_count": 79,
   "metadata": {},
   "outputs": [
    {
     "data": {
      "text/plain": [
       "['this',\n",
       " 'text',\n",
       " 'is',\n",
       " 'included',\n",
       " 'to',\n",
       " 'make',\n",
       " 'sure',\n",
       " 'unicode',\n",
       " 'is',\n",
       " 'handled',\n",
       " 'properly',\n",
       " ':',\n",
       " '力',\n",
       " '加',\n",
       " '勝',\n",
       " '北',\n",
       " '区',\n",
       " 'ᴵ',\n",
       " '##ᴺ',\n",
       " '##ᵀ',\n",
       " '##ᵃ',\n",
       " '##ছ',\n",
       " '##জ',\n",
       " '##ট',\n",
       " '##ড',\n",
       " '##ণ',\n",
       " '##ত']"
      ]
     },
     "execution_count": 79,
     "metadata": {},
     "output_type": "execute_result"
    }
   ],
   "source": [
    "tokens_a"
   ]
  },
  {
   "cell_type": "code",
   "execution_count": 80,
   "metadata": {},
   "outputs": [
    {
     "data": {
      "text/plain": [
       "['this',\n",
       " 'sample',\n",
       " 'text',\n",
       " 'is',\n",
       " 'public',\n",
       " 'domain',\n",
       " 'and',\n",
       " 'was',\n",
       " 'randomly',\n",
       " 'selected',\n",
       " 'from',\n",
       " 'project',\n",
       " 'gut',\n",
       " '##tenberg',\n",
       " '.']"
      ]
     },
     "execution_count": 80,
     "metadata": {},
     "output_type": "execute_result"
    }
   ],
   "source": [
    "tokens_b"
   ]
  },
  {
   "cell_type": "code",
   "execution_count": 81,
   "metadata": {},
   "outputs": [],
   "source": [
    "truncate_seq_pair(tokens_a, tokens_b, max_num_tokens, rng)"
   ]
  },
  {
   "cell_type": "code",
   "execution_count": 84,
   "metadata": {},
   "outputs": [],
   "source": [
    "tokens = []\n",
    "segment_ids = []\n",
    "tokens.append(\"[CLS]\")\n",
    "segment_ids.append(0)\n",
    "for token in tokens_a:\n",
    "  tokens.append(token)\n",
    "  segment_ids.append(0)\n",
    "\n",
    "tokens.append(\"[SEP]\")\n",
    "segment_ids.append(0)\n",
    "\n",
    "for token in tokens_b:\n",
    "  tokens.append(token)\n",
    "  segment_ids.append(1)\n",
    "tokens.append(\"[SEP]\")\n",
    "segment_ids.append(1)"
   ]
  },
  {
   "cell_type": "code",
   "execution_count": 143,
   "metadata": {},
   "outputs": [],
   "source": [
    "# A _Gram is a [half-open) interval of token indices which form a word.\n",
    "# E.g.,\n",
    "#   words:  [\"The\", \"doghouse\"]\n",
    "#   tokens: [\"The\", \"dog\", \"##house\"]\n",
    "#   grams:  [(0,1), (1,3)]\n",
    "_Gram = collections.namedtuple(\"_Gram\", [\"begin\", \"end\"])\n",
    "max_ngram_size = 1"
   ]
  },
  {
   "cell_type": "code",
   "execution_count": 144,
   "metadata": {},
   "outputs": [],
   "source": [
    "grams = [_Gram(i, i+1) for i in range(0, len(tokens))\n",
    "             if tokens[i] not in [\"[CLS]\", \"[SEP]\"]]\n",
    "num_to_predict = min(max_predictions_per_seq,\n",
    "                       max(1, int(round(len(tokens) * masked_lm_prob))))\n",
    "# Generate masks.  If `max_ngram_size` in [0, None] it means we're doing\n",
    "# whole word masking or token level masking.  Both of these can be treated\n",
    "# as the `max_ngram_size=1` case.\n",
    "\n",
    "# masked_grams = _masking_ngrams(grams, max_ngram_size or 1,\n",
    "#                              num_to_predict, rng)"
   ]
  },
  {
   "cell_type": "code",
   "execution_count": 145,
   "metadata": {},
   "outputs": [
    {
     "data": {
      "text/plain": [
       "[_Gram(begin=1, end=2),\n",
       " _Gram(begin=2, end=3),\n",
       " _Gram(begin=3, end=4),\n",
       " _Gram(begin=4, end=5),\n",
       " _Gram(begin=5, end=6),\n",
       " _Gram(begin=6, end=7),\n",
       " _Gram(begin=7, end=8),\n",
       " _Gram(begin=8, end=9),\n",
       " _Gram(begin=9, end=10),\n",
       " _Gram(begin=10, end=11),\n",
       " _Gram(begin=11, end=12),\n",
       " _Gram(begin=12, end=13),\n",
       " _Gram(begin=13, end=14),\n",
       " _Gram(begin=14, end=15),\n",
       " _Gram(begin=15, end=16),\n",
       " _Gram(begin=16, end=17),\n",
       " _Gram(begin=17, end=18),\n",
       " _Gram(begin=18, end=19),\n",
       " _Gram(begin=19, end=20),\n",
       " _Gram(begin=20, end=21),\n",
       " _Gram(begin=21, end=22),\n",
       " _Gram(begin=22, end=23),\n",
       " _Gram(begin=23, end=24),\n",
       " _Gram(begin=24, end=25),\n",
       " _Gram(begin=25, end=26),\n",
       " _Gram(begin=26, end=27),\n",
       " _Gram(begin=27, end=28),\n",
       " _Gram(begin=29, end=30),\n",
       " _Gram(begin=30, end=31),\n",
       " _Gram(begin=31, end=32),\n",
       " _Gram(begin=32, end=33),\n",
       " _Gram(begin=33, end=34),\n",
       " _Gram(begin=34, end=35),\n",
       " _Gram(begin=35, end=36),\n",
       " _Gram(begin=36, end=37),\n",
       " _Gram(begin=37, end=38),\n",
       " _Gram(begin=38, end=39),\n",
       " _Gram(begin=39, end=40),\n",
       " _Gram(begin=40, end=41),\n",
       " _Gram(begin=41, end=42),\n",
       " _Gram(begin=42, end=43),\n",
       " _Gram(begin=43, end=44)]"
      ]
     },
     "execution_count": 145,
     "metadata": {},
     "output_type": "execute_result"
    }
   ],
   "source": [
    "grams"
   ]
  },
  {
   "cell_type": "code",
   "execution_count": 146,
   "metadata": {},
   "outputs": [],
   "source": [
    "\n",
    "  grams = sorted(grams)\n",
    "  num_tokens = grams[-1].end\n",
    "\n",
    "  # Ensure our grams are valid (i.e., they don't overlap).\n",
    "  for a, b in _window(grams, 2):\n",
    "    if a.end > b.begin:\n",
    "      raise ValueError(\"overlapping grams: {}\".format(grams))\n",
    "\n",
    "  # Build map from n-gram length to list of n-grams.\n",
    "  ngrams = {i: [] for i in range(1, max_ngram_size+1)}"
   ]
  },
  {
   "cell_type": "code",
   "execution_count": 147,
   "metadata": {},
   "outputs": [],
   "source": [
    "  # Build map from n-gram length to list of n-grams.\n",
    "  ngrams = {i: [] for i in range(1, max_ngram_size+1)}\n",
    "  for gram_size in range(1, max_ngram_size+1):\n",
    "    for g in _window(grams, gram_size):\n",
    "      if _contiguous(g):\n",
    "        # Add an n-gram which spans these one-grams.\n",
    "        ngrams[gram_size].append(_Gram(g[0].begin, g[-1].end))"
   ]
  },
  {
   "cell_type": "code",
   "execution_count": 148,
   "metadata": {},
   "outputs": [
    {
     "data": {
      "text/plain": [
       "{1: [_Gram(begin=1, end=2),\n",
       "  _Gram(begin=2, end=3),\n",
       "  _Gram(begin=3, end=4),\n",
       "  _Gram(begin=4, end=5),\n",
       "  _Gram(begin=5, end=6),\n",
       "  _Gram(begin=6, end=7),\n",
       "  _Gram(begin=7, end=8),\n",
       "  _Gram(begin=8, end=9),\n",
       "  _Gram(begin=9, end=10),\n",
       "  _Gram(begin=10, end=11),\n",
       "  _Gram(begin=11, end=12),\n",
       "  _Gram(begin=12, end=13),\n",
       "  _Gram(begin=13, end=14),\n",
       "  _Gram(begin=14, end=15),\n",
       "  _Gram(begin=15, end=16),\n",
       "  _Gram(begin=16, end=17),\n",
       "  _Gram(begin=17, end=18),\n",
       "  _Gram(begin=18, end=19),\n",
       "  _Gram(begin=19, end=20),\n",
       "  _Gram(begin=20, end=21),\n",
       "  _Gram(begin=21, end=22),\n",
       "  _Gram(begin=22, end=23),\n",
       "  _Gram(begin=23, end=24),\n",
       "  _Gram(begin=24, end=25),\n",
       "  _Gram(begin=25, end=26),\n",
       "  _Gram(begin=26, end=27),\n",
       "  _Gram(begin=27, end=28),\n",
       "  _Gram(begin=29, end=30),\n",
       "  _Gram(begin=30, end=31),\n",
       "  _Gram(begin=31, end=32),\n",
       "  _Gram(begin=32, end=33),\n",
       "  _Gram(begin=33, end=34),\n",
       "  _Gram(begin=34, end=35),\n",
       "  _Gram(begin=35, end=36),\n",
       "  _Gram(begin=36, end=37),\n",
       "  _Gram(begin=37, end=38),\n",
       "  _Gram(begin=38, end=39),\n",
       "  _Gram(begin=39, end=40),\n",
       "  _Gram(begin=40, end=41),\n",
       "  _Gram(begin=41, end=42),\n",
       "  _Gram(begin=42, end=43),\n",
       "  _Gram(begin=43, end=44)]}"
      ]
     },
     "execution_count": 148,
     "metadata": {},
     "output_type": "execute_result"
    }
   ],
   "source": [
    "ngrams"
   ]
  },
  {
   "cell_type": "code",
   "execution_count": 149,
   "metadata": {},
   "outputs": [],
   "source": [
    "  # Create the weighting for n-gram length selection.\n",
    "  # Stored cummulatively for `random.choices` below.\n",
    "  cummulative_weights = list(\n",
    "      itertools.accumulate([1./n for n in range(1, max_ngram_size+1)]))"
   ]
  },
  {
   "cell_type": "code",
   "execution_count": 150,
   "metadata": {},
   "outputs": [
    {
     "data": {
      "text/plain": [
       "[1.0]"
      ]
     },
     "execution_count": 150,
     "metadata": {},
     "output_type": "execute_result"
    }
   ],
   "source": [
    "cummulative_weights"
   ]
  },
  {
   "cell_type": "code",
   "execution_count": 151,
   "metadata": {},
   "outputs": [],
   "source": [
    "  output_ngrams = []\n",
    "  max_masked_tokens = num_to_predict\n",
    "  masked_tokens = [False] * num_tokens\n",
    "  while (sum(masked_tokens) < max_masked_tokens and\n",
    "         sum(len(s) for s in ngrams.values())):\n",
    "    # Pick an n-gram size based on our weights.\n",
    "    sz = random.choices(range(1, max_ngram_size+1),\n",
    "                        cum_weights=cummulative_weights)[0]\n",
    "\n",
    "    # Ensure this size doesn't result in too many masked tokens.\n",
    "    # E.g., a two-gram contains _at least_ two tokens.\n",
    "    if sum(masked_tokens) + sz > max_masked_tokens:\n",
    "      # All n-grams of this length are too long and can be removed from\n",
    "      # consideration.\n",
    "      ngrams[sz].clear()\n",
    "      continue\n",
    "\n",
    "    # All of the n-grams of this size have been used.\n",
    "    if not ngrams[sz]:\n",
    "      continue\n",
    "\n",
    "    # Choose a random n-gram of the given size.\n",
    "    gram = ngrams[sz].pop()\n",
    "    num_gram_tokens = gram.end-gram.begin\n",
    "\n",
    "    # Check if this would add too many tokens.\n",
    "    if num_gram_tokens + sum(masked_tokens) > max_masked_tokens:\n",
    "      continue\n",
    "\n",
    "    # Check if any of the tokens in this gram have already been masked.\n",
    "    if sum(masked_tokens[gram.begin:gram.end]):\n",
    "      continue\n",
    "\n",
    "    # Found a usable n-gram!  Mark its tokens as masked and add it to return.\n",
    "    masked_tokens[gram.begin:gram.end] = [True] * (gram.end-gram.begin)\n",
    "    output_ngrams.append(gram)"
   ]
  },
  {
   "cell_type": "code",
   "execution_count": 152,
   "metadata": {},
   "outputs": [],
   "source": [
    "  MaskedLmInstance = collections.namedtuple(\"MaskedLmInstance\",\n",
    "                                          [\"index\", \"label\"])\n",
    "  masked_grams = output_ngrams\n",
    "  masked_lms = []\n",
    "  output_tokens = list(tokens)\n",
    "  for gram in masked_grams:\n",
    "    # 80% of the time, replace all n-gram tokens with [MASK]\n",
    "    if rng.random() < 0.8:\n",
    "      replacement_action = lambda idx: \"[MASK]\"\n",
    "    else:\n",
    "      # 10% of the time, keep all the original n-gram tokens.\n",
    "      if rng.random() < 0.5:\n",
    "        replacement_action = lambda idx: tokens[idx]\n",
    "      # 10% of the time, replace each n-gram token with a random word.\n",
    "      else:\n",
    "        replacement_action = lambda idx: rng.choice(vocab_words)\n",
    "\n",
    "    for idx in range(gram.begin, gram.end):\n",
    "      output_tokens[idx] = replacement_action(idx)\n",
    "      masked_lms.append(MaskedLmInstance(index=idx, label=tokens[idx]))"
   ]
  },
  {
   "cell_type": "code",
   "execution_count": 153,
   "metadata": {},
   "outputs": [
    {
     "data": {
      "text/plain": [
       "[MaskedLmInstance(index=43, label='.'),\n",
       " MaskedLmInstance(index=42, label='##tenberg'),\n",
       " MaskedLmInstance(index=41, label='gut'),\n",
       " MaskedLmInstance(index=40, label='project'),\n",
       " MaskedLmInstance(index=39, label='from'),\n",
       " MaskedLmInstance(index=38, label='selected'),\n",
       " MaskedLmInstance(index=37, label='randomly')]"
      ]
     },
     "execution_count": 153,
     "metadata": {},
     "output_type": "execute_result"
    }
   ],
   "source": [
    "masked_lms"
   ]
  },
  {
   "cell_type": "code",
   "execution_count": 154,
   "metadata": {},
   "outputs": [],
   "source": [
    "  assert len(masked_lms) <= num_to_predict\n",
    "  masked_lms = sorted(masked_lms, key=lambda x: x.index)"
   ]
  },
  {
   "cell_type": "code",
   "execution_count": 155,
   "metadata": {},
   "outputs": [
    {
     "data": {
      "text/plain": [
       "[MaskedLmInstance(index=37, label='randomly'),\n",
       " MaskedLmInstance(index=38, label='selected'),\n",
       " MaskedLmInstance(index=39, label='from'),\n",
       " MaskedLmInstance(index=40, label='project'),\n",
       " MaskedLmInstance(index=41, label='gut'),\n",
       " MaskedLmInstance(index=42, label='##tenberg'),\n",
       " MaskedLmInstance(index=43, label='.')]"
      ]
     },
     "execution_count": 155,
     "metadata": {},
     "output_type": "execute_result"
    }
   ],
   "source": [
    "masked_lms"
   ]
  },
  {
   "cell_type": "code",
   "execution_count": 156,
   "metadata": {},
   "outputs": [
    {
     "data": {
      "text/plain": [
       "[_Gram(begin=43, end=44),\n",
       " _Gram(begin=42, end=43),\n",
       " _Gram(begin=41, end=42),\n",
       " _Gram(begin=40, end=41),\n",
       " _Gram(begin=39, end=40),\n",
       " _Gram(begin=38, end=39),\n",
       " _Gram(begin=37, end=38)]"
      ]
     },
     "execution_count": 156,
     "metadata": {},
     "output_type": "execute_result"
    }
   ],
   "source": [
    "masked_grams"
   ]
  },
  {
   "cell_type": "code",
   "execution_count": null,
   "metadata": {},
   "outputs": [],
   "source": []
  },
  {
   "cell_type": "code",
   "execution_count": null,
   "metadata": {},
   "outputs": [],
   "source": []
  },
  {
   "cell_type": "code",
   "execution_count": 171,
   "metadata": {},
   "outputs": [
    {
     "data": {
      "text/plain": [
       "['[CLS]',\n",
       " 'this',\n",
       " 'text',\n",
       " 'is',\n",
       " 'included',\n",
       " 'to',\n",
       " 'make',\n",
       " 'sure',\n",
       " 'unicode',\n",
       " 'is',\n",
       " 'handled',\n",
       " 'properly',\n",
       " ':',\n",
       " '力',\n",
       " '加',\n",
       " '勝',\n",
       " '北',\n",
       " '区',\n",
       " 'ᴵ',\n",
       " '##ᴺ',\n",
       " '##ᵀ',\n",
       " '##ᵃ',\n",
       " '##ছ',\n",
       " '##জ',\n",
       " '##ট',\n",
       " '##ড',\n",
       " '##ণ',\n",
       " '##ত',\n",
       " '[SEP]',\n",
       " 'this',\n",
       " 'sample',\n",
       " 'text',\n",
       " 'is',\n",
       " 'public',\n",
       " 'domain',\n",
       " 'and',\n",
       " 'was',\n",
       " 'randomly',\n",
       " 'selected',\n",
       " 'from',\n",
       " 'project',\n",
       " 'gut',\n",
       " '##tenberg',\n",
       " '.',\n",
       " '[SEP]']"
      ]
     },
     "execution_count": 171,
     "metadata": {},
     "output_type": "execute_result"
    }
   ],
   "source": [
    "tokens"
   ]
  },
  {
   "cell_type": "code",
   "execution_count": null,
   "metadata": {},
   "outputs": [],
   "source": []
  },
  {
   "cell_type": "code",
   "execution_count": null,
   "metadata": {},
   "outputs": [],
   "source": []
  },
  {
   "cell_type": "code",
   "execution_count": null,
   "metadata": {},
   "outputs": [],
   "source": []
  },
  {
   "cell_type": "code",
   "execution_count": 157,
   "metadata": {},
   "outputs": [],
   "source": [
    "  cand_indexes = []\n",
    "  for (i, token) in enumerate(tokens):\n",
    "    if token == \"[CLS]\" or token == \"[SEP]\":\n",
    "      continue\n",
    "    # Whole Word Masking means that if we mask all of the wordpieces\n",
    "    # corresponding to an original word. When a word has been split into\n",
    "    # WordPieces, the first token does not have any marker and any subsequence\n",
    "    # tokens are prefixed with ##. So whenever we see the ## token, we\n",
    "    # append it to the previous set of word indexes.\n",
    "    #\n",
    "    # Note that Whole Word Masking does *not* change the training code\n",
    "    # at all -- we still predict each WordPiece independently, softmaxed\n",
    "    # over the entire vocabulary.\n",
    "    if (do_whole_word_mask and len(cand_indexes) >= 1 and\n",
    "        token.startswith(\"##\")):\n",
    "      cand_indexes[-1].append(i)\n",
    "    else:\n",
    "      cand_indexes.append([i])"
   ]
  },
  {
   "cell_type": "code",
   "execution_count": 164,
   "metadata": {},
   "outputs": [
    {
     "name": "stdout",
     "output_type": "stream",
     "text": [
      "masked token donnell\n"
     ]
    }
   ],
   "source": [
    "  output_tokens = list(tokens)\n",
    "\n",
    "  num_to_predict = min(max_predictions_per_seq,\n",
    "                       max(1, int(round(len(tokens) * masked_lm_prob))))\n",
    "\n",
    "  masked_lms = []\n",
    "  covered_indexes = set()\n",
    "  for index_set in cand_indexes:\n",
    "    if len(masked_lms) >= num_to_predict:\n",
    "      break\n",
    "    # If adding a whole-word mask would exceed the maximum number of\n",
    "    # predictions, then just skip this candidate.\n",
    "    if len(masked_lms) + len(index_set) > num_to_predict:\n",
    "      continue\n",
    "    is_any_index_covered = False\n",
    "    for index in index_set:\n",
    "      if index in covered_indexes:\n",
    "        is_any_index_covered = True\n",
    "        break\n",
    "    if is_any_index_covered:\n",
    "      continue\n",
    "    for index in index_set:\n",
    "      covered_indexes.add(index)\n",
    "\n",
    "      masked_token = None\n",
    "      # 80% of the time, replace with [MASK]\n",
    "      if rng.random() < 0.8:\n",
    "        masked_token = \"[MASK]\"\n",
    "      else:\n",
    "        # 10% of the time, keep original\n",
    "        if rng.random() < 0.5:\n",
    "          masked_token = tokens[index]\n",
    "        # 10% of the time, replace with random word\n",
    "        else:\n",
    "          masked_token = vocab_words[rng.randint(0, len(vocab_words) - 1)]\n",
    "          print(\"masked token\", masked_token)\n",
    "\n",
    "      output_tokens[index] = masked_token\n",
    "\n",
    "      masked_lms.append(MaskedLmInstance(index=index, label=tokens[index]))"
   ]
  },
  {
   "cell_type": "code",
   "execution_count": 166,
   "metadata": {},
   "outputs": [
    {
     "data": {
      "text/plain": [
       "[MaskedLmInstance(index=1, label='this'),\n",
       " MaskedLmInstance(index=2, label='text'),\n",
       " MaskedLmInstance(index=3, label='is'),\n",
       " MaskedLmInstance(index=4, label='included'),\n",
       " MaskedLmInstance(index=5, label='to'),\n",
       " MaskedLmInstance(index=6, label='make'),\n",
       " MaskedLmInstance(index=7, label='sure')]"
      ]
     },
     "execution_count": 166,
     "metadata": {},
     "output_type": "execute_result"
    }
   ],
   "source": [
    "masked_lms"
   ]
  },
  {
   "cell_type": "code",
   "execution_count": 167,
   "metadata": {},
   "outputs": [
    {
     "data": {
      "text/plain": [
       "['[CLS]',\n",
       " '[MASK]',\n",
       " '[MASK]',\n",
       " '[MASK]',\n",
       " 'donnell',\n",
       " '[MASK]',\n",
       " '[MASK]',\n",
       " '[MASK]',\n",
       " 'unicode',\n",
       " 'is',\n",
       " 'handled',\n",
       " 'properly',\n",
       " ':',\n",
       " '力',\n",
       " '加',\n",
       " '勝',\n",
       " '北',\n",
       " '区',\n",
       " 'ᴵ',\n",
       " '##ᴺ',\n",
       " '##ᵀ',\n",
       " '##ᵃ',\n",
       " '##ছ',\n",
       " '##জ',\n",
       " '##ট',\n",
       " '##ড',\n",
       " '##ণ',\n",
       " '##ত',\n",
       " '[SEP]',\n",
       " 'this',\n",
       " 'sample',\n",
       " 'text',\n",
       " 'is',\n",
       " 'public',\n",
       " 'domain',\n",
       " 'and',\n",
       " 'was',\n",
       " 'randomly',\n",
       " 'selected',\n",
       " 'from',\n",
       " 'project',\n",
       " 'gut',\n",
       " '##tenberg',\n",
       " '.',\n",
       " '[SEP]']"
      ]
     },
     "execution_count": 167,
     "metadata": {},
     "output_type": "execute_result"
    }
   ],
   "source": [
    "output_tokens"
   ]
  },
  {
   "cell_type": "code",
   "execution_count": 168,
   "metadata": {},
   "outputs": [],
   "source": [
    "  assert len(masked_lms) <= num_to_predict\n",
    "  masked_lms = sorted(masked_lms, key=lambda x: x.index)\n",
    "\n",
    "  masked_lm_positions = []\n",
    "  masked_lm_labels = []\n",
    "  for p in masked_lms:\n",
    "    masked_lm_positions.append(p.index)\n",
    "    masked_lm_labels.append(p.label)"
   ]
  },
  {
   "cell_type": "code",
   "execution_count": 169,
   "metadata": {},
   "outputs": [
    {
     "data": {
      "text/plain": [
       "[1, 2, 3, 4, 5, 6, 7]"
      ]
     },
     "execution_count": 169,
     "metadata": {},
     "output_type": "execute_result"
    }
   ],
   "source": [
    "masked_lm_positions"
   ]
  },
  {
   "cell_type": "code",
   "execution_count": 170,
   "metadata": {},
   "outputs": [
    {
     "data": {
      "text/plain": [
       "['this', 'text', 'is', 'included', 'to', 'make', 'sure']"
      ]
     },
     "execution_count": 170,
     "metadata": {},
     "output_type": "execute_result"
    }
   ],
   "source": [
    "masked_lm_labels"
   ]
  },
  {
   "cell_type": "code",
   "execution_count": null,
   "metadata": {},
   "outputs": [],
   "source": []
  }
 ],
 "metadata": {
  "kernelspec": {
   "display_name": "Python 3",
   "language": "python",
   "name": "python3"
  },
  "language_info": {
   "codemirror_mode": {
    "name": "ipython",
    "version": 3
   },
   "file_extension": ".py",
   "mimetype": "text/x-python",
   "name": "python",
   "nbconvert_exporter": "python",
   "pygments_lexer": "ipython3",
   "version": "3.6.10"
  }
 },
 "nbformat": 4,
 "nbformat_minor": 4
}
